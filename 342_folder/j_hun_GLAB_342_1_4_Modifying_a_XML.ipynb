{
  "cells": [
    {
      "cell_type": "markdown",
      "metadata": {
        "id": "ZhW86K_Z3vdv"
      },
      "source": [
        "# **Guided LAB - 342.1.4 - Modifying a XML Document**\n",
        "\n",
        "---\n",
        "\n"
      ]
    },
    {
      "cell_type": "markdown",
      "metadata": {
        "id": "ll_TraDu302P"
      },
      "source": [
        "## **Objective:**\n",
        "In this lab, We will demonstrate how to change and modify the XML document, By the end of this lab, learners will be able to modify XML by using Python."
      ]
    },
    {
      "cell_type": "markdown",
      "metadata": {
        "id": "KrExMsuvr2Gw"
      },
      "source": [
        "### **Modifying a XML**\n",
        "\n",
        "We observed in the last lab that a few of the movie names were a complete clutter. Print them out once more now:"
      ]
    },
    {
      "cell_type": "code",
      "execution_count": 1,
      "metadata": {
        "id": "GyUqQTZ9uQ09"
      },
      "outputs": [
        {
          "name": "stdout",
          "output_type": "stream",
          "text": [
            "{'favorite': 'True', 'title': 'Indiana Jones: The raiders of the lost Ark'}\n",
            "{'favorite': 'True', 'title': 'THE KARATE KID'}\n",
            "{'favorite': 'False', 'title': 'Back 2 the Future'}\n",
            "{'favorite': 'False', 'title': 'X-Men'}\n",
            "{'favorite': 'True', 'title': 'Batman Returns'}\n",
            "{'favorite': 'False', 'title': 'Reservoir Dogs'}\n",
            "{'favorite': 'False', 'title': 'ALIEN'}\n",
            "{'favorite': 'True', 'title': \"Ferris Bueller's Day Off\"}\n",
            "{'favorite': 'FALSE', 'title': 'American Psycho'}\n"
          ]
        }
      ],
      "source": [
        "\n",
        "import xml.etree.ElementTree as ET\n",
        "\n",
        "# Parse XML file\n",
        "xml_tree = ET.parse('movie.xml')\n",
        "\n",
        "# Get root element\n",
        "xml_root = xml_tree.getroot()\n",
        "\n",
        "for movie in xml_root.iter('movie'):\n",
        "    print(movie.attrib)"
      ]
    },
    {
      "cell_type": "markdown",
      "metadata": {
        "id": "GQZgcZLjuQQ3"
      },
      "source": [
        "\n",
        "Let's fix the **'2'** in **Back 2 the Future**. That should be a find and replace problem.\n",
        "\n",
        "Let's write code to find the title 'Back 2 the Future' and save it as a variable."
      ]
    },
    {
      "cell_type": "code",
      "execution_count": null,
      "metadata": {
        "id": "kDUBfxFjvFwv"
      },
      "outputs": [
        {
          "name": "stdout",
          "output_type": "stream",
          "text": [
            "-----------Before------\n",
            "-----------After------\n",
            "{'favorite': 'False', 'title': 'Back to the Future'}\n"
          ]
        }
      ],
      "source": [
        "#b2tf = xml_root.find(\"./genre/decade/movie[@title='Back 2 the Future']\")\n",
        "print(\"-----------Before------\")\n",
        "for movie in xml_root.findall(\"./genre/decade/movie[@title='Back 2 the Future']\"):\n",
        "   print(movie.attrib)\n",
        "\n",
        "print(\"-----------After------\")\n",
        "b2tf = movie #--------------this line was missing but i added it in to make the code work\n",
        "b2tf.attrib[\"title\"] = \"Back to the Future\"\n",
        "print(b2tf.attrib)"
      ]
    },
    {
      "cell_type": "markdown",
      "metadata": {
        "id": "P_r9vIF0waYM"
      },
      "source": [
        "in the above code snippet:\n",
        "\n",
        "•  The first line of code sets the value of the `\"title\"` attribute of the `b2tf`.\n",
        "\n",
        "•  The `attrib` property is used to access the attributes of an element in an XML or HTML document.\n",
        "\n",
        "•  The second line of code prints out the updated attributes of the `b2tf` element, which should now include the `title` attribute with the value \"Back to the Future\"."
      ]
    },
    {
      "cell_type": "markdown",
      "metadata": {
        "id": "TitykKIlwoHm"
      },
      "source": [
        "## **Permanently write in the document**\n",
        "Write out your changes back to the XML so they are permanently fixed in the document. Print out your movie attributes again to make sure your changes worked. Use the `.write()` method to do this:"
      ]
    },
    {
      "cell_type": "code",
      "execution_count": 8,
      "metadata": {
        "id": "e3tizdXDrgOj"
      },
      "outputs": [],
      "source": [
        "import xml.etree.ElementTree as ET\n",
        "tree = ET.parse(\"movie.xml\")\n",
        "root = tree.getroot()\n",
        "element = root.find(\"./genre/decade/movie[@title='Back 2 the Future']\")\n",
        "element.attrib[\"title\"] = \"Back to the Future\"\n",
        "tree.write(\"movie_new.xml\")\n"
      ]
    },
    {
      "cell_type": "markdown",
      "metadata": {
        "id": "T5OxI1NR04Tw"
      },
      "source": [
        "Once you run the above program, **movie_new.xml** will be created along with modified data.\n",
        "\n",
        "\n",
        "Let's print  the movie_new.xml file for the final result.\n"
      ]
    },
    {
      "cell_type": "code",
      "execution_count": 9,
      "metadata": {
        "id": "w5yXyBVZ0NWm"
      },
      "outputs": [
        {
          "name": "stdout",
          "output_type": "stream",
          "text": [
            "{'favorite': 'True', 'title': 'Indiana Jones: The raiders of the lost Ark'}\n",
            "{'favorite': 'True', 'title': 'THE KARATE KID'}\n",
            "{'favorite': 'False', 'title': 'Back to the Future'}\n",
            "{'favorite': 'False', 'title': 'X-Men'}\n",
            "{'favorite': 'True', 'title': 'Batman Returns'}\n",
            "{'favorite': 'False', 'title': 'Reservoir Dogs'}\n",
            "{'favorite': 'False', 'title': 'ALIEN'}\n",
            "{'favorite': 'True', 'title': \"Ferris Bueller's Day Off\"}\n",
            "{'favorite': 'FALSE', 'title': 'American Psycho'}\n"
          ]
        }
      ],
      "source": [
        "\n",
        "import xml.etree.ElementTree as ET\n",
        "\n",
        "# Parse XML file\n",
        "xml_tree = ET.parse('movie_new.xml')\n",
        "\n",
        "# Get root element\n",
        "xml_root = xml_tree.getroot()\n",
        "\n",
        "for movie in xml_root.iter('movie'):\n",
        "    print(movie.attrib)"
      ]
    },
    {
      "cell_type": "markdown",
      "metadata": {
        "id": "ZUzy0iYo3UfH"
      },
      "source": [
        "## **Submission**\n",
        "- Submit your completed lab using the Start Assignment button on the assignment page in Canvas.\n",
        "- Your submission can be include:\n",
        "  - if you are using notebook then, all tasks should be written and submitted in a single notebook file, for example: (**your_name_labname.ipynb**).\n",
        "  - if you are using python script file, all tasks should be written and submitted in a single python script file for example: **(your_name_labname.py)**.\n",
        "- Add appropriate comments and any additional instructions if required.\n"
      ]
    }
  ],
  "metadata": {
    "colab": {
      "provenance": []
    },
    "kernelspec": {
      "display_name": "venv",
      "language": "python",
      "name": "python3"
    },
    "language_info": {
      "codemirror_mode": {
        "name": "ipython",
        "version": 3
      },
      "file_extension": ".py",
      "mimetype": "text/x-python",
      "name": "python",
      "nbconvert_exporter": "python",
      "pygments_lexer": "ipython3",
      "version": "3.12.0"
    }
  },
  "nbformat": 4,
  "nbformat_minor": 0
}
