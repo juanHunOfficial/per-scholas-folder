{
 "cells": [
  {
   "cell_type": "markdown",
   "id": "768f79aa",
   "metadata": {},
   "source": [
    "# JUAN HUN SBA 342"
   ]
  },
  {
   "cell_type": "markdown",
   "id": "e3dffa9d",
   "metadata": {},
   "source": [
    "### Install Dependencies"
   ]
  },
  {
   "cell_type": "code",
   "execution_count": 3,
   "id": "3baf3605",
   "metadata": {},
   "outputs": [
    {
     "name": "stdout",
     "output_type": "stream",
     "text": [
      "Collecting rich\n",
      "  Using cached rich-14.0.0-py3-none-any.whl.metadata (18 kB)\n",
      "Requirement already satisfied: requests in c:\\users\\juan.hun\\onedrive - peopleshores pbc\\desktop\\python_practice\\venv\\lib\\site-packages (2.32.3)\n",
      "Collecting markdown-it-py>=2.2.0 (from rich)\n",
      "  Downloading markdown_it_py-3.0.0-py3-none-any.whl.metadata (6.9 kB)\n",
      "Requirement already satisfied: pygments<3.0.0,>=2.13.0 in c:\\users\\juan.hun\\onedrive - peopleshores pbc\\desktop\\python_practice\\venv\\lib\\site-packages (from rich) (2.19.1)\n",
      "Requirement already satisfied: charset-normalizer<4,>=2 in c:\\users\\juan.hun\\onedrive - peopleshores pbc\\desktop\\python_practice\\venv\\lib\\site-packages (from requests) (3.4.1)\n",
      "Requirement already satisfied: idna<4,>=2.5 in c:\\users\\juan.hun\\onedrive - peopleshores pbc\\desktop\\python_practice\\venv\\lib\\site-packages (from requests) (3.10)\n",
      "Requirement already satisfied: urllib3<3,>=1.21.1 in c:\\users\\juan.hun\\onedrive - peopleshores pbc\\desktop\\python_practice\\venv\\lib\\site-packages (from requests) (2.4.0)\n",
      "Requirement already satisfied: certifi>=2017.4.17 in c:\\users\\juan.hun\\onedrive - peopleshores pbc\\desktop\\python_practice\\venv\\lib\\site-packages (from requests) (2025.4.26)\n",
      "Collecting mdurl~=0.1 (from markdown-it-py>=2.2.0->rich)\n",
      "  Downloading mdurl-0.1.2-py3-none-any.whl.metadata (1.6 kB)\n",
      "Downloading rich-14.0.0-py3-none-any.whl (243 kB)\n",
      "Downloading markdown_it_py-3.0.0-py3-none-any.whl (87 kB)\n",
      "Downloading mdurl-0.1.2-py3-none-any.whl (10.0 kB)\n",
      "Installing collected packages: mdurl, markdown-it-py, rich\n",
      "Successfully installed markdown-it-py-3.0.0 mdurl-0.1.2 rich-14.0.0\n"
     ]
    }
   ],
   "source": [
    "!pip install rich requests"
   ]
  },
  {
   "cell_type": "markdown",
   "id": "4b9bd961",
   "metadata": {},
   "source": [
    "### `import` Dependencies"
   ]
  },
  {
   "cell_type": "code",
   "execution_count": 38,
   "id": "0691f944",
   "metadata": {},
   "outputs": [],
   "source": [
    "import requests\n",
    "import json\n",
    "from rich import print\n",
    "import math"
   ]
  },
  {
   "cell_type": "markdown",
   "id": "879f860c",
   "metadata": {},
   "source": [
    "### Code solution"
   ]
  },
  {
   "cell_type": "code",
   "execution_count": null,
   "id": "f9c35dc6",
   "metadata": {},
   "outputs": [
    {
     "data": {
      "text/html": [
       "<pre style=\"white-space:pre;overflow-x:auto;line-height:normal;font-family:Menlo,'DejaVu Sans Mono',consolas,'Courier New',monospace\">Minimum Body Temperature: <span style=\"color: #008080; text-decoration-color: #008080; font-weight: bold\">99</span>\n",
       "</pre>\n"
      ],
      "text/plain": [
       "Minimum Body Temperature: \u001b[1;36m99\u001b[0m\n"
      ]
     },
     "metadata": {},
     "output_type": "display_data"
    },
    {
     "data": {
      "text/html": [
       "<pre style=\"white-space:pre;overflow-x:auto;line-height:normal;font-family:Menlo,'DejaVu Sans Mono',consolas,'Courier New',monospace\">Maximum Body Temperature: <span style=\"color: #008080; text-decoration-color: #008080; font-weight: bold\">103</span>\n",
       "</pre>\n"
      ],
      "text/plain": [
       "Maximum Body Temperature: \u001b[1;36m103\u001b[0m\n"
      ]
     },
     "metadata": {},
     "output_type": "display_data"
    },
    {
     "data": {
      "text/html": [
       "<pre style=\"white-space:pre;overflow-x:auto;line-height:normal;font-family:Menlo,'DejaVu Sans Mono',consolas,'Courier New',monospace\">Minimum Body Temperature: <span style=\"color: #008080; text-decoration-color: #008080; font-weight: bold\">97</span>\n",
       "</pre>\n"
      ],
      "text/plain": [
       "Minimum Body Temperature: \u001b[1;36m97\u001b[0m\n"
      ]
     },
     "metadata": {},
     "output_type": "display_data"
    },
    {
     "data": {
      "text/html": [
       "<pre style=\"white-space:pre;overflow-x:auto;line-height:normal;font-family:Menlo,'DejaVu Sans Mono',consolas,'Courier New',monospace\">Maximum Body Temperature: <span style=\"color: #008080; text-decoration-color: #008080; font-weight: bold\">99</span>\n",
       "</pre>\n"
      ],
      "text/plain": [
       "Maximum Body Temperature: \u001b[1;36m99\u001b[0m\n"
      ]
     },
     "metadata": {},
     "output_type": "display_data"
    },
    {
     "data": {
      "text/html": [
       "<pre style=\"white-space:pre;overflow-x:auto;line-height:normal;font-family:Menlo,'DejaVu Sans Mono',consolas,'Courier New',monospace\">Minimum Body Temperature: <span style=\"color: #800080; text-decoration-color: #800080; font-style: italic\">None</span>\n",
       "</pre>\n"
      ],
      "text/plain": [
       "Minimum Body Temperature: \u001b[3;35mNone\u001b[0m\n"
      ]
     },
     "metadata": {},
     "output_type": "display_data"
    },
    {
     "data": {
      "text/html": [
       "<pre style=\"white-space:pre;overflow-x:auto;line-height:normal;font-family:Menlo,'DejaVu Sans Mono',consolas,'Courier New',monospace\">Maximum Body Temperature: <span style=\"color: #800080; text-decoration-color: #800080; font-style: italic\">None</span>\n",
       "</pre>\n"
      ],
      "text/plain": [
       "Maximum Body Temperature: \u001b[3;35mNone\u001b[0m\n"
      ]
     },
     "metadata": {},
     "output_type": "display_data"
    }
   ],
   "source": [
    "def bodyTemperature(doc_name: str, diagnosis_id: int) -> list:\n",
    "    \"\"\"\n",
    "    Function to filter medical records based on doctor's name and diagnosis ID\n",
    "    and return the integer parts of the minimum and maximum body temperatures found in  the filtered records.\n",
    "\n",
    "    Args:\n",
    "        doctorName (str): The name of the doctor.\n",
    "        diagnosisId (int): The ID of the diagnosis.\n",
    "\n",
    "    Raises:\n",
    "        Exception: If there is an issue with the HTTP request or JSON parsing.\n",
    "       \n",
    "    Returns:\n",
    "        list: A list containing two integers, representing the integer parts of the minimum and maximum body temperatures.\n",
    "              Returns [None, None] if no matching records are found.\n",
    "    \"\"\"\n",
    "    try:\n",
    "        list_of_patient_temps = []\n",
    "        # 10 sets of records(pages), request each one and filter from there\n",
    "        # otherwise this would be built as a while loop that runs until it reaches a bad request, this would make it more dynamic\n",
    "        # for simplicity i went with the static approach\n",
    "        for i in range(11):\n",
    "            if i == 0:\n",
    "                pass\n",
    "            elif i <= 10:\n",
    "                records = requests.get(f\"https://jsonmock.hackerrank.com/api/medical_records?page={i}\")\n",
    "                records = records.json()['data']\n",
    "                # this is the part that will check every page for a match and record it\n",
    "                for record in records:\n",
    "                    if record['diagnosis']['id'] == diagnosis_id and record['doctor']['name'] == doc_name:\n",
    "                        list_of_patient_temps.append(record['vitals']['bodyTemperature'])\n",
    "        # built-in error handling, you need values in order to check for the max and min; otherwise return [None,None]\n",
    "        if len(list_of_patient_temps) > 0:\n",
    "            return [math.floor(min(list_of_patient_temps)), math.floor(max(list_of_patient_temps))] # math.floor instead of round because this gave me the output they displayed\n",
    "        else:\n",
    "            return [None,None] \n",
    "    # built in exceptions for parsing errors and bad requests. \n",
    "    except json.JSONDecodeError as e:\n",
    "        print(f\"JSON PArising Error: {e}\")\n",
    "    except requests.exceptions.RequestException as e:\n",
    "        print(f\"Request failed: {e}\")\n",
    "\n",
    "test_cases = [\n",
    "    (\"Dr Arnold Bullock\", 3), # 1\n",
    "    (\"Dr Allysa Ellis\", 4), # 2\n",
    "    (\"Dr Adam\", 5) # 3\n",
    "]\n",
    "\n",
    "for test_case in test_cases:\n",
    "    result = bodyTemperature(test_case[0], test_case[1])\n",
    "    print(f\"Minimum Body Temperature: {result[0]}\")\n",
    "    print(f\"Maximum Body Temperature: {result[1]}\")"
   ]
  }
 ],
 "metadata": {
  "kernelspec": {
   "display_name": "venv",
   "language": "python",
   "name": "python3"
  },
  "language_info": {
   "codemirror_mode": {
    "name": "ipython",
    "version": 3
   },
   "file_extension": ".py",
   "mimetype": "text/x-python",
   "name": "python",
   "nbconvert_exporter": "python",
   "pygments_lexer": "ipython3",
   "version": "3.12.0"
  }
 },
 "nbformat": 4,
 "nbformat_minor": 5
}
