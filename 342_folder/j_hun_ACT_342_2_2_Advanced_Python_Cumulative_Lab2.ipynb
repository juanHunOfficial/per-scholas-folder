{
  "cells": [
    {
      "cell_type": "markdown",
      "metadata": {
        "id": "A8ywYdA4gLIQ"
      },
      "source": [
        "# **Accessing a Paginated API Endpoint to Explore Data- Part 2**\n",
        "\n",
        "In this lab we will combine concepts that we have learned throughout the class so far. Some of those concepts are:\n",
        "\n",
        ">*   Importing Libraries\n",
        ">*   Looping through nested lists and Dictionaries\n",
        ">*   Make a request to an API Endpoint\n",
        ">*   Define functions based on a given set of conditions\n",
        ">*   Handling Exception Errors\n",
        "<br></br>\n",
        "\n",
        "To complete this lab we will be using data from a Star Wars API. The full documentation can be found here: https://swapi.dev/documentation#intro\n",
        "<br></br>\n",
        "We will be focusing on the **\"[Starship](https://swapi.dev/documentation#starships) Resource\"** for this lab.\n",
        "<br></br>\n",
        "**If you have not completed Cumulative Lab 1, please go back and complete this lab. This lab is similair, but with less informative instruction to help build your logic skills.**"
      ]
    },
    {
      "cell_type": "markdown",
      "metadata": {
        "id": "8h9R9GU9gRJb"
      },
      "source": [
        "**Task 1:**\n",
        "Import all of the required packages to complete this assignment."
      ]
    },
    {
      "cell_type": "code",
      "execution_count": null,
      "metadata": {
        "id": "ghO4hSnnhESx"
      },
      "outputs": [],
      "source": [
        "import requests"
      ]
    },
    {
      "cell_type": "markdown",
      "metadata": {
        "id": "gp20BZExhKUG"
      },
      "source": [
        "**Task 2:**\n",
        "\n",
        "- Make your request to the API Endpoint and use a **WHILE** if neccessary to access multiple pages.\n",
        "- Save all of the responses in one Python Object. If you would like, save only the neccessary keys into a new Python Object."
      ]
    },
    {
      "cell_type": "code",
      "execution_count": 2,
      "metadata": {
        "id": "IAg0axPXogvb"
      },
      "outputs": [
        {
          "name": "stdout",
          "output_type": "stream",
          "text": [
            "{'message': 'ok', 'result': {'properties': {'created': '2025-04-29T17:52:28.150Z', 'edited': '2025-04-29T17:52:28.150Z', 'consumables': '1 year', 'name': 'CR90 corvette', 'cargo_capacity': '3000000', 'passengers': '600', 'max_atmosphering_speed': '950', 'crew': '30-165', 'length': '150', 'model': 'CR90 corvette', 'cost_in_credits': '3500000', 'manufacturer': 'Corellian Engineering Corporation', 'pilots': [], 'MGLT': '60', 'starship_class': 'corvette', 'hyperdrive_rating': '2.0', 'films': ['https://www.swapi.tech/api/films/1', 'https://www.swapi.tech/api/films/3', 'https://www.swapi.tech/api/films/6'], 'url': 'https://www.swapi.tech/api/starships/2'}, '_id': '5f63a34fee9fd7000499be1e', 'description': 'A Starship', 'uid': '2', '__v': 2}, 'apiVersion': '1.0', 'timestamp': '2025-04-30T12:26:57.812Z', 'support': {'contact': 'admin@swapi.tech', 'donate': 'https://www.paypal.com/donate/?business=2HGAUVTWGR5T2&no_recurring=0&item_name=Support+Swapi+and+keep+the+galaxy%27s+data+free%21+Your+donation+fuels+open-source+innovation+and+helps+us+grow.+Thank+you%21+%F0%9F%9A%80&currency_code=USD', 'partnerDiscounts': {'saberMasters': {'link': 'https://www.swapi.tech/partner-discount/sabermasters-swapi', 'details': 'Use this link to automatically get $10 off your purchase!'}, 'heartMath': {'link': 'https://www.heartmath.com/ryanc', 'details': 'Looking for some Jedi-like inner peace? Take 10% off your heart-brain coherence tools from the HeartMath Institute!'}}}, 'social': {'discord': 'https://discord.gg/zWvA6GPeNG', 'reddit': 'https://www.reddit.com/r/SwapiOfficial/', 'github': 'https://github.com/semperry/swapi/blob/main/CONTRIBUTORS.md'}}\n",
            "{'message': 'ok', 'result': {'properties': {'created': '2025-04-29T17:52:28.150Z', 'edited': '2025-04-29T17:52:28.150Z', 'consumables': '2 years', 'name': 'Star Destroyer', 'cargo_capacity': '36000000', 'passengers': 'n/a', 'max_atmosphering_speed': '975', 'crew': '47,060', 'length': '1,600', 'model': 'Imperial I-class Star Destroyer', 'cost_in_credits': '150000000', 'manufacturer': 'Kuat Drive Yards', 'pilots': [], 'MGLT': '60', 'starship_class': 'Star Destroyer', 'hyperdrive_rating': '2.0', 'films': ['https://www.swapi.tech/api/films/1', 'https://www.swapi.tech/api/films/2', 'https://www.swapi.tech/api/films/3'], 'url': 'https://www.swapi.tech/api/starships/3'}, '_id': '5f63a34fee9fd7000499be1f', 'description': 'A Starship', 'uid': '3', '__v': 2}, 'apiVersion': '1.0', 'timestamp': '2025-04-30T12:26:58.175Z', 'support': {'contact': 'admin@swapi.tech', 'donate': 'https://www.paypal.com/donate/?business=2HGAUVTWGR5T2&no_recurring=0&item_name=Support+Swapi+and+keep+the+galaxy%27s+data+free%21+Your+donation+fuels+open-source+innovation+and+helps+us+grow.+Thank+you%21+%F0%9F%9A%80&currency_code=USD', 'partnerDiscounts': {'saberMasters': {'link': 'https://www.swapi.tech/partner-discount/sabermasters-swapi', 'details': 'Use this link to automatically get $10 off your purchase!'}, 'heartMath': {'link': 'https://www.heartmath.com/ryanc', 'details': 'Looking for some Jedi-like inner peace? Take 10% off your heart-brain coherence tools from the HeartMath Institute!'}}}, 'social': {'discord': 'https://discord.gg/zWvA6GPeNG', 'reddit': 'https://www.reddit.com/r/SwapiOfficial/', 'github': 'https://github.com/semperry/swapi/blob/main/CONTRIBUTORS.md'}}\n",
            "{'message': 'ok', 'result': {'properties': {'created': '2025-04-29T17:52:28.150Z', 'edited': '2025-04-29T17:52:28.150Z', 'consumables': '1 month', 'name': 'Sentinel-class landing craft', 'cargo_capacity': '180000', 'passengers': '75', 'max_atmosphering_speed': '1000', 'crew': '5', 'length': '38', 'model': 'Sentinel-class landing craft', 'cost_in_credits': '240000', 'manufacturer': 'Sienar Fleet Systems, Cyngus Spaceworks', 'pilots': [], 'MGLT': '70', 'starship_class': 'landing craft', 'hyperdrive_rating': '1.0', 'films': ['https://www.swapi.tech/api/films/1'], 'url': 'https://www.swapi.tech/api/starships/5'}, '_id': '5f63a34fee9fd7000499be20', 'description': 'A Starship', 'uid': '5', '__v': 2}, 'apiVersion': '1.0', 'timestamp': '2025-04-30T12:26:58.890Z', 'support': {'contact': 'admin@swapi.tech', 'donate': 'https://www.paypal.com/donate/?business=2HGAUVTWGR5T2&no_recurring=0&item_name=Support+Swapi+and+keep+the+galaxy%27s+data+free%21+Your+donation+fuels+open-source+innovation+and+helps+us+grow.+Thank+you%21+%F0%9F%9A%80&currency_code=USD', 'partnerDiscounts': {'saberMasters': {'link': 'https://www.swapi.tech/partner-discount/sabermasters-swapi', 'details': 'Use this link to automatically get $10 off your purchase!'}, 'heartMath': {'link': 'https://www.heartmath.com/ryanc', 'details': 'Looking for some Jedi-like inner peace? Take 10% off your heart-brain coherence tools from the HeartMath Institute!'}}}, 'social': {'discord': 'https://discord.gg/zWvA6GPeNG', 'reddit': 'https://www.reddit.com/r/SwapiOfficial/', 'github': 'https://github.com/semperry/swapi/blob/main/CONTRIBUTORS.md'}}\n",
            "{'message': 'ok', 'result': {'properties': {'created': '2025-04-29T17:52:28.150Z', 'edited': '2025-04-29T17:52:28.150Z', 'consumables': '3 years', 'name': 'Death Star', 'cargo_capacity': '1000000000000', 'passengers': '843,342', 'max_atmosphering_speed': 'n/a', 'crew': '342,953', 'length': '120000', 'model': 'DS-1 Orbital Battle Station', 'cost_in_credits': '1000000000000', 'manufacturer': 'Imperial Department of Military Research, Sienar Fleet Systems', 'pilots': [], 'MGLT': '10', 'starship_class': 'Deep Space Mobile Battlestation', 'hyperdrive_rating': '4.0', 'films': ['https://www.swapi.tech/api/films/1'], 'url': 'https://www.swapi.tech/api/starships/9'}, '_id': '5f63a34fee9fd7000499be21', 'description': 'A Starship', 'uid': '9', '__v': 2}, 'apiVersion': '1.0', 'timestamp': '2025-04-30T12:27:00.358Z', 'support': {'contact': 'admin@swapi.tech', 'donate': 'https://www.paypal.com/donate/?business=2HGAUVTWGR5T2&no_recurring=0&item_name=Support+Swapi+and+keep+the+galaxy%27s+data+free%21+Your+donation+fuels+open-source+innovation+and+helps+us+grow.+Thank+you%21+%F0%9F%9A%80&currency_code=USD', 'partnerDiscounts': {'saberMasters': {'link': 'https://www.swapi.tech/partner-discount/sabermasters-swapi', 'details': 'Use this link to automatically get $10 off your purchase!'}, 'heartMath': {'link': 'https://www.heartmath.com/ryanc', 'details': 'Looking for some Jedi-like inner peace? Take 10% off your heart-brain coherence tools from the HeartMath Institute!'}}}, 'social': {'discord': 'https://discord.gg/zWvA6GPeNG', 'reddit': 'https://www.reddit.com/r/SwapiOfficial/', 'github': 'https://github.com/semperry/swapi/blob/main/CONTRIBUTORS.md'}}\n"
          ]
        }
      ],
      "source": [
        "i=0\n",
        "valid_ships = []\n",
        "while True:\n",
        "    response = requests.get(f\"https://www.swapi.tech/api/starships/{i}\")\n",
        "\n",
        "    if response.status_code == 200:\n",
        "        valid_ships.append(response.json())\n",
        "\n",
        "    i+=1\n",
        "    if i == 10:\n",
        "        break\n",
        "\n",
        "for ship in valid_ships:\n",
        "    print(ship)"
      ]
    },
    {
      "cell_type": "markdown",
      "metadata": {
        "id": "zqYawPTMhnZf"
      },
      "source": [
        "**Task 3:**\n",
        "- Define and call a function that returns all of the models of starships."
      ]
    },
    {
      "cell_type": "code",
      "execution_count": 8,
      "metadata": {
        "id": "3kDs9Wsgi_M_"
      },
      "outputs": [
        {
          "name": "stdout",
          "output_type": "stream",
          "text": [
            "CR90 corvette\n",
            "Star Destroyer\n",
            "Sentinel-class landing craft\n",
            "Death Star\n",
            "Y-wing\n",
            "Millennium Falcon\n",
            "TIE Advanced x1\n",
            "Executor\n",
            "X-wing\n",
            "Rebel transport\n"
          ]
        }
      ],
      "source": [
        "def find_ship_models():\n",
        "    response = requests.get(\"https://www.swapi.tech/api/starships/\")\n",
        "    ships = response.json()\n",
        "    ships = ships[\"results\"]\n",
        "    for ship in ships:\n",
        "        print(ship['name'])\n",
        "\n",
        "find_ship_models()"
      ]
    },
    {
      "cell_type": "markdown",
      "metadata": {
        "id": "9U5eFZuThvto"
      },
      "source": [
        "**Task 4:**\n",
        "- Define and call a function that finds the ship that can carry the most cargo."
      ]
    },
    {
      "cell_type": "code",
      "execution_count": null,
      "metadata": {
        "id": "kcu3Dsn8jc7V"
      },
      "outputs": [
        {
          "name": "stdout",
          "output_type": "stream",
          "text": [
            "{'message': 'ok', 'result': {'properties': {'created': '2025-04-29T17:52:28.150Z', 'edited': '2025-04-29T17:52:28.150Z', 'consumables': '1 year', 'name': 'CR90 corvette', 'cargo_capacity': '3000000', 'passengers': '600', 'max_atmosphering_speed': '950', 'crew': '30-165', 'length': '150', 'model': 'CR90 corvette', 'cost_in_credits': '3500000', 'manufacturer': 'Corellian Engineering Corporation', 'pilots': [], 'MGLT': '60', 'starship_class': 'corvette', 'hyperdrive_rating': '2.0', 'films': ['https://www.swapi.tech/api/films/1', 'https://www.swapi.tech/api/films/3', 'https://www.swapi.tech/api/films/6'], 'url': 'https://www.swapi.tech/api/starships/2'}, '_id': '5f63a34fee9fd7000499be1e', 'description': 'A Starship', 'uid': '2', '__v': 2}, 'apiVersion': '1.0', 'timestamp': '2025-04-30T12:33:55.188Z', 'support': {'contact': 'admin@swapi.tech', 'donate': 'https://www.paypal.com/donate/?business=2HGAUVTWGR5T2&no_recurring=0&item_name=Support+Swapi+and+keep+the+galaxy%27s+data+free%21+Your+donation+fuels+open-source+innovation+and+helps+us+grow.+Thank+you%21+%F0%9F%9A%80&currency_code=USD', 'partnerDiscounts': {'saberMasters': {'link': 'https://www.swapi.tech/partner-discount/sabermasters-swapi', 'details': 'Use this link to automatically get $10 off your purchase!'}, 'heartMath': {'link': 'https://www.heartmath.com/ryanc', 'details': 'Looking for some Jedi-like inner peace? Take 10% off your heart-brain coherence tools from the HeartMath Institute!'}}}, 'social': {'discord': 'https://discord.gg/zWvA6GPeNG', 'reddit': 'https://www.reddit.com/r/SwapiOfficial/', 'github': 'https://github.com/semperry/swapi/blob/main/CONTRIBUTORS.md'}}\n"
          ]
        }
      ],
      "source": [
        "i=0\n",
        "valid_ships = []\n",
        "while True:\n",
        "    response = requests.get(f\"https://www.swapi.tech/api/starships/{i}\")\n",
        "\n",
        "    if response.status_code == 200:\n",
        "        valid_ships.append(response.json())\n",
        "\n",
        "    i+=1\n",
        "    if i == 40:\n",
        "        break\n"
      ]
    },
    {
      "cell_type": "code",
      "execution_count": null,
      "metadata": {},
      "outputs": [
        {
          "name": "stdout",
          "output_type": "stream",
          "text": [
            "highest cargo ship is Death Star at about 1000000000000 carrying capacity.\n"
          ]
        }
      ],
      "source": [
        "highest_cargo_ship = valid_ships[0]\n",
        "\n",
        "for ship in valid_ships:\n",
        "    # the condition check to make sure the value is not unknown must be first or else you'll get and error.\n",
        "    if ship['result']['properties']['cargo_capacity'] != 'unknown' and int(ship['result']['properties']['cargo_capacity']) > int(highest_cargo_ship['result']['properties']['cargo_capacity']):\n",
        "        highest_cargo_ship = ship\n",
        "\n",
        "print(f\"highest cargo ship is {highest_cargo_ship['result']['properties']['name']} at about {highest_cargo_ship['result']['properties']['cargo_capacity']} carrying capacity.\")"
      ]
    },
    {
      "cell_type": "markdown",
      "metadata": {
        "id": "_QehoXI3h0kC"
      },
      "source": [
        "**Task 5:**\n",
        "- Define a function that returns the number of crew and passengers of a given Starship.\n",
        "\n",
        "- Make at least two separate function calls to test the functionality and any edge cases you can think of."
      ]
    },
    {
      "cell_type": "code",
      "execution_count": null,
      "metadata": {
        "id": "hVqkGPJhjeHy"
      },
      "outputs": [
        {
          "name": "stdout",
          "output_type": "stream",
          "text": [
            "Star Destroyer\n",
            "n/a\n",
            "47,060\n",
            "Looks like blah blah blah isn't contained in our system.\n"
          ]
        }
      ],
      "source": [
        "def print_ship_crew_and_pass(ship_name: str) -> None:\n",
        "    valid_entry = False\n",
        "    for ship in valid_ships:\n",
        "        if ship_name.strip() == ship['result']['properties']['name']:\n",
        "            print(ship['result']['properties']['name'])\n",
        "            print(ship['result']['properties']['passengers'])\n",
        "            print(ship['result']['properties']['crew'])\n",
        "            valid_entry = True\n",
        "    if valid_entry == False:\n",
        "        print(f\"Looks like {ship_name} isn't contained in our system.\")\n",
        "\n",
        "print_ship_crew_and_pass(\"Star Destroyer\") # This should print the Star\n",
        "print_ship_crew_and_pass(\"blah blah blah\") # This will not print a valid ship"
      ]
    },
    {
      "cell_type": "markdown",
      "metadata": {
        "id": "GhT4clOUioSJ"
      },
      "source": [
        "**Task 6:**\n",
        "- Define and a function to find the starships that have appeared in a given number of films.\n",
        "\n",
        "- Make at least two separate function calls to test the functionality and any edge cases you can think of."
      ]
    },
    {
      "cell_type": "code",
      "execution_count": 60,
      "metadata": {
        "id": "B6l-bJtFjgev"
      },
      "outputs": [
        {
          "name": "stdout",
          "output_type": "stream",
          "text": [
            "Sentinel-class landing craft\n",
            "Death Star\n",
            "TIE Advanced x1\n",
            "Calamari Cruiser\n",
            "A-wing\n",
            "B-wing\n",
            "Republic Cruiser\n",
            "This is not a valid number\n",
            "This is not a valid number\n"
          ]
        }
      ],
      "source": [
        "# print(len(valid_ships[0]['result']['properties']['films']))\n",
        "# print(valid_ships[0]['result']['properties']['name'])\n",
        "def film_appearances(number_of_films: int) -> None:\n",
        "    if number_of_films <= 0 or number_of_films > 3:\n",
        "        print(\"This is not a valid number\")\n",
        "        return\n",
        "    for ship in valid_ships:\n",
        "        if len(ship['result']['properties']['films']) == number_of_films:\n",
        "            print(ship['result']['properties']['name'])\n",
        "\n",
        "film_appearances(1) # this should be printing multiple ships\n",
        "film_appearances(4) # this should print edge case\n",
        "film_appearances(-1) # this should print edge case"
      ]
    }
  ],
  "metadata": {
    "colab": {
      "provenance": []
    },
    "kernelspec": {
      "display_name": "venv",
      "language": "python",
      "name": "python3"
    },
    "language_info": {
      "codemirror_mode": {
        "name": "ipython",
        "version": 3
      },
      "file_extension": ".py",
      "mimetype": "text/x-python",
      "name": "python",
      "nbconvert_exporter": "python",
      "pygments_lexer": "ipython3",
      "version": "3.12.0"
    }
  },
  "nbformat": 4,
  "nbformat_minor": 0
}
