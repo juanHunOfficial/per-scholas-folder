{
  "cells": [
    {
      "cell_type": "markdown",
      "metadata": {
        "id": "W9LJu8VEIP3p"
      },
      "source": [
        "# **Accessing a Paginated API Endpoint to Explore Data**\n",
        "## **Objective:**\n",
        "\n",
        "This lab aims to reinforce data manipulation and API interaction concepts using the Star Wars API. You'll work with paginated data, practice data extraction, and perform analysis on character attributes.\n",
        "In this lab, we will combine concepts that we have learned throughout the class so far. Some of those concepts include:\n",
        "\n",
        "- **Importing Libraries:** You'll import necessary libraries like requests and json to handle API requests and JSON data.\n",
        "\n",
        "- **Looping and Data Structures:** You'll employ loops to iterate through paginated API responses and extract data from nested lists and dictionaries.\n",
        "\n",
        "- **API Interaction:** You'll make requests to the Star Wars API endpoint and handle the responses.\n",
        "\n",
        "- **Function Definition:** You'll define functions to perform specific tasks, enhancing code reusability and modularity.\n",
        "\n",
        "- **JSON Data Handling:** You'll work with JSON data extracted from API responses, accessing and utilizing character attributes.\n",
        "\n",
        "- **Exception Handling:** You'll implement error handling to manage potential API request or data processing issues.\n",
        "<br></br>\n",
        "\n",
        "**Data Source:** The lab utilizes the [Star Wars API](//swapi.dev/documentation#starships).\n",
        "\n",
        "- **Starwar Api end point:** http https://swapi.dev/api/starships\n",
        "\n",
        "- The full documentation can be found here: https://swapi.dev/documentation#intro\n",
        "<br></br>\n",
        "\n",
        "\n",
        "# **Instructions:**\n",
        "\n",
        "\n"
      ]
    },
    {
      "cell_type": "markdown",
      "metadata": {
        "id": "PMtPeI04Lst3"
      },
      "source": [
        "### **Task 1:**\n",
        "Import all of the required packages to complete this assignment."
      ]
    },
    {
      "cell_type": "code",
      "execution_count": 4,
      "metadata": {
        "id": "GNETMP82L3Z9"
      },
      "outputs": [],
      "source": [
        "import requests\n"
      ]
    },
    {
      "cell_type": "markdown",
      "metadata": {
        "id": "WVOtZOtfMHyH"
      },
      "source": [
        "### **Task 2:**\n",
        "- Make your request to the API Endpoint and use a **FOR LOOP** if necessary to access multiple pages.\n",
        "<br></br>\n",
        "- Save all of the responses in one Python Object."
      ]
    },
    {
      "cell_type": "code",
      "execution_count": 3,
      "metadata": {
        "id": "7yLJTUIUMkB6"
      },
      "outputs": [
        {
          "ename": "NameError",
          "evalue": "name 'requests' is not defined",
          "output_type": "error",
          "traceback": [
            "\u001b[31m---------------------------------------------------------------------------\u001b[39m",
            "\u001b[31mNameError\u001b[39m                                 Traceback (most recent call last)",
            "\u001b[36mCell\u001b[39m\u001b[36m \u001b[39m\u001b[32mIn[3]\u001b[39m\u001b[32m, line 1\u001b[39m\n\u001b[32m----> \u001b[39m\u001b[32m1\u001b[39m response_films = \u001b[43mrequests\u001b[49m.get(\u001b[33m\"\u001b[39m\u001b[33mhttps://www.swapi.tech/api/films\u001b[39m\u001b[33m\"\u001b[39m)\n\u001b[32m      2\u001b[39m response_people = requests.get(\u001b[33m\"\u001b[39m\u001b[33mhttps://www.swapi.tech/api/people\u001b[39m\u001b[33m\"\u001b[39m)\n\u001b[32m      3\u001b[39m response_starships = requests.get(\u001b[33m\"\u001b[39m\u001b[33mhttps://www.swapi.tech/api/starships\u001b[39m\u001b[33m\"\u001b[39m)\n",
            "\u001b[31mNameError\u001b[39m: name 'requests' is not defined"
          ]
        }
      ],
      "source": [
        "response_films = requests.get(\"https://www.swapi.tech/api/films\")\n",
        "response_people = requests.get(\"https://www.swapi.tech/api/people\")\n",
        "response_starships = requests.get(\"https://www.swapi.tech/api/starships\")"
      ]
    },
    {
      "cell_type": "code",
      "execution_count": 43,
      "metadata": {},
      "outputs": [
        {
          "data": {
            "text/plain": [
              "['https://www.swapi.tech/api/people/1',\n",
              " 'https://www.swapi.tech/api/people/2',\n",
              " 'https://www.swapi.tech/api/people/3',\n",
              " 'https://www.swapi.tech/api/people/4',\n",
              " 'https://www.swapi.tech/api/people/5',\n",
              " 'https://www.swapi.tech/api/people/6',\n",
              " 'https://www.swapi.tech/api/people/7',\n",
              " 'https://www.swapi.tech/api/people/8',\n",
              " 'https://www.swapi.tech/api/people/9',\n",
              " 'https://www.swapi.tech/api/people/10',\n",
              " 'https://www.swapi.tech/api/people/12',\n",
              " 'https://www.swapi.tech/api/people/13',\n",
              " 'https://www.swapi.tech/api/people/14',\n",
              " 'https://www.swapi.tech/api/people/15',\n",
              " 'https://www.swapi.tech/api/people/16',\n",
              " 'https://www.swapi.tech/api/people/18',\n",
              " 'https://www.swapi.tech/api/people/19',\n",
              " 'https://www.swapi.tech/api/people/81']"
            ]
          },
          "execution_count": 43,
          "metadata": {},
          "output_type": "execute_result"
        }
      ],
      "source": [
        "\n",
        "response_films.json()['result'][0]['properties']['characters']\n"
      ]
    },
    {
      "cell_type": "markdown",
      "metadata": {
        "id": "ApAz056aMlrF"
      },
      "source": [
        "### **Task 3:**\n",
        "- Create a new Python object that holds on the 'result' key for each Character dictionary."
      ]
    },
    {
      "cell_type": "code",
      "execution_count": 44,
      "metadata": {
        "id": "GVLf5PuVY7gj"
      },
      "outputs": [
        {
          "name": "stdout",
          "output_type": "stream",
          "text": [
            "6\n",
            "['https://www.swapi.tech/api/people/1', 'https://www.swapi.tech/api/people/2', 'https://www.swapi.tech/api/people/3', 'https://www.swapi.tech/api/people/4', 'https://www.swapi.tech/api/people/5', 'https://www.swapi.tech/api/people/6', 'https://www.swapi.tech/api/people/7', 'https://www.swapi.tech/api/people/8', 'https://www.swapi.tech/api/people/9', 'https://www.swapi.tech/api/people/10', 'https://www.swapi.tech/api/people/12', 'https://www.swapi.tech/api/people/13', 'https://www.swapi.tech/api/people/14', 'https://www.swapi.tech/api/people/15', 'https://www.swapi.tech/api/people/16', 'https://www.swapi.tech/api/people/18', 'https://www.swapi.tech/api/people/19', 'https://www.swapi.tech/api/people/81']\n",
            "['https://www.swapi.tech/api/people/1', 'https://www.swapi.tech/api/people/2', 'https://www.swapi.tech/api/people/3', 'https://www.swapi.tech/api/people/4', 'https://www.swapi.tech/api/people/5', 'https://www.swapi.tech/api/people/10', 'https://www.swapi.tech/api/people/13', 'https://www.swapi.tech/api/people/14', 'https://www.swapi.tech/api/people/18', 'https://www.swapi.tech/api/people/20', 'https://www.swapi.tech/api/people/21', 'https://www.swapi.tech/api/people/22', 'https://www.swapi.tech/api/people/23', 'https://www.swapi.tech/api/people/24', 'https://www.swapi.tech/api/people/25', 'https://www.swapi.tech/api/people/26']\n",
            "['https://www.swapi.tech/api/people/1', 'https://www.swapi.tech/api/people/2', 'https://www.swapi.tech/api/people/3', 'https://www.swapi.tech/api/people/4', 'https://www.swapi.tech/api/people/5', 'https://www.swapi.tech/api/people/10', 'https://www.swapi.tech/api/people/13', 'https://www.swapi.tech/api/people/14', 'https://www.swapi.tech/api/people/16', 'https://www.swapi.tech/api/people/18', 'https://www.swapi.tech/api/people/20', 'https://www.swapi.tech/api/people/21', 'https://www.swapi.tech/api/people/22', 'https://www.swapi.tech/api/people/25', 'https://www.swapi.tech/api/people/27', 'https://www.swapi.tech/api/people/28', 'https://www.swapi.tech/api/people/29', 'https://www.swapi.tech/api/people/30', 'https://www.swapi.tech/api/people/31', 'https://www.swapi.tech/api/people/45']\n",
            "['https://www.swapi.tech/api/people/2', 'https://www.swapi.tech/api/people/3', 'https://www.swapi.tech/api/people/10', 'https://www.swapi.tech/api/people/11', 'https://www.swapi.tech/api/people/16', 'https://www.swapi.tech/api/people/20', 'https://www.swapi.tech/api/people/21', 'https://www.swapi.tech/api/people/32', 'https://www.swapi.tech/api/people/33', 'https://www.swapi.tech/api/people/34', 'https://www.swapi.tech/api/people/35', 'https://www.swapi.tech/api/people/36', 'https://www.swapi.tech/api/people/37', 'https://www.swapi.tech/api/people/38', 'https://www.swapi.tech/api/people/39', 'https://www.swapi.tech/api/people/40', 'https://www.swapi.tech/api/people/41', 'https://www.swapi.tech/api/people/42', 'https://www.swapi.tech/api/people/43', 'https://www.swapi.tech/api/people/44', 'https://www.swapi.tech/api/people/46', 'https://www.swapi.tech/api/people/47', 'https://www.swapi.tech/api/people/48', 'https://www.swapi.tech/api/people/49', 'https://www.swapi.tech/api/people/50', 'https://www.swapi.tech/api/people/51', 'https://www.swapi.tech/api/people/52', 'https://www.swapi.tech/api/people/53', 'https://www.swapi.tech/api/people/54', 'https://www.swapi.tech/api/people/55', 'https://www.swapi.tech/api/people/56', 'https://www.swapi.tech/api/people/57', 'https://www.swapi.tech/api/people/58', 'https://www.swapi.tech/api/people/59']\n",
            "['https://www.swapi.tech/api/people/2', 'https://www.swapi.tech/api/people/3', 'https://www.swapi.tech/api/people/6', 'https://www.swapi.tech/api/people/7', 'https://www.swapi.tech/api/people/10', 'https://www.swapi.tech/api/people/11', 'https://www.swapi.tech/api/people/20', 'https://www.swapi.tech/api/people/21', 'https://www.swapi.tech/api/people/22', 'https://www.swapi.tech/api/people/33', 'https://www.swapi.tech/api/people/35', 'https://www.swapi.tech/api/people/36', 'https://www.swapi.tech/api/people/40', 'https://www.swapi.tech/api/people/43', 'https://www.swapi.tech/api/people/46', 'https://www.swapi.tech/api/people/51', 'https://www.swapi.tech/api/people/52', 'https://www.swapi.tech/api/people/53', 'https://www.swapi.tech/api/people/58', 'https://www.swapi.tech/api/people/59', 'https://www.swapi.tech/api/people/60', 'https://www.swapi.tech/api/people/61', 'https://www.swapi.tech/api/people/62', 'https://www.swapi.tech/api/people/63', 'https://www.swapi.tech/api/people/64', 'https://www.swapi.tech/api/people/65', 'https://www.swapi.tech/api/people/66', 'https://www.swapi.tech/api/people/67', 'https://www.swapi.tech/api/people/68', 'https://www.swapi.tech/api/people/69', 'https://www.swapi.tech/api/people/70', 'https://www.swapi.tech/api/people/71', 'https://www.swapi.tech/api/people/72', 'https://www.swapi.tech/api/people/73', 'https://www.swapi.tech/api/people/74', 'https://www.swapi.tech/api/people/75', 'https://www.swapi.tech/api/people/76', 'https://www.swapi.tech/api/people/77', 'https://www.swapi.tech/api/people/78', 'https://www.swapi.tech/api/people/82']\n",
            "['https://www.swapi.tech/api/people/1', 'https://www.swapi.tech/api/people/2', 'https://www.swapi.tech/api/people/3', 'https://www.swapi.tech/api/people/4', 'https://www.swapi.tech/api/people/5', 'https://www.swapi.tech/api/people/6', 'https://www.swapi.tech/api/people/7', 'https://www.swapi.tech/api/people/10', 'https://www.swapi.tech/api/people/11', 'https://www.swapi.tech/api/people/12', 'https://www.swapi.tech/api/people/13', 'https://www.swapi.tech/api/people/20', 'https://www.swapi.tech/api/people/21', 'https://www.swapi.tech/api/people/33', 'https://www.swapi.tech/api/people/35', 'https://www.swapi.tech/api/people/46', 'https://www.swapi.tech/api/people/51', 'https://www.swapi.tech/api/people/52', 'https://www.swapi.tech/api/people/53', 'https://www.swapi.tech/api/people/54', 'https://www.swapi.tech/api/people/55', 'https://www.swapi.tech/api/people/56', 'https://www.swapi.tech/api/people/58', 'https://www.swapi.tech/api/people/63', 'https://www.swapi.tech/api/people/64', 'https://www.swapi.tech/api/people/67', 'https://www.swapi.tech/api/people/68', 'https://www.swapi.tech/api/people/75', 'https://www.swapi.tech/api/people/78', 'https://www.swapi.tech/api/people/79', 'https://www.swapi.tech/api/people/80', 'https://www.swapi.tech/api/people/81', 'https://www.swapi.tech/api/people/82', 'https://www.swapi.tech/api/people/83']\n"
          ]
        },
        {
          "data": {
            "text/plain": [
              "[None, None, None, None, None, None]"
            ]
          },
          "execution_count": 44,
          "metadata": {},
          "output_type": "execute_result"
        }
      ],
      "source": [
        "films = response_films.json()['result']\n",
        "print(len(films))\n",
        "numbers = [0,1,2,3,4,5]\n",
        "list(map(lambda x: print(films[x]['properties']['characters']), numbers))\n"
      ]
    },
    {
      "cell_type": "markdown",
      "metadata": {
        "id": "7TVWknUzZNIS"
      },
      "source": [
        "### **Task 4:**\n",
        "- Define a function that returns a list of all of the character names.\n",
        "\n",
        "- Call the function."
      ]
    },
    {
      "cell_type": "code",
      "execution_count": 1,
      "metadata": {
        "id": "WLUSa9msZYOv"
      },
      "outputs": [
        {
          "ename": "NameError",
          "evalue": "name 'response_people' is not defined",
          "output_type": "error",
          "traceback": [
            "\u001b[31m---------------------------------------------------------------------------\u001b[39m",
            "\u001b[31mNameError\u001b[39m                                 Traceback (most recent call last)",
            "\u001b[36mCell\u001b[39m\u001b[36m \u001b[39m\u001b[32mIn[1]\u001b[39m\u001b[32m, line 1\u001b[39m\n\u001b[32m----> \u001b[39m\u001b[32m1\u001b[39m people = \u001b[43mresponse_people\u001b[49m\n",
            "\u001b[31mNameError\u001b[39m: name 'response_people' is not defined"
          ]
        }
      ],
      "source": [
        "people = response_people"
      ]
    },
    {
      "cell_type": "markdown",
      "metadata": {
        "id": "SPV49uLFZaz3"
      },
      "source": [
        "### **Task 5:**\n",
        "- Define a function that counts the total number of male characters and the total number of female characters. Return both numbers.\n",
        "\n",
        "- Call the function.\n",
        "- Consideration: Do all characters have the gender male or female?"
      ]
    },
    {
      "cell_type": "code",
      "execution_count": null,
      "metadata": {
        "id": "pALC6DJxZqxD"
      },
      "outputs": [],
      "source": []
    },
    {
      "cell_type": "markdown",
      "metadata": {
        "id": "0NVoP8RwZwwW"
      },
      "source": [
        "### **Task 6:**\n",
        "- Define a function that returns a list of all the characters that appear in more than 'x' number of films. Where 'x' is an integer that is passed as an argument into the function.\n",
        "\n",
        "- Call the function with at least two test cases.\n",
        "- Considerations: Is 'more' than inclusive of the number passed?"
      ]
    },
    {
      "cell_type": "code",
      "execution_count": null,
      "metadata": {
        "id": "HNU93nk1aJwr"
      },
      "outputs": [],
      "source": []
    },
    {
      "cell_type": "markdown",
      "metadata": {
        "id": "eIIBFhc2aKJk"
      },
      "source": [
        "### **Task 7:**\n",
        "- Define a function that returns a list of all of the characters that start with a specific letter where the letter is passed as a string, as an argument into the function.\n",
        "- Call the function with an uppercase letter.\n",
        "- Call the function with the same character as a lowercase letter.\n",
        "\n",
        "- Considerations: How do you handle the type of character being passed? There are many different ways to make this work. Be creative."
      ]
    },
    {
      "cell_type": "code",
      "execution_count": null,
      "metadata": {
        "id": "3VnNmKdybwiP"
      },
      "outputs": [],
      "source": []
    },
    {
      "cell_type": "markdown",
      "metadata": {
        "id": "ra4huEK5bSn8"
      },
      "source": [
        "### **Task 8:**\n",
        "- Define a function that returns a tuple of the min, max, and avg height for all characters converted into feet.\n",
        "\n",
        "- Unpack the tuple when making the function call.\n",
        "- Considerations: Use built-in methods for the min, max, and avg heights."
      ]
    },
    {
      "cell_type": "code",
      "execution_count": null,
      "metadata": {
        "id": "Lk57X-DWbvgd"
      },
      "outputs": [],
      "source": []
    },
    {
      "cell_type": "markdown",
      "metadata": {
        "id": "IKwDIQTYb435"
      },
      "source": [
        "### **Task 9**\n",
        "- Define a function that accepts two arguments: eye color and hair color. Return a dictionary with the min, max, and avg height based on the arguments given.\n",
        "\n",
        "- Call the function using \"blue\" for the eye color and \"blond\" for the hair color.\n",
        "\n",
        "- Call the function using arguments of your choice.\n",
        "\n"
      ]
    },
    {
      "cell_type": "code",
      "execution_count": null,
      "metadata": {
        "id": "zMvacURNcyE5"
      },
      "outputs": [],
      "source": []
    },
    {
      "cell_type": "markdown",
      "metadata": {
        "id": "XrPoYu8bjFI_"
      },
      "source": [
        "### The solution of the exercise is available, you can visit below link, Rememebr there are multiple solutions are possible.\n",
        "\n",
        "https://colab.research.google.com/drive/1AmVLbMSADC0G_5s2Cm6KvgE0buKutMEE?usp=sharing"
      ]
    },
    {
      "cell_type": "code",
      "execution_count": null,
      "metadata": {
        "id": "eC4faAqIjGfD"
      },
      "outputs": [],
      "source": []
    }
  ],
  "metadata": {
    "colab": {
      "provenance": []
    },
    "kernelspec": {
      "display_name": "venv",
      "language": "python",
      "name": "python3"
    },
    "language_info": {
      "codemirror_mode": {
        "name": "ipython",
        "version": 3
      },
      "file_extension": ".py",
      "mimetype": "text/x-python",
      "name": "python",
      "nbconvert_exporter": "python",
      "pygments_lexer": "ipython3",
      "version": "3.12.0"
    }
  },
  "nbformat": 4,
  "nbformat_minor": 0
}
