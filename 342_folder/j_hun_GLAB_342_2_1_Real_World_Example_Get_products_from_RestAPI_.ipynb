{
  "cells": [
    {
      "cell_type": "markdown",
      "metadata": {
        "id": "MCz85jAjXj34"
      },
      "source": [
        "# **Guided LAB - 342.2.1 - Real World Example - Get Products from RestAPI**\n",
        "\n",
        "---\n",
        "\n"
      ]
    },
    {
      "cell_type": "markdown",
      "metadata": {
        "id": "zKNwkyD9WjlA"
      },
      "source": [
        "## **Lab Objective:**\n",
        "In this lab, you will demonstrate how to use Rest API using Python. You will learn how to fetch products from an API endpoint, save the data to a JSON file, and search for specific products using the API.\n",
        "\n",
        "**Key Skills:**\n",
        "\n",
        "Using the `requests` module in Python to send HTTP requests.\n",
        "Sending requests to a REST API endpoint.\n",
        "Searching for products using API parameters.\n",
        "Saving API response data to a JSON file.\n",
        "\n",
        "## **Learning Objective:**\n",
        "\n",
        "By the end of this lab, learners will be able to:\n",
        "- Use `requests` module in Python.\n",
        "- Send request to REST API endpoint.\n",
        "- Search products from REST API endpoint.\n",
        "- Save data from REST API endpoint to Json file.\n",
        "\n",
        "## **Lab Activities:**\n",
        "\n",
        "- **Fetching and Saving Product Data:** You will use the `requests` module to send a GET request to the `https://dummyjson.com/products` API endpoint. The response data, containing product information, will be saved into a JSON file named \"products_information.json\".\n",
        "\n",
        "- **Searching for Products:** You will learn how to search for products using the API's search functionality. By modifying the API endpoint URL to include a search query (e.g., https://dummyjson.com/products/search?q=Oil), you can retrieve products related to a specific keyword. The results will be displayed in the Colab output."
      ]
    },
    {
      "cell_type": "markdown",
      "metadata": {
        "id": "RGO9VWCwTVaI"
      },
      "source": [
        "**The `requests` is Pre-installed:**\n",
        "Google Colab environments come with many common Python libraries pre-installed, and `requests` is very frequently among them. So, in many cases, you can simply import and use it without needing to install it.\n",
        "\n",
        "If you do need to upgrade requests, you can use either:\n",
        "\n",
        "`!pip install requests`\n",
        "\n",
        "`%pip install requests`"
      ]
    },
    {
      "cell_type": "markdown",
      "metadata": {
        "id": "HUIfkKfGR5pO"
      },
      "source": [
        "## **Example: Get all products and save them to Json file**\n",
        "\n",
        "The endpoint Api is: https://dummyjson.com/products"
      ]
    },
    {
      "cell_type": "markdown",
      "metadata": {
        "id": "T2yu6WnXQI1H"
      },
      "source": [
        "The following example use the `requests` module to sends an HTTP GET request to the **`https://dummyjson.com/products`** API endpoint. The response data, containing product information, will be saved into a JSON file named \"**products_information.json**\" with an indentation of 4 spaces."
      ]
    },
    {
      "cell_type": "code",
      "execution_count": 1,
      "metadata": {
        "colab": {
          "base_uri": "https://localhost:8080/"
        },
        "id": "yKuG6hMpPabL",
        "outputId": "c7b75747-072c-4420-ad8e-337a616caa8b"
      },
      "outputs": [
        {
          "name": "stdout",
          "output_type": "stream",
          "text": [
            "Data has been written to 'products_information.json'.\n"
          ]
        }
      ],
      "source": [
        "import requests\n",
        "import json\n",
        "\n",
        "def fetch_and_save_json_data(api_url, file_path):\n",
        "    try:\n",
        "        # Make an HTTP GET request to the API\n",
        "        response = requests.get(api_url)\n",
        "\n",
        "        # Check if the request was successful (status code 200)\n",
        "        if response.status_code == 200:\n",
        "            # Parse the JSON data from the response\n",
        "            data = response.json()\n",
        "\n",
        "            # Write the JSON data to the file\n",
        "            with open(file_path, \"w\") as json_file:\n",
        "                json.dump(data, json_file, indent=4)\n",
        "\n",
        "            print(f\"Data has been written to '{file_path}'.\")\n",
        "        else:\n",
        "            print(f\"Failed to retrieve data. Status code: {response.status_code}\")\n",
        "    except requests.exceptions.RequestException as e:\n",
        "        print(f\"An error occurred during the request: {e}\")\n",
        "    except json.JSONDecodeError as e:\n",
        "        print(f\"An error occurred while parsing the JSON response: {e}\")\n",
        "    except FileNotFoundError as e:\n",
        "        print(f\"An error occurred while writing to the file: {e}\")\n",
        "    except Exception as e:\n",
        "        print(f\"An unexpected error occurred: {e}\")\n",
        "\n",
        "# Define the API endpoint URL and file path\n",
        "api_url_products = \"https://dummyjson.com/products\"\n",
        "file_path = \"products_information.json\"\n",
        "# note: do not forget to change the file path in the above line\n",
        "\n",
        "# Call the function to fetch and save JSON data\n",
        "fetch_and_save_json_data(api_url_products, file_path)"
      ]
    },
    {
      "cell_type": "markdown",
      "metadata": {
        "id": "vez6ld7gZoLp"
      },
      "source": [
        "**Output:**\n",
        "products_information.json should be created along with data in your computer."
      ]
    },
    {
      "cell_type": "markdown",
      "metadata": {
        "id": "oBoGG-09Qv8_"
      },
      "source": [
        "**Explanation of the above example:**\n",
        "\n",
        "Created a function called **fetch_and_save_json_data()** that takes the API URL and file path as arguments. This function encapsulates the entire process of fetching data and saving it to a file.\n",
        "\n",
        "Inside the function:\n",
        "\n",
        "- Use a try block to handle potential exceptions and errors during the process.\n",
        "\n",
        "- Send an HTTP GET request to the specified API endpoint using requests.get(api_url). This retrieves the data from the API.\n",
        "\n",
        "- Check if the request was successful by examining the status code (response.status_code). If it's 200, the request was successful.\n",
        "\n",
        "- If the request is successful:\n",
        "\n",
        "- - Parse the JSON data from the response using response.json().\n",
        "Open the specified file in write mode (\"w\") using a context manager with open(file_path, \"w\").\n",
        "- - Use json.dump(data, json_file, indent=4) to write the JSON data to the file with an indentation of 4 spaces.\n",
        "Print a success message indicating that the data has been written to the file.\n",
        "If the request is not successful (status code other than 200), print an error message indicating the failure.\n",
        "\n",
        "- Use except blocks to catch and handle different types of exceptions:\n",
        "- - **requests.exceptions.RequestException** - for handling exceptions related to the HTTP request itself, like network issues or timeouts.\n",
        "\n",
        "- - **json.JSONDecodeError** - for handling errors that occur while parsing the JSON response.\n",
        "\n",
        "- - **FileNotFoundError** - for handling errors related to writing the JSON data to the file.\n",
        "\n",
        "- - A generic Exception block to catch unexpected errors."
      ]
    },
    {
      "cell_type": "markdown",
      "metadata": {
        "id": "7z_r6Sk-U-RW"
      },
      "source": [
        "\n",
        "\n",
        "---\n",
        "\n"
      ]
    },
    {
      "cell_type": "markdown",
      "metadata": {
        "id": "Me90xGJKU-9F"
      },
      "source": [
        "## **Example: Searching for Products from API endpoint**\n",
        "- The endpoint Api is:  https://dummyjson.com/products/search?q=Oil\n",
        "\n",
        "- We can search product by any keyword, lets search products by \"Oil\" keyword"
      ]
    },
    {
      "cell_type": "markdown",
      "metadata": {
        "id": "fc4t96Y_WAPI"
      },
      "source": [
        "The following example sends an HTTP GET request to the **https://dummyjson.com/products/search?q=Oil** API endpoint, we will retrieve products related to a `Oil` keyword.\n"
      ]
    },
    {
      "cell_type": "code",
      "execution_count": 7,
      "metadata": {
        "id": "KA8yYlIjUwR_"
      },
      "outputs": [
        {
          "name": "stdout",
          "output_type": "stream",
          "text": [
            "{\n",
            "  \"products\": [\n",
            "    {\n",
            "      \"id\": 20,\n",
            "      \"title\": \"Cooking Oil\",\n",
            "      \"description\": \"Versatile cooking oil suitable for frying, saut\\u00e9ing, and various culinary applications.\",\n",
            "      \"category\": \"groceries\",\n",
            "      \"price\": 4.99,\n",
            "      \"discountPercentage\": 18.89,\n",
            "      \"rating\": 4.01,\n",
            "      \"stock\": 22,\n",
            "      \"tags\": [\n",
            "        \"cooking essentials\"\n",
            "      ],\n",
            "      \"sku\": \"Q6ZP1UY8\",\n",
            "      \"weight\": 8,\n",
            "      \"dimensions\": {\n",
            "        \"width\": 8.18,\n",
            "        \"height\": 27.45,\n",
            "        \"depth\": 27.88\n",
            "      },\n",
            "      \"warrantyInformation\": \"Lifetime warranty\",\n",
            "      \"shippingInformation\": \"Ships in 1 month\",\n",
            "      \"availabilityStatus\": \"In Stock\",\n",
            "      \"reviews\": [\n",
            "        {\n",
            "          \"rating\": 5,\n",
            "          \"comment\": \"Would buy again!\",\n",
            "          \"date\": \"2024-05-23T08:56:21.620Z\",\n",
            "          \"reviewerName\": \"Mason Parker\",\n",
            "          \"reviewerEmail\": \"mason.parker@x.dummyjson.com\"\n",
            "        },\n",
            "        {\n",
            "          \"rating\": 3,\n",
            "          \"comment\": \"Poor quality!\",\n",
            "          \"date\": \"2024-05-23T08:56:21.620Z\",\n",
            "          \"reviewerName\": \"Jonathan Pierce\",\n",
            "          \"reviewerEmail\": \"jonathan.pierce@x.dummyjson.com\"\n",
            "        },\n",
            "        {\n",
            "          \"rating\": 5,\n",
            "          \"comment\": \"Would buy again!\",\n",
            "          \"date\": \"2024-05-23T08:56:21.620Z\",\n",
            "          \"reviewerName\": \"Alexander Hernandez\",\n",
            "          \"reviewerEmail\": \"alexander.hernandez@x.dummyjson.com\"\n",
            "        }\n",
            "      ],\n",
            "      \"returnPolicy\": \"60 days return policy\",\n",
            "      \"minimumOrderQuantity\": 2,\n",
            "      \"meta\": {\n",
            "        \"createdAt\": \"2024-05-23T08:56:21.620Z\",\n",
            "        \"updatedAt\": \"2024-05-23T08:56:21.620Z\",\n",
            "        \"barcode\": \"6707669443381\",\n",
            "        \"qrCode\": \"https://assets.dummyjson.com/public/qr-code.png\"\n",
            "      },\n",
            "      \"images\": [\n",
            "        \"https://cdn.dummyjson.com/products/images/groceries/Cooking%20Oil/1.png\"\n",
            "      ],\n",
            "      \"thumbnail\": \"https://cdn.dummyjson.com/products/images/groceries/Cooking%20Oil/thumbnail.png\"\n",
            "    },\n",
            "    {\n",
            "      \"id\": 55,\n",
            "      \"title\": \"Egg Slicer\",\n",
            "      \"description\": \"The Egg Slicer is a convenient tool for slicing boiled eggs evenly. It's perfect for salads, sandwiches, and other dishes where sliced eggs are desired.\",\n",
            "      \"category\": \"kitchen-accessories\",\n",
            "      \"price\": 6.99,\n",
            "      \"discountPercentage\": 9.6,\n",
            "      \"rating\": 2.91,\n",
            "      \"stock\": 30,\n",
            "      \"tags\": [\n",
            "        \"kitchen tools\",\n",
            "        \"slicers\"\n",
            "      ],\n",
            "      \"sku\": \"WG4L41YK\",\n",
            "      \"weight\": 5,\n",
            "      \"dimensions\": {\n",
            "        \"width\": 17.18,\n",
            "        \"height\": 11.58,\n",
            "        \"depth\": 11.79\n",
            "      },\n",
            "      \"warrantyInformation\": \"5 year warranty\",\n",
            "      \"shippingInformation\": \"Ships in 1 week\",\n",
            "      \"availabilityStatus\": \"In Stock\",\n",
            "      \"reviews\": [\n",
            "        {\n",
            "          \"rating\": 5,\n",
            "          \"comment\": \"Excellent quality!\",\n",
            "          \"date\": \"2024-05-23T08:56:21.621Z\",\n",
            "          \"reviewerName\": \"Ava Taylor\",\n",
            "          \"reviewerEmail\": \"ava.taylor@x.dummyjson.com\"\n",
            "        },\n",
            "        {\n",
            "          \"rating\": 1,\n",
            "          \"comment\": \"Very unhappy with my purchase!\",\n",
            "          \"date\": \"2024-05-23T08:56:21.621Z\",\n",
            "          \"reviewerName\": \"Nicholas Edwards\",\n",
            "          \"reviewerEmail\": \"nicholas.edwards@x.dummyjson.com\"\n",
            "        },\n",
            "        {\n",
            "          \"rating\": 5,\n",
            "          \"comment\": \"Great product!\",\n",
            "          \"date\": \"2024-05-23T08:56:21.621Z\",\n",
            "          \"reviewerName\": \"David Martinez\",\n",
            "          \"reviewerEmail\": \"david.martinez@x.dummyjson.com\"\n",
            "        }\n",
            "      ],\n",
            "      \"returnPolicy\": \"60 days return policy\",\n",
            "      \"minimumOrderQuantity\": 23,\n",
            "      \"meta\": {\n",
            "        \"createdAt\": \"2024-05-23T08:56:21.621Z\",\n",
            "        \"updatedAt\": \"2024-05-23T08:56:21.621Z\",\n",
            "        \"barcode\": \"1537527680664\",\n",
            "        \"qrCode\": \"https://assets.dummyjson.com/public/qr-code.png\"\n",
            "      },\n",
            "      \"images\": [\n",
            "        \"https://cdn.dummyjson.com/products/images/kitchen-accessories/Egg%20Slicer/1.png\"\n",
            "      ],\n",
            "      \"thumbnail\": \"https://cdn.dummyjson.com/products/images/kitchen-accessories/Egg%20Slicer/thumbnail.png\"\n",
            "    },\n",
            "    {\n",
            "      \"id\": 71,\n",
            "      \"title\": \"Silver Pot With Glass Cap\",\n",
            "      \"description\": \"The Silver Pot with Glass Cap is a stylish and functional cookware item for boiling, simmering, and preparing delicious meals. Its glass cap allows you to monitor cooking progress.\",\n",
            "      \"category\": \"kitchen-accessories\",\n",
            "      \"price\": 39.99,\n",
            "      \"discountPercentage\": 4.57,\n",
            "      \"rating\": 3.86,\n",
            "      \"stock\": 37,\n",
            "      \"tags\": [\n",
            "        \"cookware\",\n",
            "        \"pots\"\n",
            "      ],\n",
            "      \"sku\": \"BSFNUA3V\",\n",
            "      \"weight\": 9,\n",
            "      \"dimensions\": {\n",
            "        \"width\": 9.58,\n",
            "        \"height\": 25.84,\n",
            "        \"depth\": 26.13\n",
            "      },\n",
            "      \"warrantyInformation\": \"Lifetime warranty\",\n",
            "      \"shippingInformation\": \"Ships in 1 week\",\n",
            "      \"availabilityStatus\": \"In Stock\",\n",
            "      \"reviews\": [\n",
            "        {\n",
            "          \"rating\": 5,\n",
            "          \"comment\": \"Highly impressed!\",\n",
            "          \"date\": \"2024-05-23T08:56:21.622Z\",\n",
            "          \"reviewerName\": \"Addison Wright\",\n",
            "          \"reviewerEmail\": \"addison.wright@x.dummyjson.com\"\n",
            "        },\n",
            "        {\n",
            "          \"rating\": 3,\n",
            "          \"comment\": \"Not worth the price!\",\n",
            "          \"date\": \"2024-05-23T08:56:21.622Z\",\n",
            "          \"reviewerName\": \"Ava Taylor\",\n",
            "          \"reviewerEmail\": \"ava.taylor@x.dummyjson.com\"\n",
            "        },\n",
            "        {\n",
            "          \"rating\": 4,\n",
            "          \"comment\": \"Excellent quality!\",\n",
            "          \"date\": \"2024-05-23T08:56:21.622Z\",\n",
            "          \"reviewerName\": \"Avery Scott\",\n",
            "          \"reviewerEmail\": \"avery.scott@x.dummyjson.com\"\n",
            "        }\n",
            "      ],\n",
            "      \"returnPolicy\": \"7 days return policy\",\n",
            "      \"minimumOrderQuantity\": 19,\n",
            "      \"meta\": {\n",
            "        \"createdAt\": \"2024-05-23T08:56:21.622Z\",\n",
            "        \"updatedAt\": \"2024-05-23T08:56:21.622Z\",\n",
            "        \"barcode\": \"6630860592730\",\n",
            "        \"qrCode\": \"https://assets.dummyjson.com/public/qr-code.png\"\n",
            "      },\n",
            "      \"images\": [\n",
            "        \"https://cdn.dummyjson.com/products/images/kitchen-accessories/Silver%20Pot%20With%20Glass%20Cap/1.png\"\n",
            "      ],\n",
            "      \"thumbnail\": \"https://cdn.dummyjson.com/products/images/kitchen-accessories/Silver%20Pot%20With%20Glass%20Cap/thumbnail.png\"\n",
            "    }\n",
            "  ],\n",
            "  \"total\": 3,\n",
            "  \"skip\": 0,\n",
            "  \"limit\": 3\n",
            "}\n"
          ]
        }
      ],
      "source": [
        "import requests\n",
        "import json\n",
        "\n",
        "def fetch_and_print_json_data(api_url):\n",
        "    try:\n",
        "        # Make an HTTP GET request to the API\n",
        "        response = requests.get(api_url)\n",
        "\n",
        "        # Check if the request was successful (status code 200)\n",
        "        if response.status_code == 200:\n",
        "            # Parse the JSON data from the response\n",
        "            json_data = response.json()\n",
        "            json_data = json.dumps(json_data, indent=2) # ---------------- i imported json and added this functionality to make the json more readable\n",
        "\n",
        "            # Print the retrieved JSON data\n",
        "            print(json_data)\n",
        "        else:\n",
        "            print(f\"Failed to retrieve data. Status code: {response.status_code}\")\n",
        "    except requests.exceptions.RequestException as e:\n",
        "        print(f\"An error occurred during the request: {e}\")\n",
        "    except json.JSONDecodeError as e:\n",
        "        print(f\"An error occurred while parsing the JSON response: {e}\")\n",
        "    except Exception as e:\n",
        "        print(f\"An unexpected error occurred: {e}\")\n",
        "\n",
        "# Define the API endpoint URL\n",
        "api_url = \"https://dummyjson.com/products/search?q=Oil\"\n",
        "\n",
        "# Call the function to fetch and print JSON data\n",
        "fetch_and_print_json_data(api_url)"
      ]
    },
    {
      "cell_type": "markdown",
      "metadata": {
        "id": "5kMoYKKlVfvD"
      },
      "source": [
        "**Explanation of the above example:**\n",
        "\n",
        "A function named fetch_and_print_json_data that takes the API URL as an argument was created. This function encapsulates the entire process of fetching and printing JSON data.\n",
        "\n",
        "Inside the function:\n",
        "\n",
        "- Use a try block to handle potential exceptions and errors during the process.\n",
        "\n",
        "- Send an HTTP GET request to the specified API endpoint using requests.get(api_url). This retrieves the data from the API.\n",
        "\n",
        "- Check if the request was successful by examining the status code (response.status_code). If it is 200, the request was successful.\n",
        "\n",
        "If the request is successful:\n",
        "\n",
        "- Parse the JSON data from the response using response.json().\n",
        "- Print the retrieved JSON data.\n",
        "- If the request is not successful (status code other than 200), print an error message indicating the failure.\n",
        "\n",
        "- Use except blocks to catch and handle different types of exceptions:\n",
        "\n",
        "- **requests.exceptions.RequestException:** Handles exceptions related to the HTTP request itself (e.g., network issues).\n",
        "json.JSONDecodeError: Handles errors that occur while parsing the JSON response.\n",
        "A generic Exception block to catch any unexpected errors.\n",
        "After defining the function, specify the API URL where you want to fetch JSON data:\n",
        "\n",
        "- api_url is set to \"https://dummyjson.com/products/search?q=Oil\".\n",
        "Call the fetch_and_print_json_data function with the API URL as an argument to initiate the process of fetching and printing the data.\n",
        "\n",
        "The function encapsulates the entire process, making it easy to fetch and print JSON data from different API endpoints by calling the function with the desired URL."
      ]
    },
    {
      "cell_type": "markdown",
      "metadata": {
        "id": "Bn7kwAhdUy0R"
      },
      "source": [
        "## **Submission**\n",
        "- Submit your completed lab using the Start Assignment button on the assignment page in Canvas.\n",
        "- Your submission can be include:\n",
        "  - if you are using notebook then, all tasks should be written and submitted in a single notebook file, for example: (**your_name_labname.ipynb**).\n",
        "  - if you are using python script file, all tasks should be written and submitted in a single python script file for example: **(your_name_labname.py)**.\n",
        "- Add appropriate comments and any additional instructions if required.\n"
      ]
    }
  ],
  "metadata": {
    "colab": {
      "provenance": []
    },
    "kernelspec": {
      "display_name": "venv",
      "language": "python",
      "name": "python3"
    },
    "language_info": {
      "codemirror_mode": {
        "name": "ipython",
        "version": 3
      },
      "file_extension": ".py",
      "mimetype": "text/x-python",
      "name": "python",
      "nbconvert_exporter": "python",
      "pygments_lexer": "ipython3",
      "version": "3.12.0"
    }
  },
  "nbformat": 4,
  "nbformat_minor": 0
}
