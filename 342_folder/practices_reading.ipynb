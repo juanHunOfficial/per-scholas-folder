{
 "cells": [
  {
   "cell_type": "markdown",
   "id": "63ad535c",
   "metadata": {},
   "source": [
    "# Reading a file and printing to the screen"
   ]
  },
  {
   "cell_type": "code",
   "execution_count": 8,
   "id": "4d68357b",
   "metadata": {},
   "outputs": [
    {
     "name": "stdout",
     "output_type": "stream",
     "text": [
      "0\n",
      "How Python Handles Files?\n",
      "\n",
      "27\n",
      "If you are working in a large software application where they process a large amount\n",
      "\n",
      "113\n",
      "of data, then we cannot expect that data to be stored in a variable as the variables are\n",
      "\n",
      "969\n",
      "volatile in nature.\n",
      "\n",
      "969\n",
      "\n",
      "\n",
      "969\n",
      "Hence when you are about to handle such situations, the role of files will come into\n",
      "\n",
      "969\n",
      "the picture.\n",
      "\n",
      "969\n",
      "\n",
      "\n",
      "969\n",
      "As files are non-volatile in nature, the data will be stored permanently in a secondary\n",
      "\n",
      "969\n",
      "device like Hard Disk and using python we will handle these files in our applications.\n",
      "\n",
      "969\n",
      "\n",
      "\n",
      "969\n",
      "Are you thinking about how python will handle files?\n",
      "\n",
      "969\n",
      "\n",
      "\n",
      "969\n",
      "Let’s take an Example of how normal people will handle the files. If we want to read\n",
      "\n",
      "969\n",
      "the data from a file or write the data into a file, then, first of all, we will open the file\n",
      "\n",
      "969\n",
      "or will create a new file if the file does not exist and then perform the normal\n",
      "\n",
      "969\n",
      "read/write operations, save the file and close it.\n",
      "\n",
      "969\n",
      "\n",
      "\n",
      "969\n",
      "Similarly, we do the same operations in python using some in-built methods or\n",
      "\n",
      "969\n",
      "functions.\n",
      "969\n"
     ]
    }
   ],
   "source": [
    "with open('my_file.txt', mode= 'r+') as file:\n",
    "    print(file.tell())\n",
    "    print(file.readline())\n",
    "    print(file.tell())\n",
    "    print(file.readline())\n",
    "    print(file.tell())\n",
    "    for line in file.readlines():\n",
    "        print(line)\n",
    "        print(file.tell())"
   ]
  },
  {
   "cell_type": "markdown",
   "id": "d45ffaff",
   "metadata": {},
   "source": [
    "# Writing to a file"
   ]
  },
  {
   "cell_type": "code",
   "execution_count": null,
   "id": "d3ff73ee",
   "metadata": {},
   "outputs": [],
   "source": [
    "names = ['Juan', 'Alyssa', 'Mateo', 'Isabella', 'Eliana']\n",
    "\n",
    "with open('name.txt', 'w') as file:\n",
    "    file.write('\\n'.join(names))\n"
   ]
  },
  {
   "cell_type": "markdown",
   "id": "a6376a63",
   "metadata": {},
   "source": [
    "# Writing to a file by low level automation"
   ]
  },
  {
   "cell_type": "code",
   "execution_count": 11,
   "id": "be7c7d83",
   "metadata": {},
   "outputs": [
    {
     "name": "stdout",
     "output_type": "stream",
     "text": [
      "A file has been written.\n"
     ]
    }
   ],
   "source": [
    "def auto_writer(file_path: str, items_to_write: list) -> None:\n",
    "    try:\n",
    "        with open(file_path, 'w') as file:\n",
    "            file.write('\\n'.join(items_to_write))\n",
    "        print(\"A file has been written.\")\n",
    "    except Exception as e:\n",
    "        print(f\"An error occurred: {str(e)}\")\n",
    "\n",
    "names = ['Juan', 'Alyssa', 'Mateo', 'Isabella', 'Eliana']\n",
    "auto_writer('test_auto_write.txt', names)"
   ]
  }
 ],
 "metadata": {
  "kernelspec": {
   "display_name": "venv",
   "language": "python",
   "name": "python3"
  },
  "language_info": {
   "codemirror_mode": {
    "name": "ipython",
    "version": 3
   },
   "file_extension": ".py",
   "mimetype": "text/x-python",
   "name": "python",
   "nbconvert_exporter": "python",
   "pygments_lexer": "ipython3",
   "version": "3.12.0"
  }
 },
 "nbformat": 4,
 "nbformat_minor": 5
}
