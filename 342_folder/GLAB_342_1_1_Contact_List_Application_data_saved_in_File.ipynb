{
  "cells": [
    {
      "cell_type": "markdown",
      "metadata": {
        "id": "W3nshM5SVtnP"
      },
      "source": [
        "# **Guided Lab 342.1.1 - Contact List Application Data Saved in File**"
      ]
    },
    {
      "cell_type": "markdown",
      "metadata": {
        "id": "iYCqXn74fDwy"
      },
      "source": [
        "## **Learning Objective:**\n",
        "\n",
        "- Describe the basics of file handling in Python, including reading from and writing to text files.\n",
        "- Use of the with statement for file handling and the modes (\"a\" for append, \"r\" for read).\n",
        "- Demonstrate the use of the input() function to receive user input for contact information (name and phone number).\n",
        "- Handle and validate user inputs to ensure correctness and completeness.\n",
        "- Create and Modify Text Files.\n",
        "- To read and display the contents text file.\n",
        "- Implement user-friendly messages to provide feedback on actions performed.\n",
        "- Organize code into functions.\n",
        "- Use the if __name__ == \"__main__\": construct to ensure that the main() function is executed only when the script is run directly."
      ]
    },
    {
      "cell_type": "markdown",
      "metadata": {
        "id": "67vyGkGlRO6Y"
      },
      "source": [
        "## **Lab Overview**\n",
        "\n",
        "This lab focuses on building a simple Contact List Application using Python. You will learn about file handling, including reading from and writing to text files, to store and manage contact information.\n",
        "\n",
        "**Key Concepts:**\n",
        "\n",
        "* **File Handling:**  Learn how to open, read, write, and close files in Python.\n",
        "* **Data Persistence:** Understand how to store data in files, allowing your application to remember information between uses.\n",
        "* **User Input:**  Practice collecting user input to add new contacts.\n",
        "* **Error Handling:** Implement basic error handling to manage potential issues like missing files.\n",
        "* **Modular Design:** Structure your code using functions to improve organization and reusability.\n",
        "\n",
        "\n",
        " Here is a real-world example of Python file handling that simulates a simple contact list application. It allows you to add, view, and manage contact information by reading from and writing to a text file.\n",
        "\n",
        " ## **Application Features:**\n",
        "\n",
        "The Contact List Application will allow users to:\n",
        "\n",
        "1. **Add Contact:**  Enter a new contact's name and phone number, which will be saved to a file.\n",
        "2. **View Contacts:** Display the list of saved contacts.\n",
        "3. **Quit:** Exit the application."
      ]
    },
    {
      "cell_type": "code",
      "execution_count": null,
      "metadata": {
        "id": "UqNqyM9ERFta"
      },
      "outputs": [
        {
          "name": "stdout",
          "output_type": "stream",
          "text": [
            "\n",
            "Contact List Application\n",
            "1. Add Contact\n",
            "2. View Contacts\n",
            "3. Quit\n",
            "Juan has been added to your contacts!\n",
            "\n",
            "Contact List Application\n",
            "1. Add Contact\n",
            "2. View Contacts\n",
            "3. Quit\n",
            "Goodbye!\n"
          ]
        }
      ],
      "source": [
        "# Contact List Application\n",
        "\n",
        "def add_contact():\n",
        "    name = input(\"Enter the contact's name: \")\n",
        "    phone = input(\"Enter the contact's phone number: \")\n",
        "# Write the contact to the file\n",
        "# do not forget to add a file path\n",
        "    with open(\"contacts.txt\", \"a\") as file:\n",
        "        file.write(f\"{name}: {phone}\\n\")\n",
        "    print(f\"{name} has been added to your contacts!\")\n",
        "\n",
        "def view_contacts():\n",
        "    try:\n",
        "        # Read the contacts from the file\n",
        "        # do not forget to add a file path\n",
        "        with open(\"contacts.txt\", \"r\") as file:\n",
        "          # here we are reading the file line by line\n",
        "            contacts = file.readlines()\n",
        "            # if the file is empty then contacts will be an empty list\n",
        "            if not contacts:\n",
        "                print(\"Your contact list is empty.\")\n",
        "            else:\n",
        "                print(\"Your Contact List:\")\n",
        "                for contact in contacts:\n",
        "                  # here we are removing the new line character\n",
        "                  # and printing the contact\n",
        "                    print(contact, end='')\n",
        "    except FileNotFoundError:\n",
        "        print(\"Your contact list is empty.\")\n",
        "\n",
        "def main():\n",
        "    while True:\n",
        "        print(\"\\nContact List Application\")\n",
        "        print(\"1. Add Contact\")\n",
        "        print(\"2. View Contacts\")\n",
        "        print(\"3. Quit\")\n",
        "        choice = input(\"Enter your choice: \")\n",
        "\n",
        "        if choice == \"1\":\n",
        "            add_contact()\n",
        "        elif choice == \"2\":\n",
        "            view_contacts()\n",
        "        elif choice == \"3\":\n",
        "            print(\"Goodbye!\")\n",
        "            break\n",
        "        else:\n",
        "            print(\"Invalid choice. Please try again.\")\n",
        "# Call the main function\n",
        "if __name__ == \"__main__\": # I looked through all the code, I did not have anything substantial to note or change because it is so air tight. \n",
        "    main()"
      ]
    },
    {
      "cell_type": "markdown",
      "metadata": {
        "id": "Vhvc22XRSAKA"
      },
      "source": [
        "**Explanation:**\n",
        "\n",
        "In this example:\n",
        "\n",
        "* The application offers two main functions: \n",
        "1) adding a contact and \n",
        "2) viewing the contact list.\n",
        "\n",
        "* The add_contact() function prompts the user for a contact name and phone number, and appends this information to a text file named \"contacts.txt.\"\n",
        "\n",
        "* The view_contacts() function reads the contents of \"contacts.txt\" and displays the contact list. If the file is empty or does not exist, it informs the user accordingly.\n",
        "\n",
        "* The main() function serves as the entry point for the application. It presents a menu to the user, allowing the user to choose between adding a contact, viewing contacts, or quitting the application.\n",
        "\n",
        "* The application continues to run in a loop until the user chooses to quit.\n",
        "\n",
        "This real-world example demonstrates how Python's file handling capabilities can be used to create a simple contact list application. It reads and writes data to a text file, allowing users to manage their contacts effectively."
      ]
    },
    {
      "cell_type": "markdown",
      "metadata": {
        "id": "tWPe5lapRj9o"
      },
      "source": [
        "### Note: If you are using Google Colaboratory. The contacts.txt file is created under **`content/`** folder"
      ]
    }
  ],
  "metadata": {
    "colab": {
      "provenance": []
    },
    "kernelspec": {
      "display_name": "venv",
      "language": "python",
      "name": "python3"
    },
    "language_info": {
      "codemirror_mode": {
        "name": "ipython",
        "version": 3
      },
      "file_extension": ".py",
      "mimetype": "text/x-python",
      "name": "python",
      "nbconvert_exporter": "python",
      "pygments_lexer": "ipython3",
      "version": "3.12.0"
    }
  },
  "nbformat": 4,
  "nbformat_minor": 0
}
