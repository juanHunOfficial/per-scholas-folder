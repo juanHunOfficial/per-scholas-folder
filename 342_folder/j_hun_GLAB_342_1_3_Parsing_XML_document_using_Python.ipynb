{
  "cells": [
    {
      "cell_type": "markdown",
      "metadata": {
        "id": "dPa8dDwmlGyn"
      },
      "source": [
        "# **Guided LAB - 342.1.3 - Parsing XML document using Python**\n",
        "\n",
        "---\n",
        "\n"
      ]
    },
    {
      "cell_type": "markdown",
      "metadata": {
        "id": "-5MiNcEylTr-"
      },
      "source": [
        "## **Objective:**\n",
        "\n",
        " In this Python XML Parser lab, you will learn how to parse XML using Python.\n",
        " By the end of lab, learners will be able to:\n",
        "\n",
        " * Read XML document by using python `ElementTree` module.\n",
        " * Use `parse()` function.\n",
        " * Filter elements from XML document."
      ]
    },
    {
      "cell_type": "markdown",
      "metadata": {
        "id": "cv2K70kGJ-7F"
      },
      "source": [
        "## **Instructions:**\n",
        "\n",
        "The **xml.etree.ElementTree** module provides a simple and effective way to parse and create XML data.\n",
        "\n",
        "We can get the list of attributes and their values in the root tag. Once we find the attributes, it helps us navigate the XML tree easily.\n",
        "\n",
        "- The `parse(“file.xml”)` function takes XML file format to parse it. Take a look - The `getroot()` method returns the root element of `‘my_document.xml’`.\n",
        "- We can also filter the results out of the xml tree by using the `findall()` function of this module."
      ]
    },
    {
      "cell_type": "code",
      "execution_count": 2,
      "metadata": {
        "id": "fX2biV9gKDdz"
      },
      "outputs": [
        {
          "name": "stdout",
          "output_type": "stream",
          "text": [
            "collection\n",
            "[]\n"
          ]
        }
      ],
      "source": [
        "import xml.etree.ElementTree as ET\n",
        "\n",
        "# Parse XML file\n",
        "xml_tree = ET.parse('movie.xml')\n",
        "\n",
        "# Get root element\n",
        "xml_root = xml_tree.getroot()\n",
        "\n",
        "# Print root element tag name\n",
        "print(xml_root.tag)\n",
        "\n",
        "# Get the child elements of the root element\n",
        "child = xml_root.findall(\"movie\")\n",
        "print(child)\n",
        "\n"
      ]
    },
    {
      "cell_type": "markdown",
      "metadata": {
        "id": "6MwD6H8PamXn"
      },
      "source": [
        "- `root.tag` will return the tag name of the XML element represented by the root variable, as shown in the below code example.\n",
        "\n",
        "- `root.attrib` is used to access the attributes of an XML element, as shown in the below code example.\n",
        "\n",
        "**For loop**\n",
        "- You can easily iterate over subelements (commonly called \"children\") in the root by using a simple \"for\" loop, as shown in the below code example."
      ]
    },
    {
      "cell_type": "code",
      "execution_count": 3,
      "metadata": {
        "id": "yJ_qW4omiBXg"
      },
      "outputs": [
        {
          "name": "stdout",
          "output_type": "stream",
          "text": [
            "print name of the Child Elements:\n",
            "genre {'category': 'Action'}\n",
            "genre {'category': 'Thriller'}\n"
          ]
        }
      ],
      "source": [
        "print('print name of the Child Elements:')\n",
        "for child in xml_root:\n",
        "      print(child.tag, child.attrib)"
      ]
    },
    {
      "cell_type": "markdown",
      "metadata": {
        "id": "Nd_TCnz4jP8p"
      },
      "source": [
        "Now you know that the children of the root collection are all genre. To designate the genre, the XML uses the attribute category. There are Action, Thriller, and Comedy movies according the genre element.\n",
        "\n",
        "Typically it is helpful to know all the elements in the entire tree. One useful function for doing that is **`root.iter()`**. You can put this function into a `for` loop and it will iterate over the entire tree."
      ]
    },
    {
      "cell_type": "code",
      "execution_count": 4,
      "metadata": {
        "id": "aBoBZqmyi3MA"
      },
      "outputs": [
        {
          "data": {
            "text/plain": [
              "['collection',\n",
              " 'genre',\n",
              " 'decade',\n",
              " 'movie',\n",
              " 'format',\n",
              " 'year',\n",
              " 'rating',\n",
              " 'description',\n",
              " 'movie',\n",
              " 'format',\n",
              " 'year',\n",
              " 'rating',\n",
              " 'description',\n",
              " 'movie',\n",
              " 'format',\n",
              " 'year',\n",
              " 'rating',\n",
              " 'description',\n",
              " 'decade',\n",
              " 'movie',\n",
              " 'format',\n",
              " 'year',\n",
              " 'rating',\n",
              " 'description',\n",
              " 'movie',\n",
              " 'format',\n",
              " 'year',\n",
              " 'rating',\n",
              " 'description',\n",
              " 'movie',\n",
              " 'format',\n",
              " 'year',\n",
              " 'rating',\n",
              " 'description',\n",
              " 'genre',\n",
              " 'decade',\n",
              " 'movie',\n",
              " 'format',\n",
              " 'year',\n",
              " 'rating',\n",
              " 'description',\n",
              " 'decade',\n",
              " 'movie',\n",
              " 'format',\n",
              " 'year',\n",
              " 'rating',\n",
              " 'description',\n",
              " 'movie',\n",
              " 'format',\n",
              " 'year',\n",
              " 'rating',\n",
              " 'description']"
            ]
          },
          "execution_count": 4,
          "metadata": {},
          "output_type": "execute_result"
        }
      ],
      "source": [
        "[elem.tag for elem in xml_root.iter()]"
      ]
    },
    {
      "cell_type": "markdown",
      "metadata": {
        "id": "svg6wF9RjtB_"
      },
      "source": [
        "This gives a general notion for how many elements you have, but it does not show the attributes or levels in the tree.\n",
        "\n",
        "There is a helpful way to see the whole document. Any element has a `.tostring()` method. If you pass the root into the `.tostring()` method, you can return the whole document. Within `ElementTree` (remember aliased as `ET`), `.tostring()` takes a slightly strange form.\n",
        "\n",
        "Since ElementTree is a powerful library that can interpret more than just XML, you must specify both the encoding and decoding of the document you are displaying as the string. For XMLs, use `utf8` - this is the typical document format type for an XML."
      ]
    },
    {
      "cell_type": "code",
      "execution_count": 5,
      "metadata": {
        "id": "t-I8g3g1jcW_"
      },
      "outputs": [
        {
          "name": "stdout",
          "output_type": "stream",
          "text": [
            "<?xml version='1.0' encoding='utf8'?>\n",
            "<collection>\n",
            "    <genre category=\"Action\">\n",
            "        <decade years=\"1980s\">\n",
            "            <movie favorite=\"True\" title=\"Indiana Jones: The raiders of the lost Ark\">\n",
            "                <format multiple=\"No\">DVD</format>\n",
            "                <year>1981</year>\n",
            "                <rating>PG</rating>\n",
            "                <description>\n",
            "                'Archaeologist and adventurer Indiana Jones \n",
            "                is hired by the U.S. government to find the Ark of the \n",
            "                Covenant before the Nazis.'\n",
            "                </description>\n",
            "            </movie>\n",
            "            <movie favorite=\"True\" title=\"THE KARATE KID\">\n",
            "                <format multiple=\"Yes\">DVD,Online</format>\n",
            "                <year>1984</year>\n",
            "                <rating>PG</rating>\n",
            "                <description>None provided.</description>\n",
            "            </movie>\n",
            "            <movie favorite=\"False\" title=\"Back 2 the Future\">\n",
            "                <format multiple=\"False\">Blu-ray</format>\n",
            "                <year>1985</year>\n",
            "                <rating>PG</rating>\n",
            "                <description>Marty McFly</description>\n",
            "            </movie>\n",
            "        </decade>\n",
            "        <decade years=\"1990s\">\n",
            "            <movie favorite=\"False\" title=\"X-Men\">\n",
            "                <format multiple=\"Yes\">dvd, digital</format>\n",
            "                <year>2000</year>\n",
            "                <rating>PG-13</rating>\n",
            "                <description>Two mutants come to a private academy for their kind whose resident superhero team must oppose a terrorist organization with similar powers.</description>\n",
            "            </movie>\n",
            "            <movie favorite=\"True\" title=\"Batman Returns\">\n",
            "                <format multiple=\"No\">VHS</format>\n",
            "                <year>1992</year>\n",
            "                <rating>PG13</rating>\n",
            "                <description>NA.</description>\n",
            "            </movie>\n",
            "            <movie favorite=\"False\" title=\"Reservoir Dogs\">\n",
            "                <format multiple=\"No\">Online</format>\n",
            "                <year>1992</year>\n",
            "                <rating>R</rating>\n",
            "                <description>WhAtEvER I Want!!!?!</description>\n",
            "            </movie>\n",
            "        </decade>\n",
            "    </genre>\n",
            "    <genre category=\"Thriller\">\n",
            "        <decade years=\"1970s\">\n",
            "            <movie favorite=\"False\" title=\"ALIEN\">\n",
            "                <format multiple=\"Yes\">DVD</format>\n",
            "                <year>1979</year>\n",
            "                <rating>R</rating>\n",
            "                <description>fhfdh</description>\n",
            "            </movie>\n",
            "        </decade>\n",
            "        <decade years=\"1980s\">\n",
            "            <movie favorite=\"True\" title=\"Ferris Bueller's Day Off\">\n",
            "                <format multiple=\"No\">DVD</format>\n",
            "                <year>1986</year>\n",
            "                <rating>PG13</rating>\n",
            "                <description>Funny movie about a funny guy</description>\n",
            "            </movie>\n",
            "            <movie favorite=\"FALSE\" title=\"American Psycho\">\n",
            "                <format multiple=\"No\">blue-ray</format>\n",
            "                <year>2000</year>\n",
            "                <rating>Unrated</rating>\n",
            "                <description>psychopathic Bateman</description>\n",
            "            </movie>\n",
            "        </decade>\n",
            "    </genre>\n",
            "</collection>\n"
          ]
        }
      ],
      "source": [
        "print(ET.tostring(xml_root, encoding='utf8').decode('utf8'))"
      ]
    },
    {
      "cell_type": "markdown",
      "metadata": {
        "id": "Nn4BFXYzjxPX"
      },
      "source": [
        "You can expand the use of the `iter()` function to help with finding particular elements of interest. `root.iter()` will list all subelements under the root that match the element specified. Here, you will list all attributes of the movie element in the tree:"
      ]
    },
    {
      "cell_type": "code",
      "execution_count": 6,
      "metadata": {
        "id": "yvtTgTEpj0l2"
      },
      "outputs": [
        {
          "name": "stdout",
          "output_type": "stream",
          "text": [
            "{'favorite': 'True', 'title': 'Indiana Jones: The raiders of the lost Ark'}\n",
            "{'favorite': 'True', 'title': 'THE KARATE KID'}\n",
            "{'favorite': 'False', 'title': 'Back 2 the Future'}\n",
            "{'favorite': 'False', 'title': 'X-Men'}\n",
            "{'favorite': 'True', 'title': 'Batman Returns'}\n",
            "{'favorite': 'False', 'title': 'Reservoir Dogs'}\n",
            "{'favorite': 'False', 'title': 'ALIEN'}\n",
            "{'favorite': 'True', 'title': \"Ferris Bueller's Day Off\"}\n",
            "{'favorite': 'FALSE', 'title': 'American Psycho'}\n"
          ]
        }
      ],
      "source": [
        "for movie in xml_root.iter('movie'):\n",
        "  print(movie.attrib)\n"
      ]
    },
    {
      "cell_type": "markdown",
      "metadata": {
        "id": "0GStOg3MnSNT"
      },
      "source": [
        "## **XPath Expressions**\n",
        "\n",
        "Many times elements will not have attributes, they will only have text content. Using the attribute `.text`, you can print out this content.\n",
        "\n",
        "Now, print out all the descriptions of the movies."
      ]
    },
    {
      "cell_type": "code",
      "execution_count": 7,
      "metadata": {
        "id": "Hqv0egYMnTfM"
      },
      "outputs": [
        {
          "name": "stdout",
          "output_type": "stream",
          "text": [
            "\n",
            "                'Archaeologist and adventurer Indiana Jones \n",
            "                is hired by the U.S. government to find the Ark of the \n",
            "                Covenant before the Nazis.'\n",
            "                \n",
            "None provided.\n",
            "Marty McFly\n",
            "Two mutants come to a private academy for their kind whose resident superhero team must oppose a terrorist organization with similar powers.\n",
            "NA.\n",
            "WhAtEvER I Want!!!?!\n",
            "fhfdh\n",
            "Funny movie about a funny guy\n",
            "psychopathic Bateman\n"
          ]
        }
      ],
      "source": [
        "for description in xml_root.iter('description'):\n",
        "    print(description.text)"
      ]
    },
    {
      "cell_type": "markdown",
      "metadata": {
        "id": "G1ODjkWkngX3"
      },
      "source": [
        "Printing out the XML is helpful, but XPath is a query language used to search through an XML quickly and easily. XPath stands for XML Path Language and uses, as the name suggests, a \"path like\" syntax to identify and navigate nodes in an XML document.\n",
        "\n",
        "Understanding XPath is critically important to scanning and populating XMLs. ElementTree has a `.findall()` function that will traverse the immediate children of the referenced element. You can use XPath expressions to specify more useful searches.\n",
        "\n",
        "Here, you will search the tree for movies that came out in 1992:"
      ]
    },
    {
      "cell_type": "code",
      "execution_count": 8,
      "metadata": {
        "id": "NJxFIxClnjvX"
      },
      "outputs": [
        {
          "name": "stdout",
          "output_type": "stream",
          "text": [
            "{'favorite': 'True', 'title': 'Batman Returns'}\n",
            "{'favorite': 'False', 'title': 'Reservoir Dogs'}\n"
          ]
        }
      ],
      "source": [
        "for movie in xml_root.findall(\"./genre/decade/movie/[year='1992']\"):\n",
        "    print(movie.attrib)"
      ]
    },
    {
      "cell_type": "markdown",
      "metadata": {
        "id": "t0K8PfEonpKe"
      },
      "source": [
        "The function `.findall()` always begins at the element specified. This type of function is extremely powerful for a \"find and replace\". You can even search on attributes!\n",
        "\n",
        "Now, print out only the movies that are available in multiple formats (an attribute)."
      ]
    },
    {
      "cell_type": "code",
      "execution_count": 23,
      "metadata": {
        "id": "nGT_tNRVnrBR"
      },
      "outputs": [
        {
          "name": "stdout",
          "output_type": "stream",
          "text": [
            "{'favorite': 'True', 'title': 'THE KARATE KID'}\n",
            "{'favorite': 'False', 'title': 'X-Men'}\n",
            "{'favorite': 'False', 'title': 'ALIEN'}\n"
          ]
        }
      ],
      "source": [
        "for movie in xml_root.findall(\"./genre/decade/movie/format/[@multiple='Yes']...\"):\n",
        "    print(movie.attrib)"
      ]
    },
    {
      "cell_type": "markdown",
      "metadata": {
        "id": "hzenXXaVnzSY"
      },
      "source": [
        "Brainstorm why, in this case, the print statement returns the \"Yes\" values of multiple. Think about how the \"for\" loop is defined. Could you rewrite this loop to print out the movie titles instead? Try it below:\n",
        "\n",
        "Tip: use `...` inside of XPath to return the parent element of the current element."
      ]
    },
    {
      "cell_type": "code",
      "execution_count": 40,
      "metadata": {
        "id": "8Ogb-gUNn1Ey"
      },
      "outputs": [
        {
          "name": "stdout",
          "output_type": "stream",
          "text": [
            "{'favorite': 'True', 'title': 'Indiana Jones: The raiders of the lost Ark'}\n",
            "{'favorite': 'True', 'title': 'THE KARATE KID'}\n",
            "{'favorite': 'True', 'title': 'Batman Returns'}\n",
            "{'favorite': 'True', 'title': \"Ferris Bueller's Day Off\"}\n"
          ]
        }
      ],
      "source": [
        "for movie in xml_root.findall(\"./genre/decade/movie/[@favorite='True']\"): # ---------- the functionality of this line i played with a little bit more to get a better grasp as to how to use it. \n",
        "    print(movie.attrib)\n"
      ]
    }
  ],
  "metadata": {
    "colab": {
      "provenance": []
    },
    "kernelspec": {
      "display_name": "venv",
      "language": "python",
      "name": "python3"
    },
    "language_info": {
      "codemirror_mode": {
        "name": "ipython",
        "version": 3
      },
      "file_extension": ".py",
      "mimetype": "text/x-python",
      "name": "python",
      "nbconvert_exporter": "python",
      "pygments_lexer": "ipython3",
      "version": "3.12.0"
    }
  },
  "nbformat": 4,
  "nbformat_minor": 0
}
