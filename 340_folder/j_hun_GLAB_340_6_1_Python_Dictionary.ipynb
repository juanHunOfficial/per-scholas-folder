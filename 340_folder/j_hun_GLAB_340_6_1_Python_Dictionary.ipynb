{
  "cells": [
    {
      "cell_type": "markdown",
      "metadata": {
        "id": "iU_1G2_7GNqo"
      },
      "source": [
        "#**Guided LAB - 340.6.1 - Python Dictionary**\n",
        "\n",
        "---\n",
        "\n"
      ]
    },
    {
      "cell_type": "markdown",
      "metadata": {
        "id": "sWm2WnSFGn54"
      },
      "source": [
        "# **Learning Objective**\n",
        "By the end of this lab, Learner will be able to create a function and utilize the dictionay with in the function.\n",
        "\n",
        "# **Lab Overview:**\n",
        "\n",
        "This lab aims to teach you how to create and use Python dictionaries within functions. You will learn how to iterate through dictionary items (key-value pairs) and use them to generate formatted strings.\n",
        "\n",
        "The lab presents a practical scenario where you need to describe a network of servers by providing their hostnames and corresponding IP addresses. You will achieve this by creating a function called network that accepts a dictionary of servers as input."
      ]
    },
    {
      "cell_type": "markdown",
      "metadata": {
        "id": "emq7Qd7cEGS6"
      },
      "source": [
        "## **Example 1: Using dictionary methods:**\n",
        "\n",
        "The objective of this Python code is to define a function called network that accepts a dictionary named servers as a parameter. The function's purpose is to iterate through the items (key-value pairs) in the dictionary and generate a string that describes the hostname and IP address of each server. The code aims to demonstrate how to work with dictionaries and generate descriptive strings, and it provides an example by calling the function with a dictionary and printing the result.\n"
      ]
    },
    {
      "cell_type": "code",
      "execution_count": 1,
      "metadata": {
        "id": "g3okUg3tEmXN"
      },
      "outputs": [
        {
          "name": "stdout",
          "output_type": "stream",
          "text": [
            "The IP address of the Domain Name Server server is 8.8.8.8\n",
            "The IP address of the Gateway Server server is 192.168.1.1\n",
            "The IP address of the Print Server server is 192.168.1.33\n",
            "The IP address of the Mail Server server is 192.168.1.190\n",
            "\n"
          ]
        }
      ],
      "source": [
        "# The network() function accepts a dictionary \"servers\" as a parameter.\n",
        "def network(servers):\n",
        "\n",
        "    # A string variable is initialized to hold the \"result\".\n",
        "    result = \"\"\n",
        "\n",
        "    # For each \"hostname\" (key) and \"IP address\" (value) in the \"server\" dictionary items...\n",
        "    for hostname, IP_address in servers.items():\n",
        "\n",
        "        # A string identifying the hostname and IP address for each server is added\n",
        "        # to the \"result\" variable. The string .format() function and is used to plug\n",
        "        # the hostname and IP_address variables into the designated {} placeholders\n",
        "        # within the string.\n",
        "        result += \"The IP address of the {} server is {}\".format(hostname, IP_address) + \"\\n\"\n",
        "\n",
        "    # Return the \"result\" variable string.\n",
        "    return result\n",
        "\n",
        "# Call the \"network\" function with the dictionary.\n",
        "print(network({\"Domain Name Server\":\"8.8.8.8\", \"Gateway Server\":\"192.168.1.1\", \"Print Server\":\"192.168.1.33\", \"Mail Server\":\"192.168.1.190\"}))\n",
        "\n",
        "# Should print:\n",
        "# The IP address of the Domain Name Server server is 8.8.8.8\n",
        "# The IP address of the Gateway Server server is 192.168.1.1\n",
        "# The IP address of the Print Server server is 192.168.1.33\n",
        "# The IP address of the Mail Server server is 192.168.1.190\n"
      ]
    },
    {
      "cell_type": "markdown",
      "metadata": {},
      "source": [
        "# My implementation"
      ]
    },
    {
      "cell_type": "code",
      "execution_count": null,
      "metadata": {},
      "outputs": [
        {
          "name": "stdout",
          "output_type": "stream",
          "text": [
            "Chuck's first-born child is named Danny, \n",
            "Juan's first-born child is named Juan, \n",
            "James's first-born child is named Jerry, \n",
            "\n"
          ]
        }
      ],
      "source": [
        "def parents_and_their_kids(families: dict) -> None:\n",
        "    result = ''\n",
        "    for parent, first_child in families.items():\n",
        "        result += f\"{parent.capitalize()}'s first-born child is named {first_child.capitalize()}, \\n\"\n",
        "    \n",
        "    print(result)\n",
        "\n",
        "parents_and_their_kids({\"chuck\": \"danny\", \"juan\" : \"juan\", \"james\" : \"jerry\"})"
      ]
    },
    {
      "cell_type": "markdown",
      "metadata": {
        "id": "uYSyt-rcEzGA"
      },
      "source": [
        "## **Explanation:**\n",
        "\n",
        "The network function is a practical example of how to work with dictionaries and string formatting to create descriptive information. It's designed to provide information about servers and their IP addresses.\n",
        "\n",
        "**Let's break down the code step by step:**\n",
        "\n",
        "**def network(servers):**: This line defines a function named network that takes a single parameter, servers, which is expected to be a dictionary containing server names (hostnames) as keys and their corresponding IP addresses as values.\n",
        "\n",
        "**result = \"\":** Inside the function, a string variable named result is initialized to hold the final result, which will be a string describing the servers and their IP addresses.\n",
        "\n",
        "The code then enters a loop using a for loop to iterate through the items in the servers dictionary. For each item (hostname and IP address), the following actions are performed:\n",
        "\n",
        "**for hostname, IP_address in servers.items():** iterates over each key-value pair in the servers dictionary.\n",
        "\n",
        "**result += \"** The IP address of the {} server is {}\".format(hostname, IP_address) + \"\\n\": For each server, a string is constructed using the format method to include the hostname and IP address within a template string. The result is appended to the result string. The + \"\\n\" at the end adds a newline character to separate each server's information.\n",
        "\n",
        "After iterating through all servers in the dictionary, the result string contains descriptions of all the servers with their respective IP addresses.\n",
        "\n",
        "**return result:** The function returns the result string.\n",
        "\n",
        "**print(network({\"Domain Name Server\": \"8.8.8.8\", \"Gateway Server\": \"192.168.1.1\", ...})):** The code calls the network function with a dictionary containing server names and IP addresses. The result is printed, which should be the server descriptions."
      ]
    },
    {
      "cell_type": "markdown",
      "metadata": {
        "id": "Knf3LirQFOz6"
      },
      "source": [
        "The above code is useful for generating server information reports and can be\n",
        "applied in various scenarios where structured descriptions of items are needed.\n",
        "\n",
        "**Key Concepts covered:**\n",
        "\n",
        "**Dictionaries:** Understanding how to create and manipulate dictionaries in Python.\n",
        "\n",
        "**Functions:** Defining and calling functions to organize code and perform specific tasks.\n",
        "\n",
        "**Iteration:** Using loops to iterate through dictionary items.\n",
        "String Formatting: Using the format method to create formatted strings.\n",
        "\n",
        "\n",
        "\n",
        "---\n",
        "\n"
      ]
    },
    {
      "cell_type": "markdown",
      "metadata": {
        "id": "5OGFiH7cp-Wl"
      },
      "source": [
        "##**Submission Instructions**\n",
        "- Submit your completed lab using the Start Assignment button on the assignment page in Canvas.\n",
        "- Your submission can be include:\n",
        "  - if you are using notebook then, all tasks should be written and submitted in a single notebook file, for example: (**your_name_labname.ipynb**).\n",
        "  - if you are using python script file, all tasks should be written and submitted in a single python script file for example: **(your_name_labname.py)**.\n",
        "- Add appropriate comments and any additional instructions if required.\n"
      ]
    }
  ],
  "metadata": {
    "colab": {
      "provenance": []
    },
    "kernelspec": {
      "display_name": "Python 3",
      "name": "python3"
    },
    "language_info": {
      "codemirror_mode": {
        "name": "ipython",
        "version": 3
      },
      "file_extension": ".py",
      "mimetype": "text/x-python",
      "name": "python",
      "nbconvert_exporter": "python",
      "pygments_lexer": "ipython3",
      "version": "3.13.2"
    }
  },
  "nbformat": 4,
  "nbformat_minor": 0
}
