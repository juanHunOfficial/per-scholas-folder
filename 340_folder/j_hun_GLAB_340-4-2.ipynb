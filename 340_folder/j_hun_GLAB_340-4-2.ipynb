{
 "cells": [
  {
   "cell_type": "markdown",
   "metadata": {},
   "source": [
    "# Intro to the random module"
   ]
  },
  {
   "cell_type": "code",
   "execution_count": 2,
   "metadata": {},
   "outputs": [
    {
     "name": "stdout",
     "output_type": "stream",
     "text": [
      "[34, 50, 86, 13, 0]\n"
     ]
    }
   ],
   "source": [
    "import random\n",
    "\n",
    "\n",
    "# create list of 5 random numbers\n",
    "num_list = random.sample(range(100), 5)\n",
    "print(num_list)"
   ]
  },
  {
   "cell_type": "markdown",
   "metadata": {},
   "source": [
    "Although Python is installed with the `random` module, you still need to `import` it to be able to use it. in a nutshell this tells the program to load in the extra tool that is needed to get the job done. "
   ]
  },
  {
   "cell_type": "markdown",
   "metadata": {},
   "source": [
    "***NOTE:*** within the package, there are multiple functions that can be called. Usually Python tries to keep naming conventions simple for the programmers with function names like the `sample()` function. The `random.sample()` function \"chooses a sample/multiple items from a Python list, set, or dictionary. It returns a list of unique items chosen randomly from the list, sequence, or set.\" This will come in handy later when we start manipulating data since it is a pre-built tool that can pull samples based on the input we give it and it will return to us a random sample segment from our data."
   ]
  }
 ],
 "metadata": {
  "kernelspec": {
   "display_name": "Python 3",
   "language": "python",
   "name": "python3"
  },
  "language_info": {
   "codemirror_mode": {
    "name": "ipython",
    "version": 3
   },
   "file_extension": ".py",
   "mimetype": "text/x-python",
   "name": "python",
   "nbconvert_exporter": "python",
   "pygments_lexer": "ipython3",
   "version": "3.13.2"
  }
 },
 "nbformat": 4,
 "nbformat_minor": 2
}
