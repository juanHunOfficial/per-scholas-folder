{
 "cells": [
  {
   "cell_type": "markdown",
   "metadata": {},
   "source": [
    "# Intro to the random module"
   ]
  },
  {
   "cell_type": "code",
   "execution_count": 2,
   "metadata": {},
   "outputs": [
    {
     "name": "stdout",
     "output_type": "stream",
     "text": [
      "[34, 50, 86, 13, 0]\n"
     ]
    }
   ],
   "source": [
    "import random\n",
    "\n",
    "\n",
    "# create list of 5 random numbers\n",
    "num_list = random.sample(range(100), 5)\n",
    "print(num_list)"
   ]
  },
  {
   "cell_type": "markdown",
   "metadata": {},
   "source": [
    "Although Python is installed with the `random` module, you still need to `import` it to be able to use it. in a nutshell this tells the program to load in the extra tool that is needed to get the job done. "
   ]
  },
  {
   "cell_type": "markdown",
   "metadata": {},
   "source": [
    "***NOTE:*** within the package, there are multiple functions that can be called. Usually Python tries to keep naming conventions simple for the programmers with function names like the `sample()` function. The `random.sample()` function \"chooses a sample/multiple items from a Python list, set, or dictionary. It returns a list of unique items chosen randomly from the list, sequence, or set.\" This will come in handy later when we start manipulating data since it is a pre-built tool that can pull samples based on the input we give it and it will return to us a random sample segment from our data."
   ]
  },
  {
   "cell_type": "markdown",
   "metadata": {},
   "source": [
    "Instructions:\n",
    "Example 1: Generate Random Floats\n",
    "The random.random() method returns a random float number between 0.0 and 1.0. The function does not need any arguments.\n",
    "Example: random() \n"
   ]
  },
  {
   "cell_type": "code",
   "execution_count": 1,
   "metadata": {},
   "outputs": [
    {
     "name": "stdout",
     "output_type": "stream",
     "text": [
      "0.6425185402720875\n"
     ]
    }
   ],
   "source": [
    "import random\n",
    "print(random.random())"
   ]
  },
  {
   "cell_type": "markdown",
   "metadata": {},
   "source": [
    "Example 2: Generate Random Integers\n",
    "The random.randint() method returns a random integer between the specified integers.\n",
    "Example: randint()\n"
   ]
  },
  {
   "cell_type": "code",
   "execution_count": 6,
   "metadata": {},
   "outputs": [
    {
     "name": "stdout",
     "output_type": "stream",
     "text": [
      "141\n",
      "412\n"
     ]
    }
   ],
   "source": [
    "import random\n",
    "print(random.randint(1, 500))  # ----- CHANGED TO 500 INSTEAD OF 100   \n",
    "print(random.randint(1, 500))"
   ]
  },
  {
   "cell_type": "markdown",
   "metadata": {},
   "source": [
    "Example 3: Generate Random Numbers Within Range\n",
    "The random.randrange() method returns a randomly selected element from the range created by the start, stop and step arguments. The value of start is 0 by default. Similarly, the value of step is 1 by default."
   ]
  },
  {
   "cell_type": "code",
   "execution_count": 7,
   "metadata": {},
   "outputs": [
    {
     "name": "stdout",
     "output_type": "stream",
     "text": [
      "7\n",
      "7\n",
      "50\n"
     ]
    }
   ],
   "source": [
    "import  random\n",
    "\n",
    "\n",
    "print(random.randrange(1, 10)) \n",
    "print(random.randrange(1, 10, 2))\n",
    "print(random.randrange(0, 101, 10))\n"
   ]
  },
  {
   "cell_type": "markdown",
   "metadata": {},
   "source": [
    "Example 4: Select Random Elements\n",
    "The random.choice() method returns a randomly selected element from a non-empty sequence. An empty sequence as an argument raises an IndexError."
   ]
  },
  {
   "cell_type": "code",
   "execution_count": null,
   "metadata": {},
   "outputs": [
    {
     "name": "stdout",
     "output_type": "stream",
     "text": [
      "p\n",
      "67\n",
      "12\n"
     ]
    }
   ],
   "source": [
    "import random\n",
    "print(random.choice('computer'))  \n",
    "print(random.choice([12,23,45,67,65,43]))\n",
    "print(random.choice((12,23,45,67,65,43))) # ------RAN THESE COMMANDS A FEW TIMES\n"
   ]
  },
  {
   "cell_type": "markdown",
   "metadata": {},
   "source": [
    "Example 5: Select Random Items from Data Set\n",
    "The random.sample() function chooses a sample/multiple items from a Python list, set, or dictionary. It returns a list of unique items chosen randomly from the list, sequence, or set.\n",
    "\n",
    "Syntax\n",
    "random.sample(population, k)\n",
    "population: It can be any sequence, such as a list, set, or string, from which you want to select a k-length number.\n",
    "k: It is the number of random items you want to select from the sequence. k must be less than the size of the specified list.\n",
    "Note: If you do not know list, set, and dictionary data type, we will learn these concepts in upcoming lectures.\n",
    "Example 5.1: Select multiple items from a list without repetition.\n",
    "In this example, we will choose three random items from a list[]."
   ]
  },
  {
   "cell_type": "code",
   "execution_count": 12,
   "metadata": {},
   "outputs": [
    {
     "name": "stdout",
     "output_type": "stream",
     "text": [
      "[80, 120, 20]\n"
     ]
    }
   ],
   "source": [
    "import random\n",
    "aList = [20, 40, 80, 100, 120]\n",
    "sampled_list = random.sample(aList, 3)\n",
    "print(sampled_list)"
   ]
  },
  {
   "cell_type": "markdown",
   "metadata": {},
   "source": [
    "Example 5.2: Generate the sampled list of random integers\n",
    "You can use random.randint() and random.randrange() to generate the random numbers, but it can repeat the numbers. To create a list of unique random numbers, we need to use the sample() method.\n",
    "Wrap a range() function inside a sample() to create a list of random numbers without duplicates. The range() function generates the sequence of random numbers.\n",
    "Let’s see a random sample generator to generate five sample numbers from 1 to 100.\n"
   ]
  },
  {
   "cell_type": "code",
   "execution_count": 13,
   "metadata": {},
   "outputs": [
    {
     "name": "stdout",
     "output_type": "stream",
     "text": [
      "[0, 79, 10, 81, 6]\n"
     ]
    }
   ],
   "source": [
    "import random\n",
    "\n",
    "\n",
    "# create list of 5 random numbers\n",
    "num_list = random.sample(range(100), 5)\n",
    "print(num_list)"
   ]
  },
  {
   "cell_type": "markdown",
   "metadata": {},
   "source": [
    "\n",
    "\n",
    "Note: We used the range() with a random.sample to generate a list of unique random numbers because it is fast, memory-efficient, and improves the performance for sampling from a large population.\n"
   ]
  }
 ],
 "metadata": {
  "kernelspec": {
   "display_name": "venv",
   "language": "python",
   "name": "python3"
  },
  "language_info": {
   "codemirror_mode": {
    "name": "ipython",
    "version": 3
   },
   "file_extension": ".py",
   "mimetype": "text/x-python",
   "name": "python",
   "nbconvert_exporter": "python",
   "pygments_lexer": "ipython3",
   "version": "3.12.0"
  }
 },
 "nbformat": 4,
 "nbformat_minor": 2
}
