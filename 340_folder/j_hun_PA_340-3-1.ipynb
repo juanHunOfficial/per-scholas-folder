{
 "cells": [
  {
   "cell_type": "markdown",
   "metadata": {},
   "source": [
    "# Juan Hun - PA 340.3.1 - Strings"
   ]
  },
  {
   "cell_type": "markdown",
   "metadata": {},
   "source": [
    "---"
   ]
  },
  {
   "cell_type": "code",
   "execution_count": null,
   "metadata": {},
   "outputs": [],
   "source": [
    "def do_assignment_requirements(word: str) -> str:\n",
    "    print(len(word)) # 2\n",
    "    print(word.upper()) # 3 (part 1/2)\n",
    "    print(word.lower()) # 3 (part 2/2)\n",
    "\n",
    "    letter_to_search = input(\"Enter the letter you want me to count: \") # 4 (part 1/2)\n",
    "    print(word.count(letter_to_search)) # 4 (part 2/2)\n",
    "\n",
    "    substring_to_search = input(\"Enter the substring you want me to count: \") # 5 (part 1/2)\n",
    "    print(word.count(substring_to_search)) # 5 (part 2/2)\n",
    "\n",
    "    print(word[::-1]) # 6\n",
    "\n",
    "    # 7 start\n",
    "    starting_index = int(input(\"Enter the starting index: \"))\n",
    "    ending_index = int(input(\"Enter the ending index: \"))\n",
    "    print(word[starting_index:ending_index])\n",
    "    # 7 end\n",
    "\n",
    "    # 8 start\n",
    "    letter_to_search = input(\"Enter a letter that you want replaced: \")\n",
    "    letter_to_insert = input(\"Enter the letter you want in the place of the letter indicated above: \")\n",
    "    print(word.replace(letter_to_search, letter_to_insert, 1))\n",
    "    # 8 end\n",
    "\n",
    "    # 9 start\n",
    "    new_word = input(\"Enter a new word: \")\n",
    "    print(word, new_word)\n",
    "    #9 end\n",
    "\n",
    "    print(f\"Is a palindrome: {word == word[::-1]}\" ) # 10\n",
    "\n",
    "    # 11 start\n",
    "    print(f\"Is a valid Python identifier: {word.isalnum()}\")\n"
   ]
  },
  {
   "cell_type": "code",
   "execution_count": 2,
   "metadata": {},
   "outputs": [
    {
     "name": "stdout",
     "output_type": "stream",
     "text": [
      "6\n",
      "PYTHON\n",
      "python\n",
      "1\n",
      "1\n",
      "nohtyp\n",
      "th\n",
      "python\n",
      "python skills\n",
      "Is a palindrome: False\n",
      "Is a valid Python identifier: True\n"
     ]
    }
   ],
   "source": [
    "word_from_user = input(\"Enter a word: \") # 1\n",
    "do_assignment_requirements(word_from_user)"
   ]
  }
 ],
 "metadata": {
  "kernelspec": {
   "display_name": "Python 3",
   "language": "python",
   "name": "python3"
  },
  "language_info": {
   "codemirror_mode": {
    "name": "ipython",
    "version": 3
   },
   "file_extension": ".py",
   "mimetype": "text/x-python",
   "name": "python",
   "nbconvert_exporter": "python",
   "pygments_lexer": "ipython3",
   "version": "3.13.2"
  }
 },
 "nbformat": 4,
 "nbformat_minor": 2
}
