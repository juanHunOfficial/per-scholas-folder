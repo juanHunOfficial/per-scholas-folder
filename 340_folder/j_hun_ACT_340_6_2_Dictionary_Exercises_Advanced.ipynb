{
  "cells": [
    {
      "cell_type": "markdown",
      "metadata": {
        "id": "tL3DfERNm8a7"
      },
      "source": [
        "# **Dictionary Practice Excercises- Advanced**\n",
        "\n",
        "\n",
        "## **Lab Objective:**\n",
        "This lab aims to enhance your understanding and practical skills in manipulating dictionaries in Python. You will work through a series of exercises designed to challenge and reinforce your knowledge of dictionary methods and operations.\n",
        "\n",
        "## **Learning Objective:**\n",
        "\n",
        "By the end of this lab, you will be able to:\n",
        "\n",
        "- Confidently manipulate dictionaries in Python.\n",
        "- Apply dictionary methods to perform various operations.\n",
        "- Utilize loops and conditional logic to process dictionary data.\n",
        "- Solve practical problems involving dictionaries."
      ]
    },
    {
      "cell_type": "markdown",
      "metadata": {
        "id": "fxJ6r0UtCx8d"
      },
      "source": [
        "---\n",
        "\n",
        "Complete the following practice excercises below to build up your skills with manipulating dictionaries.\n",
        "\n"
      ]
    },
    {
      "cell_type": "markdown",
      "metadata": {
        "id": "SPZ5wKD54OV8"
      },
      "source": [
        "**Problem 1**\n",
        "\n",
        "* Add the following key/value pair to the dictionary below.\n",
        "  \"oceans\": [\"Pacific\", \"Atlantic\", \"Indian\", \"Arctic\"]\n",
        "\n"
      ]
    },
    {
      "cell_type": "markdown",
      "metadata": {
        "id": "2prB9vwInYqe"
      },
      "source": []
    },
    {
      "cell_type": "code",
      "execution_count": 1,
      "metadata": {
        "id": "su6Dtm2l7moD"
      },
      "outputs": [],
      "source": [
        "geography= {\n",
        "    \"continents\": [\"North America\", \"South America\", \"Africa\", \"Antarctica\", \"Australia\", \"Asia\", \"Europe\"],\n",
        "    \"oceans\" : [\"Pacific\", \"Atlantic\", \"Indian\", \"Arctic\"]\n",
        "}"
      ]
    },
    {
      "cell_type": "markdown",
      "metadata": {
        "id": "lE7F2U9L75_T"
      },
      "source": [
        "**Problem 2**\n",
        "\n",
        "\n",
        "\n",
        "*   Use the Dictionary below\n",
        "*   Change the value for the height key to 72 inches\n",
        "\n"
      ]
    },
    {
      "cell_type": "code",
      "execution_count": 10,
      "metadata": {
        "id": "Dne-3hDU8lSA"
      },
      "outputs": [],
      "source": [
        "patient= {\"name\": \"John Doe\", \"age\": 25, \"height\": 64, \"symptoms\": \"cough\" }\n",
        "patient.update({\"height\": 72})"
      ]
    },
    {
      "cell_type": "markdown",
      "metadata": {
        "id": "iRqGQjLZ9aDq"
      },
      "source": [
        "**Problem 3**\n",
        "\n",
        "*   Use the same dictionary as above\n",
        "*   Use a Class method to generate a list of tuples that consists of each key:value pair\n",
        "\n"
      ]
    },
    {
      "cell_type": "code",
      "execution_count": 6,
      "metadata": {
        "id": "ej-LPcQw9tlH"
      },
      "outputs": [
        {
          "name": "stdout",
          "output_type": "stream",
          "text": [
            "(('name', 'John Doe'), ('age', 25), ('height', 72), ('symptoms', 'cough'))\n"
          ]
        }
      ],
      "source": [
        "patient = tuple(patient.items())\n",
        "print(patient)"
      ]
    },
    {
      "cell_type": "markdown",
      "metadata": {
        "id": "30gd_UKX9xRj"
      },
      "source": [
        "**Problem 4**\n",
        "\n",
        "\n",
        "\n",
        "*   Use the same dictionary as above\n",
        "*   Use a Class method to print the value of \"name'\n",
        "\n"
      ]
    },
    {
      "cell_type": "code",
      "execution_count": 9,
      "metadata": {
        "id": "jtVXJwpp-E2D"
      },
      "outputs": [
        {
          "name": "stdout",
          "output_type": "stream",
          "text": [
            "John Doe\n"
          ]
        }
      ],
      "source": [
        "print(patient.get(\"name\", \"Not Known\"))"
      ]
    },
    {
      "cell_type": "markdown",
      "metadata": {
        "id": "xEHhz1kf-Fcl"
      },
      "source": [
        "**Problem 5**\n",
        "\n",
        "\n",
        "\n",
        "*   Use the same dictionary as above\n",
        "*   Use a Class method to look for the key \"weight\", and supply a default arguement of 150 if the value is not found\n",
        "\n"
      ]
    },
    {
      "cell_type": "code",
      "execution_count": 11,
      "metadata": {
        "id": "lds025UR-jpK"
      },
      "outputs": [
        {
          "name": "stdout",
          "output_type": "stream",
          "text": [
            "150\n"
          ]
        }
      ],
      "source": [
        "print(patient.get(\"weight\", 150))"
      ]
    },
    {
      "cell_type": "markdown",
      "metadata": {
        "id": "AdApgIMi-moT"
      },
      "source": [
        "**Problem 6**\n",
        "\n",
        "\n",
        "*   Use the same dictionary as above\n",
        "*   Use a Class method to remove everything from the dictionary\n",
        "\n",
        "\n"
      ]
    },
    {
      "cell_type": "code",
      "execution_count": 13,
      "metadata": {
        "id": "a7YXxpV7_O1F"
      },
      "outputs": [
        {
          "name": "stdout",
          "output_type": "stream",
          "text": [
            "None\n",
            "{}\n"
          ]
        }
      ],
      "source": [
        "print(patient.clear())\n",
        "print(patient)"
      ]
    },
    {
      "cell_type": "markdown",
      "metadata": {
        "id": "9ApUQ9qn_P01"
      },
      "source": [
        "**Problem 7**\n",
        "\n",
        "\n",
        "\n",
        "*   Use the dictionary below\n",
        "*   Use a for loop to move through the dictionary.\n",
        "*   If the value is above 2000, add the value to a new list minus 500\n",
        "*   Example: If the value is 2500, 2000 would be added to the new list\n",
        "\n"
      ]
    },
    {
      "cell_type": "code",
      "execution_count": 15,
      "metadata": {
        "id": "045nPKTs_6qg"
      },
      "outputs": [
        {
          "name": "stdout",
          "output_type": "stream",
          "text": [
            "[2700, 51500]\n"
          ]
        }
      ],
      "source": [
        "stock_qty= {\"cookies\": 3200, \"bread\": 500, \"crackers\": 52000, \"chips\": 2000}\n",
        "\n",
        "minus_500_list = []\n",
        "for stock in stock_qty.values():\n",
        "    if stock > 2000:\n",
        "        minus_500_list.append(stock - 500)\n",
        "\n",
        "print(minus_500_list)"
      ]
    },
    {
      "cell_type": "markdown",
      "metadata": {
        "id": "3TcqNBOGBGTP"
      },
      "source": [
        "**Problem 8 **\n",
        "\n",
        "\n",
        "*   Use the list I did below\n",
        "*   Loop through the list\n",
        "*   Create a dictionary to keep track of how many times a number appears in a list\n",
        "*   Print the final dictionary\n",
        "\n",
        "*   Things to consider:\n",
        "\n",
        ">* How to check if an integer already exists in the new dictionary\n",
        ">* What is the first value when the key gets added to the dictionary?\n",
        ">* How to increase the value of each key on each iteration of the loop?\n",
        "\n",
        "\n",
        "\n"
      ]
    },
    {
      "cell_type": "code",
      "execution_count": 18,
      "metadata": {
        "id": "mfgV0KeYCOuO"
      },
      "outputs": [
        {
          "name": "stdout",
          "output_type": "stream",
          "text": [
            "{10: 2, 9: 3, 88: 1, 20: 2, 22: 1, 101: 1, 68: 1, 108: 1, 33: 1, 53: 1}\n"
          ]
        }
      ],
      "source": [
        "list= [10, 9, 88, 20, 9, 20, 22, 101, 68, 10, 108, 33, 9, 53]\n",
        "values = {}\n",
        "for num in list:\n",
        "    if num not in values:\n",
        "        values.update({num : 1})\n",
        "    elif num in values:\n",
        "        new_num = values[num] + 1\n",
        "        values.update({num: new_num})\n",
        "    else:\n",
        "        print(f\"No idea what just happened, this guy just showed up --> {num} <--\")\n",
        "\n",
        "print(values)"
      ]
    },
    {
      "cell_type": "markdown",
      "metadata": {
        "id": "lt6fzQytnqAk"
      },
      "source": [
        "##**Submission**\n",
        "- Submit your completed lab using the Start Assignment button on the assignment page in Canvas.\n",
        "- Your submission can be include:\n",
        "  - if you are using notebook then, all tasks should be written and submitted in a single notebook file, for example: (**your_name_labname.ipynb**).\n",
        "  - if you are using python script file, all tasks should be written and submitted in a single python script file for example: **(your_name_labname.py)**.\n",
        "- Add appropriate comments and any additional instructions if required.\n"
      ]
    }
  ],
  "metadata": {
    "colab": {
      "provenance": []
    },
    "kernelspec": {
      "display_name": "Python 3",
      "name": "python3"
    },
    "language_info": {
      "codemirror_mode": {
        "name": "ipython",
        "version": 3
      },
      "file_extension": ".py",
      "mimetype": "text/x-python",
      "name": "python",
      "nbconvert_exporter": "python",
      "pygments_lexer": "ipython3",
      "version": "3.13.2"
    }
  },
  "nbformat": 4,
  "nbformat_minor": 0
}
