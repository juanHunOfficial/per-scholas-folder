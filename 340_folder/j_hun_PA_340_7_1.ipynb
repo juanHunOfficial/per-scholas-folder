{
 "cells": [
  {
   "cell_type": "markdown",
   "metadata": {},
   "source": [
    "# <div style= \"text-align: center\"> Juan Hun - PA 340.7.1 - The Function Quest <div>"
   ]
  },
  {
   "cell_type": "markdown",
   "metadata": {},
   "source": [
    "### The Mighty Calculator"
   ]
  },
  {
   "cell_type": "code",
   "execution_count": null,
   "metadata": {},
   "outputs": [
    {
     "name": "stdout",
     "output_type": "stream",
     "text": [
      "The sum is: 8\n",
      "The difference is: 6\n",
      "The product is: 12\n",
      "The quotient is: Error: Division by zero!\n"
     ]
    }
   ],
   "source": [
    "def add_numbers(a, b):\n",
    "    return a + b\n",
    "\n",
    "def subtract_numbers(a, b):\n",
    "    return a - b\n",
    "\n",
    "def multiply_numbers(a, b):\n",
    "    return a * b\n",
    "\n",
    "def divide_numbers(a, b):\n",
    "    if b != 0:\n",
    "        return a / b\n",
    "    else:\n",
    "        return \"Error: Division by zero!\"\n",
    "\n",
    "result = add_numbers(5, 3)\n",
    "print(\"The sum is:\", result)\n",
    "\n",
    "result = subtract_numbers(10, 4)\n",
    "print(\"The difference is:\", result)\n",
    "\n",
    "result = multiply_numbers(6, 2)\n",
    "print(\"The product is:\", result)\n",
    "\n",
    "result = divide_numbers(15, 0)\n",
    "print(\"The quotient is:\", result)"
   ]
  },
  {
   "cell_type": "markdown",
   "metadata": {},
   "source": [
    "## <div style=\"text-align: center\">The Quest for Fibonacci<div>"
   ]
  },
  {
   "cell_type": "code",
   "execution_count": null,
   "metadata": {},
   "outputs": [
    {
     "data": {
      "text/plain": [
       "8"
      ]
     },
     "execution_count": 13,
     "metadata": {},
     "output_type": "execute_result"
    }
   ],
   "source": [
    "def fibonacci(number: int) -> int:\n",
    "    \n",
    "    if number == 0:\n",
    "        return 0\n",
    "    elif number == 1:\n",
    "        return 1\n",
    "    elif type(number) == int:\n",
    "        number = fibonacci(number - 1) + fibonacci(number - 2)\n",
    "    else:\n",
    "        print(\"Invalid Response\")\n",
    "    return number\n",
    "fibonacci(6)"
   ]
  },
  {
   "cell_type": "markdown",
   "metadata": {},
   "source": [
    "## <div style=\"text-align: center\">The Cryptic Decoder<div>"
   ]
  },
  {
   "cell_type": "code",
   "execution_count": 17,
   "metadata": {},
   "outputs": [
    {
     "name": "stdout",
     "output_type": "stream",
     "text": [
      "pkg lctkn wcs my ngxt chqkcg\n"
     ]
    }
   ],
   "source": [
    "def cryptic_decoder(message: str) -> str:\n",
    "    cipher = {\n",
    "        \"a\" : \"c\",\n",
    "        \"e\" : \"g\",\n",
    "        \"i\" : \"k\",\n",
    "        \"o\" : \"q\",\n",
    "        \"u\" : \"w\"\n",
    "    }\n",
    "    result = \"\"\n",
    "    for letter in message:\n",
    "        if letter in cipher:\n",
    "            result += letter.replace(letter, cipher[letter])\n",
    "        else:\n",
    "            result += letter\n",
    "    return result\n",
    "\n",
    "print(cryptic_decoder(\"pig latin was my next choice\"))"
   ]
  },
  {
   "cell_type": "markdown",
   "metadata": {},
   "source": [
    "## <div style=\"text-align: center\">The Magical Validator<div>"
   ]
  },
  {
   "cell_type": "code",
   "execution_count": 18,
   "metadata": {},
   "outputs": [
    {
     "name": "stdout",
     "output_type": "stream",
     "text": [
      "juan@email.com is a valid email!\n",
      "juan.email@com is an invalid email...\n",
      "juan.com is an invalid email...\n",
      "juan@home is an invalid email...\n"
     ]
    }
   ],
   "source": [
    "def magical_validator(email: str) -> str:\n",
    "    if \".\" in email and \"@\" in email and email.index(\"@\") < email.index(\".\"):\n",
    "        return f\"{ email } is a valid email!\"\n",
    "    else:\n",
    "        return f\"{ email } is an invalid email...\"\n",
    "    \n",
    "print(magical_validator(\"juan@email.com\")) # True\n",
    "print(magical_validator(\"juan.email@com\")) # False\n",
    "print(magical_validator(\"juan.com\")) # False\n",
    "print(magical_validator(\"juan@home\")) # False"
   ]
  }
 ],
 "metadata": {
  "kernelspec": {
   "display_name": "Python 3",
   "language": "python",
   "name": "python3"
  },
  "language_info": {
   "codemirror_mode": {
    "name": "ipython",
    "version": 3
   },
   "file_extension": ".py",
   "mimetype": "text/x-python",
   "name": "python",
   "nbconvert_exporter": "python",
   "pygments_lexer": "ipython3",
   "version": "3.13.2"
  }
 },
 "nbformat": 4,
 "nbformat_minor": 2
}
