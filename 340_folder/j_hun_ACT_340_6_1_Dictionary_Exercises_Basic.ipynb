{
  "cells": [
    {
      "cell_type": "markdown",
      "metadata": {
        "id": "8PtTR1XxmIV7"
      },
      "source": [
        "# **Lab Objective:**\n",
        "\n",
        "To gain practical experience working with Python dictionaries, focusing on creating, accessing, modifying, and iterating through dictionary objects. This lab will cover fundamental dictionary operations, built-in methods, and looping techniques to efficiently manipulate data stored in dictionaries.\n",
        "\n",
        "# **Lab Overview**\n",
        "\n",
        "This lab provides a hands-on introduction to working with dictionaries in Python. Dictionaries are fundamental data structures used to store and organize data using key-value pairs.\n",
        "\n",
        "# **Lab Structure**\n",
        "\n",
        "The lab is organized into the following sections:\n",
        "\n",
        "- **Introduction to Dictionaries:**This section covers the basic concepts of dictionaries, including their creation using bracket notation and the dict() function.\n",
        "- **Accessing and Modifying Dictionaries:** You will learn how to retrieve values using keys, add new entries, update existing ones, and delete entries from dictionaries.\n",
        "- **Dictionary Methods:** This section introduces built-in methods for working with dictionaries, such as .get(), .items(), .keys(), .values(), .pop(), and .popitem().\n",
        "- **Looping through Dictionaries:** You will explore different ways to iterate through dictionaries using for loops to access keys, values, and key-value pairs.\n",
        "- **Dictionary Practice Exercises:** These exercises will give you the opportunity to apply the concepts you have learned to solve practical problems involving dictionaries."
      ]
    },
    {
      "cell_type": "markdown",
      "metadata": {
        "id": "hLdVb0xtzLnJ"
      },
      "source": [
        "# **Dictionary Practice Excercises- Basics**\n",
        "\n",
        "Dictionaries are Python's implementation of a data structure that is more generally known as an associative array. A dictionary consists of a collection of key-value pairs. Each key-value pair maps the key to its associated value.\n",
        "<br></br>\n",
        "You can define a dictionary by enclosing a comma-separated list of key-value pairs in curly braces {}. A colon : separates each key from its associated value:\n",
        "\n",
        "\n"
      ]
    },
    {
      "cell_type": "code",
      "execution_count": null,
      "metadata": {
        "id": "IFFcce61zi0N"
      },
      "outputs": [],
      "source": [
        "d = {\n",
        "    <key>: <value>,\n",
        "    <key>: <value>,\n",
        "      .\n",
        "      .\n",
        "      .\n",
        "    <key>: <value>\n",
        "}"
      ]
    },
    {
      "cell_type": "markdown",
      "metadata": {
        "id": "WX26oSxdzpft"
      },
      "source": [
        "You can also construct a dictionary with the built-in dict() function. The argument to dict() should be a sequence of key-value pairs. A list of tuples works well for this:"
      ]
    },
    {
      "cell_type": "code",
      "execution_count": null,
      "metadata": {
        "id": "ZSSo7IqZzyuz"
      },
      "outputs": [],
      "source": [
        "d = dict([\n",
        "    (<key>, <value>),\n",
        "    (<key>, <value),\n",
        "      .\n",
        "      .\n",
        "      .\n",
        "    (<key>, <value>)\n",
        "])"
      ]
    },
    {
      "cell_type": "markdown",
      "metadata": {
        "id": "6Z2fczdC7Xdg"
      },
      "source": [
        "**Restrictions on Keys and Values**\n",
        "\n",
        "Keys must be an immutable type and can only appear in a dictionary once.\n",
        "\n",
        "Values have zero restrictions. A dictionary value can be any type of object Python supports."
      ]
    },
    {
      "cell_type": "markdown",
      "metadata": {
        "id": "pKIBePLD0Hk5"
      },
      "source": [
        "**Problem 1**\n",
        "\n",
        "Use the following states and capitals to create dictionary objects.\n",
        "\n",
        ">Los Angeles, California\n",
        "\n",
        ">Albany, New York\n",
        "\n",
        ">Honolulu, Hawaii\n",
        "\n",
        ">Juneau, Alaska\n",
        "\n",
        ">Austin, Texas\n",
        "\n",
        "*   Create a Dictionary object with the {} bracket notation where the States are the Keys and the Capitals are the values.\n",
        "*   Create a Dictionary object with built-in dict() function where the States are the Keys and the Capitals are the values.\n",
        "*   Use the type() method to check the object type of each object\n",
        "*   Print each object to see all the key:value pairs in the dictionary\n",
        "\n"
      ]
    },
    {
      "cell_type": "code",
      "execution_count": 3,
      "metadata": {
        "id": "1J260o5X1nfI"
      },
      "outputs": [
        {
          "name": "stdout",
          "output_type": "stream",
          "text": [
            "<class 'dict'>\n",
            "<class 'dict'>\n",
            "{'California': 'Los Angeles', 'New York': 'Albany', 'Hawaii': 'Honolulu', 'Alaska': 'Juneau', 'Texas': 'Austin'}\n",
            "{'California': 'Los Angeles', 'New York': 'Albany', 'Hawaii': 'Honolulu', 'Alaska': 'Juneau', 'Texas': 'Austin'}\n"
          ]
        }
      ],
      "source": [
        "capitals = {\n",
        "    \"California\" : \"Los Angeles\",\n",
        "    \"New York\" : \"Albany\",\n",
        "    \"Hawaii\" : \"Honolulu\",\n",
        "    \"Alaska\" : \"Juneau\",\n",
        "    \"Texas\" : \"Austin\"\n",
        "}\n",
        "\n",
        "capitals_list = dict([\n",
        "    (\"California\", \"Los Angeles\"),\n",
        "    (\"New York\", \"Albany\"),\n",
        "    (\"Hawaii\", \"Honolulu\"),\n",
        "    (\"Alaska\", \"Juneau\"),\n",
        "    (\"Texas\", \"Austin\")\n",
        "])\n",
        "\n",
        "print(type(capitals))\n",
        "print(type(capitals_list))\n",
        "\n",
        "print(capitals)\n",
        "print(capitals_list)"
      ]
    },
    {
      "cell_type": "markdown",
      "metadata": {
        "id": "jDv9Lw3mcMOC"
      },
      "source": [
        "\n",
        "\n",
        "---\n",
        "\n"
      ]
    },
    {
      "cell_type": "markdown",
      "metadata": {
        "id": "m62n29aX2GDQ"
      },
      "source": [
        "# Accessing Keys and Values in a Dictionary\n",
        "\n",
        "The entries in the dictionary display in the order they were defined. But that is irrelevant when it comes to retrieving them. Dictionary elements are not accessed by numerical index like they are in Strings and Lists.\n",
        "<br></br>\n",
        "\n",
        "A value is retrieved from a dictionary by specifying its corresponding key in square brackets var_name[key_name].\n",
        "<br></br>\n",
        "\n",
        "*Note: If you try to access a key in this manner, and the key does not exist you will raise a 'KeyError'. We will use a different built-in method later on that handles this exception for us.*"
      ]
    },
    {
      "cell_type": "code",
      "execution_count": null,
      "metadata": {
        "colab": {
          "base_uri": "https://localhost:8080/",
          "height": 36
        },
        "id": "wYTon0-A4IQV",
        "outputId": "7475b7ff-651b-42aa-9863-e0fcb7046b56"
      },
      "outputs": [
        {
          "data": {
            "application/vnd.google.colaboratory.intrinsic+json": {
              "type": "string"
            },
            "text/plain": [
              "'One'"
            ]
          },
          "execution_count": 1,
          "metadata": {},
          "output_type": "execute_result"
        }
      ],
      "source": [
        "numbers= dict([\n",
        "    (1, 'One'),\n",
        "    (2, 'Two'),\n",
        "    (3, 'Three'),\n",
        "    (4, 'Four'),\n",
        "    (5, 'Five')\n",
        "])\n",
        "\n",
        "numbers[1]"
      ]
    },
    {
      "cell_type": "markdown",
      "metadata": {
        "id": "C-66Zwq_5etk"
      },
      "source": [
        "Adding an entry to an existing dictionary is simply a matter of assigning a new key and value:"
      ]
    },
    {
      "cell_type": "code",
      "execution_count": null,
      "metadata": {
        "id": "ff6ZauAy5kSL"
      },
      "outputs": [],
      "source": [
        "numbers[6] = 'Six'\n",
        "numbers"
      ]
    },
    {
      "cell_type": "markdown",
      "metadata": {
        "id": "ygg8Io4Y5u3q"
      },
      "source": [
        "If you want to update an entry, you can just assign a new value to an existing key."
      ]
    },
    {
      "cell_type": "code",
      "execution_count": null,
      "metadata": {
        "id": "8NWEpbP75x1_"
      },
      "outputs": [],
      "source": [
        "numbers[1]= '1'\n",
        "numbers"
      ]
    },
    {
      "cell_type": "markdown",
      "metadata": {
        "id": "MpRtqAd85826"
      },
      "source": []
    },
    {
      "cell_type": "markdown",
      "metadata": {
        "id": "xknRNePc58-l"
      },
      "source": [
        "To delete an entry, use the del statement, specifying the key to delete:"
      ]
    },
    {
      "cell_type": "code",
      "execution_count": null,
      "metadata": {
        "id": "phTTEl445_HJ"
      },
      "outputs": [],
      "source": [
        "del numbers[1]\n",
        "numbers"
      ]
    },
    {
      "cell_type": "markdown",
      "metadata": {
        "id": "NGjC6mg26FrD"
      },
      "source": [
        "**Problem 2**\n",
        "\n",
        "Use a dictionary object from Problem 1 to complete the following:\n",
        "\n",
        "*   Retrieve the value for the key 'California'\n",
        "*   Add the State: Capital pair for Florida to the dictionary\n",
        "*   Update the capital of California to 'Sacremento'\n",
        "*   Delete Alaska from the Dictionary\n",
        "\n"
      ]
    },
    {
      "cell_type": "code",
      "execution_count": 4,
      "metadata": {
        "id": "YPGI0LK260sE"
      },
      "outputs": [
        {
          "name": "stdout",
          "output_type": "stream",
          "text": [
            "Los Angeles\n",
            "{'California': 'Sacremento', 'New York': 'Albany', 'Hawaii': 'Honolulu', 'Texas': 'Austin', 'Florida': 'Tallahassee'}\n"
          ]
        }
      ],
      "source": [
        "print(capitals[\"California\"])\n",
        "\n",
        "capitals.update({\"Florida\": \"Tallahassee\", \"California\": \"Sacremento\"})\n",
        "\n",
        "del capitals[\"Alaska\"]\n",
        "\n",
        "print(capitals)"
      ]
    },
    {
      "cell_type": "markdown",
      "metadata": {
        "id": "61Ct1eJh6_1O"
      },
      "source": [
        "*Note: Although access to items in a dictionary does not depend on order, Python does guarantee that the order of items in a dictionary is preserved. When displayed, items will appear in the order they were defined, and iteration through the keys will occur in that order as well. Items added to a dictionary are added at the end. If items are deleted, the order of the remaining items is retained.*"
      ]
    },
    {
      "cell_type": "markdown",
      "metadata": {
        "id": "_0oxzWjVcJd1"
      },
      "source": [
        "\n",
        "\n",
        "---\n",
        "\n"
      ]
    },
    {
      "cell_type": "markdown",
      "metadata": {
        "id": "BiX4I1Z4gQ-A"
      },
      "source": [
        "# Dictionary Methods\n",
        "\n",
        "There are several built-in methods that can be used with dictionaries. The following are common methods used with Dictionary objects.\n",
        "<br></br>\n",
        "We will use the dictionary below for the examples in this section."
      ]
    },
    {
      "cell_type": "code",
      "execution_count": null,
      "metadata": {
        "id": "e9PMgFuHhdf0"
      },
      "outputs": [],
      "source": [
        "grocery_list= {'fruits': ['apples', 'blueberries', 'strawberries'],\n",
        "               'vegetables': ['broccoli', 'cauliflower'], 'meat': 'chicken'}\n",
        "\n",
        "grocery_list"
      ]
    },
    {
      "cell_type": "markdown",
      "metadata": {
        "id": "n6cjN2swpvcu"
      },
      "source": [
        "**.get()**\n",
        "\n",
        "The .get(key) method searches the dictionary for 'key 'and returns the associated value if it is found. If 'key' is not found, it returns None instead of raising an Exception.\n",
        "<br></br>\n",
        "Since the value of 'fruits' is a list, the entire list is returned.\n"
      ]
    },
    {
      "cell_type": "code",
      "execution_count": null,
      "metadata": {
        "id": "8hMaoXXqqM1S"
      },
      "outputs": [],
      "source": [
        "print(grocery_list.get('fruits'))\n",
        "print(grocery_list.get('dairy'))"
      ]
    },
    {
      "cell_type": "markdown",
      "metadata": {
        "id": "kgpOwVbCsUp2"
      },
      "source": [
        "\n",
        "\n",
        "---\n",
        "\n"
      ]
    },
    {
      "cell_type": "markdown",
      "metadata": {
        "id": "tdK5CWiYqzhm"
      },
      "source": [
        "**.items()**\n",
        "\n",
        "The .items() method returns a view object of a list of tuples containing the key-value pairs. The first item in each tuple is the key, and the second item is the key's value."
      ]
    },
    {
      "cell_type": "code",
      "execution_count": null,
      "metadata": {
        "id": "SYAif-p1roc8"
      },
      "outputs": [],
      "source": [
        "grocery_list.items()"
      ]
    },
    {
      "cell_type": "markdown",
      "metadata": {
        "id": "3kRaIiz-rzSq"
      },
      "source": [
        "We can wrap this item in a list, to access each tuple using indexes."
      ]
    },
    {
      "cell_type": "code",
      "execution_count": null,
      "metadata": {
        "id": "w-E30E7Hr77a"
      },
      "outputs": [],
      "source": [
        "print(list(grocery_list.items())[1][0])\n",
        "print(list(grocery_list.items())[1][1])\n",
        "print(list(grocery_list.items())[1][1][0])"
      ]
    },
    {
      "cell_type": "markdown",
      "metadata": {
        "id": "kDfAmLLosXPd"
      },
      "source": [
        "\n",
        "\n",
        "---\n",
        "\n"
      ]
    },
    {
      "cell_type": "markdown",
      "metadata": {
        "id": "vReQ7AOctl-b"
      },
      "source": [
        "**.keys()**\n",
        "\n",
        "The .keys() method returns a a view object of all the keys in a dictionary\n",
        "\n",
        "We can turn it into a list object to fully utilize the method."
      ]
    },
    {
      "cell_type": "code",
      "execution_count": null,
      "metadata": {
        "id": "PetloFBNt2YR"
      },
      "outputs": [],
      "source": [
        "print(grocery_list.keys())\n",
        "print(list(grocery_list.keys()))\n"
      ]
    },
    {
      "cell_type": "markdown",
      "metadata": {
        "id": "V9eRMtnouhAc"
      },
      "source": [
        "\n",
        "\n",
        "---\n",
        "\n"
      ]
    },
    {
      "cell_type": "markdown",
      "metadata": {
        "id": "XynX05Tiuimi"
      },
      "source": [
        "**.values()**\n",
        "\n",
        "The .values() method returns a view object. The view object contains the values of the dictionary, as a list.\n",
        "\n",
        "\n"
      ]
    },
    {
      "cell_type": "code",
      "execution_count": null,
      "metadata": {
        "id": "gooDwnOGuzEz"
      },
      "outputs": [],
      "source": [
        "print(grocery_list.values())\n",
        "print(list(grocery_list.values()))"
      ]
    },
    {
      "cell_type": "markdown",
      "metadata": {
        "id": "m5GZ5fsLvDww"
      },
      "source": [
        "\n",
        "\n",
        "---\n",
        "\n"
      ]
    },
    {
      "cell_type": "markdown",
      "metadata": {
        "id": "H9QYE7lEvFgd"
      },
      "source": [
        "**.pop()**\n",
        "\n",
        "The .pop() method of Python dictionary (dict) is used to remove the element from the dictionary by dict key and return the value related to the removed key . If a key does not exist in the dictionary and the default value is specified, then returns the default value; else throws a KeyError ."
      ]
    },
    {
      "cell_type": "code",
      "execution_count": null,
      "metadata": {
        "id": "QQ108yIwvbHi"
      },
      "outputs": [],
      "source": [
        "print(grocery_list.pop('meat'))\n",
        "print(grocery_list)\n"
      ]
    },
    {
      "cell_type": "markdown",
      "metadata": {
        "id": "c1Tzs32YwVE_"
      },
      "source": [
        "\n",
        "\n",
        "---\n",
        "\n"
      ]
    },
    {
      "cell_type": "markdown",
      "metadata": {
        "id": "_sXwA6HKwWN3"
      },
      "source": [
        "**.popitem()**\n",
        "\n",
        "The .popitem() removes the last key-value pair added to a dictionary and returns it as a tuple."
      ]
    },
    {
      "cell_type": "code",
      "execution_count": null,
      "metadata": {
        "id": "Frt5_JM3wrTW"
      },
      "outputs": [],
      "source": [
        "print(grocery_list.popitem())\n",
        "print(grocery_list)"
      ]
    },
    {
      "cell_type": "markdown",
      "metadata": {
        "id": "F20mpjhNzqo7"
      },
      "source": [
        "\n",
        "\n",
        "---\n",
        "\n"
      ]
    },
    {
      "cell_type": "markdown",
      "metadata": {
        "id": "soS5mXRezrz6"
      },
      "source": [
        "# Looping through a Dictionary\n",
        "\n",
        "A python dictionary can be empty, contain just a few key:value pairs, or millions of pairs. An efficient way to access large amounts of data within a Python Dictionary is using a 'for loop'. We can loop through all of the key:value pairs, through its keys, or through its values.\n",
        "<br></br>\n",
        "We will use the dictionary below for the examples in this section. Each key is the name of a person and each value is their favorite video game."
      ]
    },
    {
      "cell_type": "code",
      "execution_count": null,
      "metadata": {
        "id": "YzRXaL790TQJ"
      },
      "outputs": [],
      "source": [
        "fav_vgame= {'Andrea': 'Stardew Valley',\n",
        "            'Bill': 'Super Smash Bros',\n",
        "            'Tom': 'God of War',\n",
        "            'Jose': 'Hogwarts Legacy',\n",
        "            'Mina': 'Pokemon Gold'}"
      ]
    },
    {
      "cell_type": "markdown",
      "metadata": {
        "id": "6FwogEyA3L5c"
      },
      "source": [
        "Without adding any methods to our Dictionary the default is to loop through the keys of our Dictionary. We only need one iterator in this for loop.\n",
        "<br></br>\n",
        "If we would like to to be more explicit in our code. We can add the .keys method to our Dictionary object to produce the same results."
      ]
    },
    {
      "cell_type": "code",
      "execution_count": null,
      "metadata": {
        "id": "P9w9Vq3x3WT4"
      },
      "outputs": [],
      "source": [
        "for key in fav_vgame:\n",
        "  print(key)\n",
        "\n",
        "for key in fav_vgame.keys():\n",
        "  print(key.lower())\n"
      ]
    },
    {
      "cell_type": "markdown",
      "metadata": {
        "id": "zz-903OL3_b7"
      },
      "source": [
        "If we wanted to loop through our keys in a particular order vs the order our dictionary was created, we can use the built-in sorted() function."
      ]
    },
    {
      "cell_type": "code",
      "execution_count": null,
      "metadata": {
        "id": "qye8QIQA4V0k"
      },
      "outputs": [],
      "source": [
        "for key in sorted(fav_vgame):\n",
        "  print(key)"
      ]
    },
    {
      "cell_type": "markdown",
      "metadata": {
        "id": "J4eHIuVx4m8s"
      },
      "source": [
        "We can loop through just the values of a Dictionary by using the .values() method.\n",
        "<br></br>\n",
        "We only need one iterator in this for loop."
      ]
    },
    {
      "cell_type": "code",
      "execution_count": null,
      "metadata": {
        "id": "_HMtjAsk4uMU"
      },
      "outputs": [],
      "source": [
        "for values in fav_vgame.values():\n",
        "  print(values)"
      ]
    },
    {
      "cell_type": "markdown",
      "metadata": {
        "id": "Pe2UL2Za1VqZ"
      },
      "source": [
        "To loop through both the keys and values in a dictionary we need two iterators and can use the .items() method.\n",
        "\n",
        "We will use f-string to format our print statements. The \"\\n\" inserts a blank line in the first print call on each iteration of the for loop.\n",
        "\n",
        "As a reminder, these are just print statements. We are not returning anything to be used later in our code."
      ]
    },
    {
      "cell_type": "code",
      "execution_count": null,
      "metadata": {
        "id": "2gGNoEZO1km3"
      },
      "outputs": [],
      "source": [
        "for key, value in fav_vgame.items():\n",
        "  print(f\"\\nKey: {key}\") #the key inside the curly brackets comes from our key iterator in the for loop\n",
        "  print(f\"Value: {value}\") #the value inside the curly brackets comes from our value iterator in the for loop"
      ]
    },
    {
      "cell_type": "markdown",
      "metadata": {
        "id": "y6hJgEP66Knq"
      },
      "source": [
        "**Problem 3**\n",
        "\n",
        "Use the dictionary methods and for loop examples above to complete the following task:\n",
        "\n",
        "*   Create a dictionary object called 'playlist' with a minimum of 6 key:value pairs.\n",
        "\n",
        "> *   Each Key in the dictionary should be an artist name\n",
        "> *   Each Value should be a corresponding song by that artist\n",
        "\n",
        "*   Use a for loop to create a print statement that prints all the artists in the playlist\n",
        "*   Use a for loop to create a print statment that prints all the songs in the playlist\n",
        "*   Use a for loop to create a print statement that says: \"(Song Name) by (Artist) is in the current playlist.\"\n",
        "*  Remove the last Key:Value pair from the Dictionary\n",
        "*  Add the song \"Anti-Hero\" by Taylor Swift to your playlist.\n",
        "*  Overwrite one of your songs to have REMIX in front of the song title\n",
        "*  Define & call a function that will print all the artists and songs from the object you pass into it.\n",
        "\n",
        "\n",
        "\n",
        "\n",
        "\n"
      ]
    },
    {
      "cell_type": "code",
      "execution_count": 8,
      "metadata": {
        "id": "Lh7XlwjC-Nrj"
      },
      "outputs": [
        {
          "name": "stdout",
          "output_type": "stream",
          "text": [
            "Artist ---> Singer One\n",
            "Song ---> Song One\n",
            "Song One by Singer One is in the current playlist.\n",
            "Artist ---> Singer Two\n",
            "Song ---> Song Two\n",
            "Song Two by Singer Two is in the current playlist.\n",
            "Artist ---> Singer Three\n",
            "Song ---> Song Three\n",
            "Song Three by Singer Three is in the current playlist.\n",
            "Artist ---> Singer Four\n",
            "Song ---> Song Four\n",
            "Song Four by Singer Four is in the current playlist.\n",
            "Artist ---> Singer Five\n",
            "Song ---> Song Five\n",
            "Song Five by Singer Five is in the current playlist.\n",
            "Artist ---> Singer Six\n",
            "Song ---> Song Six\n",
            "Song Six by Singer Six is in the current playlist.\n",
            "{'Singer One': 'Song One', 'Singer Two': 'Song Two', 'Singer Three': 'Song Three', 'Singer Four': 'Song Four', 'Singer Five': 'Song Five'}\n",
            "{'Singer One': 'Song One', 'Singer Two': 'REMIX Song Two', 'Singer Three': 'Song Three', 'Singer Four': 'Song Four', 'Singer Five': 'Song Five', 'Taylor Swift': 'Anti-Hero'}\n"
          ]
        }
      ],
      "source": [
        "playlist = {\n",
        "    \"Singer One\" : \"Song One\",\n",
        "    \"Singer Two\" : \"Song Two\",\n",
        "    \"Singer Three\" : \"Song Three\",\n",
        "    \"Singer Four\" : \"Song Four\",\n",
        "    \"Singer Five\" : \"Song Five\",\n",
        "    \"Singer Six\" : \"Song Six\"\n",
        "}\n",
        "def music_func(playlist: dict) -> None:\n",
        "\n",
        "    for key, value in playlist.items():\n",
        "        print(f\"Artist ---> {key}\")\n",
        "        print(F\"Song ---> {value}\")\n",
        "        print(f\"{value} by {key} is in the current playlist.\")\n",
        "\n",
        "    del playlist[next(reversed(playlist))]\n",
        "    print(playlist)\n",
        "    playlist.update({\"Taylor Swift\" : \"Anti-Hero\", \"Singer Two\" : \"REMIX Song Two\"})\n",
        "    print(playlist)\n",
        "\n",
        "music_func(playlist)\n"
      ]
    },
    {
      "cell_type": "markdown",
      "metadata": {
        "id": "jKV6DBeknuDk"
      },
      "source": [
        "##**Submission**\n",
        "- Submit your completed lab using the Start Assignment button on the assignment page in Canvas.\n",
        "- Your submission can be include:\n",
        "  - if you are using notebook then, all tasks should be written and submitted in a single notebook file, for example: (**your_name_labname.ipynb**).\n",
        "  - if you are using python script file, all tasks should be written and submitted in a single python script file for example: **(your_name_labname.py)**.\n",
        "- Add appropriate comments and any additional instructions if required.\n"
      ]
    }
  ],
  "metadata": {
    "colab": {
      "provenance": []
    },
    "kernelspec": {
      "display_name": "Python 3",
      "name": "python3"
    },
    "language_info": {
      "codemirror_mode": {
        "name": "ipython",
        "version": 3
      },
      "file_extension": ".py",
      "mimetype": "text/x-python",
      "name": "python",
      "nbconvert_exporter": "python",
      "pygments_lexer": "ipython3",
      "version": "3.13.2"
    }
  },
  "nbformat": 4,
  "nbformat_minor": 0
}
