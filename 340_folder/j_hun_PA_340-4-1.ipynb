{
 "cells": [
  {
   "cell_type": "markdown",
   "metadata": {},
   "source": [
    "1. Write a program that declares 1 variable x, and then assigns 7 to it. Write an if statement to print out `Less than 10` if x is less than 10. Change x to equal 15, and notice the result (the console should not display anything).\n"
   ]
  },
  {
   "cell_type": "code",
   "execution_count": null,
   "metadata": {},
   "outputs": [
    {
     "name": "stdout",
     "output_type": "stream",
     "text": [
      "Less than 10\n"
     ]
    }
   ],
   "source": [
    "def check_x(number: int) -> None:\n",
    "    if number < 10:\n",
    "        print(\"Less than 10\")\n",
    "\n",
    "x = 7\n",
    "check_x(x)\n",
    "x = 15\n",
    "check_x(x)"
   ]
  },
  {
   "cell_type": "markdown",
   "metadata": {},
   "source": [
    "2. Write a program that declares 1 variable x, and then assigns 7 to it. Write an if-else statement that prints out `Less than 10` if x is less than 10, and `Greater than 10` if x is greater than 10. Change x to 15 and notice the result. "
   ]
  },
  {
   "cell_type": "code",
   "execution_count": 2,
   "metadata": {},
   "outputs": [
    {
     "name": "stdout",
     "output_type": "stream",
     "text": [
      "Less than 10\n",
      "Greater than 10\n"
     ]
    }
   ],
   "source": [
    "def check_x(number: int) -> None:\n",
    "    if number < 10:\n",
    "        print(\"Less than 10\")\n",
    "    else:\n",
    "        print(\"Greater than 10\")\n",
    "\n",
    "x = 7\n",
    "check_x(x)\n",
    "x = 15\n",
    "check_x(x)"
   ]
  },
  {
   "cell_type": "markdown",
   "metadata": {},
   "source": [
    "3. Write a program that declares 1 variable x, and then assigns 15 to it. Write an if...elif...else statement that prints out `Less than 10` if x is less than 10; `Between 10 and 20` if x is greater than 10 but less than 20, and `Greater than or equal to 20` if x is greater than or equal to 20. Change x to 50 and notice the result.\n"
   ]
  },
  {
   "cell_type": "code",
   "execution_count": 3,
   "metadata": {},
   "outputs": [
    {
     "name": "stdout",
     "output_type": "stream",
     "text": [
      "Between 10 and 20\n",
      "Greater than or equal to 20\n"
     ]
    }
   ],
   "source": [
    "def check_x(number: int) -> None:\n",
    "    if number < 10:\n",
    "        print(\"Less than 10\")\n",
    "    elif number >= 10 and number < 20: \n",
    "        print(\"Between 10 and 20\")\n",
    "    else:\n",
    "        print(\"Greater than or equal to 20\")\n",
    "\n",
    "x = 15\n",
    "check_x(x)\n",
    "x = 50\n",
    "check_x(x)"
   ]
  },
  {
   "cell_type": "markdown",
   "metadata": {},
   "source": [
    " 4. Write a program that declares 1 variable x, and then assigns 15 to it. Write an if-else statement that prints `Out of range` if the number is less than 10 or greater than 20 and prints `In range` if the number is between 10 and 20 (including equal to 10 or 20). Change x to 5 and notice the result. \n"
   ]
  },
  {
   "cell_type": "code",
   "execution_count": 4,
   "metadata": {},
   "outputs": [
    {
     "name": "stdout",
     "output_type": "stream",
     "text": [
      "In range\n",
      "Out of range\n"
     ]
    }
   ],
   "source": [
    "def check_x(number: int) -> None:\n",
    "    if number < 10 or number > 20:\n",
    "        print(\"Out of range\")\n",
    "    else:\n",
    "        print(\"In range\")\n",
    "\n",
    "x = 15\n",
    "check_x(x)\n",
    "x = 5\n",
    "check_x(x)"
   ]
  },
  {
   "cell_type": "markdown",
   "metadata": {},
   "source": [
    "5. Write a program that uses if...elif...else statements to print out grades A, B, C, D, and F according to the following criteria:\n",
    "- A: 90-100\n",
    "- B: 80-89\n",
    "- C: 70-79\n",
    "- D: 60-69\n",
    "- F: <60  <br><br>\n",
    "Use the input() function  to accept a number score from the user to determine the letter grade. Print out `Score out of range` if the score is less than 0 or greater than 100.\n"
   ]
  },
  {
   "cell_type": "code",
   "execution_count": 15,
   "metadata": {},
   "outputs": [
    {
     "name": "stdout",
     "output_type": "stream",
     "text": [
      "A\n"
     ]
    }
   ],
   "source": [
    "score = int(input(\"Enter a score and see what your score is: \"))\n",
    "\n",
    "if score < 100 and score >= 90:\n",
    "    print(\"A\")\n",
    "elif score < 90 and score >= 80:\n",
    "    print(\"B\")\n",
    "elif score < 80 and score >= 70:\n",
    "    print(\"C\")\n",
    "elif score < 70 and score >= 60:\n",
    "    print(\"D\")\n",
    "elif score < 60 and score >= 0:\n",
    "    print(\"F\")\n",
    "else: \n",
    "    print(\"Score out of range\")"
   ]
  },
  {
   "cell_type": "markdown",
   "metadata": {},
   "source": [
    " 6. Create a program that lets the users input their filing status and income. Display how much tax the user would have to pay according to status and income.\n",
    "- The U.S. federal personal income tax is calculated based on the filing status and taxable income. \n",
    "- There are four filing statuses: Single, Married Filing Jointly, Married Filing Separately and Head of Household. \n",
    "- The tax rates for 2009 are shown below.\n"
   ]
  },
  {
   "cell_type": "code",
   "execution_count": 18,
   "metadata": {},
   "outputs": [
    {
     "name": "stdout",
     "output_type": "stream",
     "text": [
      "30000.00\n"
     ]
    }
   ],
   "source": [
    "def single_tax_calc(income: int) -> float:\n",
    "    if income < 8351:\n",
    "        return income * .10\n",
    "    elif income < 33951 and income >= 8351:\n",
    "        return income * .15\n",
    "    elif income < 82251 and income >= 33951:\n",
    "        return income * .25\n",
    "    elif income < 171551 and income >= 82251:\n",
    "        return income * .28\n",
    "    elif income < 372951 and income >= 171551:\n",
    "        return income * .33\n",
    "    else:\n",
    "        return income * .35\n",
    "    \n",
    "def marring_filing_joint_calc(income: int) -> float:\n",
    "    if income < 16701:\n",
    "        return income * .10\n",
    "    elif income < 67901 and income >= 16701:\n",
    "        return income * .15\n",
    "    elif income < 137051 and income >= 67901:\n",
    "        return income * .25\n",
    "    elif income < 208851 and income >= 137051:\n",
    "        return income * .28\n",
    "    elif income < 372951 and income >= 208851:\n",
    "        return income * .33\n",
    "    else:\n",
    "        return income * .35\n",
    "    \n",
    "def married_filing_sep_calc(income: int) -> float:\n",
    "    if income < 8351:\n",
    "        return income * .10\n",
    "    elif income < 33951 and income >= 8351:\n",
    "        return income * .15\n",
    "    elif income < 68526 and income >= 33951:\n",
    "        return income * .25\n",
    "    elif income < 104426 and income >= 68526:\n",
    "        return income * .28\n",
    "    elif income < 186476 and income >= 104426:\n",
    "        return income * .33\n",
    "    else:\n",
    "        return income * .35\n",
    "    \n",
    "def head_of_house_calc(income: int) -> float:\n",
    "    if income < 11951:\n",
    "        return income * .10\n",
    "    elif income < 45501 and income >= 11951:\n",
    "        return income * .15\n",
    "    elif income < 117451 and income >= 45501:\n",
    "        return income * .25\n",
    "    elif income < 190201 and income >= 117451:\n",
    "        return income * .28\n",
    "    elif income < 372951 and income >= 190201:\n",
    "        return income * .33\n",
    "    else:\n",
    "        return income * .35\n",
    "\n",
    "income = int(input(\"Enter your income for this year: \"))\n",
    "filing_status = int(input(\"Enter you filing status: 1) Single 2) Married filing jointly 3) Married filing separately 4) Head of household \"))\n",
    "\n",
    "if filing_status == 1:\n",
    "    print(f\"{single_tax_calc(income):.2f}\")\n",
    "elif filing_status == 2:\n",
    "    print(f\"{marring_filing_joint_calc(income):.2f}\")\n",
    "elif filing_status == 3:\n",
    "    print(f\"{married_filing_sep_calc(income):.2f}\")\n",
    "elif filing_status == 4:\n",
    "    print(f\"{head_of_house_calc(income):.2f}\")\n",
    "else:\n",
    "    print(\"That was an invalid input, BYE!\")"
   ]
  }
 ],
 "metadata": {
  "kernelspec": {
   "display_name": "Python 3",
   "language": "python",
   "name": "python3"
  },
  "language_info": {
   "codemirror_mode": {
    "name": "ipython",
    "version": 3
   },
   "file_extension": ".py",
   "mimetype": "text/x-python",
   "name": "python",
   "nbconvert_exporter": "python",
   "pygments_lexer": "ipython3",
   "version": "3.13.2"
  }
 },
 "nbformat": 4,
 "nbformat_minor": 2
}
