{
  "cells": [
    {
      "cell_type": "markdown",
      "metadata": {
        "id": "rfNbSBJDAVox"
      },
      "source": [
        "# **Guided Lab 340-5.1 -  Advance Example - List**\n",
        "\n",
        "---\n",
        "\n"
      ]
    },
    {
      "cell_type": "markdown",
      "metadata": {
        "id": "k3yERbYW-I-i"
      },
      "source": [
        "## **Learning Objective:**\n",
        " By the end of this lab, You will be able to utlize the list[] with functions.\n",
        "\n",
        "## **lab Objective:**\n",
        "\n",
        "-The primary objective of this code is to create a function that combines two lists of years, recent_first and recent_last, and arranges the years in chronological order. The code aims to achieve the following objectives:\n",
        "\n",
        "- Reverse the order of the recent_first list to make it chronological.\n",
        "\n",
        "- Extend the recent_last list by appending the reversed recent_first list to it.\n",
        "\n",
        "- Return the combined list, which is now in chronological order.\n",
        "\n",
        "Provide a clear example of how to call the function and print the combined list, demonstrating its practical usage."
      ]
    },
    {
      "cell_type": "markdown",
      "metadata": {
        "id": "yHqgtCx8960A"
      },
      "source": [
        "## Instructions\n",
        "\n",
        "---\n",
        "\n",
        "\n",
        "\n",
        "## Example One: Using .reverse() and .extend methods\n",
        "This following function accepts two variables, each containing a list of years. A current **\"recent_first\"** list contains [2022, 2018, 2011, 2006].\n",
        "An older **\"recent_last\"** list contains [1989, 1992, 1997, 2001].\n",
        "The lists need to be combined with the years in chronological order.\n",
        "\n",
        "- Reverse the order of a list using the .reverse() method.\n",
        "- Combine two lists using the .extend() method."
      ]
    },
    {
      "cell_type": "code",
      "execution_count": null,
      "metadata": {
        "colab": {
          "base_uri": "https://localhost:8080/"
        },
        "id": "su-XrzD0921b",
        "outputId": "8cd1e5fb-d986-4d1e-acb2-bcba98467d76"
      },
      "outputs": [
        {
          "name": "stdout",
          "output_type": "stream",
          "text": [
            "None\n",
            "Jshvdfj\n",
            "jshvdfj\n",
            "None\n",
            "[1989, 1992, 1997, 2001, 2006, 2011, 2018, 2022]\n"
          ]
        }
      ],
      "source": [
        "def record_profit_years(recent_first, recent_last):\n",
        "    # Reverse the order of the \"recent_first\" list so that it is in chronological order.\n",
        "    word = \"jshvdfj\"\n",
        "    print(recent_first.reverse())\n",
        "    print(word.capitalize()) ############ I just learned that the values are changed in memory as apposed to being reassigned ###################\n",
        "    print(word)########################## Could be an indicator of pass by reference vs pass by value ###########################################\n",
        "    # Extend the \"recent_last\" list by appending the newly reversed \"recent_first\" list.\n",
        "    print(recent_last.extend(recent_first))\n",
        "\n",
        "    # Return the \"recent_last\", which now contains the two lists combined in chronological order.\n",
        "    return recent_last\n",
        "\n",
        "# Assign the two lists to the two variables to be passed to the record_profit_years() function.\n",
        "recent_first = [2022, 2018, 2011, 2006]\n",
        "recent_last = [1989, 1992, 1997, 2001]\n",
        "\n",
        "# Call the record_profit_years() function and pass the two lists as  parameters.\n",
        "print(record_profit_years(recent_first, recent_last))\n",
        "# Should print [1989, 1992, 1997, 2001, 2006, 2011, 2018, 2022]"
      ]
    },
    {
      "cell_type": "markdown",
      "metadata": {
        "id": "bC9VTAk7ADji"
      },
      "source": [
        "## Here's a detailed breakdown of the code:\n",
        "\n",
        "**def record_profit_years(recent_first, recent_last):** - This line defines a function named record_profit_years that takes two parameters, recent_first and recent_last, which are expected to be lists of years.\n",
        "\n",
        "**recent_first.reverse()**: Inside the function, the code reverses the order of the recent_first list using the reverse() method. This step arranges the years in chronological order, from oldest to most recent.\n",
        "\n",
        "**recent_last.extend(recent_first):** The code then extends the recent_last list by appending the reversed recent_first list. This combines both lists, ensuring that the years are in chronological order.\n",
        "\n",
        "**return recent_last:** Finally, the function returns the combined list, which is now in chronological order.\n",
        "\n",
        "***recent_first = [2022, 2018, 2011, 2006] and recent_last = [1989, 1992, 1997, 2001]: ***These lines assign two lists of years to the recent_first and recent_last variables.\n",
        "\n",
        "**print(record_profit_years(recent_first, recent_last))**: The code calls the record_profit_years function, passing the recent_first and recent_last lists as parameters. It then prints the result, which should be the combined list of years in chronological order."
      ]
    },
    {
      "cell_type": "markdown",
      "metadata": {
        "id": "SM0PSg1l_wbZ"
      },
      "source": [
        "This code can be useful in scenarios where data needs to be organized chronologically, such as financial data, historical records, or any other application where time-based ordering is crucial.\n",
        "\n",
        "---\n",
        "\n"
      ]
    }
  ],
  "metadata": {
    "colab": {
      "provenance": []
    },
    "kernelspec": {
      "display_name": "Python 3",
      "name": "python3"
    },
    "language_info": {
      "codemirror_mode": {
        "name": "ipython",
        "version": 3
      },
      "file_extension": ".py",
      "mimetype": "text/x-python",
      "name": "python",
      "nbconvert_exporter": "python",
      "pygments_lexer": "ipython3",
      "version": "3.13.2"
    }
  },
  "nbformat": 4,
  "nbformat_minor": 0
}
