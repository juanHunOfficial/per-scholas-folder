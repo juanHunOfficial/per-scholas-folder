{
  "cells": [
    {
      "cell_type": "markdown",
      "metadata": {
        "id": "4pNaRPczgvQV"
      },
      "source": [
        "# String Excercises- Advanced\n",
        "\n",
        "# **Lab Objective:**\n",
        "\n",
        "This lab focuses on practicing advanced string manipulation techniques in Python. It provides a series of exercises designed to strengthen your understanding and skills in working with strings.\n",
        "\n",
        "# **Lab Overview**\n",
        "The lab consists of the following exercises:\n",
        "\n",
        "- String Construction: Create a new string using specific characters from an existing string.\n",
        "- String Replacement: Replace a specific character in a string with another character using the replace() method.\n",
        "- Case Conversion: Convert a string to lowercase and uppercase using the lower() and upper() methods.\n",
        "- String Checking: Check if a string starts with a specific character using the startswith() method.\n",
        "- Character Indexing: Find the index of a specific character within a string using the index() method.\n",
        "- Character Counting: Count the occurrences of specific characters in a string using the count() method.\n",
        "String Length: Determine the length of a string using the len() function.\n",
        "- Character Type Check: Check if all characters in a string are alphabetic using the isalpha() method.\n",
        "- String Searching: Find the position of a specific character using the find() and index() methods, while understanding their differences.\n",
        "- Character Frequency: Count the frequency of each character in a string.\n",
        "\n",
        "# **Learning Outcomes:**\n",
        "\n",
        "By completing this lab, you will gain proficiency in manipulating strings using various Python methods. You will also develop a deeper understanding of string properties and operations.\n",
        "\n",
        "### **Estimated Completion Time:** Approximately 30-45 minutes.\n",
        "---\n"
      ]
    },
    {
      "cell_type": "markdown",
      "metadata": {
        "id": "cUylAN2Ilryc"
      },
      "source": [
        "Complete the following practice excercises below to build up your skills with manipulating strings."
      ]
    },
    {
      "cell_type": "markdown",
      "metadata": {
        "id": "27IbcjVcl6Bh"
      },
      "source": [
        "**Problem 1**\n",
        "\n",
        "Create a new string with the following sentence:\n",
        "\n",
        "“You learn more from failure than from success.\"\n",
        "<br></br>\n",
        "* Use the 1st, 4th, and last charachter to create a new string."
      ]
    },
    {
      "cell_type": "code",
      "execution_count": 3,
      "metadata": {
        "id": "Swq_joOAmZB2"
      },
      "outputs": [
        {
          "name": "stdout",
          "output_type": "stream",
          "text": [
            "Y .\n"
          ]
        }
      ],
      "source": [
        "original_string = \"You learn more from failure than from success.\"\n",
        "new_string = f\"{original_string[0]}{original_string[3]}{original_string[-1]}\"\n",
        "print(new_string)"
      ]
    },
    {
      "cell_type": "markdown",
      "metadata": {
        "id": "mGPUZkRTmoqN"
      },
      "source": [
        "**Problem 2**\n",
        "\n",
        "* Use the same string variable from above\n",
        "* Use the replace() method to replace the \".\" with an \"!\""
      ]
    },
    {
      "cell_type": "code",
      "execution_count": 5,
      "metadata": {
        "id": "Seg9HXsFnHn-"
      },
      "outputs": [
        {
          "name": "stdout",
          "output_type": "stream",
          "text": [
            "Y !\n"
          ]
        }
      ],
      "source": [
        "new_string = new_string.replace('.', '!',1)\n",
        "print(new_string)"
      ]
    },
    {
      "cell_type": "markdown",
      "metadata": {
        "id": "ZdxYpOtrnIz8"
      },
      "source": [
        "**Problem 3**\n",
        "\n",
        "*   Use the string variable below and create a new variable that has all of the charachters from the original string as lowercase charachters\n",
        "\n",
        "\n"
      ]
    },
    {
      "cell_type": "code",
      "execution_count": 6,
      "metadata": {
        "id": "fciZlwkwnjNb"
      },
      "outputs": [
        {
          "name": "stdout",
          "output_type": "stream",
          "text": [
            "“when you change your thoughts, remember to also change your world.”\n"
          ]
        }
      ],
      "source": [
        "new_str= \"“WHEN YOU Change your thougHts, remember to ALSO change your world.”\"\n",
        "newer_var = new_str.lower()\n",
        "print(newer_var)"
      ]
    },
    {
      "cell_type": "markdown",
      "metadata": {
        "id": "cip5r4CRn3G4"
      },
      "source": [
        "**Problem 4**\n",
        "\n",
        "\n",
        "*   Take the new_str variable from above and make all of charachters uppercase\n",
        "\n",
        "\n"
      ]
    },
    {
      "cell_type": "code",
      "execution_count": 7,
      "metadata": {
        "id": "nFnFU3-ooHvA"
      },
      "outputs": [
        {
          "name": "stdout",
          "output_type": "stream",
          "text": [
            "“WHEN YOU CHANGE YOUR THOUGHTS, REMEMBER TO ALSO CHANGE YOUR WORLD.”\n"
          ]
        }
      ],
      "source": [
        "newer_var = new_str.upper()\n",
        "print(newer_var)"
      ]
    },
    {
      "cell_type": "markdown",
      "metadata": {
        "id": "HzCVplcwoPxU"
      },
      "source": [
        "**Problem 5**\n",
        "\n",
        "* Use the string variable below and the startswith() method to check and see if the string starts with the charachter \"Z\".\n",
        "* Check if it starts with the charachter \"t\"\n"
      ]
    },
    {
      "cell_type": "code",
      "execution_count": 9,
      "metadata": {
        "id": "1TAzCILcovZk"
      },
      "outputs": [
        {
          "name": "stdout",
          "output_type": "stream",
          "text": [
            "False\n",
            "False\n",
            "True\n"
          ]
        }
      ],
      "source": [
        "new_str= \"There are no traffic jams along the extra mile.\"\n",
        "print(new_str.startswith(\"Z\"))\n",
        "print(new_str.startswith(\"t\"))\n",
        "print(new_str.startswith(\"T\"))"
      ]
    },
    {
      "cell_type": "markdown",
      "metadata": {
        "id": "U5iHAc6MoubS"
      },
      "source": [
        "**Problem 6**\n",
        "\n",
        "\n",
        "\n",
        "*   Use the same new_str variable and the index() method to identify the index of charachter \"j\"\n",
        "\n",
        "\n"
      ]
    },
    {
      "cell_type": "code",
      "execution_count": 10,
      "metadata": {
        "id": "w3MhXXFxpTil"
      },
      "outputs": [
        {
          "name": "stdout",
          "output_type": "stream",
          "text": [
            "21\n"
          ]
        }
      ],
      "source": [
        "print(new_str.index(\"j\"))"
      ]
    },
    {
      "cell_type": "markdown",
      "metadata": {
        "id": "63odwi1_pU-h"
      },
      "source": [
        "**Problem 7**\n",
        "\n",
        "*   Use the same new_str variable\n",
        "*   Use the count() method to find the number of times \"t\" and \"o\" appear in a string\n",
        "* Create a print statement that has both results in one statement. You can use string concatenation, fstring, or any other way you can think of!\n",
        "\n"
      ]
    },
    {
      "cell_type": "code",
      "execution_count": null,
      "metadata": {
        "colab": {
          "base_uri": "https://localhost:8080/"
        },
        "id": "2okBBd33p6O-",
        "outputId": "d8d81431-2f50-4cbd-db1d-5da4acdd7892"
      },
      "outputs": [
        {
          "name": "stdout",
          "output_type": "stream",
          "text": [
            "The letter 't' appears 3 times and the letter 'o' appears 2 times.\n",
            "The letter 't' appears 3 times and the letter 'o' appears 2 times.\n"
          ]
        }
      ],
      "source": [
        "a = new_str.count(\"t\")\n",
        "b = new_str.count(\"o\")\n",
        "print(\"The letter 't' appears {} times and the letter 'o' appears {} times.\".format(a,b))\n",
        "\n",
        "print(f\"The letter 't' appears {a} times and the letter 'o' appears {b} times.\")"
      ]
    },
    {
      "cell_type": "markdown",
      "metadata": {
        "id": "u1UpWwGjp_qu"
      },
      "source": [
        "**Problem 8**\n",
        "\n",
        "* Using the string below, find the length of the given string."
      ]
    },
    {
      "cell_type": "code",
      "execution_count": 11,
      "metadata": {
        "id": "SAErNiQXqNiq"
      },
      "outputs": [
        {
          "name": "stdout",
          "output_type": "stream",
          "text": [
            "13\n"
          ]
        }
      ],
      "source": [
        "greeting= \"Good Morning!\"\n",
        "print(len(greeting))"
      ]
    },
    {
      "cell_type": "markdown",
      "metadata": {
        "id": "PlVi5hw8q6ha"
      },
      "source": [
        "**Problem 9**\n",
        "\n",
        "\n",
        "\n",
        "*   Use the string below, and documentation on string methods to find if all the charachters in a string are alpha charachters.\n",
        "\n"
      ]
    },
    {
      "cell_type": "code",
      "execution_count": null,
      "metadata": {
        "id": "jBsKOU-drQdV"
      },
      "outputs": [],
      "source": [
        "alphabet= \"abcdefghijklmnopqrstuvwxyz\"\n",
        "# Not really a sentence in the problem statement above."
      ]
    },
    {
      "cell_type": "markdown",
      "metadata": {
        "id": "34l2TSFMrYvv"
      },
      "source": [
        "**Problem 10**\n",
        "\n",
        "Use the string below to complete the following:\n",
        "\n",
        "\n",
        "*   Use the find() method for the value \"y\"\n",
        "*   Use the index() method for the value \"y\"\n",
        "*  Create a comment explaining the difference between the two methods\n",
        "\n",
        "\n",
        "\n"
      ]
    },
    {
      "cell_type": "code",
      "execution_count": null,
      "metadata": {
        "id": "8ki6bRY-sHBf"
      },
      "outputs": [
        {
          "name": "stdout",
          "output_type": "stream",
          "text": [
            "-1\n"
          ]
        },
        {
          "ename": "ValueError",
          "evalue": "substring not found",
          "output_type": "error",
          "traceback": [
            "\u001b[31m---------------------------------------------------------------------------\u001b[39m",
            "\u001b[31mValueError\u001b[39m                                Traceback (most recent call last)",
            "\u001b[36mCell\u001b[39m\u001b[36m \u001b[39m\u001b[32mIn[15]\u001b[39m\u001b[32m, line 3\u001b[39m\n\u001b[32m      1\u001b[39m learning= \u001b[33m\"\u001b[39m\u001b[33mLearning is fun!\u001b[39m\u001b[33m\"\u001b[39m\n\u001b[32m      2\u001b[39m \u001b[38;5;28mprint\u001b[39m(learning.find(\u001b[33m\"\u001b[39m\u001b[33my\u001b[39m\u001b[33m\"\u001b[39m))\n\u001b[32m----> \u001b[39m\u001b[32m3\u001b[39m \u001b[38;5;28mprint\u001b[39m(\u001b[43mlearning\u001b[49m\u001b[43m.\u001b[49m\u001b[43mindex\u001b[49m\u001b[43m(\u001b[49m\u001b[33;43m\"\u001b[39;49m\u001b[33;43my\u001b[39;49m\u001b[33;43m\"\u001b[39;49m\u001b[43m)\u001b[49m)\n\u001b[32m      4\u001b[39m \u001b[38;5;66;03m#\u001b[39;00m\n",
            "\u001b[31mValueError\u001b[39m: substring not found"
          ]
        }
      ],
      "source": [
        "learning= \"Learning is fun!\"\n",
        "print(learning.find(\"y\"))\n",
        "print(learning.index(\"y\"))\n",
        "# find returns a -1 if the value is not found and index will raise a ValueError"
      ]
    },
    {
      "cell_type": "markdown",
      "metadata": {
        "id": "QtYuT-iB_ihF"
      },
      "source": [
        "# Problem 11\n",
        "\n",
        "Use the string below to count the number of times each charachter appears in a string."
      ]
    },
    {
      "cell_type": "code",
      "execution_count": 17,
      "metadata": {
        "id": "_HCSppKL_1E_"
      },
      "outputs": [
        {
          "name": "stdout",
          "output_type": "stream",
          "text": [
            "1\n",
            "5\n",
            "5\n",
            "3\n",
            "3\n",
            "2\n",
            "5\n",
            "4\n",
            "1\n",
            "3\n",
            "3\n",
            "1\n",
            "2\n",
            "3\n",
            "1\n",
            "1\n",
            "1\n",
            "1\n"
          ]
        }
      ],
      "source": [
        "count_string= \"Twinkle twinkle little star, how I wonder what you are\"\n",
        "print(count_string.count(\"T\"))\n",
        "print(count_string.count(\"t\"))\n",
        "print(count_string.count(\"w\"))\n",
        "print(count_string.count(\"i\"))\n",
        "print(count_string.count(\"n\"))\n",
        "print(count_string.count(\"k\"))\n",
        "print(count_string.count(\"e\"))\n",
        "print(count_string.count(\"l\"))\n",
        "print(count_string.count(\"s\"))\n",
        "print(count_string.count(\"a\"))\n",
        "print(count_string.count(\"r\"))\n",
        "print(count_string.count(\",\"))\n",
        "print(count_string.count(\"h\"))\n",
        "print(count_string.count(\"o\"))\n",
        "print(count_string.count(\"I\"))\n",
        "print(count_string.count(\"d\"))\n",
        "print(count_string.count(\"y\"))\n",
        "print(count_string.count(\"u\"))"
      ]
    },
    {
      "cell_type": "markdown",
      "metadata": {
        "id": "cYUbGI40oVp7"
      },
      "source": [
        "##**Submission**\n",
        "- Submit your completed lab using the Start Assignment button on the assignment page in Canvas.\n",
        "- Your submission can be include:\n",
        "  - if you are using notebook then, all tasks should be written and submitted in a single notebook file, for example: (**your_name_labname.ipynb**).\n",
        "  - if you are using python script file, all tasks should be written and submitted in a single python script file for example: **(your_name_labname.py)**.\n",
        "- Add appropriate comments and any additional instructions if required.\n"
      ]
    }
  ],
  "metadata": {
    "colab": {
      "provenance": []
    },
    "kernelspec": {
      "display_name": "Python 3",
      "name": "python3"
    },
    "language_info": {
      "codemirror_mode": {
        "name": "ipython",
        "version": 3
      },
      "file_extension": ".py",
      "mimetype": "text/x-python",
      "name": "python",
      "nbconvert_exporter": "python",
      "pygments_lexer": "ipython3",
      "version": "3.13.2"
    }
  },
  "nbformat": 4,
  "nbformat_minor": 0
}
