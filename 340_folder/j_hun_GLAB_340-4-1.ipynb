{
 "cells": [
  {
   "cell_type": "markdown",
   "metadata": {},
   "source": [
    "# Juan Hun - GLAB 340.4.1 *for* Loops"
   ]
  },
  {
   "cell_type": "markdown",
   "metadata": {},
   "source": [
    "In the following program, the user will be prompted to enter a positive integer number, and the program will find the sum of the “n” natural numbers entered by the user."
   ]
  },
  {
   "cell_type": "code",
   "execution_count": 3,
   "metadata": {},
   "outputs": [
    {
     "name": "stdout",
     "output_type": "stream",
     "text": [
      "The sum of the first 2 natural numbers is: 3\n"
     ]
    }
   ],
   "source": [
    "# Input: Take the value of 'n' from the user\n",
    "n = int(input(\"Enter a positive integer (n): \"))\n",
    "\n",
    "\n",
    "# Initialize a variable to store the sum\n",
    "sum_of_natural_numbers = 0\n",
    "\n",
    "\n",
    "# Calculate the sum of the first 'n' natural numbers\n",
    "for i in range(1, n + 1):\n",
    "    sum_of_natural_numbers += i\n",
    "\n",
    "\n",
    "# Display the sum\n",
    "print(f\"The sum of the first {n} natural numbers is: {sum_of_natural_numbers}\")"
   ]
  },
  {
   "cell_type": "markdown",
   "metadata": {},
   "source": [
    "- The user is prompted to enter a positive integer 'n' using the input function. \n",
    "- The int() function is used to convert the user's input to an integer, and it is stored in the variable n.\n",
    "- A variable called sum_of_natural_numbers is initialized to 0.\n",
    "- This variable will be used to accumulate the sum of natural numbers.\n",
    "- A for loop is used to iterate through the numbers from 1 to 'n'.\n",
    "- In each iteration, the current number is added to the `sum_of_natural_numbers` variable.\n",
    "- Finally, the program prints the sum of the first 'n' natural numbers using an f-string. When you run this program, it will calculate and display the sum of the first 'n' natural numbers entered by the user.\n"
   ]
  },
  {
   "cell_type": "markdown",
   "metadata": {},
   "source": [
    "### My replication\n",
    "---\n"
   ]
  },
  {
   "cell_type": "code",
   "execution_count": null,
   "metadata": {},
   "outputs": [
    {
     "name": "stdout",
     "output_type": "stream",
     "text": [
      "52\n"
     ]
    }
   ],
   "source": [
    "string_to_count = \"Count the letters in the string and display it on the string\"\n",
    "length_of_string = 0\n",
    "\n",
    "for letter in string_to_count:\n",
    "    if letter.isalpha():\n",
    "        length_of_string += 1\n",
    "\n",
    "print(length_of_string)"
   ]
  },
  {
   "cell_type": "markdown",
   "metadata": {},
   "source": [
    "In this example, we are going to see whether a number is a palindrome. A for loop is used in this case. A palindrome number, when reversed, represents the same number."
   ]
  },
  {
   "cell_type": "code",
   "execution_count": null,
   "metadata": {},
   "outputs": [],
   "source": [
    "# Input: Take a number from the user\n",
    "number = int(input(\"Enter a number: \"))\n",
    "\n",
    "\n",
    "# Convert the number to a string for easier comparison\n",
    "num_str = str(number)\n",
    "\n",
    "\n",
    "# Reverse the string\n",
    "reversed_str = num_str[::-1]\n",
    "\n",
    "\n",
    "# Check if the original number and its reverse are the same\n",
    "if num_str == reversed_str:\n",
    "    print(f\"{number} is a palindrome number.\")\n",
    "else:\n",
    "    print(f\"{number} is not a palindrome number.\")"
   ]
  },
  {
   "cell_type": "markdown",
   "metadata": {},
   "source": [
    "Nested *for* loops example: "
   ]
  },
  {
   "cell_type": "code",
   "execution_count": 7,
   "metadata": {},
   "outputs": [
    {
     "name": "stdout",
     "output_type": "stream",
     "text": [
      "i = 0 j = 0\n",
      "i = 0 j = 1\n",
      "i just finished loop number: 0\n",
      "i = 1 j = 0\n",
      "i = 1 j = 1\n",
      "i just finished loop number: 1\n",
      "i = 2 j = 0\n",
      "i = 2 j = 1\n",
      "i just finished loop number: 2\n",
      "i = 3 j = 0\n",
      "i = 3 j = 1\n",
      "i just finished loop number: 3\n",
      "i = 4 j = 0\n",
      "i = 4 j = 1\n",
      "i just finished loop number: 4\n",
      "i = 5 j = 0\n",
      "i = 5 j = 1\n",
      "i just finished loop number: 5\n",
      "i = 6 j = 0\n",
      "i = 6 j = 1\n",
      "i just finished loop number: 6\n",
      "i = 7 j = 0\n",
      "i = 7 j = 1\n",
      "i just finished loop number: 7\n",
      "i = 8 j = 0\n",
      "i = 8 j = 1\n",
      "i just finished loop number: 8\n",
      "i = 9 j = 0\n",
      "i = 9 j = 1\n",
      "i just finished loop number: 9\n"
     ]
    }
   ],
   "source": [
    "for i in range(10):\n",
    "    for j in range(2):\n",
    "        print(f\"i = {i} j = {j}\")\n",
    "    print(f\"i just finished loop number: {i}\")"
   ]
  },
  {
   "cell_type": "code",
   "execution_count": null,
   "metadata": {},
   "outputs": [],
   "source": [
    "# Input: Take the number of rows for the pyramid from the user\n",
    "n = int(input(\"Enter the number of rows for the pyramid: \"))\n",
    "\n",
    "\n",
    "# Outer loop for the number of rows\n",
    "for i in range(1, n + 1):\n",
    "    # Print leading spaces for formatting\n",
    "    for j in range(n - i):\n",
    "        print(\" \", end=\"\")\n",
    "    # Print asterisks for the current row\n",
    "    for k in range(2 * i - 1):\n",
    "        print(\"*\", end=\"\")\n",
    "    # Move to the next line for the next row\n",
    "    print()"
   ]
  },
  {
   "cell_type": "markdown",
   "metadata": {},
   "source": [
    "- The user is prompted to enter the number of rows they want for the pyramid.\n",
    "- There are two nested for loops:\n",
    "- The outer loop (for i in range(1, n + 1)) iterates through the rows from 1 to n.\n",
    "- The inner loops handle the printing of spaces and asterisks.\n",
    "- The first inner loop (for j in range(n - i)) prints leading spaces to create the pyramid shape. The number of spaces decreases as you move down the rows.\n",
    "- The second inner loop (for k in range(2 * i - 1)) prints asterisks to form the pyramid's body. The number of asterisks increases by 2 with each row.\n",
    "- A newline character is added after printing each row to move to the next line.\n"
   ]
  }
 ],
 "metadata": {
  "kernelspec": {
   "display_name": "Python 3",
   "language": "python",
   "name": "python3"
  },
  "language_info": {
   "codemirror_mode": {
    "name": "ipython",
    "version": 3
   },
   "file_extension": ".py",
   "mimetype": "text/x-python",
   "name": "python",
   "nbconvert_exporter": "python",
   "pygments_lexer": "ipython3",
   "version": "3.13.2"
  }
 },
 "nbformat": 4,
 "nbformat_minor": 2
}
