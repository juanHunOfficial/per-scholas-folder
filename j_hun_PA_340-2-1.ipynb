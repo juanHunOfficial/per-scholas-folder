{
 "cells": [
  {
   "cell_type": "markdown",
   "metadata": {},
   "source": [
    "# Juan Hun - PA 340.2.1 - Python Number - Data Types and Variables"
   ]
  },
  {
   "cell_type": "markdown",
   "metadata": {},
   "source": [
    "---"
   ]
  },
  {
   "cell_type": "markdown",
   "metadata": {},
   "source": [
    "1. Write a Python program that declares two integer variables, assigns an integer to each, and adds them together. Assign the sum to a variable. Print out the result."
   ]
  },
  {
   "cell_type": "code",
   "execution_count": 6,
   "metadata": {},
   "outputs": [
    {
     "name": "stdout",
     "output_type": "stream",
     "text": [
      "52\n"
     ]
    }
   ],
   "source": [
    "a = 20\n",
    "b = 32\n",
    "\n",
    "sum = a + b\n",
    "print(sum)"
   ]
  },
  {
   "cell_type": "markdown",
   "metadata": {},
   "source": [
    "2. Write a Python program that declares two float variables, assigns a number to each, and adds them together. Assign the sum to a variable. Print out the result."
   ]
  },
  {
   "cell_type": "code",
   "execution_count": 7,
   "metadata": {},
   "outputs": [
    {
     "name": "stdout",
     "output_type": "stream",
     "text": [
      "7.83973834\n"
     ]
    }
   ],
   "source": [
    "a = 3.4523\n",
    "b  = 4.38743834\n",
    "\n",
    "sum = a + b \n",
    "print(sum)"
   ]
  },
  {
   "cell_type": "markdown",
   "metadata": {},
   "source": [
    "3. Write a Python program that declares an integer variable and a float variable, assigns numbers to each, and adds them together. Assign the sum to a variable. Print out the result. What variable type must the sum be? (Hint: The variable type of the sum must be a float)."
   ]
  },
  {
   "cell_type": "code",
   "execution_count": 8,
   "metadata": {},
   "outputs": [
    {
     "name": "stdout",
     "output_type": "stream",
     "text": [
      "<class 'float'>\n"
     ]
    }
   ],
   "source": [
    "a = 3.43\n",
    "b  = 4.3874\n",
    "\n",
    "sum = a + b \n",
    "print(type(sum))"
   ]
  },
  {
   "cell_type": "markdown",
   "metadata": {},
   "source": [
    "4. Write a Python program that declares two integer variables, assigns an integer to each, and divides the larger number by the smaller number. Assign the result to a variable. Print out the result."
   ]
  },
  {
   "cell_type": "code",
   "execution_count": null,
   "metadata": {},
   "outputs": [],
   "source": [
    "a = 30\n",
    "b = 20\n",
    "\n",
    "sum = a // b\n",
    "print(sum)"
   ]
  },
  {
   "cell_type": "markdown",
   "metadata": {},
   "source": [
    "5. Write a Python program that declares two float variables, assigns a number to each, and divides the larger by the smaller number. Assign the result to a variable. Print out the result."
   ]
  },
  {
   "cell_type": "code",
   "execution_count": null,
   "metadata": {},
   "outputs": [],
   "source": [
    "a = 3.4523\n",
    "b  = 4.38743834\n",
    "\n",
    "sum = a / b \n",
    "print(sum)"
   ]
  },
  {
   "cell_type": "markdown",
   "metadata": {},
   "source": [
    "6. Write a program where you create three variables that represent products at a cafe. The products could be beverages such as `coffee,` `cappuccino,` `espresso,` `green tea,` etc. Assign prices to each product"
   ]
  },
  {
   "cell_type": "code",
   "execution_count": 17,
   "metadata": {},
   "outputs": [],
   "source": [
    "coffee = 19.99\n",
    "espresso = 24.99\n",
    "green_tea = 4.99"
   ]
  },
  {
   "cell_type": "markdown",
   "metadata": {},
   "source": [
    "7. Create two more variables called subtotal and totalSale, and complete an “order” for three items of the first product, four items of the second product, and two items of the third product. Add them all together to calculate the subtotal. Create a variable called SALES_TAX and add sales tax to the subtotal to obtain the totalSale amount."
   ]
  },
  {
   "cell_type": "code",
   "execution_count": 18,
   "metadata": {},
   "outputs": [
    {
     "name": "stdout",
     "output_type": "stream",
     "text": [
      "Your subtotal is $169.91, plus tax, you owe 181.80\n"
     ]
    }
   ],
   "source": [
    "subtotal = 0\n",
    "total_sale = 0\n",
    "SALES_TAX = 0.07\n",
    "\n",
    "subtotal = (coffee * 3) + (espresso * 4) + (green_tea * 2)\n",
    "total = subtotal + (subtotal * SALES_TAX)\n",
    "print(f\"Your subtotal is ${subtotal:.2f}, plus tax, you owe {total:.2f}\") # I did not remember how to do this in an f-string, I did have to google that."
   ]
  },
  {
   "cell_type": "markdown",
   "metadata": {},
   "source": [
    "8. Write a Python program that calculates the area of a circle based on the radius = 63. To calculate the area of a circle based on the radius, we can use the following formula:\n",
    "Area of a circle = π * radius²\n",
    "where π is a mathematical constant with an approximate value of 3.14.\n"
   ]
  },
  {
   "cell_type": "code",
   "execution_count": 16,
   "metadata": {},
   "outputs": [
    {
     "name": "stdout",
     "output_type": "stream",
     "text": [
      "12462.66\n"
     ]
    }
   ],
   "source": [
    "PIE = 3.14\n",
    "radius = 63\n",
    "area = PIE * radius**2\n",
    "\n",
    "print(area)"
   ]
  }
 ],
 "metadata": {
  "kernelspec": {
   "display_name": "Python 3",
   "language": "python",
   "name": "python3"
  },
  "language_info": {
   "codemirror_mode": {
    "name": "ipython",
    "version": 3
   },
   "file_extension": ".py",
   "mimetype": "text/x-python",
   "name": "python",
   "nbconvert_exporter": "python",
   "pygments_lexer": "ipython3",
   "version": "3.13.2"
  }
 },
 "nbformat": 4,
 "nbformat_minor": 2
}
