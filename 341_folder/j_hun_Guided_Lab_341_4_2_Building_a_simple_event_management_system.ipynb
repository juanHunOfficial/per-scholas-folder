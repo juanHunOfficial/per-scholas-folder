{
  "cells": [
    {
      "cell_type": "markdown",
      "metadata": {
        "id": "WQMOL-87rNXu"
      },
      "source": [
        "# **Guided Lab 341.4.2 - Building a simple event management system**\n",
        "\n",
        "---\n",
        "\n"
      ]
    },
    {
      "cell_type": "markdown",
      "metadata": {
        "id": "YWu0nYHcrOpU"
      },
      "source": [
        "# **Learning Objective**:\n",
        "By the end of this lab, learners will be able to use Date and Time series in python applications.\n",
        "\n",
        "# **Lab Objective**:\n",
        "\n",
        "This lab focuses on utilizing Python's date and time functionalities to construct a basic event management system. Throughout this lab, you will:\n",
        "\n",
        "1.  **Learn to manipulate dates and times in Python**: You'll work with the `datetime` module to represent and manipulate dates and times, crucial for scheduling and managing events.\n",
        "2.  **Build an event management system**: You'll create a program that enables users to schedule events, providing the event name and date.\n",
        "3.  **List and organize events**: The system will allow users to view upcoming events, sorted chronologically, along with the number of days remaining until each event.\n",
        "4.  **Implement user interaction**: You'll design the program to interact with users, allowing them to add events, list events, and exit the program.\n"
      ]
    },
    {
      "cell_type": "markdown",
      "metadata": {
        "id": "nCYLZUHIrOx0"
      },
      "source": [
        "# **Lab Overview:**\n",
        "Here's a real-world example of using Python's date and time functionality to build a simple event management system. In this example, we'll create a program that allows users to schedule and list events, and it will automatically remind them of upcoming events."
      ]
    },
    {
      "cell_type": "markdown",
      "metadata": {
        "id": "pVNRrDdbrdkM"
      },
      "source": [
        "- We will use a dictionary events to store event names as keys and their corresponding dates as values.\n",
        "\n",
        "- Users can add events by providing a name and a date in the format \"YYYY-MM-DD.\"\n",
        "\n",
        "- Users can list upcoming events, which are sorted by date and include the number of days remaining until each event.\n",
        "\n",
        "- The program continues running until the user chooses to quit."
      ]
    },
    {
      "cell_type": "code",
      "execution_count": null,
      "metadata": {
        "colab": {
          "background_save": true,
          "base_uri": "https://localhost:8080/"
        },
        "id": "COfO2tXzrFWt",
        "outputId": "a7b4e911-8b90-4dc2-be9a-1bf3b480d75b"
      },
      "outputs": [
        {
          "name": "stdout",
          "output_type": "stream",
          "text": [
            "\n",
            "Event Management System\n",
            "1. Add Event\n",
            "2. List Events\n",
            "3. Greet the user\n",
            "4. Quit\n",
            "\n",
            "Greetings User\n",
            "\n",
            "Event Management System\n",
            "1. Add Event\n",
            "2. List Events\n",
            "3. Greet the user\n",
            "4. Quit\n",
            "\n",
            "Goodbye!\n"
          ]
        }
      ],
      "source": [
        "import datetime\n",
        "\n",
        "# Create an empty dictionary to store events\n",
        "events = {}\n",
        "\n",
        "def add_event():\n",
        "  # Get user input\n",
        "    event_name = input(\"Enter event name: \")\n",
        "    event_date = input(\"Enter event date (YYYY-MM-DD): \")\n",
        " # Parse the event date\n",
        " # Validate the date format\n",
        "    try:\n",
        "        event_date = datetime.datetime.strptime(event_date, \"%Y-%m-%d\").date()\n",
        "    except ValueError:\n",
        "        print(\"Invalid date format. Use YYYY-MM-DD.\")\n",
        "        return\n",
        "\n",
        "    events[event_name] = event_date\n",
        "    print(\"Event added!\")\n",
        "# Function to list upcoming events\n",
        "def list_events():\n",
        "    if events:\n",
        "        print(\"Upcoming events:\")\n",
        "        # Sort events by date\n",
        "        for event, date in sorted(events.items(), key=lambda item: item[1]):\n",
        "            days_remaining = (date - datetime.date.today()).days\n",
        "            # Print event details\n",
        "            print(f\"{event} - {date} ({days_remaining} days remaining)\")\n",
        "    else:\n",
        "        print(\"No upcoming events.\")\n",
        "\n",
        "def greet_the_user():\n",
        "    print(\"\\nGreetings User\") # ----------------------IM MANIPULATED THE CODE TO ADD TO THE SYSTEM-----------------------------------\n",
        "# Main program\n",
        "def main():\n",
        "    while True:\n",
        "        print(\"\\nEvent Management System\")\n",
        "        print(\"1. Add Event\")\n",
        "        print(\"2. List Events\")\n",
        "        print(\"3. Greet the user\")\n",
        "        print(\"4. Quit\")\n",
        "        # Get user input\n",
        "        choice = input(\"Enter your choice: \")\n",
        "        # Process user input\n",
        "        if choice == \"1\":\n",
        "            add_event()\n",
        "        elif choice == \"2\":\n",
        "            list_events()\n",
        "        elif choice == \"3\":\n",
        "            greet_the_user()\n",
        "        elif choice == \"4\":\n",
        "            print(\"\\nGoodbye!\")\n",
        "            break\n",
        "        else:\n",
        "            print(\"Invalid choice. Please try again.\")\n",
        "\n",
        "if __name__ == \"__main__\":\n",
        "    main()"
      ]
    },
    {
      "cell_type": "markdown",
      "metadata": {
        "id": "99-pQjoHsGdu"
      },
      "source": [
        "# **Explaination:**\n",
        "--Let's go through the explanation of the program step by step:\n",
        "\n",
        "**Creating an Empty Dictionary for Events:**\n",
        "\n",
        "We create an empty dictionary named events to store event names and their corresponding dates. This will serve as our event management system's data store.\n",
        "\n",
        "**add_event() Function:**\n",
        "\n",
        "* The add_event() function allows users to add events to the system.\n",
        "It prompts the user to enter an event name and a date in the format \"YYYY-MM-DD.\"\n",
        "* It attempts to convert the user-provided date string into a datetime.date object and stores it in the events dictionary along with the event name.\n",
        "If the date format is invalid, it informs the user and doesn't add the event.\n",
        "\n",
        "**list_events() Function:**\n",
        "\n",
        "* The list_events() function displays a list of upcoming events, sorted by date.\n",
        "It calculates the number of days remaining until each event and shows this information to the user.\n",
        "If there are no events, it informs the user that there are no upcoming events.\n",
        "\n",
        "**main() Function:**\n",
        "\n",
        "* The main() function serves as the main entry point of the program.\n",
        "It presents a menu to the user with three options: adding an event, listing events, and quitting the program.\n",
        "It uses a while loop to repeatedly prompt the user for their choice until they choose to quit.\n",
        "\n",
        "**Running the Program:**\n",
        "\n",
        "The if __name__ == \"__main__\": condition ensures that the main() function is executed when the script is run.\n",
        "Users can add events, list events, or quit the program. The program will keep running until the user chooses to quit.\n",
        "\n",
        "\n",
        "---\n",
        "\n"
      ]
    },
    {
      "cell_type": "markdown",
      "metadata": {
        "id": "raaR05dqr3At"
      },
      "source": [
        "This is a simple example, but it demonstrates how Python's date and time capabilities can be used to build a practical application for event scheduling and management. You can expand on this foundation by adding features like event reminders, editing and deleting events, or saving events to a file for persistence."
      ]
    },
    {
      "cell_type": "markdown",
      "metadata": {
        "id": "1yaJlMbHNT23"
      },
      "source": [
        "## **Submission**\n",
        "- Submit your completed lab using the Start Assignment button on the assignment page in Canvas.\n",
        "- Your submission can be include:\n",
        "  - if you are using notebook then, all tasks should be written and submitted in a single notebook file, for example: (**your_name_labname.ipynb**).\n",
        "  - if you are using python script file, all tasks should be written and submitted in a single python script file for example: **(your_name_labname.py)**.\n",
        "- Add appropriate comments and any additional instructions if required.\n"
      ]
    }
  ],
  "metadata": {
    "colab": {
      "provenance": []
    },
    "kernelspec": {
      "display_name": "venv",
      "language": "python",
      "name": "python3"
    },
    "language_info": {
      "codemirror_mode": {
        "name": "ipython",
        "version": 3
      },
      "file_extension": ".py",
      "mimetype": "text/x-python",
      "name": "python",
      "nbconvert_exporter": "python",
      "pygments_lexer": "ipython3",
      "version": "3.12.0"
    }
  },
  "nbformat": 4,
  "nbformat_minor": 0
}
