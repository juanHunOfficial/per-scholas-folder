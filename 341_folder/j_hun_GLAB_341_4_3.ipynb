{
 "cells": [
  {
   "cell_type": "markdown",
   "metadata": {},
   "source": [
    "# Guided Lab 341.4.3 - How to Use Python Math Module Functions\n",
    "## Learning Objective: \n",
    "This guided lab activity walks learners through the “math” module which is used for advanced mathematical operations. \n",
    "By the end of this lab, learners will be able to:\n",
    "Use `math` module methods for mathematical calculations in the Python module.\n",
    "leverage the `math` module to solve complex mathematical problems in your programs.\n",
    "\n",
    "## Lab Objective:\n",
    "You will learn how to use various functions within `math` module to perform calculations such as addition, division, exponentiation, square roots, logarithms, factorials, and more.\n",
    "\n",
    "The lab will provide examples and guidance on how to apply these functions correctly in your Python code.\n",
    "\n",
    "## Introduction:\n",
    "The Python math module provides functions for various advanced mathematical operations. To use these functions, you need to import the math module first. \n",
    "Here are some examples of complex arithmetic operations using the Python math module:\n",
    "\n",
    "## Begin:\n",
    "### 1. Example: Addition\n",
    "The Python math module provides the math.fsum() function, which is particularly useful for adding floating-point numbers with better precision than the standard + operator. The math.fsum() function takes an iterable (such as a list or tuple) of numbers as its argument and returns the sum of all elements in the iterable.\n"
   ]
  },
  {
   "cell_type": "code",
   "execution_count": 1,
   "metadata": {},
   "outputs": [
    {
     "name": "stdout",
     "output_type": "stream",
     "text": [
      "16.5\n"
     ]
    }
   ],
   "source": [
    "import math\n",
    "\n",
    "numbers = [1.1, 2.2, 3.3, 4.4, 5.5]\n",
    "result = math.fsum(numbers)\n",
    "print(result)  # Output: 16.5"
   ]
  },
  {
   "cell_type": "markdown",
   "metadata": {},
   "source": [
    "### 2. Example: Division:\n",
    "Python has built-in division using the `/` operator. The math module provides `math.floor()` and `math.ceil()` functions that can be used in conjunction with division.\n"
   ]
  },
  {
   "cell_type": "code",
   "execution_count": 2,
   "metadata": {},
   "outputs": [
    {
     "name": "stdout",
     "output_type": "stream",
     "text": [
      "3\n"
     ]
    }
   ],
   "source": [
    "# Using math.floor() for integer division (floor division)\n",
    "a = 10\n",
    "b = 3\n",
    "result = math.floor(a / b)\n",
    "print(result)  # Output: 3\n",
    "\n",
    "\n",
    "# Using math.ceil() for ceiling division\n",
    "result = math.ceil(a / b)"
   ]
  },
  {
   "cell_type": "markdown",
   "metadata": {},
   "source": [
    "### 3. Example: Exponentiation:\n",
    "The `math.exp()` method returns a float number after raising e to the power of the given number. In other words, exp(x) gives e**x"
   ]
  },
  {
   "cell_type": "code",
   "execution_count": 3,
   "metadata": {},
   "outputs": [
    {
     "name": "stdout",
     "output_type": "stream",
     "text": [
      "8.0\n"
     ]
    }
   ],
   "source": [
    "base = 2\n",
    "exponent = 3\n",
    "result = math.pow(base, exponent)\n",
    "print(result)  # Output: 8.0"
   ]
  },
  {
   "cell_type": "markdown",
   "metadata": {},
   "source": [
    "### 4. Example: Square root:\n",
    "The `math.sqrt()` method returns the square root of a given number."
   ]
  },
  {
   "cell_type": "code",
   "execution_count": 4,
   "metadata": {},
   "outputs": [
    {
     "name": "stdout",
     "output_type": "stream",
     "text": [
      "3.0\n"
     ]
    }
   ],
   "source": [
    "number = 9\n",
    "result = math.sqrt(number)\n",
    "print(result)  # Output: 3.0"
   ]
  },
  {
   "cell_type": "markdown",
   "metadata": {},
   "source": [
    "### 5. Example: power of a number\n",
    "The `pow()` function computes `x**y`. This function first converts its arguments into floats, and then computes the power."
   ]
  }
 ],
 "metadata": {
  "kernelspec": {
   "display_name": "venv",
   "language": "python",
   "name": "python3"
  },
  "language_info": {
   "codemirror_mode": {
    "name": "ipython",
    "version": 3
   },
   "file_extension": ".py",
   "mimetype": "text/x-python",
   "name": "python",
   "nbconvert_exporter": "python",
   "pygments_lexer": "ipython3",
   "version": "3.12.0"
  }
 },
 "nbformat": 4,
 "nbformat_minor": 2
}
