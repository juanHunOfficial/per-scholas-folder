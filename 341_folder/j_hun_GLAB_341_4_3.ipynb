{
 "cells": [
  {
   "cell_type": "markdown",
   "metadata": {},
   "source": [
    "# Guided Lab 341.4.3 - How to Use Python Math Module Functions\n",
    "## Learning Objective: \n",
    "This guided lab activity walks learners through the “math” module which is used for advanced mathematical operations. \n",
    "By the end of this lab, learners will be able to:\n",
    "Use `math` module methods for mathematical calculations in the Python module.\n",
    "leverage the `math` module to solve complex mathematical problems in your programs.\n",
    "\n",
    "## Lab Objective:\n",
    "You will learn how to use various functions within `math` module to perform calculations such as addition, division, exponentiation, square roots, logarithms, factorials, and more.\n",
    "\n",
    "The lab will provide examples and guidance on how to apply these functions correctly in your Python code.\n",
    "\n",
    "## Introduction:\n",
    "The Python math module provides functions for various advanced mathematical operations. To use these functions, you need to import the math module first. \n",
    "Here are some examples of complex arithmetic operations using the Python math module:\n",
    "\n",
    "## Begin:\n",
    "### 1. Example: Addition\n",
    "The Python math module provides the math.fsum() function, which is particularly useful for adding floating-point numbers with better precision than the standard + operator. The math.fsum() function takes an iterable (such as a list or tuple) of numbers as its argument and returns the sum of all elements in the iterable.\n"
   ]
  },
  {
   "cell_type": "code",
   "execution_count": 1,
   "metadata": {},
   "outputs": [
    {
     "name": "stdout",
     "output_type": "stream",
     "text": [
      "16.5\n"
     ]
    }
   ],
   "source": [
    "import math\n",
    "\n",
    "numbers = [1.1, 2.2, 3.3, 4.4, 5.5]\n",
    "result = math.fsum(numbers)\n",
    "print(result)  # Output: 16.5"
   ]
  },
  {
   "cell_type": "markdown",
   "metadata": {},
   "source": [
    "### 2. Example: Division:\n",
    "Python has built-in division using the `/` operator. The math module provides `math.floor()` and `math.ceil()` functions that can be used in conjunction with division.\n"
   ]
  },
  {
   "cell_type": "code",
   "execution_count": 2,
   "metadata": {},
   "outputs": [
    {
     "name": "stdout",
     "output_type": "stream",
     "text": [
      "3\n"
     ]
    }
   ],
   "source": [
    "# Using math.floor() for integer division (floor division)\n",
    "a = 10\n",
    "b = 3\n",
    "result = math.floor(a / b)\n",
    "print(result)  # Output: 3\n",
    "\n",
    "\n",
    "# Using math.ceil() for ceiling division\n",
    "result = math.ceil(a / b)"
   ]
  },
  {
   "cell_type": "markdown",
   "metadata": {},
   "source": [
    "### 3. Example: Exponentiation:\n",
    "The `math.exp()` method returns a float number after raising e to the power of the given number. In other words, exp(x) gives e**x"
   ]
  },
  {
   "cell_type": "code",
   "execution_count": 3,
   "metadata": {},
   "outputs": [
    {
     "name": "stdout",
     "output_type": "stream",
     "text": [
      "8.0\n"
     ]
    }
   ],
   "source": [
    "base = 2\n",
    "exponent = 3\n",
    "result = math.pow(base, exponent)\n",
    "print(result)  # Output: 8.0"
   ]
  },
  {
   "cell_type": "markdown",
   "metadata": {},
   "source": [
    "### 4. Example: Square root:\n",
    "The `math.sqrt()` method returns the square root of a given number."
   ]
  },
  {
   "cell_type": "code",
   "execution_count": 4,
   "metadata": {},
   "outputs": [
    {
     "name": "stdout",
     "output_type": "stream",
     "text": [
      "3.0\n"
     ]
    }
   ],
   "source": [
    "number = 9\n",
    "result = math.sqrt(number)\n",
    "print(result)  # Output: 3.0"
   ]
  },
  {
   "cell_type": "markdown",
   "metadata": {},
   "source": [
    "### 5. Example: power of a number\n",
    "The `pow()` function computes `x**y`. This function first converts its arguments into floats, and then computes the power."
   ]
  },
  {
   "cell_type": "code",
   "execution_count": 5,
   "metadata": {},
   "outputs": [
    {
     "name": "stdout",
     "output_type": "stream",
     "text": [
      "The value of 3**4 is : 81\n"
     ]
    }
   ],
   "source": [
    "# Python code to demonstrate pow()\n",
    "print (\"The value of 3**4 is : \",end=\"\")\n",
    "# Returns 81\n",
    "print (pow(3,4))"
   ]
  },
  {
   "cell_type": "markdown",
   "metadata": {},
   "source": [
    "### 6. Example: Logarithm:\n"
   ]
  },
  {
   "cell_type": "code",
   "execution_count": 6,
   "metadata": {},
   "outputs": [
    {
     "name": "stdout",
     "output_type": "stream",
     "text": [
      "4.605170185988092\n",
      "2.0\n"
     ]
    }
   ],
   "source": [
    "number = 100\n",
    "base = 10\n",
    "\n",
    "# Natural logarithm (base e)\n",
    "log_e = math.log(number)\n",
    "print(log_e)  # Output: 4.605170185988092\n",
    "# Logarithm with specified base\n",
    "log_base = math.log(number, base)\n",
    "print(log_base)  # Output: 2.0"
   ]
  },
  {
   "cell_type": "markdown",
   "metadata": {},
   "source": [
    "### 7. Example: Factorial:\n",
    "Using the factorial() function, we can find the factorial of a number in a single line of the code. An error message is displayed if the number is not integral."
   ]
  },
  {
   "cell_type": "code",
   "execution_count": 7,
   "metadata": {},
   "outputs": [
    {
     "name": "stdout",
     "output_type": "stream",
     "text": [
      "120\n"
     ]
    }
   ],
   "source": [
    "number = 5\n",
    "factorial = math.factorial(number)\n",
    "print(factorial)  # Output: 120"
   ]
  },
  {
   "cell_type": "markdown",
   "metadata": {},
   "source": [
    "### 8. Example: Greatest Common Divisor (GCD):\n",
    "\n",
    "gcd() function is used to find the greatest common divisor of two numbers passed as the arguments. "
   ]
  },
  {
   "cell_type": "code",
   "execution_count": 8,
   "metadata": {},
   "outputs": [
    {
     "name": "stdout",
     "output_type": "stream",
     "text": [
      "14\n"
     ]
    }
   ],
   "source": [
    "a = 56\n",
    "b = 98\n",
    "\n",
    "gcd = math.gcd(a, b)\n",
    "print(gcd)  # Output: 14"
   ]
  },
  {
   "cell_type": "markdown",
   "metadata": {},
   "source": [
    "### 9. Example: Combinations:"
   ]
  },
  {
   "cell_type": "code",
   "execution_count": 9,
   "metadata": {},
   "outputs": [
    {
     "name": "stdout",
     "output_type": "stream",
     "text": [
      "120\n"
     ]
    }
   ],
   "source": [
    "n = 10\n",
    "k = 3\n",
    "\n",
    "combinations = math.comb(n, k)\n",
    "print(combinations)  # Output: 120"
   ]
  },
  {
   "cell_type": "markdown",
   "metadata": {},
   "source": [
    "### 10. Example: Permutations:"
   ]
  },
  {
   "cell_type": "code",
   "execution_count": 10,
   "metadata": {},
   "outputs": [
    {
     "name": "stdout",
     "output_type": "stream",
     "text": [
      "720\n"
     ]
    }
   ],
   "source": [
    "n = 10\n",
    "k = 3\n",
    "\n",
    "permutations = math.perm(n, k)\n",
    "print(permutations)  # Output: 720"
   ]
  },
  {
   "cell_type": "markdown",
   "metadata": {},
   "source": [
    "### 11. Example: Rounding Functions:"
   ]
  },
  {
   "cell_type": "code",
   "execution_count": 11,
   "metadata": {},
   "outputs": [
    {
     "name": "stdout",
     "output_type": "stream",
     "text": [
      "6\n",
      "5\n"
     ]
    }
   ],
   "source": [
    "number = 5.5\n",
    "\n",
    "ceil_value = math.ceil(number)  # Round up to the nearest integer\n",
    "\n",
    "floor_value = math.floor(number) # Round down to the nearest integer\n",
    "\n",
    "print(ceil_value)  # Output: 6\n",
    "\n",
    "print(floor_value)  # Output: 5"
   ]
  },
  {
   "cell_type": "markdown",
   "metadata": {},
   "source": [
    "### 12. Example: Remainder and Modulo Operations:"
   ]
  },
  {
   "cell_type": "code",
   "execution_count": 12,
   "metadata": {},
   "outputs": [
    {
     "name": "stdout",
     "output_type": "stream",
     "text": [
      "1.0\n",
      "1.0\n"
     ]
    }
   ],
   "source": [
    "x = 10\n",
    "y = 3\n",
    "\n",
    "remainder = math.remainder(x, y) # IEEE 754-style remainder\n",
    "\n",
    "modulus = math.fmod(x, y)        # C-style modulo operation\n",
    "\n",
    "print(remainder)  # Output: 1.0\n",
    "print(modulus)    # Output: 1.0"
   ]
  }
 ],
 "metadata": {
  "kernelspec": {
   "display_name": "venv",
   "language": "python",
   "name": "python3"
  },
  "language_info": {
   "codemirror_mode": {
    "name": "ipython",
    "version": 3
   },
   "file_extension": ".py",
   "mimetype": "text/x-python",
   "name": "python",
   "nbconvert_exporter": "python",
   "pygments_lexer": "ipython3",
   "version": "3.12.0"
  }
 },
 "nbformat": 4,
 "nbformat_minor": 2
}
