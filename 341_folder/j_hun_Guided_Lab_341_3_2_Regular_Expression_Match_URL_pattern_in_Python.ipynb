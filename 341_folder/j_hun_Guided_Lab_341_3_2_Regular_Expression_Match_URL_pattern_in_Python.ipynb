{
  "cells": [
    {
      "cell_type": "markdown",
      "metadata": {
        "id": "gXKb_UsMMwLc"
      },
      "source": [
        "# **Guided Lab 341.4.2 - Regular Expression - Match URL pattern in Python**\n",
        "\n",
        "---\n",
        "\n"
      ]
    },
    {
      "cell_type": "markdown",
      "metadata": {
        "id": "PyABroPZM4wc"
      },
      "source": [
        "## **Learning Objectives:**\n",
        "\n",
        "By the end of this lab, you will be able to:\n",
        "\n",
        "- Describe the basics of regular expressions.\n",
        "- Use regex to validate URL patterns, ensuring they conform to expected formats.\n",
        "- Extract URLs from text using regex, identifying web addresses within larger content.\n",
        "- Extract domain names from URLs using regex, isolating the core website address.\n",
        "\n",
        "## **Lab Objective:**\n",
        "\n",
        "This lab demonstrate you how to validate and match URL using Regex in python. By the end of this lab, learners will be able to utilize the Regex to valida and match URL patterns in python.\n",
        "\n",
        "## **Lab Structure:**\n",
        "\n",
        "The lab is divided into three main examples:\n",
        "\n",
        "- **Validate the URL:** This example focuses on using regex to check if a given URL is valid. It introduces the validate_url function, which employs a complex regex pattern to ensure URLs adhere to standard structures.\n",
        "- **Match the URL from the string:** This example demonstrates how to extract URLs from a given text string. It utilizes the extract_urls function and a regex pattern designed to identify URLs within text.\n",
        "- **Match the URL from the string and print URL:** This example expands on the previous one by not only extracting URLs but also extracting the domain names from those URLs. It uses the `extract_urls_and_domains` function and two regex patterns for URL and domain extraction.\n",
        "\n",
        "### **Key Concepts:**\n",
        "\n",
        "- **Regular Expressions:** A sequence of characters that define a search pattern, used for pattern matching within text.\n",
        "- **URL Validation:** The process of checking if a URL is syntactically correct and conforms to expected standards.\n",
        "- **URL Extraction:** The process of identifying and extracting URLs from larger text content.\n",
        "- **Domain Extraction:** The process of isolating the domain name (e.g., google.com) from a URL."
      ]
    },
    {
      "cell_type": "markdown",
      "metadata": {
        "id": "YeAGJZuQLfeE"
      },
      "source": [
        "# **Example 1: Validate the URL**"
      ]
    },
    {
      "cell_type": "markdown",
      "metadata": {
        "id": "KQvE5hF9JsYl"
      },
      "source": [
        "To match a url pattern, you can use the following regular expression:"
      ]
    },
    {
      "cell_type": "markdown",
      "metadata": {
        "id": "EizX66YfMAcs"
      },
      "source": [
        "The given code defines a Python function validate_url(url) that checks if a given URL is valid. It uses a regular expression to validate URLs, and the regular expression pattern is quite complex. The function returns True if the URL is valid and False otherwise."
      ]
    },
    {
      "cell_type": "code",
      "execution_count": null,
      "metadata": {
        "colab": {
          "base_uri": "https://localhost:8080/"
        },
        "id": "aoLjmV1DJv4b",
        "outputId": "2d8c7364-9662-4264-963b-e2bad5d58c44"
      },
      "outputs": [
        {
          "name": "stdout",
          "output_type": "stream",
          "text": [
            "True\n",
            "False\n"
          ]
        }
      ],
      "source": [
        "import re\n",
        "\n",
        "def validate_url(url):\n",
        "    pattern = re.compile(r'''^https?://(?:(?:[A-Z0-9](?:[A-Z0-9-]{0,61}[A-Z0-9])?\\.)+[A-Z]{2,6}\\b|(?:(?:25[0-5]|2[0-4][0-9]|[01]?[0-9][0-9]?)\\.){3}(?:25[0-5]|2[0-4][0-9]|[01]?[0-9][0-9]?))(:[0-9]{1,4})?(?:/?|[/?]\\S+)$''', re.IGNORECASE)\n",
        "    return pattern.match(url) is not None\n",
        "\n",
        "print(validate_url(\"http://www.google.com\")) # Output: True\n",
        "print(validate_url(\"www.google.com\")) # Output: False"
      ]
    },
    {
      "cell_type": "markdown",
      "metadata": {
        "id": "1Z9UjpKKMD4M"
      },
      "source": [
        "### **Here's an explanation of the code:**\n",
        "\n",
        "**def validate_url(url):** This line defines the validate_url function, which takes a single parameter, url, representing the URL to be validated.\n",
        "\n",
        "**pattern = re.compile(r'^https?://(?:(?:[A-Z0-9](?:[A-Z0-9-]{0,61}[A-Z0-9])?\\.)+[A-Z]{2,6}\\b|(?:(?:25[0-5]|2[0-4][0-9]|[01]?[0-9][0-9]?)\\.){3}(?:25[0-5]|2[0-4][0-9]|[01]?[0-9][0-9]?))(:[0-9]{1,4})?(?:/?|[/?]\\S+)$', re.IGNORECASE):** This line defines a regular expression pattern to validate URLs. The pattern checks for the following components in a URL:\n",
        "\n",
        "**^https?://:** The URL must start with either \"http://\" or \"https://\".\n",
        "\n",
        "- **(?:(?:[A-Z0-9](?:[A-Z0-9-]{0,61}[A-Z0-9])?\\.)+[A-Z]{2,6}\\b|(?:(?:25[0-5]|2[0-4][0-9]|[01]?[0-9][0-9]?)\\.){3}(?:25[0-5]|2[0-4][0-9]|[01]?[0-9][0-9]?)):** This part of the pattern checks for the domain name or IP address part of the URL. It can be a valid domain name or a valid IP address. and The `?` makes the `\"s\"` in \"https\" optional.\n",
        "\n",
        "- **(:[0-9]{1,4})?:** This matches an optional port number (e.g., :8080). The `?` makes the entire group optional.\n",
        "\n",
        "- **(?:/?|[/?]\\S+)$:** This part of the pattern checks for optional path components.\n",
        "\n",
        "- **return pattern.match(url) is not None:** This line uses the re.match method to check if the provided url matches the regular expression pattern. If it matches, it returns True, indicating that the URL is valid. If it doesn't match, it returns False, indicating that the URL is not valid.\n",
        "\n",
        "- The code then tests the validate_url function with two sample URLs and prints the results.\n",
        "\n",
        "- print(validate_url(\"http://www.google.com\")): This URL is valid, so the function returns True.\n",
        "\n",
        "- print(validate_url(\"www.google.com\")): This URL is not valid because it lacks the \"http://\" or \"https://\" prefix, so the function returns False."
      ]
    },
    {
      "cell_type": "markdown",
      "metadata": {
        "id": "BjAw25YZLm7E"
      },
      "source": [
        "# **Example 2: Match the URL from the string**"
      ]
    },
    {
      "cell_type": "code",
      "execution_count": null,
      "metadata": {
        "id": "er-w01d4Ji0p"
      },
      "outputs": [
        {
          "name": "stdout",
          "output_type": "stream",
          "text": [
            "URLs found in the text:\n",
            "['https://www.example.com', 'http://www.example.org/products']\n",
            "https://www.example.com\n",
            "http://www.example.org/products\n"
          ]
        }
      ],
      "source": [
        "import re\n",
        "\n",
        "def extract_urls(text):\n",
        "    # Regular expression for matching URLs\n",
        "    url_pattern = r'\\bhttps?://[^\\s/$.?#].[^\\s]*\\b' # -----------------REFORMATTED TO RETURN FULL URLS INSTEAD OF A BLANK SPACE AND /products------------------------\n",
        "\n",
        "\n",
        "    # Find all URLs in the text\n",
        "    urls = re.findall(url_pattern, text)\n",
        "\n",
        "    return urls\n",
        "\n",
        "text = \"Visit my website at https://www.example.com for more information. You can also check http://www.example.org/products\"\n",
        "\n",
        "# Call the function to extract URLs\n",
        "urls = extract_urls(text)\n",
        "\n",
        "print(\"URLs found in the text:\")\n",
        "print(urls)\n",
        "for url in urls:\n",
        "    print(url)"
      ]
    },
    {
      "cell_type": "markdown",
      "metadata": {
        "id": "Xa8MPJtYLals"
      },
      "source": [
        "This regular expression is used to match URLs. It looks for patterns starting with \"http://\" or \"https://\" followed by a domain part, which consists of alphanumeric characters, dots, and hyphens. It also allows for an optional path and query string (if any) captured by (/\\\\S*)?.\n",
        "We use re.findall to find all URLs in the given text. The URLs found in the text are then printed.\n",
        "\n",
        "Here's a breakdown:\n",
        "\n",
        "- **url_pattern = ...:** This part assigns the regex pattern to a variable named url_pattern for later use.\n",
        "- **r'...':** The r' before the opening quote indicates a raw string literal, preventing Python from interpreting backslashes (\\) in the pattern as escape sequences.\n",
        "- **https?://:** This matches the beginning of a URL, looking for either \"http://\" or \"https://\". The ? makes the \"s\" in \"https\" optional, allowing for both secure and non-secure URLs.\n",
        "- **[a-zA-Z0-9.-]+:** This matches one or more (+) occurrences of any alphanumeric character (a-zA-Z0-9), dot (.), or hyphen (-). This part typically captures the domain name portion of the URL (e.g., \"[redacted link]).\n",
        "- **(/\\S*)?:** This part is optional, as indicated by the ? at the end.\n",
        "-- **(/ ... ):** This group captures the path and query string part of the URL, if present.\n",
        "-- **\\S*:** This matches zero or more (*) occurrences of any non-whitespace character (\\S). This allows for various path and query string structures (e.g., \"/products\", \"/blog?id=123\")."
      ]
    },
    {
      "cell_type": "markdown",
      "metadata": {
        "id": "oEYFzSVmLvlL"
      },
      "source": [
        "Example 3: Match the URL from the string and print URL"
      ]
    },
    {
      "cell_type": "code",
      "execution_count": null,
      "metadata": {
        "id": "YkwxRFCiLLNz"
      },
      "outputs": [
        {
          "name": "stdout",
          "output_type": "stream",
          "text": [
            "['https://www.example.com', 'https://www.second_example.com']\n",
            "URLs found in the text:\n",
            "https://www.example.com\n",
            "https://www.second_example.com\n",
            "\n",
            "Extracted domain names:\n",
            "www.example.com\n",
            "www.second\n"
          ]
        }
      ],
      "source": [
        "import re\n",
        "\n",
        "def extract_urls_and_domains(text):\n",
        "    # Regular expression for matching URLs\n",
        "    url_pattern = r'https?://\\S+'\n",
        "\n",
        "    # Regular expression for extracting domain names from URLs\n",
        "    domain_pattern = r'https?://([a-zA-Z0-9.-]+)'\n",
        "\n",
        "    # Find all URLs in the text\n",
        "    urls = re.findall(url_pattern, text)\n",
        "    print(urls) # ---------------PRINTED THE URLS SO I CAN SEE WHAT IT CONTAINED--------------------------------------\n",
        "\n",
        "    # Extract domain names from the URLs\n",
        "    domains = [re.search(domain_pattern, url).group(1) for url in urls]\n",
        "\n",
        "    return urls, domains\n",
        "\n",
        "text = \"Visit my website at https://www.example.com for more information. https://www.second_example.com\" # -------------ADDED A SECOND EXAMPLE----------------\n",
        "\n",
        "# Call the function to extract URLs and domains\n",
        "urls, domains = extract_urls_and_domains(text)\n",
        "\n",
        "print(\"URLs found in the text:\")\n",
        "for url in urls:\n",
        "    print(url)\n",
        "\n",
        "print(\"\\nExtracted domain names:\")\n",
        "for domain in domains:\n",
        "    print(domain)"
      ]
    },
    {
      "cell_type": "markdown",
      "metadata": {
        "id": "iOSR8pdBHX_H"
      },
      "source": [
        "## **Submission**\n",
        "- Submit your completed lab using the Start Assignment button on the assignment page in Canvas.\n",
        "- Your submission can be include:\n",
        "  - if you are using notebook then, all tasks should be written and submitted in a single notebook file, for example: (**your_name_labname.ipynb**).\n",
        "  - if you are using python script file, all tasks should be written and submitted in a single python script file for example: **(your_name_labname.py)**.\n",
        "- Add appropriate comments and any additional instructions if required.\n"
      ]
    }
  ],
  "metadata": {
    "colab": {
      "provenance": []
    },
    "kernelspec": {
      "display_name": "venv",
      "language": "python",
      "name": "python3"
    },
    "language_info": {
      "codemirror_mode": {
        "name": "ipython",
        "version": 3
      },
      "file_extension": ".py",
      "mimetype": "text/x-python",
      "name": "python",
      "nbconvert_exporter": "python",
      "pygments_lexer": "ipython3",
      "version": "3.12.0"
    }
  },
  "nbformat": 4,
  "nbformat_minor": 0
}
