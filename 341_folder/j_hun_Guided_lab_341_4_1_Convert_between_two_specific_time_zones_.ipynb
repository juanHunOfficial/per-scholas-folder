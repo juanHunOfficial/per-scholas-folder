{
  "cells": [
    {
      "cell_type": "markdown",
      "metadata": {
        "id": "HYOHJEkkdYlE"
      },
      "source": [
        "# **Guided lab - 341.4.1 - Convert Between Two Specific Time Zones**\n",
        "\n",
        "---\n",
        "\n"
      ]
    },
    {
      "cell_type": "markdown",
      "metadata": {
        "id": "NHtn-XkTpezk"
      },
      "source": [
        "## **Lab Overview**\n",
        "\n",
        "In this lab you will demonstrate a simple function to convert between two specific time zones using Python's `pytz` library. You will learn how to define time zones, create datetime objects, and perform conversions\n",
        "\n",
        "## **Learning Objective:**\n",
        "By the end of this lab, learners will be able to:\n",
        "- Find timezone and convert between two timezone in python.\n",
        "* Describe the concept of time zones in Python.\n",
        "* Install and import the `pytz` library.\n",
        "* Convert a datetime object from one time zone to another.\n",
        "* Apply these skills to practical examples.\n",
        "\n",
        "## **Prerequest:**\n",
        "To use `Pytz`, you first need to install it. You can install `Pytz` using pip, by running the following command in your terminal or command prompt or NoteBook:\n",
        "\n",
        "**pip install pytz**\n",
        "\n",
        "\n",
        "\n"
      ]
    },
    {
      "cell_type": "code",
      "execution_count": 3,
      "metadata": {
        "id": "A9TxUZbUKkhw"
      },
      "outputs": [
        {
          "ename": "SyntaxError",
          "evalue": "invalid syntax (2708479619.py, line 2)",
          "output_type": "error",
          "traceback": [
            "  \u001b[36mCell\u001b[39m\u001b[36m \u001b[39m\u001b[32mIn[3]\u001b[39m\u001b[32m, line 2\u001b[39m\n\u001b[31m    \u001b[39m\u001b[31mpip install pytz\u001b[39m\n        ^\n\u001b[31mSyntaxError\u001b[39m\u001b[31m:\u001b[39m invalid syntax\n"
          ]
        }
      ],
      "source": [
        "# Install the pytz library\n",
        "pip install pytz"
      ]
    },
    {
      "cell_type": "markdown",
      "metadata": {
        "id": "lNDiiooIddlz"
      },
      "source": [
        "## **Instructions:**"
      ]
    },
    {
      "cell_type": "code",
      "execution_count": 6,
      "metadata": {
        "id": "q5JoCmH-dfwT"
      },
      "outputs": [],
      "source": [
        "from datetime import datetime\n",
        "import pytz\n",
        "# Define a function to convert a datetime object between two time zones\n",
        "def convert_time_zone(dt, from_tz, to_tz):\n",
        "    \"\"\"\n",
        "    Converts a datetime object from one time zone to another.\n",
        "\n",
        "    Args:\n",
        "        dt (datetime): The datetime object to convert.\n",
        "        from_tz (str): The current time zone of the datetime object.\n",
        "        to_tz (str): The time zone to convert the datetime object to.\n",
        "\n",
        "    Returns:\n",
        "        datetime: The converted datetime object.\n",
        "    \"\"\"\n",
        "    # Create timezone objects\n",
        "    from_tz = pytz.timezone(from_tz)\n",
        "    to_tz = pytz.timezone(to_tz)\n",
        "\n",
        "    # Convert the datetime object to the 'from_tz' timezone (if necessary)\n",
        "    dt = dt.replace(tzinfo=from_tz)\n",
        "\n",
        "    # Convert the datetime object to the 'to_tz' timezone\n",
        "    dt = dt.astimezone(to_tz)\n",
        "\n",
        "    return dt"
      ]
    },
    {
      "cell_type": "markdown",
      "metadata": {
        "id": "FyatQCadK-pj"
      },
      "source": [
        "- This `convert_time_zone()` function takes a datetime object (dt), the original time zone (from_tz), and the target time zone (to_tz) as input.\n",
        "- It creates timezone objects using pytz.timezone().\n",
        "- It sets the original time zone of the datetime object using replace (tzinfo=from_tz).\n",
        "- It converts the datetime object to the target time zone using astimezone (to_tz).\n",
        "- It returns the converted datetime object."
      ]
    },
    {
      "cell_type": "markdown",
      "metadata": {
        "id": "NENuChfKdl2b"
      },
      "source": [
        "Here's an example of how to use this function:"
      ]
    },
    {
      "cell_type": "code",
      "execution_count": 10,
      "metadata": {
        "id": "j6_jyYpDdlL7"
      },
      "outputs": [
        {
          "name": "stdout",
          "output_type": "stream",
          "text": [
            "2025-04-07 02:40:45-04:00\n"
          ]
        }
      ],
      "source": [
        "# Define a datetime object\n",
        "dt = datetime(2025, 4, 7, 6, 40, 45) # -----------------MANIPULATED THE FORMAT OF THE DATE TIME ARGS TO BE THE CURRENT TIME I DID THIS-----\n",
        "\n",
        "# Define the current time zone of the datetime object\n",
        "from_tz = \"UTC\"\n",
        "\n",
        "# Define the time zone to convert the datetime object to\n",
        "to_tz = \"America/New_York\"\n",
        "\n",
        "# Convert the datetime object between the two time zones\n",
        "converted_dt = convert_time_zone(dt, from_tz, to_tz)\n",
        "# Print the converted datetime object\n",
        "print(converted_dt)"
      ]
    },
    {
      "cell_type": "markdown",
      "metadata": {
        "id": "bz3tJK9TK1q1"
      },
      "source": []
    }
  ],
  "metadata": {
    "colab": {
      "provenance": []
    },
    "kernelspec": {
      "display_name": "venv",
      "language": "python",
      "name": "python3"
    },
    "language_info": {
      "codemirror_mode": {
        "name": "ipython",
        "version": 3
      },
      "file_extension": ".py",
      "mimetype": "text/x-python",
      "name": "python",
      "nbconvert_exporter": "python",
      "pygments_lexer": "ipython3",
      "version": "3.12.0"
    }
  },
  "nbformat": 4,
  "nbformat_minor": 0
}
