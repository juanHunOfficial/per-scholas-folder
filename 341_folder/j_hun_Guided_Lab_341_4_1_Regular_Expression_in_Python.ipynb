{
  "cells": [
    {
      "cell_type": "markdown",
      "metadata": {
        "id": "w84jseOi1W8k"
      },
      "source": [
        "# **Guided Lab 341.4.1 - Regular Expression in Python**\n",
        "\n",
        "---\n",
        "\n"
      ]
    },
    {
      "cell_type": "markdown",
      "metadata": {
        "id": "NyKHWJaLITw4"
      },
      "source": [
        "## **Objective:**\n",
        "\n",
        "This lab demonstrates how to use Regex Expressions and python re module's methods for Regular expression.\n",
        "\n",
        "By the end of this lab, learner will be able to: identofy the re module's methods ofr Regex\n",
        "Utilize the regex in the python applications"
      ]
    },
    {
      "cell_type": "markdown",
      "metadata": {
        "id": "Jx0cmUu7I5au"
      },
      "source": [
        "# **Instructions:**"
      ]
    },
    {
      "cell_type": "markdown",
      "metadata": {
        "id": "t0TSUyq83MO6"
      },
      "source": [
        "## **Example 1: findall()**"
      ]
    },
    {
      "cell_type": "markdown",
      "metadata": {
        "id": "P3aVF0M82YQ1"
      },
      "source": [
        "In this example, the pattern is set to find all words with a length of 5 or more."
      ]
    },
    {
      "cell_type": "markdown",
      "metadata": {},
      "source": [
        "# ------------------JUAN'S EXAMPLE-----------------------------------------"
      ]
    },
    {
      "cell_type": "code",
      "execution_count": null,
      "metadata": {},
      "outputs": [
        {
          "name": "stdout",
          "output_type": "stream",
          "text": [
            "Your account has been created with the email valid@mail.com\n",
            "a\n",
            "all\n",
            "a\n",
            "at\n",
            "all\n",
            "Apples\n"
          ]
        }
      ],
      "source": [
        "import re # importing re module\n",
        "\n",
        "error_message = \"This must be a valid email, please try again later.\" # declare a string with an error message\n",
        "\n",
        "regex = r'^[a-zA-Z0-9._%+-]+@[a-zA-Z0-9.-]+\\.[a-zA-Z]{2,}$' # declare the regex pattern that checks for valid email addresses\n",
        "email = input(\"Enter your email address: \") # declare a variable that uses the input method to ask for an email address to be entered.\n",
        "if not re.match(regex, email): # check if the email is NOT valid to print that the email is wrongly formatted\n",
        "    print(error_message) # print error message\n",
        "else: # else\n",
        "    print(f\"Your account has been created with the email { email }\") # print the success message with their email in it. \n",
        "\n",
        "\n",
        "# ------------------------------------- Now findall() -------------------------------------------------------\n",
        "\n",
        "regex = re.compile(r'\\b[aA]\\w*\\b') # declare and compile the regex pattern\n",
        "sample = \"This is a sample of text for all occurrences of words with the letter a at all times. Apples too.\" # declare a string to test\n",
        "matches = regex.findall(sample) # use the findall() function to find and store all the matches in the stores variable we are declaring.\n",
        "\n",
        "for match in matches: # create a for loop\n",
        "    print(match) # print each instance in the for loop\n",
        "\n"
      ]
    },
    {
      "cell_type": "code",
      "execution_count": null,
      "metadata": {
        "colab": {
          "base_uri": "https://localhost:8080/"
        },
        "id": "OTH2zy6i2aoz",
        "outputId": "eef90bf7-e486-401e-9615-4768c00e4c28"
      },
      "outputs": [
        {
          "name": "stdout",
          "output_type": "stream",
          "text": [
            "Hello\n",
            "world\n",
            "shining\n"
          ]
        }
      ],
      "source": [
        "import re\n",
        "# creating a pattern and Compile the regular expression pattern\n",
        "pattern = re.compile(r'\\b\\w{5,}\\b')\n",
        "#After compiling the pattern,\n",
        "#you can use the findall() method to find all occurrences of the pattern in a given string.\n",
        "text = \"Hello, world! The sky is blue, and the sun is shining.\"\n",
        "\n",
        "matches = pattern.findall(text)\n",
        "\n",
        "for match in matches:\n",
        "    print(match)"
      ]
    },
    {
      "cell_type": "markdown",
      "metadata": {
        "id": "CPCejjU83K77"
      },
      "source": [
        "In the above example demonstrates how to use re.compile() with findall() to find all occurrences of a pattern in a given string. The pattern used in this example finds all words with a length of 5 or more."
      ]
    },
    {
      "cell_type": "markdown",
      "metadata": {
        "id": "5LpyVI_73gQ7"
      },
      "source": [
        "# **Example 2: findall()**\n",
        "\n",
        "In the following example, the pattern will match all strings containing alphanumeric characters and the hyphen."
      ]
    },
    {
      "cell_type": "markdown",
      "metadata": {},
      "source": [
        "# ------------------JUAN'S EXAMPLE-----------------------------------------"
      ]
    },
    {
      "cell_type": "code",
      "execution_count": 8,
      "metadata": {},
      "outputs": [
        {
          "name": "stdout",
          "output_type": "stream",
          "text": [
            "Another\n",
            "a\n",
            "A\n",
            "a\n",
            "aa\n",
            "aaa\n",
            "aaaa\n",
            "aaaaa\n",
            "aaaa\n",
            "aaa\n",
            "aa\n",
            "a\n"
          ]
        }
      ],
      "source": [
        "regex = re.compile(r'\\b[aA]\\w*\\b') # declare and compile the regex patter\n",
        "sample = \"Another example sentence with a lot A's in a aa aaa aaaa aaaaa aaaa aaa aa a\" # declare a string to test\n",
        "matches = regex.findall(sample) # use the findall() function to find and store all the matches in the stores variable we are declaring.\n",
        "\n",
        "for match in matches: # create a for loop\n",
        "    print(match) # print each instance in the for loop\n"
      ]
    },
    {
      "cell_type": "code",
      "execution_count": null,
      "metadata": {
        "colab": {
          "base_uri": "https://localhost:8080/"
        },
        "id": "3MMAOYx-3r11",
        "outputId": "9b813c14-30d9-41e4-ccf9-279e0badb8a6"
      },
      "outputs": [
        {
          "name": "stdout",
          "output_type": "stream",
          "text": [
            "Contact\n",
            "me\n",
            "at\n",
            "john.doe\n",
            "example.com\n",
            "or\n",
            "jane.doe\n",
            "example.com\n",
            "for\n",
            "more\n",
            "information\n"
          ]
        }
      ],
      "source": [
        "import re\n",
        "\n",
        "# Compile the regular expression pattern\n",
        "pattern = re.compile(r'\\b[A-Za-z0-9._%+-]+\\b')\n",
        "\n",
        "# target string\n",
        "text = \"Contact me at john.doe@example.com or jane.doe@example.com for more information.\"\n",
        "\n",
        "# Find all matches of the pattern in the test string\n",
        "matches = pattern.findall(text)\n",
        "\n",
        "# Print the matches\n",
        "for match in matches:\n",
        "    print(match)"
      ]
    },
    {
      "cell_type": "markdown",
      "metadata": {
        "id": "I3lUxqHC37QO"
      },
      "source": [
        "# **Example 3: findall()**\n",
        "\n",
        "In this example, we will match all the email addresses in a string using a regular expression pattern.\n",
        "\n",
        "```\n",
        "# This is formatted as code\n",
        "```\n",
        "\n"
      ]
    },
    {
      "cell_type": "code",
      "execution_count": null,
      "metadata": {
        "colab": {
          "base_uri": "https://localhost:8080/"
        },
        "id": "yNTYsYDk4EIm",
        "outputId": "8e7da148-0bec-4232-cda2-0356bdf23f56"
      },
      "outputs": [
        {
          "name": "stdout",
          "output_type": "stream",
          "text": [
            "john.doe@example.com\n",
            "jane.doe@example.com\n"
          ]
        }
      ],
      "source": [
        "import re\n",
        "\n",
        "# Our original string\n",
        "text = \"Contact me at john.doe@example.com or jane.doe@example.com for more information.\"\n",
        "\n",
        "# The regular expression pattern to search for\n",
        "pattern = re.compile(r'\\b[A-Za-z0-9._%+-]+@[A-Za-z0-9.-]+\\.[A-Z|a-z]{2,}\\b')\n",
        "\n",
        "# Use the findall() function to find all matches in the string\n",
        "matches = re.findall(pattern, text)\n",
        "\n",
        "for match in matches:\n",
        "    print(match)"
      ]
    },
    {
      "cell_type": "markdown",
      "metadata": {
        "id": "M4QrTOC05HKM"
      },
      "source": [
        "# **Example 4: search()**\n",
        "\n",
        "## Basic Examples\n",
        "Joke: what do you call a pig with three eyes? piiig!\n",
        "\n",
        "The basic rules of regular expression search for a pattern within a string are:\n",
        "\n",
        "The search proceeds through the string from start to end, stopping at the first match found\n",
        "All of the pattern must be matched, but not all of the string\n",
        "If match = re.search(pat, str) is successful, match is not None and in particular match.group() is the matching text"
      ]
    },
    {
      "cell_type": "markdown",
      "metadata": {},
      "source": [
        "# ------------------JUAN'S EXAMPLE-----------------------------------------"
      ]
    },
    {
      "cell_type": "code",
      "execution_count": 7,
      "metadata": {},
      "outputs": [
        {
          "name": "stdout",
          "output_type": "stream",
          "text": [
            "<re.Match object; span=(0, 5), match='Hello'>\n",
            "<re.Match object; span=(6, 11), match='world'>\n",
            "None\n",
            "None\n"
          ]
        }
      ],
      "source": [
        "import re\n",
        "\n",
        "match_one = re.search(r'Hello', 'Hello world!') # matches Hello\n",
        "print(match_one)# print match 1\n",
        "match_two = re.search(r'world', 'Hello world!') # matches world\n",
        "print(match_two)# print match 2\n",
        "match_three = re.search(r'eell', 'Hello world!') # matches None\n",
        "print(match_three)# print match 3\n",
        "match_four = re.search(r'\\w\\w\\w\\w\\w\\w\\w\\w\\w', 'Hello world!') # matches None because there is no word this long\n",
        "print(match_four) # print match 4"
      ]
    },
    {
      "cell_type": "code",
      "execution_count": 1,
      "metadata": {
        "colab": {
          "base_uri": "https://localhost:8080/"
        },
        "id": "tCdcV3EC5OQU",
        "outputId": "55fe84ff-95a2-44ff-8e90-3ad73d5556ab"
      },
      "outputs": [
        {
          "name": "stdout",
          "output_type": "stream",
          "text": [
            "<re.Match object; span=(1, 4), match='iii'>\n",
            "None\n",
            "<re.Match object; span=(2, 5), match='iig'>\n",
            "<re.Match object; span=(1, 4), match='123'>\n",
            "<re.Match object; span=(2, 5), match='abc'>\n"
          ]
        }
      ],
      "source": [
        "import re\n",
        "## Search for pattern 'iii' in string 'piiig'.\n",
        "## All of the pattern must match, but it may appear anywhere.\n",
        "## On success, match.group() is matched text.\n",
        "match_one = re.search(r'iii', 'piiig') # found, match.group() == \"iii\"\n",
        "print(match_one)\n",
        "match_two = re.search(r'igs', 'piiig') # not found, match == None\n",
        "print(match_two)\n",
        "  ## . = any char but \\n\n",
        "match_three = re.search(r'..g', 'piiig') # found, match.group() == \"iig\"\n",
        "print(match_three)\n",
        "  ## \\d = digit char, \\w = word char\n",
        "match_four = re.search(r'\\d\\d\\d', 'p123g') # found, match.group() == \"123\"\n",
        "print(match_four)\n",
        "match_five = re.search(r'\\w\\w\\w', '@@abcd!!') # found, match.group() == \"abc\"\n",
        "print(match_five)"
      ]
    },
    {
      "cell_type": "markdown",
      "metadata": {
        "id": "NIB4Hawf7mlO"
      },
      "source": [
        "**Repetition**\n",
        "\n",
        "Things get more interesting when you use + and * to specify repetition in the pattern.\n",
        "\n",
        "\"  + -- 1 or more occurrences of the pattern to its left, e.g. 'i+' = one or more i's\"\n",
        "\n",
        "\"  * -- 0 or more occurrences of the pattern to its left\"\n",
        "\n",
        "\"  ? -- match 0 or 1 occurrences of the pattern to its left\"\n",
        "\n",
        "**Leftmost & Largest**\n",
        "\n",
        "First the search finds the leftmost match for the pattern, and second it tries to use up as much of the string as possible -- i.e. + and * go as far as possible (the + and * are said to be \"greedy\").\n"
      ]
    },
    {
      "cell_type": "code",
      "execution_count": null,
      "metadata": {
        "id": "g39z1ES67_Bp"
      },
      "outputs": [],
      "source": [
        "  ## i+ = one or more i's, as many as possible.\n",
        "match_one = re.search(r'pi+', 'piiig') # found, match.group() == \"piii\"\n",
        "print(match_one)\n",
        "\n",
        "  ## Finds the first/leftmost solution, and within it drives the +\n",
        "  ## as far as possible (aka 'leftmost and largest').\n",
        "  ## In this example, note that it does not get to the second set of i's.\n",
        "match_two = re.search(r'i+', 'piigiiii') # found, match.group() == \"ii\"\n",
        "print(match_two)\n",
        "\n",
        "  ## \\s* = zero or more whitespace chars\n",
        "  ## Here look for 3 digits, possibly separated by whitespace.\n",
        "match_three = re.search(r'\\d\\s*\\d\\s*\\d', 'xx1 2   3xx') # found, match.group() == \"1 2   3\"\n",
        "print(match_three)\n",
        "\n",
        "match_four = re.search(r'\\d\\s*\\d\\s*\\d', 'xx12  3xx') # found, match.group() == \"12  3\"\n",
        "print(match_four)\n",
        "match_five = re.search(r'\\d\\s*\\d\\s*\\d', 'xx123xx') # found, match.group() == \"123\"\n",
        "print(match_five)\n",
        "\n",
        "  ## ^ = matches the start of string, so this fails:\n",
        "match_six = re.search(r'^b\\w+', 'foobar') # not found, match == None\n",
        "print(match_six)\n",
        "  ## but without the ^ it succeeds:\n",
        "match_seven = re.search(r'b\\w+', 'foobar') # found, match.group() == \"bar\"\n",
        "print(match_seven)"
      ]
    },
    {
      "cell_type": "markdown",
      "metadata": {
        "id": "AiwOHPHsCpq0"
      },
      "source": [
        "# **Example 5: Grouping with search()**\n",
        "We can use parentheses to group sub-patterns in a regex pattern."
      ]
    },
    {
      "cell_type": "code",
      "execution_count": 10,
      "metadata": {},
      "outputs": [
        {
          "name": "stdout",
          "output_type": "stream",
          "text": [
            "What you got: is original text that Juan wrote\n"
          ]
        }
      ],
      "source": [
        "text = \"This is original text that Juan wrote to test.\" # a string I wrote\n",
        "pattern = \"is original text that (Jose|Juan) wrote\" # defining the patterning I'm looking for\n",
        "\n",
        "result = re.search(pattern, text) # using the .search() function to see if i have a match\n",
        "\n",
        "if result: # check if we actually got some results back\n",
        "    print(\"What you got:\", result.group()) # if it is print this\n",
        "else: # if its not true\n",
        "    print(\"yikes looks like you didn't get a match\") # print this if it isn't"
      ]
    },
    {
      "cell_type": "code",
      "execution_count": null,
      "metadata": {
        "colab": {
          "base_uri": "https://localhost:8080/"
        },
        "id": "7FHIU_YCC828",
        "outputId": "85008ad2-bcb0-4033-8eb9-5d9d6dccfb84"
      },
      "outputs": [
        {
          "name": "stdout",
          "output_type": "stream",
          "text": [
            "Found a match: is an interpreted\n"
          ]
        }
      ],
      "source": [
        "text = \"Python is an interpreted high-level programming language for general-purpose programming.\"\n",
        "pattern = \"is (an|the) interpreted\"\n",
        "\n",
        "match = re.search(pattern, text)\n",
        "\n",
        "if match:\n",
        "    print(\"Found a match:\", match.group())\n",
        "else:\n",
        "    print(\"No match found.\")"
      ]
    },
    {
      "cell_type": "markdown",
      "metadata": {
        "id": "W0K6PURk6NCN"
      },
      "source": [
        "# **Example 6:  Match Phone Number pattern**"
      ]
    },
    {
      "cell_type": "markdown",
      "metadata": {},
      "source": [
        "# ------------------JUAN'S EXAMPLE-----------------------------------------"
      ]
    },
    {
      "cell_type": "code",
      "execution_count": 14,
      "metadata": {},
      "outputs": [
        {
          "name": "stdout",
          "output_type": "stream",
          "text": [
            "Found a match: 23-4-78901234\n"
          ]
        }
      ],
      "source": [
        "pattern = re.compile(r'\\d{2}-\\d{1}-\\d{8}') # declare the pattern that i will be checking for\n",
        "\n",
        "random_number = \"123-4-78901234\" # declare a string variable with a random number inside\n",
        "match = pattern.search(random_number) # use the search() function to find matches for what it is that i am searching for\n",
        "\n",
        "if match: # check if i have a match\n",
        "    print(\"Found a match:\", match.group()) # if there is a match then print that to the console. \n",
        "else: # this will execute if it did not find a match above\n",
        "    print(\"No match found.\") # print that you did not find a match. "
      ]
    },
    {
      "cell_type": "code",
      "execution_count": null,
      "metadata": {
        "id": "jpM6DDbE6E4Z"
      },
      "outputs": [],
      "source": [
        "pattern = re.compile(r'\\d{3}-\\d{3}-\\d{4}')"
      ]
    },
    {
      "cell_type": "markdown",
      "metadata": {
        "id": "LEk-xqil6eBL"
      },
      "source": [
        "Search for a pattern match in a string. Once you have a compiled regular expression pattern, you can use it to search for matches in a string.\n",
        "\n",
        "The search() method searches the string for a match."
      ]
    },
    {
      "cell_type": "code",
      "execution_count": null,
      "metadata": {
        "colab": {
          "base_uri": "https://localhost:8080/"
        },
        "id": "BWNSmw9W6dWM",
        "outputId": "c6c378c6-f05b-4af6-de2f-095d71550846"
      },
      "outputs": [
        {
          "name": "stdout",
          "output_type": "stream",
          "text": [
            "Found a match: 123-456-7890\n"
          ]
        }
      ],
      "source": [
        "phone_number = \"123-456-7890\"\n",
        "match = pattern.search(phone_number)\n",
        "\n",
        "if match:\n",
        "    print(\"Found a match:\", match.group())\n",
        "else:\n",
        "    print(\"No match found.\")"
      ]
    },
    {
      "cell_type": "markdown",
      "metadata": {
        "id": "LszAI7aY6zht"
      },
      "source": [
        "The match() method also searches the string for a match, but it only checks at the beginning of the string."
      ]
    },
    {
      "cell_type": "code",
      "execution_count": null,
      "metadata": {
        "colab": {
          "base_uri": "https://localhost:8080/"
        },
        "id": "n8loAcuT651E",
        "outputId": "a3c1d4fd-700f-48ae-d877-c110d106901f"
      },
      "outputs": [
        {
          "name": "stdout",
          "output_type": "stream",
          "text": [
            "Found a match: 123-456-7890\n"
          ]
        }
      ],
      "source": [
        "match = pattern.match(phone_number)\n",
        "\n",
        "if match:\n",
        "    print(\"Found a match:\", match.group())\n",
        "else:\n",
        "    print(\"No match found.\")"
      ]
    },
    {
      "cell_type": "markdown",
      "metadata": {
        "id": "fRipeiSj7GUa"
      },
      "source": [
        "## Find all pattern matches in a string\n",
        "To find all matches of a pattern in a string, you can use the findall() method."
      ]
    },
    {
      "cell_type": "code",
      "execution_count": null,
      "metadata": {
        "colab": {
          "base_uri": "https://localhost:8080/"
        },
        "id": "zyWpVbnv7COL",
        "outputId": "49e28199-2839-452e-b85d-ebaf57503362"
      },
      "outputs": [
        {
          "name": "stdout",
          "output_type": "stream",
          "text": [
            "Found a match: 123-456-7890\n",
            "Found a match: 234-567-8901\n"
          ]
        }
      ],
      "source": [
        "text = \"123-456-7890 is a phone number, and 234-567-8901 is another.\"\n",
        "matches = pattern.findall(text)\n",
        "\n",
        "for match in matches:\n",
        "    print(\"Found a match:\", match)"
      ]
    },
    {
      "cell_type": "markdown",
      "metadata": {
        "id": "i_nSGGbp9Cuk"
      },
      "source": [
        "# **Example 7: Emails Example**\n",
        "Suppose you want to find the email address inside the string 'xyz alice-b@google.com purple monkey'. We'll use this as a running example to demonstrate more regular expression features. Here's an attempt using the pattern r'\\w+@\\w+':"
      ]
    },
    {
      "cell_type": "code",
      "execution_count": 24,
      "metadata": {
        "colab": {
          "base_uri": "https://localhost:8080/"
        },
        "id": "FAABRdXx9B-E",
        "outputId": "36402295-c9b6-4275-e5c3-a9acc350dc7c"
      },
      "outputs": [
        {
          "name": "stdout",
          "output_type": "stream",
          "text": [
            "alice-b@google\n"
          ]
        }
      ],
      "source": [
        "str = 'purple alice-b@google.com monkey dishwasher'\n",
        "match = re.search(r'\\w+-\\w+@\\w+', str) # ---------------------------CHANGED THE PATTERN TO NOW INCLUDE ALICE--------------------------------\n",
        "if match:\n",
        "  print(match.group())  ## 'b@google'"
      ]
    },
    {
      "cell_type": "markdown",
      "metadata": {
        "id": "pqZKIiac9PpP"
      },
      "source": [
        "The search does not get the whole email address in this case because the \\w does not match the '-' or '.' in the address. We'll fix this using the regular expression features below."
      ]
    },
    {
      "cell_type": "markdown",
      "metadata": {
        "id": "femUmg8G9Puk"
      },
      "source": [
        "### **Square Brackets**\n",
        "\n",
        "Square brackets can be used to indicate a set of chars, so [abc] matches 'a' or 'b' or 'c'. The codes \\w, \\s etc. work inside square brackets too with the one exception that dot (.) just means a literal dot. For the emails problem, the square brackets are an easy way to add '.' and '-' to the set of chars which can appear around the @ with the pattern r'[\\w.-]+@[\\w.-]+' to get the whole email address:"
      ]
    },
    {
      "cell_type": "code",
      "execution_count": null,
      "metadata": {
        "id": "jEym-k_S9Wn7"
      },
      "outputs": [],
      "source": [
        "match = re.search(r'[\\w.-]+@[\\w.-]+', str)\n",
        "if match:\n",
        "  print(match.group())  ## 'alice-b@google.com'"
      ]
    },
    {
      "cell_type": "markdown",
      "metadata": {
        "id": "4lNVWHPn6EJV"
      },
      "source": [
        "(More square-bracket features) You can also use a dash to indicate a range, so [a-z] matches all lowercase letters. To use a dash without indicating a range, put the dash last, e.g. [abc-]. An up-hat (^) at the start of a square-bracket set inverts it, so [^ab] means any char except 'a' or 'b'."
      ]
    },
    {
      "cell_type": "markdown",
      "metadata": {
        "id": "TDIY3wq4AKBo"
      },
      "source": [
        "### **Group Extraction**\n",
        "The \"group\" feature of a regular expression allows you to pick out parts of the matching text. Suppose for the emails problem that we want to extract the username and host separately. To do this, add parentheses ( ) around the username and host in the pattern, like this: r'([\\w.-]+)@([\\w.-]+)'. In this case, the parentheses do not change what the pattern will match, instead they establish logical \"groups\" inside of the match text. On a successful search, match.group(1) is the match text corresponding to the 1st left parentheses, and match.group(2) is the text corresponding to the 2nd left parentheses. The plain match.group() is still the whole match text as usual."
      ]
    },
    {
      "cell_type": "code",
      "execution_count": null,
      "metadata": {
        "id": "TuDP42JWASuN"
      },
      "outputs": [],
      "source": [
        "str = 'purple alice-b@google.com monkey dishwasher'\n",
        "match = re.search(r'([\\w.-]+)@([\\w.-]+)', str)\n",
        "if match:\n",
        "    print(match.group())   ## 'alice-b@google.com' (the whole match)\n",
        "    print(match.group(1))  ## 'alice-b' (the username, group 1)\n",
        "    print(match.group(2))  ## 'google.com' (the host, group 2)"
      ]
    },
    {
      "cell_type": "markdown",
      "metadata": {
        "id": "BSUT2or2AWjj"
      },
      "source": [
        "A common workflow with regular expressions is that you write a pattern for the thing you are looking for, adding parentheses groups to extract the parts you want."
      ]
    },
    {
      "cell_type": "markdown",
      "metadata": {
        "id": "_11ELi6rApjD"
      },
      "source": [
        "# **Example 8: findall and Groups**"
      ]
    },
    {
      "cell_type": "markdown",
      "metadata": {
        "id": "1V6UUvCXAvIl"
      },
      "source": [
        "The parentheses ( ) group mechanism can be combined with findall(). If the pattern includes 2 or more parentheses groups, then instead of returning a list of strings, findall() returns a list of *tuples*. Each tuple represents one match of the pattern, and inside the tuple is the group(1), group(2) .. data. So if 2 parentheses groups are added to the email pattern, then findall() returns a list of tuples, each length 2 containing the username and host, e.g. ('alice', 'google.com')."
      ]
    },
    {
      "cell_type": "code",
      "execution_count": 31,
      "metadata": {
        "id": "Mbu-WYvTAyDM"
      },
      "outputs": [
        {
          "name": "stdout",
          "output_type": "stream",
          "text": [
            "['blah', 'blah']\n",
            "[('alice', 'google.com'), ('bob', 'abc.com')]\n",
            "alice\n",
            "google.com\n",
            "bob\n",
            "abc.com\n"
          ]
        }
      ],
      "source": [
        "str = 'purple alice@google.com, blah monkey bob@abc.com blah dishwasher'\n",
        "tuples = re.findall(r'([\\w\\.-]+)@([\\w\\.-]+)', str)\n",
        "blahs = re.findall(r'blah', str)# ----------------------------------EXTRACTED ALL THE BLAHS FROM THE STR AND PRINTED THEM-------------------------------------------\n",
        "print(blahs)\n",
        "print(tuples)  ## [('alice', 'google.com'), ('bob', 'abc.com')]\n",
        "for tuple in tuples:\n",
        "  print(tuple[0])  ## username\n",
        "  print(tuple[1])  ## host"
      ]
    },
    {
      "cell_type": "markdown",
      "metadata": {
        "id": "qz3INUcKA3EF"
      },
      "source": [
        "Once you have the list of tuples, you can loop over it to do some computation for each tuple. If the pattern includes no parentheses, then findall() returns a list of found strings as in earlier examples. If the pattern includes a single set of parentheses, then findall() returns a list of strings corresponding to that single group. (Obscure optional feature: Sometimes you have paren ( ) groupings in the pattern, but which you do not want to extract. In that case, write the parens with a ?: at the start, e.g. (?: ) and that left paren will not count as a group result.)"
      ]
    },
    {
      "cell_type": "markdown",
      "metadata": {
        "id": "TFMy8WDnpH_e"
      },
      "source": [
        "## **Submission**\n",
        "- Submit your completed lab using the Start Assignment button on the assignment page in Canvas.\n",
        "- Your submission can be include:\n",
        "  - if you are using notebook then, all tasks should be written and submitted in a single notebook file, for example: (**your_name_labname.ipynb**).\n",
        "  - if you are using python script file, all tasks should be written and submitted in a single python script file for example: **(your_name_labname.py)**.\n",
        "- Add appropriate comments and any additional instructions if required.\n"
      ]
    }
  ],
  "metadata": {
    "colab": {
      "provenance": []
    },
    "kernelspec": {
      "display_name": "venv",
      "language": "python",
      "name": "python3"
    },
    "language_info": {
      "codemirror_mode": {
        "name": "ipython",
        "version": 3
      },
      "file_extension": ".py",
      "mimetype": "text/x-python",
      "name": "python",
      "nbconvert_exporter": "python",
      "pygments_lexer": "ipython3",
      "version": "3.12.0"
    }
  },
  "nbformat": 4,
  "nbformat_minor": 0
}
