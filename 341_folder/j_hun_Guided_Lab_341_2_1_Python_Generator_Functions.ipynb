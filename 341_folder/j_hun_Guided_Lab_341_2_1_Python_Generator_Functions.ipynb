{
  "cells": [
    {
      "cell_type": "markdown",
      "metadata": {
        "id": "IpinkHNQS7wS"
      },
      "source": [
        "# **Guided Lab - 341.2.1 - Python - Generator Functions**\n",
        "\n",
        "---\n",
        "\n"
      ]
    },
    {
      "cell_type": "markdown",
      "metadata": {
        "id": "HOPmqj2NRzFb"
      },
      "source": [
        "# **Python - Generator Functions**\n",
        "Python provides a generator to create your own iterator function. A generator is a special type of function which does not return a single value, instead, it returns an ***iterator object*** with a sequence of values. In a generator function, a yield statement is used rather than a return statement. The following is a simple generator function."
      ]
    },
    {
      "cell_type": "code",
      "execution_count": 1,
      "metadata": {
        "id": "CKRmn-3fR6y5"
      },
      "outputs": [],
      "source": [
        "def mygenerator():\n",
        "    print('First item')\n",
        "    yield 10\n",
        "\n",
        "    print('Second item')\n",
        "    yield 20\n",
        "\n",
        "    print('Last item')\n",
        "    yield 30"
      ]
    },
    {
      "cell_type": "markdown",
      "metadata": {
        "id": "boL3wSaWR-Wr"
      },
      "source": [
        "In the above example, the `mygenerator()` function is a generator function. It uses yield instead of return keyword. So, this will return the value against the `yield` keyword each time it is called. However, you need to create an iterator for this function, as shown below."
      ]
    },
    {
      "cell_type": "code",
      "execution_count": null,
      "metadata": {
        "colab": {
          "base_uri": "https://localhost:8080/",
          "height": 314
        },
        "id": "aiRy-wd6SFiS",
        "outputId": "9f329cab-7489-4f1c-91d2-20fe638e20f4"
      },
      "outputs": [
        {
          "name": "stdout",
          "output_type": "stream",
          "text": [
            "First item\n",
            "10\n",
            "Second item\n",
            "<class 'int'>\n",
            "Last item\n",
            "30\n"
          ]
        },
        {
          "ename": "StopIteration",
          "evalue": "",
          "output_type": "error",
          "traceback": [
            "\u001b[31m---------------------------------------------------------------------------\u001b[39m",
            "\u001b[31mStopIteration\u001b[39m                             Traceback (most recent call last)",
            "\u001b[36mCell\u001b[39m\u001b[36m \u001b[39m\u001b[32mIn[4]\u001b[39m\u001b[32m, line 9\u001b[39m\n\u001b[32m      6\u001b[39m val = \u001b[38;5;28mnext\u001b[39m(gen) \u001b[38;5;66;03m#Second item\u001b[39;00m\n\u001b[32m      7\u001b[39m \u001b[38;5;28mprint\u001b[39m(val) \u001b[38;5;66;03m#20\u001b[39;00m\n\u001b[32m----> \u001b[39m\u001b[32m9\u001b[39m val = \u001b[38;5;28;43mnext\u001b[39;49m\u001b[43m(\u001b[49m\u001b[43mgen\u001b[49m\u001b[43m)\u001b[49m \u001b[38;5;66;03m#Last item\u001b[39;00m\n\u001b[32m     10\u001b[39m \u001b[38;5;28mprint\u001b[39m(val) \u001b[38;5;66;03m#30\u001b[39;00m\n\u001b[32m     12\u001b[39m val = \u001b[38;5;28mnext\u001b[39m(gen) \u001b[38;5;66;03m#error\u001b[39;00m\n",
            "\u001b[31mStopIteration\u001b[39m: "
          ]
        }
      ],
      "source": [
        "#Example: next()\n",
        "gen = mygenerator()\n",
        "val = next(gen) #First item\n",
        "print(val) #10\n",
        "print(type(next(gen))) # -------------> This is returning of type 'int', what do we mean by 'iterator object'?\n",
        "val = next(gen) #Second item\n",
        "print(val) #20\n",
        "\n",
        "val = next(gen) #Last item\n",
        "print(val) #30\n",
        "\n",
        "val = next(gen) #error"
      ]
    },
    {
      "cell_type": "markdown",
      "metadata": {
        "id": "Tz92ukmiSNPh"
      },
      "source": [
        "The generator function cannot include the return keyword. If you include it, then it will terminate the function. The difference between yield and return is that yield returns a value and pauses the execution while maintaining the internal states, whereas the return statement returns a value and terminates the execution of the function.\n",
        "\n",
        "The following generator function includes the return keyword."
      ]
    },
    {
      "cell_type": "code",
      "execution_count": null,
      "metadata": {
        "id": "2QMWcseTSPlK"
      },
      "outputs": [],
      "source": [
        "#Example: return in Generator Function\n",
        "def mygenerator():\n",
        "    print('First item')\n",
        "    yield 10 # 'yield' will give you the value and pause the execution here. Something to consider in time complexity of a program. \n",
        "\n",
        "    return # 'return' will terminate and give back the value \n",
        "\n",
        "    print('Second item')\n",
        "    yield 20\n",
        "\n",
        "    print('Last item')\n",
        "    yield 30"
      ]
    },
    {
      "cell_type": "markdown",
      "metadata": {
        "id": "qFTHtckQSXTh"
      },
      "source": [
        "Now, execute the above function as shown below."
      ]
    },
    {
      "cell_type": "code",
      "execution_count": 7,
      "metadata": {
        "id": "osenZsPeSeVi"
      },
      "outputs": [
        {
          "name": "stdout",
          "output_type": "stream",
          "text": [
            "First item\n",
            "10\n"
          ]
        },
        {
          "ename": "StopIteration",
          "evalue": "",
          "output_type": "error",
          "traceback": [
            "\u001b[31m---------------------------------------------------------------------------\u001b[39m",
            "\u001b[31mStopIteration\u001b[39m                             Traceback (most recent call last)",
            "\u001b[36mCell\u001b[39m\u001b[36m \u001b[39m\u001b[32mIn[7]\u001b[39m\u001b[32m, line 6\u001b[39m\n\u001b[32m      4\u001b[39m val = \u001b[38;5;28mnext\u001b[39m(gen) \u001b[38;5;66;03m#First item\u001b[39;00m\n\u001b[32m      5\u001b[39m \u001b[38;5;28mprint\u001b[39m(val) \u001b[38;5;66;03m#10\u001b[39;00m\n\u001b[32m----> \u001b[39m\u001b[32m6\u001b[39m val = \u001b[38;5;28;43mnext\u001b[39;49m\u001b[43m(\u001b[49m\u001b[43mgen\u001b[49m\u001b[43m)\u001b[49m \u001b[38;5;66;03m#error\u001b[39;00m\n",
            "\u001b[31mStopIteration\u001b[39m: "
          ]
        }
      ],
      "source": [
        "#Example: Generator Function\n",
        "gen = mygenerator()\n",
        "gen = mygenerator()\n",
        "val = next(gen) #First item\n",
        "print(val) #10\n",
        "val = next(gen) #error"
      ]
    },
    {
      "cell_type": "markdown",
      "metadata": {
        "id": "8TuRCN4iSmsq"
      },
      "source": [
        "As you can see, the above generator stops executing after getting the first item because the return keyword is used after yielding the first item."
      ]
    },
    {
      "cell_type": "markdown",
      "metadata": {},
      "source": [
        "# ***What are some practical use cases for generators???***"
      ]
    },
    {
      "cell_type": "markdown",
      "metadata": {},
      "source": [
        "Some examples I have found are:"
      ]
    },
    {
      "cell_type": "markdown",
      "metadata": {},
      "source": [
        "Generators in Python are particularly useful for processing large datasets or infinite sequences where loading everything into memory at once is impractical. A common use case is reading large files. Instead of loading the entire file into memory, ***a generator can yield one line at a time, processing it and then discarding it before moving to the next line***. This approach significantly reduces memory consumption, especially when dealing with files that are much larger than available RAM."
      ]
    },
    {
      "cell_type": "markdown",
      "metadata": {},
      "source": [
        "Here's the code snippet I got from Gemini:"
      ]
    },
    {
      "cell_type": "code",
      "execution_count": null,
      "metadata": {},
      "outputs": [],
      "source": [
        "def process_large_file(file_path):\n",
        "    with open(file_path, 'r') as file:\n",
        "        for line in file:\n",
        "            # Process each line here\n",
        "            yield process_line(line)\n",
        "\n",
        "def process_line(line):\n",
        "    # Some processing logic\n",
        "    return line.strip()\n",
        "\n",
        "# Usage\n",
        "file_path = 'large_file.txt'\n",
        "for processed_line in process_large_file(file_path):\n",
        "    # Work with processed line\n",
        "    print(processed_line)"
      ]
    },
    {
      "cell_type": "markdown",
      "metadata": {},
      "source": [
        "Considering that it can help parse significantly large datasets, I see how this can be very beneficial for Data Engineers who may have to work with VERY large sets of data. I imagine that this would be how we would do some sort of batch processing behind the scenes."
      ]
    }
  ],
  "metadata": {
    "colab": {
      "provenance": []
    },
    "kernelspec": {
      "display_name": "venv",
      "language": "python",
      "name": "python3"
    },
    "language_info": {
      "codemirror_mode": {
        "name": "ipython",
        "version": 3
      },
      "file_extension": ".py",
      "mimetype": "text/x-python",
      "name": "python",
      "nbconvert_exporter": "python",
      "pygments_lexer": "ipython3",
      "version": "3.12.0"
    }
  },
  "nbformat": 4,
  "nbformat_minor": 0
}
