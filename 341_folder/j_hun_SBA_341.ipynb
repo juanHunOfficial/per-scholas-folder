{
 "cells": [
  {
   "cell_type": "markdown",
   "metadata": {},
   "source": [
    "# Juan Hun - Skills Based Assessment"
   ]
  },
  {
   "cell_type": "markdown",
   "metadata": {},
   "source": [
    "## Task One: Lambda Map - (25 points)\n"
   ]
  },
  {
   "cell_type": "markdown",
   "metadata": {},
   "source": [
    "### Question Statement 1:"
   ]
  },
  {
   "cell_type": "markdown",
   "metadata": {},
   "source": [
    "You are given a list of numbers. Your task is to complete the function lambdaMap(arr), which performs the following operations:\n",
    "1. Remove negative numbers from the list.\n",
    "2. Double the remaining numbers.\n",
    "<br>\n",
    "<br>\n",
    "Your goal is to complete the lambda function inside the given Python script so that it transforms the input list accordingly.\n"
   ]
  },
  {
   "cell_type": "markdown",
   "metadata": {},
   "source": [
    "Example Expected Input:\n",
    "arr = [-1, 1, 2, -2, 6]\n",
    "<br>\n",
    "<br>\n",
    "Processing:\n",
    "\n",
    "- Remove negative numbers → [1, 2, 6]\n",
    "- Double the remaining numbers → [2, 4, 12]\n"
   ]
  },
  {
   "cell_type": "markdown",
   "metadata": {},
   "source": [
    "Expected Output:\n",
    "[2, 4, 12]\n"
   ]
  },
  {
   "cell_type": "markdown",
   "metadata": {},
   "source": [
    "### Requirement Statement:\n",
    "\n",
    "1. Complete the lambda function inside lambdaMap(arr).\n",
    "\n",
    "2. Remove all negative numbers (keep 0 and positive numbers).\n",
    "\n",
    "3. Double the remaining numbers.\n",
    "\n",
    "4. Do not modify the function signature or use explicit loops.\n"
   ]
  },
  {
   "cell_type": "code",
   "execution_count": null,
   "metadata": {},
   "outputs": [],
   "source": [
    "# Provided Python Script (Example Usage)---------------------------------------------\n",
    "def lambdaMap(arr):\n",
    "    ans = map(# Complete the lambda function here, arr)\n",
    "    return ans\n",
    "\n",
    "\n",
    "# Test cases\n",
    "test = [-3, -2, -1, 0, 1, 2, 3, 4, 5]\n",
    "ans = lambdaMap(test)\n",
    "print(ans)  # Expected Output: [0, 2, 4, 6, 8, 10]"
   ]
  },
  {
   "cell_type": "markdown",
   "metadata": {},
   "source": [
    "## JUAN'S CODE RESPONSE "
   ]
  },
  {
   "cell_type": "code",
   "execution_count": 6,
   "metadata": {},
   "outputs": [
    {
     "name": "stdout",
     "output_type": "stream",
     "text": [
      "[0, 2, 4, 6, 8, 10]\n"
     ]
    }
   ],
   "source": [
    "test = [-3, -2, -1, 0, 1, 2, 3, 4, 5] # test variable from above declared\n",
    "lambdaMap = list(map(lambda x : x*2, filter(lambda x: x >= 0, test))) # working from the inside out, we filter out the negatives, \n",
    "                                                                      # and then use the map function to double and map the results.\n",
    "# Test cases\n",
    "print(lambdaMap)  # Expected Output: [0, 2, 4, 6, 8, 10] ---- its not callable and already in a list format so that is what I printed."
   ]
  },
  {
   "cell_type": "markdown",
   "metadata": {},
   "source": [
    "---\n",
    "---\n",
    "---"
   ]
  },
  {
   "cell_type": "markdown",
   "metadata": {},
   "source": [
    "## Task Two: Validating Strings with RegEx - (25 points)"
   ]
  },
  {
   "cell_type": "markdown",
   "metadata": {},
   "source": [
    "### Question Statement 2:"
   ]
  },
  {
   "cell_type": "markdown",
   "metadata": {},
   "source": [
    "You are given a string containing only the characters 'a' and 'b'. Your task is to write a regular expression that matches strings where:\n",
    "1. The string starts and ends with the same character ('a' or 'b').\n",
    "2. The string can be of any length (including a single character).\n",
    "3. If the first character is 'a', the last character must also be 'a'.\n",
    "4. If the first character is 'b', the last character must also be 'b'.\n"
   ]
  },
  {
   "cell_type": "markdown",
   "metadata": {},
   "source": [
    "Examples:\n",
    "Input\n",
    "Should Match?\n",
    "'a'\n",
    "✅ Yes\n",
    "'aa'\n",
    "✅ Yes\n",
    "'bababbb'\n",
    "✅ Yes\n",
    "'ababababa'\n",
    "✅ Yes\n",
    "'ab'\n",
    "❌ No\n",
    "'baba'\n",
    "❌ No\n",
    "'bbb'\n",
    "✅ Yes\n",
    "\n"
   ]
  },
  {
   "cell_type": "markdown",
   "metadata": {},
   "source": [
    "### Requirement Statement:\n",
    "- Use a single regular expression to achieve the required pattern.\n",
    "- Do not use loops or additional conditional statements.\n",
    "- The solution should work for any valid string of 'a' and 'b'.\n",
    "Complete the given Python program by filling in the blank with the correct regular expression that meets the above conditions.\n",
    "### 💡 Hint: Use ^ and $ to match the beginning and end of the string."
   ]
  },
  {
   "cell_type": "code",
   "execution_count": 7,
   "metadata": {},
   "outputs": [
    {
     "name": "stdout",
     "output_type": "stream",
     "text": [
      "False\n"
     ]
    }
   ],
   "source": [
    "# Provided Python Script (Example Usage):\n",
    "from re import compile\n",
    "from re import match\n",
    "\n",
    "\n",
    "# Write the regular expression in the blank space below\n",
    "regularExpression = \"________\"\n",
    "\n",
    "\n",
    "# Test your regular expression.\n",
    "pattern = compile(regularExpression)\n",
    "if pattern.match(\"ababababa\"):\n",
    "    print(\"True\")\n",
    "else:\n",
    "    print(\"False\")"
   ]
  },
  {
   "cell_type": "markdown",
   "metadata": {},
   "source": [
    "## JUAN'S CODE RESPONSE "
   ]
  },
  {
   "cell_type": "code",
   "execution_count": 129,
   "metadata": {},
   "outputs": [
    {
     "name": "stdout",
     "output_type": "stream",
     "text": [
      "True\n",
      "False\n",
      "True\n",
      "True\n"
     ]
    }
   ],
   "source": [
    "from re import compile\n",
    "from re import match\n",
    "\n",
    "\n",
    "# Write the regular expression in the blank space below\n",
    "regularExpression = r'^a.*a$|^b.*b$' # this reads, return any string that starts and ends with 'a' OR starts and ends with 'b'\n",
    "\n",
    "\n",
    "# Test your regular expression.\n",
    "pattern = compile(regularExpression)\n",
    "examples = [\"ababababa\", \"bbabababa\", \"bababababab\", \"aba\"] # should print as follows below\n",
    "#            True           False       True          True\n",
    "\n",
    "for example in examples:\n",
    "    if pattern.match(example):\n",
    "        print(\"True\")\n",
    "    else:\n",
    "        print(\"False\")"
   ]
  },
  {
   "cell_type": "markdown",
   "metadata": {},
   "source": [
    "--- \n",
    "---\n",
    "---"
   ]
  },
  {
   "cell_type": "markdown",
   "metadata": {},
   "source": [
    "## Task Three: Iterators - (25 points)\n"
   ]
  },
  {
   "cell_type": "markdown",
   "metadata": {},
   "source": [
    "### Question Statement 3:\n",
    "You are given a list of sentences, and your task is to implement a Python iterator that iterates over each word in the sentences."
   ]
  },
  {
   "cell_type": "markdown",
   "metadata": {},
   "source": [
    "Example: Expected Input\n",
    "`sentences_list = [\"Hello, how are you?\", \"I hope you are doing well.\"]`\n",
    "\n",
    "Example: Expected Output:<br>\n",
    "Hello,<br>\n",
    "how<br>\n",
    "are<br>\n",
    "you?<br>\n",
    "I<br>\n",
    "hope<br>\n",
    "you<br>\n",
    "are<br>\n",
    "doing<br>\n",
    "well.\n",
    "\n"
   ]
  },
  {
   "cell_type": "markdown",
   "metadata": {},
   "source": [
    "### Task:\n",
    "1. Complete the class named WordIterator that implements the iterator protocol.\n",
    "2. The class should have the following methods:\n",
    "- __init__(self, sentences):\n",
    "<br>\n",
    "-- A constructor that takes a list of sentences as input.\n",
    "<br>\n",
    "-- Initializes necessary attributes to track the current position in the sentences.\n",
    "<br>\n",
    "- __iter__(self): Returns the iterator object itself.\n",
    "- __next__(self):\n",
    "<br>\n",
    "-- Returns the next word from the sentences.\n",
    "<br>\n",
    "-- Moves to the next sentence when all words in the current sentence are exhausted.\n",
    "<br>\n",
    "-- If there are no more words left, raise the StopIteration exception."
   ]
  },
  {
   "cell_type": "markdown",
   "metadata": {},
   "source": [
    "### Requirement Statement:\n",
    "- Complete the following Python script by filling in the missing implementation of the WordIterator class:"
   ]
  },
  {
   "cell_type": "code",
   "execution_count": 86,
   "metadata": {},
   "outputs": [
    {
     "name": "stdout",
     "output_type": "stream",
     "text": [
      "Hello, how are you?\n",
      "I hope you are doing well.\n"
     ]
    }
   ],
   "source": [
    "# Provided Python Script (Example Usage):\n",
    "# Create the WordIterator class\n",
    "class WordIterator:\n",
    "    # write your code here\n",
    "    # write code for __init__(self, sentences) here\n",
    "    # write code for __iter__(self) here\n",
    "    # write code for __next__(self) here\n",
    "\n",
    "\n",
    "# Example list of sentences\n",
    "sentences_list = [\"Hello, how are you?\", \"I hope you are doing well.\"]\n",
    "\n",
    "\n",
    "# Creating a WordIterator\n",
    "word_iterator = WordIterator(sentences_list)\n",
    "\n",
    "\n",
    "# Iterating over the words\n",
    "for word in word_iterator:\n",
    "    print(word)"
   ]
  },
  {
   "cell_type": "markdown",
   "metadata": {},
   "source": [
    "## JUAN'S CODE RESPONSE "
   ]
  },
  {
   "cell_type": "code",
   "execution_count": 130,
   "metadata": {},
   "outputs": [
    {
     "name": "stdout",
     "output_type": "stream",
     "text": [
      "Hello,\n",
      "how\n",
      "are\n",
      "you?\n",
      "I\n",
      "hope\n",
      "you\n",
      "are\n",
      "doing\n",
      "well.\n"
     ]
    }
   ],
   "source": [
    "# Create the WordIterator class\n",
    "class WordIterator:\n",
    "    # write your code here\n",
    "    # write code for __init__(self, sentences) here\n",
    "    def __init__(self, sentences):\n",
    "        self.sentences = sentences\n",
    "        self.index = 0\n",
    "        self.list_of_words = []\n",
    "        self.iter = 0\n",
    "    # write code for __iter__(self) here\n",
    "    def __iter__(self):\n",
    "        for sentence in self.sentences:\n",
    "            self.list_of_words += sentence.split()\n",
    "        return self\n",
    "    # write code for __next__(self) here\n",
    "    def __next__(self):\n",
    "        while True:\n",
    "            try: \n",
    "                self.iter +=1\n",
    "                return self.list_of_words[self.iter -1]\n",
    "            except:\n",
    "                self.index +=1\n",
    "                if self.index >= len(self.sentences):\n",
    "                    raise StopIteration\n",
    "                \n",
    "        \n",
    "# Example list of sentences\n",
    "sentences_list = [\"Hello, how are you?\", \"I hope you are doing well.\"]\n",
    "\n",
    "\n",
    "# Creating a WordIterator\n",
    "word_iterator = WordIterator(sentences_list)\n",
    "\n",
    "\n",
    "# Iterating over the words\n",
    "for word in word_iterator:\n",
    "    print(word)"
   ]
  },
  {
   "cell_type": "code",
   "execution_count": 97,
   "metadata": {},
   "outputs": [
    {
     "name": "stdout",
     "output_type": "stream",
     "text": [
      "Help on method_descriptor:\n",
      "\n",
      "split(self, /, sep=None, maxsplit=-1)\n",
      "    Return a list of the substrings in the string, using sep as the separator string.\n",
      "\n",
      "      sep\n",
      "        The separator used to split the string.\n",
      "\n",
      "        When set to None (the default value), will split on any whitespace\n",
      "        character (including \\n \\r \\t \\f and spaces) and will discard\n",
      "        empty strings from the result.\n",
      "      maxsplit\n",
      "        Maximum number of splits (starting from the left).\n",
      "        -1 (the default value) means no limit.\n",
      "\n",
      "    Note, str.split() is mainly useful for data that has been intentionally\n",
      "    delimited.  With natural text that includes punctuation, consider using\n",
      "    the regular expression module.\n",
      "\n"
     ]
    }
   ],
   "source": [
    "help(str.split)"
   ]
  }
 ],
 "metadata": {
  "kernelspec": {
   "display_name": "venv",
   "language": "python",
   "name": "python3"
  },
  "language_info": {
   "codemirror_mode": {
    "name": "ipython",
    "version": 3
   },
   "file_extension": ".py",
   "mimetype": "text/x-python",
   "name": "python",
   "nbconvert_exporter": "python",
   "pygments_lexer": "ipython3",
   "version": "3.12.0"
  }
 },
 "nbformat": 4,
 "nbformat_minor": 2
}
