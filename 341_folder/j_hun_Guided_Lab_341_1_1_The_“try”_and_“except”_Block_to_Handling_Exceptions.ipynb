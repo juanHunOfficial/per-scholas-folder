{
  "cells": [
    {
      "cell_type": "markdown",
      "metadata": {
        "id": "7pFZr6KqcxqQ"
      },
      "source": [
        "# **Guided Lab - The “try” and “except” Block to Handling Exceptions**\n",
        "\n",
        "---\n",
        "\n"
      ]
    },
    {
      "cell_type": "markdown",
      "metadata": {
        "id": "H6fa12Tydb0B"
      },
      "source": [
        "## **Lab Objective:**\n",
        "\n",
        "This lab focuses on handling exceptions in Python using the try, except, and finally statements.\n",
        "\n",
        "**Key Concepts Covered:**\n",
        "\n",
        "- **Basic Exception Handling:** The lab introduces the fundamental try and except blocks. Code within the try block is monitored for errors. If an error (exception) occurs, the code within the except block is executed, preventing the program from crashing.\n",
        "\n",
        "- **Handling Specific Exceptions:** Instead of catching all exceptions generically, the lab demonstrates how to handle specific exception types (like ValueError and ZeroDivisionError) using multiple except blocks. This allows for tailored error messages and more robust code.\n",
        "\n",
        "- **User Input and Error Handling:** The provided examples illustrate how to handle potential errors arising from user input, such as when a user enters invalid data types or attempts to divide by zero.\n",
        "\n",
        "\n",
        "## **Learning Objective:**\n",
        "In this lab, you will demonstrate how to handle exceptions in Python.\n",
        "\n",
        "By the end of the lab, you will be able to:\n",
        "\n",
        "- Handle exceptions using the try, except, and finally statements.\n",
        "- Use built-in exception effectively to build robust Python programs.\n"
      ]
    },
    {
      "cell_type": "markdown",
      "metadata": {
        "id": "SLiTB1cvdCTg"
      },
      "source": [
        "## **Introduction:**\n",
        "Python uses try and except keywords to handle exceptions. Both keywords are followed by indented blocks.\n",
        "```python\n",
        "try :\n",
        "    # statements in try block\n",
        "except :\n",
        "    # executed when error in try block\n",
        "```"
      ]
    },
    {
      "cell_type": "markdown",
      "metadata": {
        "id": "6XgF7ipceCCA"
      },
      "source": [
        "# **Instructions**"
      ]
    },
    {
      "cell_type": "markdown",
      "metadata": {
        "id": "eRlPiMNY3uVd"
      },
      "source": [
        " If we divide any number by zero, `try` block will throw `ZeroDivisionError`, so we should handle that exception in the `except` block. Now let’s see the example when we do not use try…except block for handling exceptions."
      ]
    },
    {
      "cell_type": "code",
      "execution_count": 1,
      "metadata": {
        "id": "ZFWodj9e3zKO"
      },
      "outputs": [
        {
          "ename": "ZeroDivisionError",
          "evalue": "division by zero",
          "output_type": "error",
          "traceback": [
            "\u001b[31m---------------------------------------------------------------------------\u001b[39m",
            "\u001b[31mZeroDivisionError\u001b[39m                         Traceback (most recent call last)",
            "\u001b[36mCell\u001b[39m\u001b[36m \u001b[39m\u001b[32mIn[1]\u001b[39m\u001b[32m, line 3\u001b[39m\n\u001b[32m      1\u001b[39m a = \u001b[32m10\u001b[39m\n\u001b[32m      2\u001b[39m b = \u001b[32m0\u001b[39m\n\u001b[32m----> \u001b[39m\u001b[32m3\u001b[39m c = \u001b[43ma\u001b[49m\u001b[43m \u001b[49m\u001b[43m/\u001b[49m\u001b[43m \u001b[49m\u001b[43mb\u001b[49m\n\u001b[32m      4\u001b[39m \u001b[38;5;28mprint\u001b[39m(\u001b[33m\"\u001b[39m\u001b[33ma/b = \u001b[39m\u001b[38;5;132;01m%d\u001b[39;00m\u001b[33m\"\u001b[39m % c)\n",
            "\u001b[31mZeroDivisionError\u001b[39m: division by zero"
          ]
        }
      ],
      "source": [
        "a = 10\n",
        "b = 0\n",
        "c = a / b\n",
        "print(\"a/b = %d\" % c)"
      ]
    },
    {
      "cell_type": "markdown",
      "metadata": {
        "id": "PogMNTnG38oL"
      },
      "source": [
        "We can see in the above code when we are divided by 0; Python throws an exception as ZeroDivisionError and the program terminated abnormally.\n",
        "\n",
        "We can handle the above exception using the try…except block. See the following code."
      ]
    },
    {
      "cell_type": "code",
      "execution_count": 2,
      "metadata": {
        "id": "Wr-LpCAd3_Cc"
      },
      "outputs": [
        {
          "name": "stdout",
          "output_type": "stream",
          "text": [
            "Can't divide with zero. Provide different number\n"
          ]
        }
      ],
      "source": [
        "try:\n",
        "    a = 10\n",
        "    b = 0\n",
        "    c = a/b\n",
        "    print(\"The answer of a divide by b:\", c)\n",
        "except:\n",
        "    print(\"Can't divide with zero. Provide different number\")"
      ]
    },
    {
      "cell_type": "markdown",
      "metadata": {
        "id": "9_MJSGTDaYIC"
      },
      "source": [
        "## **Catching Specific Exceptions**\n",
        "\n",
        "In the above examples, the `except` block was used without specifying any particular exception. This means it would catch any exception that occurred within the try block. While this can be useful for basic error handling, it's generally considered bad practice.\n",
        "\n",
        "**Why Specificity Matters:**\n",
        "\n",
        "Catching all exceptions indiscriminately can mask underlying issues and make debugging more difficult. Instead, it's crucial to be specific about the types of exceptions you anticipate and handle them individually.\n",
        "\n",
        "**How to Catch Specific Exceptions:**\n",
        "\n",
        "To catch a specific exception, you simply name the exception type after the `except` keyword. For instance:\n",
        "```python\n",
        "try:\n",
        "  # Code that might raise a ValueError\n",
        "except ValueError:\n",
        "  # Handle the ValueError specifically\n",
        "\n",
        "  ```"
      ]
    },
    {
      "cell_type": "markdown",
      "metadata": {
        "id": "bMecXHiX4KpU"
      },
      "source": [
        "In the following example, we will ask the user for the denominator value. If the user enters a number, the program will evaluate and produce the result.\n",
        "\n",
        "If the user enters a non-numeric value, the try block will throw a ValueError exception, and we can catch that using a first catch block ‘except ValueError’ by printing the message ‘Entered value is wrong’.\n",
        "\n",
        "And suppose the user enters the denominator as zero. In that case, the try block will throw a ZeroDivisionError, and we can catch that using a second catch block by printing the message ‘Can’t divide by zero’."
      ]
    },
    {
      "cell_type": "code",
      "execution_count": null,
      "metadata": {
        "id": "QQzTWkuF4TYE"
      },
      "outputs": [
        {
          "name": "stdout",
          "output_type": "stream",
          "text": [
            "Entered value is wrong\n",
            "Error Code: invalid literal for int() with base 10: 'sdf'\n"
          ]
        }
      ],
      "source": [
        "# try:\n",
        "#     a = int(input(\"Enter value of a:\"))\n",
        "#     b = int(input(\"Enter value of b:\"))\n",
        "#     c = a/b\n",
        "#     print(\"The answer of a divide by b:\", c)\n",
        "# except ValueError:\n",
        "#     print(\"Entered value is wrong\")\n",
        "# except ZeroDivisionError:\n",
        "#     print(\"Can't divide by zero\")\n",
        "\n",
        "##### ANOTHER WAY TO DO THIS IS #######\n",
        "try:\n",
        "    a = int(input(\"Enter value of a:\"))\n",
        "    b = int(input(\"Enter value of b:\"))\n",
        "    c = a/b\n",
        "    print(\"The answer of a divide by b:\", c)\n",
        "except (ValueError, ZeroDivisionError) as e:\n",
        "    print(f\"Error Code: {e}\")\n"
      ]
    },
    {
      "cell_type": "markdown",
      "metadata": {},
      "source": [
        "# ***THESE CODE EXAMPLES WERE ADDED BY JUAN***"
      ]
    },
    {
      "cell_type": "markdown",
      "metadata": {
        "id": "fIt2bLtQ4aak"
      },
      "source": [
        "**Sample Output**\n",
        "\n",
        "**Output 1:**\n",
        "\n",
        "Enter value of a:Ten\n",
        "\n",
        "Entered value is wrong\n"
      ]
    },
    {
      "cell_type": "code",
      "execution_count": 5,
      "metadata": {},
      "outputs": [
        {
          "name": "stdout",
          "output_type": "stream",
          "text": [
            "Error Code: invalid literal for int() with base 10: 'Ten'\n"
          ]
        }
      ],
      "source": [
        "try:\n",
        "    a = int(\"Ten\")\n",
        "    b = int(1)\n",
        "    c = a/b\n",
        "    print(\"The answer of a divide by b:\", c)\n",
        "except (ValueError, ZeroDivisionError) as e:\n",
        "    print(f\"Error Code: {e}\")\n"
      ]
    },
    {
      "cell_type": "markdown",
      "metadata": {},
      "source": [
        "\n",
        "**Output 2:**\n",
        "\n",
        "Enter value of a:10\n",
        "\n",
        "Enter value of b:0\n",
        "\n",
        "Can't divide by zero\n"
      ]
    },
    {
      "cell_type": "code",
      "execution_count": 6,
      "metadata": {},
      "outputs": [
        {
          "name": "stdout",
          "output_type": "stream",
          "text": [
            "Error Code: division by zero\n"
          ]
        }
      ],
      "source": [
        "try:\n",
        "    a = int(\"10\")\n",
        "    b = int(\"0\")\n",
        "    c = a/b\n",
        "    print(\"The answer of a divide by b:\", c)\n",
        "except (ValueError, ZeroDivisionError) as e:\n",
        "    print(f\"Error Code: {e}\")\n"
      ]
    },
    {
      "cell_type": "markdown",
      "metadata": {},
      "source": [
        "\n",
        "**Output 3:**\n",
        "\n",
        "Enter value of a:10\n",
        "\n",
        "Enter value of b:2\n",
        "\n",
        "The answer of a divide by b: 5.0"
      ]
    },
    {
      "cell_type": "code",
      "execution_count": 7,
      "metadata": {},
      "outputs": [
        {
          "name": "stdout",
          "output_type": "stream",
          "text": [
            "The answer of a divide by b: 5.0\n"
          ]
        }
      ],
      "source": [
        "try:\n",
        "    a = int(\"10\")\n",
        "    b = int(\"2\")\n",
        "    c = a/b\n",
        "    print(\"The answer of a divide by b:\", c)\n",
        "except (ValueError, ZeroDivisionError) as e:\n",
        "    print(f\"Error Code: {e}\")\n"
      ]
    },
    {
      "cell_type": "markdown",
      "metadata": {
        "id": "3SJKIU-SlGw2"
      },
      "source": [
        "##**Submission**\n",
        "- Submit your completed lab using the Start Assignment button on the assignment page in Canvas.\n",
        "- Your submission can be include:\n",
        "  - if you are using notebook then, all tasks should be written and submitted in a single notebook file, for example: (**your_name_labname.ipynb**).\n",
        "  - if you are using python script file, all tasks should be written and submitted in a single python script file for example: **(your_name_labname.py)**.\n",
        "- Add appropriate comments and any additional instructions if required.\n"
      ]
    },
    {
      "cell_type": "code",
      "execution_count": null,
      "metadata": {
        "id": "6uzod_Ly3gsz"
      },
      "outputs": [],
      "source": [
        "'''\n",
        "When you want to do multiple standardized exceptions in one except block you can use contain them in a tuple like so \"except (ZeroDivisionError, ValueError) as e:\".\n",
        "\n",
        "NOTE: that it is not formatted for \"and\" or \"or\" statement, for some reason it was not working as intending and this tuple format came up in my research on the topic. \n",
        "'''"
      ]
    }
  ],
  "metadata": {
    "colab": {
      "provenance": []
    },
    "kernelspec": {
      "display_name": "venv",
      "language": "python",
      "name": "python3"
    },
    "language_info": {
      "codemirror_mode": {
        "name": "ipython",
        "version": 3
      },
      "file_extension": ".py",
      "mimetype": "text/x-python",
      "name": "python",
      "nbconvert_exporter": "python",
      "pygments_lexer": "ipython3",
      "version": "3.12.0"
    }
  },
  "nbformat": 4,
  "nbformat_minor": 0
}
