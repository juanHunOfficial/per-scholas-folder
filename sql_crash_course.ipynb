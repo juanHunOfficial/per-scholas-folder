{
 "cells": [
  {
   "cell_type": "markdown",
   "id": "cfef1167",
   "metadata": {},
   "source": [
    "# Welcome to my crash course on SQL!\n",
    "\n",
    "## This course is designed to give you a simple overview into the basics of SQL\n",
    "- What is a `query`\n",
    "- How to write a `query`\n",
    "- Basic syntax\n",
    "- Keywords and their functionality"
   ]
  },
  {
   "cell_type": "markdown",
   "id": "81f9c3a9",
   "metadata": {},
   "source": [
    "## Getting started\n",
    "STEPS:\n",
    "1. In the sample cell below in the bottom right-hand corner you should see a block that says either `markdown`, `python`, or `SQL`. If it does not say `SQL` click on it and select `SQL`.\n",
    "<br>\n",
    "***NOTE: It may run a quick install and you'll see that in your terminal.***\n",
    "2. The syntax highlighting should switch to the SQL configuration. For example, `SELECT` and `FROM` should be highlighted now. \n",
    "<br>\n",
    "***IMPORTANT:*** This will help with visualizing what is SQL syntax and what is custom made `fields` and `tables`. "
   ]
  },
  {
   "cell_type": "code",
   "execution_count": null,
   "id": "67ce3cf4",
   "metadata": {
    "vscode": {
     "languageId": "sql"
    }
   },
   "outputs": [
    {
     "ename": "SyntaxError",
     "evalue": "invalid syntax (3163780829.py, line 1)",
     "output_type": "error",
     "traceback": [
      "  \u001b[36mCell\u001b[39m\u001b[36m \u001b[39m\u001b[32mIn[2]\u001b[39m\u001b[32m, line 1\u001b[39m\n\u001b[31m    \u001b[39m\u001b[31mSELECT grade\u001b[39m\n           ^\n\u001b[31mSyntaxError\u001b[39m\u001b[31m:\u001b[39m invalid syntax\n"
     ]
    }
   ],
   "source": [
    "SELECT student_name, age, gpa\n",
    "FROM students\n",
    "WHERE grade > 90;"
   ]
  },
  {
   "cell_type": "markdown",
   "id": "92dc0171",
   "metadata": {},
   "source": [
    "### With the configuration out of the way, lets discuss `queries`\n",
    "\n",
    "## What is a `query`\n",
    "\n",
    "A query is simply **a request for data or information from a database**. Take the syntax above for example, in english it translates to: \n",
    "<br>\n",
    "- `SELECT` or give me the students `name`, `age`, and `gpa` `FROM` the `students` table, but only give me students that have a `grade > 90`."
   ]
  }
 ],
 "metadata": {
  "kernelspec": {
   "display_name": "venv",
   "language": "python",
   "name": "python3"
  },
  "language_info": {
   "codemirror_mode": {
    "name": "ipython",
    "version": 3
   },
   "file_extension": ".py",
   "mimetype": "text/x-python",
   "name": "python",
   "nbconvert_exporter": "python",
   "pygments_lexer": "ipython3",
   "version": "3.12.0"
  }
 },
 "nbformat": 4,
 "nbformat_minor": 5
}
