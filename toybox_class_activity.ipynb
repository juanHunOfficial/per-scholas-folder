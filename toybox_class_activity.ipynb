{
  "cells": [
    {
      "cell_type": "code",
      "execution_count": null,
      "metadata": {
        "id": "-D1EPBJ4sLCE"
      },
      "outputs": [],
      "source": [
        "# <!-- ## **Scenario: ToyBox - Filtering Toys**  Classes and objects\n",
        "\n",
        "# Imagine you run a **ToyBox**, and you want to filter out either **\"fun\" toys** or **\"boring\" toys** from your collection.\n",
        "\n",
        "# We’ll write a **class called `ToyBox`** that:\n",
        "# - Stores a list of toy names.\n",
        "# - Has a method to **filter out the boring toys**.\n",
        "# - Has a method to **keep only the fun toys**.\n",
        "#  -->\n",
        "\n",
        "\n",
        "## **Final Code First (so we can break it down line by line)**\n",
        "\n",
        "class ToyBox:\n",
        "    def __init__(self, toys):\n",
        "        self.toys = toys\n",
        "\n",
        "#note the function below is technically a method.  a method is a function defined inside a class that operates on instances of that class.\n",
        "    def remove_boring_toys(self):\n",
        "        boring = ['rock', 'stick', 'paperclip']\n",
        "        result = []                      # Start with an empty list\n",
        "        for toy in self.toys:            # Loop through each toy in the list\n",
        "            if toy not in boring:        # Keep only if it's not boring\n",
        "                #why are we using NOT in and Boring?  because the variable boring has been defined.\n",
        "                result.append(toy)       # Add to the result list\n",
        "        return result                    # Return the final filtered list showing only fun toys\n",
        "\n",
        "    #this is a fancy (think more effiecient) way of essentially doing the same thing as above.  List Comprehension are a shorthand way to create new lists by filtering or transforming elements from another list.\n",
        "    # def keep_only_fun_toys(self):\n",
        "    #     boring = ['rock', 'stick', 'paperclip']\n",
        "    #     return [toy for toy in self.toys if toy not in boring]\n",
        "\n",
        "    def add_toy(self, new_toy: str) -> None:\n",
        "        self.toys.append(new_toy)\n",
        "\n",
        "    def multiple_toys(self, list_of_toys: list) -> None:\n",
        "        self.toys.extend(list_of_toys)\n",
        "\n",
        "    def list_my_toys(self) -> None:\n",
        "        for toy in self.toys:\n",
        "            print(toy)"
      ]
    },
    {
      "cell_type": "markdown",
      "metadata": {
        "id": "GCqQu7D6sLCI"
      },
      "source": [
        "## **Line-by-Line Explanation**\n",
        "\n",
        "---\n",
        "\n",
        "### ### 1. **Class Declaration**\n",
        "```python\n",
        "class ToyBox:\n",
        "```\n",
        "- This creates a **blueprint** called `ToyBox`.\n",
        "- A **class** groups related data (toys) and behavior (methods to filter).\n",
        "\n",
        "---\n",
        "\n",
        "### 2. **Constructor Method**\n",
        "```python\n",
        "    def __init__(self, toys):\n",
        "        self.toys = toys\n",
        "```\n",
        "- This special method runs when we **create a new object** from the class.\n",
        "- `toys` is a **parameter** (input list of toy names).\n",
        "- `self.toys = toys` saves that list inside the object so other methods can use it.\n",
        "- `self.` is how we refer to the **instance's own variables**.\n",
        "\n",
        "---\n",
        "\n",
        "### 3. **Method: `remove_boring_toys()`**\n",
        "```python\n",
        "    def remove_boring_toys(self):\n",
        "        boring = ['rock', 'stick', 'paperclip']\n",
        "        return [toy for toy in self.toys if toy not in boring]\n",
        "```\n",
        "\n",
        "#### Step-by-Step:\n",
        "1. `def` defines a method (a function inside a class).\n",
        "2. `self` gives access to the instance's toy list.\n",
        "3. `boring = [...]` defines a list of boring toys.\n",
        "4. `return [toy for toy in self.toys if toy not in boring]`\n",
        "   - This is a **list comprehension**:\n",
        "     - It loops through each `toy` in `self.toys`.\n",
        "     - If the toy **is not** in the boring list, it adds it to the result.\n",
        "\n",
        "---\n",
        "\n",
        "### 4. **Method: `keep_only_fun_toys()`**\n",
        "```python\n",
        "    def keep_only_fun_toys(self):\n",
        "        boring = ['rock', 'stick', 'paperclip']\n",
        "        return [toy for toy in self.toys if toy not in boring]\n",
        "```\n",
        "\n",
        "\n",
        "\n",
        "---\n"
      ]
    },
    {
      "cell_type": "code",
      "execution_count": null,
      "metadata": {
        "id": "y5rQ-MeSsLCK",
        "outputId": "f0005361-b811-488a-bdf6-5e3ecdb549bd"
      },
      "outputs": [
        {
          "name": "stdout",
          "output_type": "stream",
          "text": [
            "['lego', 'ball', 'yoyo']\n"
          ]
        }
      ],
      "source": [
        "## **How to Use the Class**\n",
        "\n",
        "# To use the ToyBox class, you need to:\n",
        "# Create an instance (an object) of the class, supplying the list of toys (and any other attributes like owner, if defined).\n",
        "# Call the methods defined in the class to interact with the data (like filtering, adding, or removing toys).\n",
        "# Access attributes such as toys, owner, or others to view or modify the state of the object.\n",
        "\n",
        "# toylist = input(\"name a toy\")\n",
        "\n",
        "my_toybox = ToyBox(['lego', 'stick', 'ball', 'paperclip', 'yoyo'])\n",
        "my_toybox.toys\n",
        "\n",
        "\n",
        "\n",
        "print(my_toybox.remove_boring_toys())\n",
        "# # Output: ['lego', 'ball', 'yoyo']\n",
        "\n",
        "# print(my_toybox.keep_only_fun_toys())\n",
        "# # Output: ['stick', 'paperclip']\n",
        "\n",
        "\n"
      ]
    },
    {
      "cell_type": "markdown",
      "metadata": {
        "id": "RhSNK2sfsLCL"
      },
      "source": [
        "## **Concepts Taught**\n",
        "\n",
        "| Concept                | Where It Appears                             | Explanation |\n",
        "|------------------------|----------------------------------------------|-------------|\n",
        "| **Class**              | `class ToyBox:`                              | Creates an object blueprint |\n",
        "| **Constructor**        | `def __init__(...)`                          | Sets up instance data |\n",
        "| **Instance variable**  | `self.toys = toys`                           | Stores data unique to the object |\n",
        "| **Method**             | `def remove_boring_toys(self):`              | A function that belongs to the class |\n",
        "| **List**               | `boring = [...]`                             | Stores multiple values |\n",
        "| **List comprehension** | `[toy for toy in self.toys if ...]`          | A compact way to filter or transform lists |\n",
        "| **Conditionals**       | `if toy not in boring`                       | Used inside the list comprehension |\n",
        "| **`self` keyword**     | `self.toys`                                  | Refers to the instance’s version of data |\n",
        "\n"
      ]
    },
    {
      "cell_type": "markdown",
      "metadata": {
        "id": "Vm8tSII5sLCL"
      },
      "source": [
        "## **Interactive Student Exercises**\n",
        "Experiment with the following Challenges:\n",
        "1. Replace the toy names with **book titles** and filter out boring ones.\n",
        "2. Modify the class to support adding new toys (`add_toy()` method).\n",
        "3. Visualize what’s happening inside the list comprehension by printing intermediate steps.\n",
        "\n"
      ]
    },
    {
      "cell_type": "markdown",
      "metadata": {
        "id": "LVboYHJOsLCL"
      },
      "source": [
        "how can"
      ]
    },
    {
      "cell_type": "markdown",
      "metadata": {
        "id": "dvm9YmetsLCL"
      },
      "source": []
    },
    {
      "cell_type": "markdown",
      "metadata": {
        "id": "ZvvWcqYVsLCM"
      },
      "source": [
        "**adding attributes to class instances** like `owner`, `label`, or `box_size` is a great next step in teaching **custom data storage within objects**. This helps learners understand **instance variables**, **object identity**, and introduces concepts like **state** and **responsibility**.\n",
        "\n",
        "Let’s build on your `ToyBox` class and add meaningful attributes.\n",
        "\n",
        "---\n",
        "\n",
        "## **Expanded Version of `ToyBox` with Additional Attributes**\n",
        "\n",
        "```python\n",
        "class ToyBox:\n",
        "    boring_toys = ['rock', 'stick', 'paperclip']  # class variable\n",
        "\n",
        "    def __init__(self, toys, owner, label=None, box_size=\"medium\"):\n",
        "        self.toys = toys            # list of toy names\n",
        "        self.owner = owner          # name of the child or user who owns the toybox\n",
        "        self.label = label          # optional nameplate for the box\n",
        "        self.box_size = box_size    # size category (small, medium, large)\n",
        "```\n",
        "\n",
        "---\n",
        "\n",
        "### **What’s New and Why It Matters**\n",
        "\n",
        "| Attribute     | Purpose                                             | Concept Introduced                     |\n",
        "|---------------|-----------------------------------------------------|----------------------------------------|\n",
        "| `owner`       | Who owns this toy box                               | Storing identity using instance vars   |\n",
        "| `label`       | A nickname or sticker name for the box              | Optional attributes with default value |\n",
        "| `box_size`    | Category for storage size                           | Parameters with defaults               |\n",
        "\n",
        "---\n",
        "\n",
        "### **Updated Use Example**\n",
        "\n",
        "```python\n",
        "box1 = ToyBox(['ball', 'doll', 'paperclip'], owner='Zoe', label='Princess Toys', box_size='small')\n",
        "box2 = ToyBox(['lego', 'stick'], owner='Liam')\n",
        "\n",
        "print(f\"{box1.owner}'s box is labeled '{box1.label}' and contains {len(box1.toys)} toys.\")\n",
        "print(f\"{box2.owner}'s box size is {box2.box_size}.\")\n",
        "```\n",
        "\n",
        "---\n",
        "\n",
        "### **Add a Method That Uses These New Attributes**\n",
        "\n",
        "```python\n",
        "def describe_box(self):\n",
        "    print(f\"This is {self.owner}'s toy box.\")\n",
        "    if self.label:\n",
        "        print(f\"It is labeled: {self.label}\")\n",
        "    print(f\"It contains {len(self.toys)} toys.\")\n",
        "    print(f\"The box size is: {self.box_size}\")\n",
        "```\n",
        "\n",
        "---\n",
        "\n",
        "### **Concepts Reinforced**\n",
        "- Using attributes to describe object state\n",
        "- Using `if self.label` to check for `None`\n",
        "- Encapsulation of related data in an object\n",
        "\n",
        "---\n",
        "\n",
        "## **Extensions / Practice Ideas for Students**\n",
        "\n",
        "| Activity                                         | What it Teaches                           |\n",
        "|--------------------------------------------------|--------------------------------------------|\n",
        "| Add a `color` attribute                          | Managing more custom object state          |\n",
        "| Allow changing the `owner` with a method         | Writing setter methods                     |\n",
        "| Add a method to transfer toys between boxes      | Working with multiple instances            |\n",
        "| Keep track of total number of boxes created      | Class variables / counters                 |\n",
        "| Compare boxes by size                            | Writing comparison methods (`__lt__`)      |\n",
        "\n",
        "---\n",
        "\n",
        "## **Next-Level Enhancement (Optional)**\n",
        "You could introduce a class method or factory pattern:\n",
        "\n",
        "```python\n",
        "@classmethod\n",
        "def create_empty_box(cls, owner):\n",
        "    return cls([], owner)\n",
        "```\n",
        "\n",
        "This would let students create a box for someone without needing to list toys at the start.\n"
      ]
    },
    {
      "cell_type": "code",
      "execution_count": null,
      "metadata": {
        "id": "-ccN9fkCsLCM"
      },
      "outputs": [],
      "source": []
    }
  ],
  "metadata": {
    "colab": {
      "provenance": []
    },
    "kernelspec": {
      "display_name": "Python 3",
      "language": "python",
      "name": "python3"
    },
    "language_info": {
      "codemirror_mode": {
        "name": "ipython",
        "version": 3
      },
      "file_extension": ".py",
      "mimetype": "text/x-python",
      "name": "python",
      "nbconvert_exporter": "python",
      "pygments_lexer": "ipython3",
      "version": "3.11.0"
    }
  },
  "nbformat": 4,
  "nbformat_minor": 0
}
