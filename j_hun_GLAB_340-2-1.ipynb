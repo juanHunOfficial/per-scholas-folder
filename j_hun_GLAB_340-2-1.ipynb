{
 "cells": [
  {
   "cell_type": "markdown",
   "metadata": {},
   "source": [
    "# ----------------------------  Juan Hun  -------------------------------"
   ]
  },
  {
   "cell_type": "code",
   "execution_count": 1,
   "metadata": {},
   "outputs": [
    {
     "name": "stdout",
     "output_type": "stream",
     "text": [
      "Showcasing addition: 108\n",
      "Showcasing subtraction: 22\n",
      "Showcasing multiplication: 19200\n",
      "Showcasing division: 2.6666666666666665\n",
      "Reminder of two numbers: 2\n",
      "Exponent of two numbers: 1073741824  and  36  <-- this should be b squared.\n",
      "Floor division of two numbers: 5  <--- this will give me the numbers with the end being truncated.\n",
      "Result of MultipleOperators is:  2.5  I was doing this a ton above to show that I actually went through all of these examples.\n"
     ]
    }
   ],
   "source": [
    "a = 32     \n",
    "b = 6     \n",
    "print('Showcasing addition:',a+b+a+a+b)\n",
    "print('Showcasing subtraction:',a-b-4)  \n",
    "print('Showcasing multiplication:',a*b*100)  \n",
    "print('Showcasing division:',a/b/2)  \n",
    "print('Reminder of two numbers:',a%b)  \n",
    "print('Exponent of two numbers:',a**b, \" and \", b**2, \" <-- this should be b squared.\")  \n",
    "print('Floor division of two numbers:',a//b, \" <--- this will give me the numbers with the end being truncated.\")  \n",
    "MultipleOperators = 1 + 2 * 3 / 4.0\n",
    "print(\"Result of MultipleOperators is: \",MultipleOperators, \" I was doing this a ton above to show that I actually went through all of these examples.\")"
   ]
  },
  {
   "cell_type": "markdown",
   "metadata": {},
   "source": [
    "---"
   ]
  },
  {
   "cell_type": "code",
   "execution_count": 2,
   "metadata": {},
   "outputs": [
    {
     "name": "stdout",
     "output_type": "stream",
     "text": [
      "a=b: False\n",
      "a+=b: 38\n",
      "a-=b: 26\n",
      "a*=b: 192\n",
      "a%=b: 2\n",
      "a**=b: 1073741824\n",
      "a//=b: 5\n",
      "j is :  10\n",
      "j is :  5\n",
      "k is :  5\n",
      "j is :  10\n",
      "k is :  10\n"
     ]
    }
   ],
   "source": [
    "\n",
    "a = 32        \n",
    "b = 6         \n",
    "print('a=b:', a==b)  # '==' refers to evaluation not assignment.\n",
    "print('a+=b:', a+b)  # shorthand of a = a + b '+=' is also used very commonly to increment things like counters. \n",
    "print('a-=b:', a-b)  # shorthand of a = a - b '-=' similar to the '+=' shorthand, this is used to decrement.\n",
    "print('a*=b:', a*b)  # shorthand of a = a * b '*=' this one is less used than the two above but it is still nice to have\n",
    "print('a%=b:', a%b)  # shorthand of a = a % b \n",
    "print('a**=b:', a**b)  # shorthand of a = a ** b\n",
    "print('a//=b:', a//b)  # shorthand of a = a/ b  \n",
    "   \n",
    "j = 10 # j gets the value 10.\n",
    "print(\"j is : \" , j)\n",
    "j = 5 # j gets the value 5. The previous value is overwritten.\n",
    "k = j # k gets the value 5.\n",
    "print(\"j is : \" , j)\n",
    "print(\"k is : \" , k)\n",
    "\n",
    "\n",
    "k = j = 10; # (k = (j = 10))\n",
    "print(\"j is : \" , j)\n",
    "print(\"k is : \" , k)"
   ]
  },
  {
   "cell_type": "markdown",
   "metadata": {},
   "source": [
    "---"
   ]
  },
  {
   "cell_type": "code",
   "execution_count": null,
   "metadata": {},
   "outputs": [
    {
     "name": "stdout",
     "output_type": "stream",
     "text": [
      "Two numbers are equal or not: False\n",
      "Two numbers are not equal or not: True\n",
      "a is less than or equal to b: False\n",
      "a is greater than or equal to b: True\n",
      "a is greater b: True\n",
      "a is less than b: False\n"
     ]
    }
   ],
   "source": [
    "a = 32      # Initialize the value of a  \n",
    "b = 6       # Initialize the value of b  \n",
    "print('Two numbers are equal or not:',a==b)  # what this looks like is --- 32 = 6, nope, that is False\n",
    "print('Two numbers are not equal or not:',a!=b)  # --- 32 does not equal 6, yup, thats correct\n",
    "print('a is less than or equal to b:',a<=b)  # --- 32 < or = 6, neither are true statements so this one is also False\n",
    "print('a is greater than or equal to b:',a>=b)  # --- 32 > or = 6, yes, because 32 is greater than 6 it is evaluated as True\n",
    "print('a is greater b:',a>b)  # --- 32 > 6, yes, this is a true statement\n",
    "print('a is less than b:',a<b)# --- 32 < 6, wrong, return False"
   ]
  },
  {
   "cell_type": "markdown",
   "metadata": {},
   "source": [
    "---"
   ]
  },
  {
   "cell_type": "code",
   "execution_count": null,
   "metadata": {},
   "outputs": [
    {
     "name": "stdout",
     "output_type": "stream",
     "text": [
      "True\n",
      "False\n",
      "False\n",
      "True\n",
      "True\n",
      "False\n"
     ]
    }
   ],
   "source": [
    "a = [\"Rose\", \"Lotus\"] # the python essentials, I will add a fun fact to this section. The list can contain multiple different data types within it. \n",
    "b = [\"Rose\", \"Lotus\"]\n",
    "c = a\n",
    "print(a is c)\n",
    "print(a is not c)\n",
    "print(a is b)\n",
    "print(a is not b)\n",
    "print(a == b)\n",
    "print(a != b)"
   ]
  },
  {
   "cell_type": "markdown",
   "metadata": {},
   "source": [
    "---"
   ]
  },
  {
   "cell_type": "code",
   "execution_count": null,
   "metadata": {},
   "outputs": [
    {
     "name": "stdout",
     "output_type": "stream",
     "text": [
      " Is value Present? True\n",
      " Is value not Present? True\n",
      "True\n",
      "True\n",
      "True\n",
      "False\n"
     ]
    }
   ],
   "source": [
    "x = [\"Rose\", \"Lotus\"]  \n",
    "print(' Is value Present?', \"Rose\" in x) # yes  \n",
    "print(' Is value not Present?', \"Riya\" not in x) # yes, both of these evaluate to true, and showcases how python, syntactically, is very readable     \n",
    "\n",
    "\n",
    "x = 'Hello Data Engineering world'\n",
    "y = {1:'a', 2:'b'}\n",
    "\n",
    "\n",
    "# check if 'H' is present in x string\n",
    "print('H' in x)  # prints True\n",
    "# check if 'hello' is present in x string\n",
    "print('hello' not in x)  # prints True\n",
    "# check if '1' key is present in y\n",
    "print(1 in y)  # prints True\n",
    "# check if 'a' key is present in y\n",
    "print('a' in y)  # prints False"
   ]
  },
  {
   "cell_type": "markdown",
   "metadata": {},
   "source": [
    "---"
   ]
  },
  {
   "cell_type": "markdown",
   "metadata": {},
   "source": [
    "# The End"
   ]
  }
 ],
 "metadata": {
  "kernelspec": {
   "display_name": "Python 3",
   "language": "python",
   "name": "python3"
  },
  "language_info": {
   "codemirror_mode": {
    "name": "ipython",
    "version": 3
   },
   "file_extension": ".py",
   "mimetype": "text/x-python",
   "name": "python",
   "nbconvert_exporter": "python",
   "pygments_lexer": "ipython3",
   "version": "3.13.2"
  }
 },
 "nbformat": 4,
 "nbformat_minor": 2
}
