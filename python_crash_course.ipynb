{
 "cells": [
  {
   "cell_type": "markdown",
   "metadata": {},
   "source": [
    "# This is a much nicer and segmented version of my Python Crash Course\n",
    "\n",
    "The following lines of code is a progression to showcase the introduction to reading and understanding code. \n",
    "\n",
    "---\n",
    "\n",
    "\n",
    "### Intro to functions and the 'input' function\n",
    "\n",
    "\n",
    "---\n",
    "---"
   ]
  },
  {
   "cell_type": "code",
   "execution_count": 1,
   "metadata": {},
   "outputs": [],
   "source": [
    "# This is known as a comment, programmers use this to document their work in plain english. Comments are completely ignored by the machine when the \n",
    "# code is ran. This purely used for documentation purposes. You can run this code block and receive no output."
   ]
  },
  {
   "cell_type": "code",
   "execution_count": null,
   "metadata": {},
   "outputs": [],
   "source": [
    "value = input(\"Everything within the quotes is printed to the screen for the user to see and respond. Enter a number: \") # NOTE: the input block will be on the top of your screen."
   ]
  },
  {
   "cell_type": "markdown",
   "metadata": {},
   "source": [
    "This line will be displayed with a cursor at the end, indicating that it is waiting on a response.\n",
    "The reason for this functionality, is the function named `input`. Think back to algebra `f(x) = x + 1`\n",
    "Similar to this the function returning a particular OUTPUT (the result after you solved for `x`)\n",
    "there is also an INPUT that needs to be given, this is similar to when you are given x (like `Solve for x where x = 3`)\n",
    "Now you start to see where your algebra classes and above now come in handy. Take a big sigh of relief because you often\n",
    "times will not be asked to do complex math, it is this functionality that you will be using. "
   ]
  },
  {
   "cell_type": "markdown",
   "metadata": {},
   "source": [
    "## Now on to reading code. \n",
    "With the brief introduction to values and functions out of the way, you may be tempted to read code\n",
    "the same way you read a book. Often times this is fine but you need to be able to recognize how to read code in the order of \n",
    "operation. Similar to how you have the order of operations when solving in math (PEMDAS = Please Excuse My Dear Aunt Sally/ Power Exponent Multiplication Division Add Sub)\n",
    "programming has something similar, take this function below for example:"
   ]
  },
  {
   "cell_type": "code",
   "execution_count": null,
   "metadata": {},
   "outputs": [],
   "source": [
    "value = int(input(\"Enter a value: \"))"
   ]
  },
  {
   "cell_type": "markdown",
   "metadata": {},
   "source": [
    "This is `NOT` read as follows: \"value equals int input and whatever you get back from input.\". \n",
    "Instead this read as follows : \"the user's input is entered and turned into and int and stored in the value variable\".\n",
    "There was a progression going from right to left, in the order that the function is required to run. It must started from the right and work its way\n",
    "to the right. First, I need the value from the `input` function in order to pass a value to the `int` function (think f(x) \n",
    "I cant pass x if I don't have know what it is). Second, now that we received the value from the `input` function we are not about to pass that value (the `x` in f(x))\n",
    "to the `int` function. Now int can do its job and return the value as an integer (that is what int does essentially). Finally, we can now assign (this is \n",
    "how you should read a single `=`) the value we received from the `int` function to the `value` variable."
   ]
  },
  {
   "cell_type": "markdown",
   "metadata": {},
   "source": [
    "Finally, you can see the results of what you just did by using the print function. Again look at it as f(x)\n",
    "`print` is `f` and `value` is  `x`. You should the number you entered earlier. \n"
   ]
  },
  {
   "cell_type": "markdown",
   "metadata": {},
   "source": [
    "**NOTE:** if you did not enter a complete number you will get an error because it is not an integer..."
   ]
  },
  {
   "cell_type": "code",
   "execution_count": null,
   "metadata": {},
   "outputs": [],
   "source": [
    "print(value)"
   ]
  },
  {
   "cell_type": "markdown",
   "metadata": {},
   "source": [
    "---\n",
    "---"
   ]
  },
  {
   "cell_type": "code",
   "execution_count": null,
   "metadata": {},
   "outputs": [],
   "source": [
    "string_example = \"this is just an example of a value\""
   ]
  },
  {
   "cell_type": "markdown",
   "metadata": {},
   "source": [
    "What does it mean when we say everything in python is an Object.\n",
    "in VS Code and many other text editors, you can press `.` at the end of the `string_example`, it should look like this \n",
    "`string_example.` there should be a list of possible functions attached to the string that can be used like capitalized. \n",
    "so string_example.capitalize() will make the lowercase `t` into a capital `T`. "
   ]
  },
  {
   "cell_type": "code",
   "execution_count": null,
   "metadata": {},
   "outputs": [],
   "source": [
    "print(string_example.capitalize())"
   ]
  },
  {
   "cell_type": "markdown",
   "metadata": {},
   "source": [
    "This `.` after the variable name is known as dot-notation. It is a way to access the functions within the object. \n",
    "So within `string_example` there are multiple string functions within it, thats what that list was that you saw after adding the period at the end of \n",
    "the `string_example` variable. This is what it would actually look like in code:"
   ]
  },
  {
   "cell_type": "markdown",
   "metadata": {},
   "source": [
    "##   string_example = {\n",
    "##       capitalize() : \"The code needed to run this function\",\n",
    "##       lower() : \"The code needed to run this function\"\n",
    "##  }"
   ]
  },
  {
   "cell_type": "markdown",
   "metadata": {},
   "source": [
    "To see what this looks like under the hood, hold the `ctrl` key (Windows/Linux) `command` key (MacOS) and click on capitalize in VS Code. \n",
    "this will take you to the code that, behind the scenes, has been automatically applied to the `string_example` variable when it was created;\n",
    "specifically to the function called `capitalize()`. The over all structure that your looking at is known as an object. \n",
    "Notice that the capitalize function is under the class `str`. This is basically saying, the object is of type `str` or string. \n",
    "The functions that are nested within it are assigned to the class and can be accessed through the object created using `.` dot-notation.\n",
    "BUT WAIT, I thought this was an OBJECT not a CLASS. Yes, if this seems confusing, the simple answer that is you need to understand as a beginner is this:\n",
    "a CLASS is a function that creates OBJECTS. Ok now how does this look? In other older languages like Java, when you create a string variable, it \n",
    "does not do the same thing. In Java it basically makes a snapshot of the variable in memory(RAM) and it looks somewhat like this:\n",
    "`string_example is of type str`, and thats it! There are no functions added under the hood, it is not an object it is just another piece of data\n",
    "that the computer is tracking through memory. "
   ]
  },
  {
   "cell_type": "markdown",
   "metadata": {},
   "source": [
    "---\n",
    "---"
   ]
  },
  {
   "cell_type": "markdown",
   "metadata": {},
   "source": [
    "## Brief intro to the most used Data Structures. "
   ]
  },
  {
   "cell_type": "markdown",
   "metadata": {},
   "source": [
    "There are more data structures than what I'll be listing here. These are the data structures that can carry you to an intermediate level. \n",
    "The other data structures are more niche and although they are more optimal at a high-level, these basic data structures can accomplish \n",
    "similar end results. "
   ]
  },
  {
   "cell_type": "markdown",
   "metadata": {},
   "source": [
    "## First we need to cover PRIMITIVE DATA TYPES"
   ]
  },
  {
   "cell_type": "markdown",
   "metadata": {},
   "source": [
    "Primitive data types are simply variables that can only hold one piece of data at a time and is represented by a single type. \n",
    "An example is `string_example = \"Everything within these quotes is one piece of data assigned to the string_example variable.\"`"
   ]
  },
  {
   "cell_type": "markdown",
   "metadata": {},
   "source": [
    "## Here are the Primitive Data Types:"
   ]
  },
  {
   "cell_type": "markdown",
   "metadata": {},
   "source": [
    "### String"
   ]
  },
  {
   "cell_type": "markdown",
   "metadata": {},
   "source": [
    "- otherwise known as `str` anything represented by a set of single or double quotes like this: `\"This is one piece of data\"`. "
   ]
  },
  {
   "cell_type": "markdown",
   "metadata": {},
   "source": [
    "**NOTE**: a number that is in a set of double or single quotes, is still a string it is not an int or float and contains no numeric value\n",
    "             For example: `value1 = \"10\"` is not the same as `value2 = 10`. Below is a code snippet that will output to the terminal what the types \n",
    "             are"
   ]
  },
  {
   "cell_type": "code",
   "execution_count": null,
   "metadata": {},
   "outputs": [],
   "source": [
    "value1 = \"10\"\n",
    "value2 = 10\n",
    "print(f\"This is of type string ---->    {type(value1)}\")\n",
    "print(f\"This is of type int ------->    {type(value2)}\")"
   ]
  },
  {
   "cell_type": "markdown",
   "metadata": {},
   "source": [
    "### Integer"
   ]
  },
  {
   "cell_type": "markdown",
   "metadata": {},
   "source": [
    "- otherwise known as `int` a whole number (not a decimal) that is NOT contained by a set of single or double quotes. "
   ]
  },
  {
   "cell_type": "markdown",
   "metadata": {},
   "source": [
    "**NOTE**: if you try to do some kind of division or multiplication with decimals you need to use a float data type which is covered next.\n",
    "doing division with a single forward slash `/` will convert your value to a float automatically. To divide two integers you need\n",
    "to use double forward slash `//`. This is known as integer division."
   ]
  },
  {
   "cell_type": "markdown",
   "metadata": {},
   "source": [
    "### Float "
   ]
  },
  {
   "cell_type": "markdown",
   "metadata": {},
   "source": [
    "- otherwise known as `float`, it is simply the decimal version of int. Floats are used for accuracy, things like programs that deal with\n",
    "money or calculations for things that need super precise representation down to the last decimal."
   ]
  },
  {
   "cell_type": "markdown",
   "metadata": {},
   "source": [
    "### Boolean"
   ]
  },
  {
   "cell_type": "markdown",
   "metadata": {},
   "source": [
    "- otherwise known as `bool`, it is simply the evaluation of True or False. A boolean value is either True or False nothing more."
   ]
  },
  {
   "cell_type": "markdown",
   "metadata": {},
   "source": [
    "### None"
   ]
  },
  {
   "cell_type": "markdown",
   "metadata": {},
   "source": [
    "- this is simply the absence of a value, common when we receive missing data."
   ]
  },
  {
   "cell_type": "markdown",
   "metadata": {},
   "source": [
    "## DATA STRUCTURES: "
   ]
  },
  {
   "cell_type": "markdown",
   "metadata": {},
   "source": [
    "### Array "
   ]
  },
  {
   "cell_type": "markdown",
   "metadata": {},
   "source": [
    "- otherwise known as a list in Python. An array is used to hold multiple values, of any type of primitive data types in whatever order you want.\n",
    "You can identify an array by square brackets `[]` and each values within is separated by commas `,`. You can see an example of this noted below."
   ]
  },
  {
   "cell_type": "code",
   "execution_count": null,
   "metadata": {},
   "outputs": [],
   "source": [
    "array_example = []"
   ]
  },
  {
   "cell_type": "markdown",
   "metadata": {},
   "source": [
    "- Above is an example of an empty list (array). And below this is what it looks like when you fill the array with values."
   ]
  },
  {
   "cell_type": "code",
   "execution_count": null,
   "metadata": {},
   "outputs": [],
   "source": [
    "array_example = [1, 2, 3, \"this is a string\", 10.1234]"
   ]
  },
  {
   "cell_type": "markdown",
   "metadata": {},
   "source": [
    "Above is an example of list filled with different data types. The main thing you need to take note of is the structure of this data types.\n",
    "Think of as an actual list of items, now it is IMPORTANT to notice, the values inside of the list are not variables them selves, they \n",
    "are individual pieces of data within the list. `array_example` is the variable, that holds these 5 values within the square brackets `[]`\n",
    "and separated by commas `,`"
   ]
  },
  {
   "cell_type": "markdown",
   "metadata": {},
   "source": [
    "### Dictionary "
   ]
  },
  {
   "cell_type": "markdown",
   "metadata": {},
   "source": [
    "- otherwise known as `dict`, a dict is a data structure that uses something called `key value pairs`. What this means is if I\n",
    "wanted to access any form of data within the dict I would need to make the request by telling it which `key` I want to retrieve.\n",
    "You can identify a dict by looking for curly braces `{}`, and each value in the dict is separated by commas `,`.\n",
    "Here's an example of an empty dict:"
   ]
  },
  {
   "cell_type": "code",
   "execution_count": null,
   "metadata": {},
   "outputs": [],
   "source": [
    "dict_example = {}"
   ]
  },
  {
   "cell_type": "markdown",
   "metadata": {},
   "source": [
    "- Here is an example of a dict with some values."
   ]
  },
  {
   "cell_type": "code",
   "execution_count": null,
   "metadata": {},
   "outputs": [],
   "source": [
    "dict_example = {\n",
    "    \"example_key\": \"example value\", # this is one key value pair 'key : value' notice the key is separated from the value by a colon ':'.\n",
    "    52 : \"fifty two\"\n",
    "}"
   ]
  },
  {
   "cell_type": "markdown",
   "metadata": {},
   "source": [
    "- Here is an example how you would access the dict if I wanted the `fifty two` value. "
   ]
  },
  {
   "cell_type": "code",
   "execution_count": null,
   "metadata": {},
   "outputs": [],
   "source": [
    "print(dict_example[52])"
   ]
  },
  {
   "cell_type": "markdown",
   "metadata": {},
   "source": [
    "**NOTE**: accessing a dict you need to use what is called bracket notation which you can see is simply adding square brackets `[]` to the end \n",
    "of the variable, also remember if I wanted the value `example value`, I would need to access it exactly in the same format I made the key\n",
    "So this is what it would look like in code:"
   ]
  },
  {
   "cell_type": "code",
   "execution_count": null,
   "metadata": {},
   "outputs": [],
   "source": [
    "print(dict_example[\"example_key\"])"
   ]
  },
  {
   "cell_type": "markdown",
   "metadata": {},
   "source": [
    "### Tuple"
   ]
  },
  {
   "cell_type": "markdown",
   "metadata": {},
   "source": [
    "- This is the easiest data type to understand but it is also the most restrictive. A tuple is easily identified by a set of parenthesis `()` \n",
    "and the values inside are separated by commas `,` there is one key difference with this data structure. \n"
   ]
  },
  {
   "cell_type": "markdown",
   "metadata": {},
   "source": [
    "***IMPORTANT***: Tuples are immutable, that means that once this has been declared it will not change. It will throw an error. The only way is to\n",
    "           completely overwrite the value, below is an example of this in real time. Notice the difference in the numbers of IDs."
   ]
  },
  {
   "cell_type": "code",
   "execution_count": 2,
   "metadata": {},
   "outputs": [
    {
     "name": "stdout",
     "output_type": "stream",
     "text": [
      "2279790702400\n",
      "(1, 2, 3)\n",
      "2279790858752\n",
      "(4, 5, 6)\n"
     ]
    }
   ],
   "source": [
    "tuple_example = (1,2,3)\n",
    "\n",
    "print(id(tuple_example))\n",
    "print(tuple_example)\n",
    "\n",
    "tuple_example = (4,5,6)\n",
    "\n",
    "print(id(tuple_example))\n",
    "print(tuple_example)"
   ]
  },
  {
   "cell_type": "markdown",
   "metadata": {},
   "source": [
    "***IMPORTANT***: However, I cannot change the value for the tuple. Example below:"
   ]
  },
  {
   "cell_type": "code",
   "execution_count": 3,
   "metadata": {},
   "outputs": [
    {
     "ename": "TypeError",
     "evalue": "'tuple' object does not support item assignment",
     "output_type": "error",
     "traceback": [
      "\u001b[31m---------------------------------------------------------------------------\u001b[39m",
      "\u001b[31mTypeError\u001b[39m                                 Traceback (most recent call last)",
      "\u001b[36mCell\u001b[39m\u001b[36m \u001b[39m\u001b[32mIn[3]\u001b[39m\u001b[32m, line 1\u001b[39m\n\u001b[32m----> \u001b[39m\u001b[32m1\u001b[39m \u001b[43mtuple_example\u001b[49m\u001b[43m[\u001b[49m\u001b[32;43m0\u001b[39;49m\u001b[43m]\u001b[49m = \u001b[32m20\u001b[39m \u001b[38;5;66;03m# This should be the resulting error!!!!! <--------------------------------\u001b[39;00m\n",
      "\u001b[31mTypeError\u001b[39m: 'tuple' object does not support item assignment"
     ]
    }
   ],
   "source": [
    "tuple_example[0] = 20 # This should be the resulting error!!!!! <--------------------------------"
   ]
  }
 ],
 "metadata": {
  "kernelspec": {
   "display_name": "Python 3",
   "language": "python",
   "name": "python3"
  },
  "language_info": {
   "codemirror_mode": {
    "name": "ipython",
    "version": 3
   },
   "file_extension": ".py",
   "mimetype": "text/x-python",
   "name": "python",
   "nbconvert_exporter": "python",
   "pygments_lexer": "ipython3",
   "version": "3.13.2"
  }
 },
 "nbformat": 4,
 "nbformat_minor": 2
}
