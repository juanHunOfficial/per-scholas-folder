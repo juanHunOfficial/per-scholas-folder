{
 "cells": [
  {
   "cell_type": "markdown",
   "metadata": {},
   "source": [
    "# <div style=\"text-align: center\">This is a much nicer and segmented version of my Python Crash Course<div>\n",
    "\n",
    "The following lines of code is a progression to showcase the introduction to reading and understanding code. \n",
    "\n",
    "---\n",
    "\n",
    "\n",
    "## <div style=\"text-align: center\"> Intro to functions and the 'input' function <div>\n",
    "\n",
    "\n",
    "---\n",
    "---"
   ]
  },
  {
   "cell_type": "code",
   "execution_count": 19,
   "metadata": {},
   "outputs": [],
   "source": [
    "# This is known as a comment, programmers use this to document their work in plain english. Comments are completely ignored by the machine when the \n",
    "# code is ran. This purely used for documentation purposes. You can run this code block and receive no output."
   ]
  },
  {
   "cell_type": "code",
   "execution_count": 20,
   "metadata": {},
   "outputs": [],
   "source": [
    "value = input(\"Everything within the quotes is printed to the screen for the user to see and respond. Enter a number: \") # NOTE: the input block will be on the top of your screen."
   ]
  },
  {
   "cell_type": "markdown",
   "metadata": {},
   "source": [
    "This line will be displayed with a cursor at the end, indicating that it is waiting on a response.\n",
    "The reason for this functionality, is the function named `input`. Think back to algebra `f(x) = x + 1`\n",
    "Similar to this the function returning a particular OUTPUT (the result after you solved for `x`)\n",
    "there is also an INPUT that needs to be given, this is similar to when you are given x (like `Solve for x where x = 3`)\n",
    "Now you start to see where your algebra classes and above now come in handy. Take a big sigh of relief because you often\n",
    "times will not be asked to do complex math, it is this functionality that you will be using. "
   ]
  },
  {
   "cell_type": "markdown",
   "metadata": {},
   "source": [
    "## <div style=\"text-align: center\">Now on to reading code. <div>\n",
    "With the brief introduction to values and functions out of the way, you may be tempted to read code\n",
    "the same way you read a book. Often times this is fine but you need to be able to recognize how to read code in the order of \n",
    "operation. Similar to how you have the order of operations when solving in math (PEMDAS = Please Excuse My Dear Aunt Sally/ Power Exponent Multiplication Division Add Sub)\n",
    "programming has something similar, take this function below for example:"
   ]
  },
  {
   "cell_type": "code",
   "execution_count": 21,
   "metadata": {},
   "outputs": [],
   "source": [
    "value = int(input(\"Enter a value: \"))"
   ]
  },
  {
   "cell_type": "markdown",
   "metadata": {},
   "source": [
    "This is `NOT` read as follows: \"value equals int input and whatever you get back from input.\". \n",
    "Instead this read as follows : \"the user's input is entered and turned into and int and stored in the value variable\".\n",
    "There was a progression going from right to left, in the order that the function is required to run. It must started from the right and work its way\n",
    "to the right. First, I need the value from the `input` function in order to pass a value to the `int` function (think f(x) \n",
    "I cant pass x if I don't have know what it is). Second, now that we received the value from the `input` function we are not about to pass that value (the `x` in f(x))\n",
    "to the `int` function. Now int can do its job and return the value as an integer (that is what int does essentially). Finally, we can now assign (this is \n",
    "how you should read a single `=`) the value we received from the `int` function to the `value` variable."
   ]
  },
  {
   "cell_type": "markdown",
   "metadata": {},
   "source": [
    "Finally, you can see the results of what you just did by using the print function. Again look at it as f(x)\n",
    "`print` is `f` and `value` is  `x`. You should the number you entered earlier. \n"
   ]
  },
  {
   "cell_type": "markdown",
   "metadata": {},
   "source": [
    "**NOTE:** if you did not enter a complete number you will get an error because it is not an integer..."
   ]
  },
  {
   "cell_type": "code",
   "execution_count": 22,
   "metadata": {},
   "outputs": [
    {
     "name": "stdout",
     "output_type": "stream",
     "text": [
      "2\n"
     ]
    }
   ],
   "source": [
    "print(value)"
   ]
  },
  {
   "cell_type": "markdown",
   "metadata": {},
   "source": [
    "---\n",
    "---"
   ]
  },
  {
   "cell_type": "code",
   "execution_count": 23,
   "metadata": {},
   "outputs": [],
   "source": [
    "string_example = \"this is just an example of a value\""
   ]
  },
  {
   "cell_type": "markdown",
   "metadata": {},
   "source": [
    "What does it mean when we say everything in python is an Object.\n",
    "in VS Code and many other text editors, you can press `.` at the end of the `string_example`, it should look like this \n",
    "`string_example.` there should be a list of possible functions attached to the string that can be used like capitalized. \n",
    "so string_example.capitalize() will make the lowercase `t` into a capital `T`. "
   ]
  },
  {
   "cell_type": "code",
   "execution_count": 24,
   "metadata": {},
   "outputs": [
    {
     "name": "stdout",
     "output_type": "stream",
     "text": [
      "This is just an example of a value\n"
     ]
    }
   ],
   "source": [
    "print(string_example.capitalize())"
   ]
  },
  {
   "cell_type": "markdown",
   "metadata": {},
   "source": [
    "This `.` after the variable name is known as dot-notation. It is a way to access the functions within the object. \n",
    "So within `string_example` there are multiple string functions within it, thats what that list was that you saw after adding the period at the end of \n",
    "the `string_example` variable. This is what it would actually look like in code:"
   ]
  },
  {
   "cell_type": "markdown",
   "metadata": {},
   "source": [
    "##   string_example = {\n",
    "##       capitalize() : \"The code needed to run this function\",\n",
    "##       lower() : \"The code needed to run this function\"\n",
    "##  }"
   ]
  },
  {
   "cell_type": "markdown",
   "metadata": {},
   "source": [
    "To see what this looks like under the hood, hold the `ctrl` key (Windows/Linux) `command` key (MacOS) and click on capitalize in VS Code. \n",
    "this will take you to the code that, behind the scenes, has been automatically applied to the `string_example` variable when it was created;\n",
    "specifically to the function called `capitalize()`. The over all structure that your looking at is known as an object. \n",
    "Notice that the capitalize function is under the class `str`. This is basically saying, the object is of type `str` or string. \n",
    "The functions that are nested within it are assigned to the class and can be accessed through the object created using `.` dot-notation.\n",
    "BUT WAIT, I thought this was an OBJECT not a CLASS. Yes, if this seems confusing, the simple answer that is you need to understand as a beginner is this:\n",
    "a CLASS is a function that creates OBJECTS. Ok now how does this look? In other older languages like Java, when you create a string variable, it \n",
    "does not do the same thing. In Java it basically makes a snapshot of the variable in memory(RAM) and it looks somewhat like this:\n",
    "`string_example is of type str`, and thats it! There are no functions added under the hood, it is not an object it is just another piece of data\n",
    "that the computer is tracking through memory. "
   ]
  },
  {
   "cell_type": "markdown",
   "metadata": {},
   "source": [
    "---\n",
    "---"
   ]
  },
  {
   "cell_type": "markdown",
   "metadata": {},
   "source": [
    "## <div style=\"text-align: center\"> Brief intro to the most used Data Structures. <div>"
   ]
  },
  {
   "cell_type": "markdown",
   "metadata": {},
   "source": [
    "There are more data structures than what I'll be listing here. These are the data structures that can carry you to an intermediate level. \n",
    "The other data structures are more niche and although they are more optimal at a high-level, these basic data structures can accomplish \n",
    "similar end results. "
   ]
  },
  {
   "cell_type": "markdown",
   "metadata": {},
   "source": [
    "## First we need to cover PRIMITIVE DATA TYPES"
   ]
  },
  {
   "cell_type": "markdown",
   "metadata": {},
   "source": [
    "Primitive data types are simply variables that can only hold one piece of data at a time and is represented by a single type. \n",
    "An example is `string_example = \"Everything within these quotes is one piece of data assigned to the string_example variable.\"`"
   ]
  },
  {
   "cell_type": "markdown",
   "metadata": {},
   "source": [
    "## Here are the Primitive Data Types:"
   ]
  },
  {
   "cell_type": "markdown",
   "metadata": {},
   "source": [
    "### String"
   ]
  },
  {
   "cell_type": "markdown",
   "metadata": {},
   "source": [
    "- otherwise known as `str` anything represented by a set of single or double quotes like this: `\"This is one piece of data\"`. "
   ]
  },
  {
   "cell_type": "markdown",
   "metadata": {},
   "source": [
    "**NOTE**: a number that is in a set of double or single quotes, is still a string it is not an int or float and contains no numeric value\n",
    "             For example: `value1 = \"10\"` is not the same as `value2 = 10`. Below is a code snippet that will output to the terminal what the types \n",
    "             are"
   ]
  },
  {
   "cell_type": "code",
   "execution_count": 25,
   "metadata": {},
   "outputs": [
    {
     "name": "stdout",
     "output_type": "stream",
     "text": [
      "This is of type string ---->    <class 'str'>\n",
      "This is of type int ------->    <class 'int'>\n"
     ]
    }
   ],
   "source": [
    "value1 = \"10\"\n",
    "value2 = 10\n",
    "print(f\"This is of type string ---->    {type(value1)}\")\n",
    "print(f\"This is of type int ------->    {type(value2)}\")"
   ]
  },
  {
   "cell_type": "markdown",
   "metadata": {},
   "source": [
    "### Integer"
   ]
  },
  {
   "cell_type": "markdown",
   "metadata": {},
   "source": [
    "- otherwise known as `int` a whole number (not a decimal) that is NOT contained by a set of single or double quotes. "
   ]
  },
  {
   "cell_type": "markdown",
   "metadata": {},
   "source": [
    "**NOTE**: if you try to do some kind of division or multiplication with decimals you need to use a float data type which is covered next.\n",
    "doing division with a single forward slash `/` will convert your value to a float automatically. To divide two integers you need\n",
    "to use double forward slash `//`. This is known as integer division."
   ]
  },
  {
   "cell_type": "markdown",
   "metadata": {},
   "source": [
    "### Float "
   ]
  },
  {
   "cell_type": "markdown",
   "metadata": {},
   "source": [
    "- otherwise known as `float`, it is simply the decimal version of int. Floats are used for accuracy, things like programs that deal with\n",
    "money or calculations for things that need super precise representation down to the last decimal."
   ]
  },
  {
   "cell_type": "markdown",
   "metadata": {},
   "source": [
    "### Boolean"
   ]
  },
  {
   "cell_type": "markdown",
   "metadata": {},
   "source": [
    "- otherwise known as `bool`, it is simply the evaluation of True or False. A boolean value is either True or False nothing more."
   ]
  },
  {
   "cell_type": "markdown",
   "metadata": {},
   "source": [
    "### None"
   ]
  },
  {
   "cell_type": "markdown",
   "metadata": {},
   "source": [
    "- this is simply the absence of a value, common when we receive missing data."
   ]
  },
  {
   "cell_type": "markdown",
   "metadata": {},
   "source": [
    "## DATA STRUCTURES: "
   ]
  },
  {
   "cell_type": "markdown",
   "metadata": {},
   "source": [
    "### Array "
   ]
  },
  {
   "cell_type": "markdown",
   "metadata": {},
   "source": [
    "- otherwise known as a list in Python. An array is used to hold multiple values, of any type of primitive data types in whatever order you want.\n",
    "You can identify an array by square brackets `[]` and each values within is separated by commas `,`. You can see an example of this noted below."
   ]
  },
  {
   "cell_type": "code",
   "execution_count": 26,
   "metadata": {},
   "outputs": [],
   "source": [
    "array_example = []"
   ]
  },
  {
   "cell_type": "markdown",
   "metadata": {},
   "source": [
    "- Above is an example of an empty list (array). And below this is what it looks like when you fill the array with values."
   ]
  },
  {
   "cell_type": "code",
   "execution_count": 27,
   "metadata": {},
   "outputs": [],
   "source": [
    "array_example = [1, 2, 3, \"this is a string\", 10.1234]"
   ]
  },
  {
   "cell_type": "markdown",
   "metadata": {},
   "source": [
    "Above is an example of list filled with different data types. The main thing you need to take note of is the structure of this data types.\n",
    "Think of as an actual list of items, now it is IMPORTANT to notice, the values inside of the list are not variables them selves, they \n",
    "are individual pieces of data within the list. `array_example` is the variable, that holds these 5 values within the square brackets `[]`\n",
    "and separated by commas `,`"
   ]
  },
  {
   "cell_type": "markdown",
   "metadata": {},
   "source": [
    "### Dictionary "
   ]
  },
  {
   "cell_type": "markdown",
   "metadata": {},
   "source": [
    "- otherwise known as `dict`, a dict is a data structure that uses something called `key value pairs`. What this means is if I\n",
    "wanted to access any form of data within the dict I would need to make the request by telling it which `key` I want to retrieve.\n",
    "You can identify a dict by looking for curly braces `{}`, and each value in the dict is separated by commas `,`.\n",
    "Here's an example of an empty dict:"
   ]
  },
  {
   "cell_type": "code",
   "execution_count": 28,
   "metadata": {},
   "outputs": [],
   "source": [
    "dict_example = {}"
   ]
  },
  {
   "cell_type": "markdown",
   "metadata": {},
   "source": [
    "- Here is an example of a dict with some values."
   ]
  },
  {
   "cell_type": "code",
   "execution_count": 29,
   "metadata": {},
   "outputs": [],
   "source": [
    "dict_example = {\n",
    "    \"example_key\": \"example value\", # this is one key value pair 'key : value' notice the key is separated from the value by a colon ':'.\n",
    "    52 : \"fifty two\"\n",
    "}"
   ]
  },
  {
   "cell_type": "markdown",
   "metadata": {},
   "source": [
    "- Here is an example how you would access the dict if I wanted the `fifty two` value. "
   ]
  },
  {
   "cell_type": "code",
   "execution_count": 30,
   "metadata": {},
   "outputs": [
    {
     "name": "stdout",
     "output_type": "stream",
     "text": [
      "fifty two\n"
     ]
    }
   ],
   "source": [
    "print(dict_example[52])"
   ]
  },
  {
   "cell_type": "markdown",
   "metadata": {},
   "source": [
    "**NOTE**: accessing a dict you need to use what is called bracket notation which you can see is simply adding square brackets `[]` to the end \n",
    "of the variable, also remember if I wanted the value `example value`, I would need to access it exactly in the same format I made the key\n",
    "So this is what it would look like in code:"
   ]
  },
  {
   "cell_type": "code",
   "execution_count": 31,
   "metadata": {},
   "outputs": [
    {
     "name": "stdout",
     "output_type": "stream",
     "text": [
      "example value\n"
     ]
    }
   ],
   "source": [
    "print(dict_example[\"example_key\"])"
   ]
  },
  {
   "cell_type": "markdown",
   "metadata": {},
   "source": [
    "### Tuple"
   ]
  },
  {
   "cell_type": "markdown",
   "metadata": {},
   "source": [
    "- This is the easiest data type to understand but it is also the most restrictive. A tuple is easily identified by a set of parenthesis `()` \n",
    "and the values inside are separated by commas `,` there is one key difference with this data structure. \n"
   ]
  },
  {
   "cell_type": "markdown",
   "metadata": {},
   "source": [
    "***IMPORTANT***: Tuples are immutable, that means that once this has been declared it will not change. It will throw an error. The only way is to\n",
    "           completely overwrite the value, below is an example of this in real time. Notice the difference in the numbers of IDs."
   ]
  },
  {
   "cell_type": "code",
   "execution_count": 32,
   "metadata": {},
   "outputs": [
    {
     "name": "stdout",
     "output_type": "stream",
     "text": [
      "2279806006080\n",
      "(1, 2, 3)\n",
      "2279805384832\n",
      "(4, 5, 6)\n"
     ]
    }
   ],
   "source": [
    "tuple_example = (1,2,3)\n",
    "\n",
    "print(id(tuple_example))\n",
    "print(tuple_example)\n",
    "\n",
    "tuple_example = (4,5,6)\n",
    "\n",
    "print(id(tuple_example))\n",
    "print(tuple_example)"
   ]
  },
  {
   "cell_type": "markdown",
   "metadata": {},
   "source": [
    "***IMPORTANT***: However, I cannot change the value for the tuple. Example below:"
   ]
  },
  {
   "cell_type": "code",
   "execution_count": 33,
   "metadata": {},
   "outputs": [
    {
     "ename": "TypeError",
     "evalue": "'tuple' object does not support item assignment",
     "output_type": "error",
     "traceback": [
      "\u001b[31m---------------------------------------------------------------------------\u001b[39m",
      "\u001b[31mTypeError\u001b[39m                                 Traceback (most recent call last)",
      "\u001b[36mCell\u001b[39m\u001b[36m \u001b[39m\u001b[32mIn[33]\u001b[39m\u001b[32m, line 1\u001b[39m\n\u001b[32m----> \u001b[39m\u001b[32m1\u001b[39m \u001b[43mtuple_example\u001b[49m\u001b[43m[\u001b[49m\u001b[32;43m0\u001b[39;49m\u001b[43m]\u001b[49m = \u001b[32m20\u001b[39m \u001b[38;5;66;03m# This should be the resulting error!!!!! <--------------------------------\u001b[39;00m\n",
      "\u001b[31mTypeError\u001b[39m: 'tuple' object does not support item assignment"
     ]
    }
   ],
   "source": [
    "tuple_example[0] = 20 # This should be the resulting error!!!!! <--------------------------------"
   ]
  },
  {
   "cell_type": "markdown",
   "metadata": {},
   "source": [
    "---\n",
    "---"
   ]
  },
  {
   "cell_type": "markdown",
   "metadata": {},
   "source": [
    "## <div style=\"text-align: center\"> BASICS OF FUNCTIONS - Defining, Parameters, Use Cases, & Type Annotation<div>"
   ]
  },
  {
   "cell_type": "markdown",
   "metadata": {},
   "source": [
    "### Defining"
   ]
  },
  {
   "cell_type": "markdown",
   "metadata": {},
   "source": [
    "- Defining a function is the process of creating a function and specifying everything it will do when it is called. Below is an example of a function called `greet_the_user`, \n",
    "the function will be passed a name to then out put a greeting."
   ]
  },
  {
   "cell_type": "code",
   "execution_count": null,
   "metadata": {},
   "outputs": [],
   "source": [
    "def greet_the_user(name):\n",
    "    print(\"Hello\", name, \"I hope you have a blessed day!\")"
   ]
  },
  {
   "cell_type": "markdown",
   "metadata": {},
   "source": [
    "- Now that the function has been defined, you may have noticed that it does not output anything. This is because we have not **called** the function, we basically just said what it is in our code; we have not actually done anything with it yet."
   ]
  },
  {
   "cell_type": "markdown",
   "metadata": {},
   "source": [
    "- Below we are going to be declaring the `name` variable and **calling** the `input()` function to get the users name."
   ]
  },
  {
   "cell_type": "code",
   "execution_count": null,
   "metadata": {},
   "outputs": [],
   "source": [
    "name = input(\"Enter your name: \")"
   ]
  },
  {
   "cell_type": "markdown",
   "metadata": {},
   "source": [
    "- Alright now in our program so far we have defined a function that is designed to greet the user when it is called and we have asked the user for their name and stored that value in the `name` variable. Now lets actually ***call*** the ***function*** that we ***defined***:"
   ]
  },
  {
   "cell_type": "code",
   "execution_count": null,
   "metadata": {},
   "outputs": [
    {
     "name": "stdout",
     "output_type": "stream",
     "text": [
      "Hello Juan I hope you have a blessed day!\n"
     ]
    }
   ],
   "source": [
    "greet_the_user(name)"
   ]
  },
  {
   "cell_type": "markdown",
   "metadata": {},
   "source": [
    "- Alright there you go you should see your output on the screen. Make sure you run the 3 code cells in order."
   ]
  },
  {
   "cell_type": "markdown",
   "metadata": {},
   "source": [
    "### Parameters"
   ]
  },
  {
   "cell_type": "markdown",
   "metadata": {},
   "source": [
    "- Alright now that we covered the basics of defining a function, lets cover parameters. Parameters are what we are ***passing*** to the function so that it can perform the operations that it needs. So for the `greet_the_user()` function we ***passed***  the `name` variable so that it can be used in the code contained within the function. Below is an example of a function called `add_two_to_my_number()`, this function requires a `number` to be ***passed*** to it so i can add two to that number and `print()` it to the screen."
   ]
  },
  {
   "cell_type": "code",
   "execution_count": null,
   "metadata": {},
   "outputs": [],
   "source": [
    "def add_two_to_my_number(number):\n",
    "    result = number + 2\n",
    "    print(result)"
   ]
  },
  {
   "cell_type": "markdown",
   "metadata": {},
   "source": [
    "- ***NOTE:*** When the function is made defined, within the `()` you have the ***parameter*** `number`. There can be multiple parameters, however, to keep this instruction simple and easy to digest we will use only 1 parameter. "
   ]
  },
  {
   "cell_type": "markdown",
   "metadata": {},
   "source": [
    "- If this function is called and a parameter is not passed then it will result in an error."
   ]
  },
  {
   "cell_type": "code",
   "execution_count": null,
   "metadata": {},
   "outputs": [
    {
     "ename": "TypeError",
     "evalue": "add_two_to_my_number() missing 1 required positional argument: 'number'",
     "output_type": "error",
     "traceback": [
      "\u001b[31m---------------------------------------------------------------------------\u001b[39m",
      "\u001b[31mTypeError\u001b[39m                                 Traceback (most recent call last)",
      "\u001b[36mCell\u001b[39m\u001b[36m \u001b[39m\u001b[32mIn[13]\u001b[39m\u001b[32m, line 1\u001b[39m\n\u001b[32m----> \u001b[39m\u001b[32m1\u001b[39m \u001b[43madd_two_to_my_number\u001b[49m\u001b[43m(\u001b[49m\u001b[43m)\u001b[49m\n",
      "\u001b[31mTypeError\u001b[39m: add_two_to_my_number() missing 1 required positional argument: 'number'"
     ]
    }
   ],
   "source": [
    "add_two_to_my_number()"
   ]
  },
  {
   "cell_type": "markdown",
   "metadata": {},
   "source": [
    "- This results in an error because nothing was passed. However, a way around an issue like this is setting a ***default value***. Default values are assigned by programmers ALL the time, it helps keep your program running despite user errors like, not inputting a number value before calling the `add_two_to_my_number()` function. This is how you would define the function ***using default values to handle empty input***."
   ]
  },
  {
   "cell_type": "markdown",
   "metadata": {},
   "source": [
    "- ***NOTE:*** When a value is passed, the function will use that value instead of the default value."
   ]
  },
  {
   "cell_type": "code",
   "execution_count": null,
   "metadata": {},
   "outputs": [],
   "source": [
    "def add_two_to_my_number(number=1):\n",
    "    result = number + 2\n",
    "    print(result)"
   ]
  },
  {
   "cell_type": "markdown",
   "metadata": {},
   "source": [
    "- And that's it, that is the syntax for a default value, notice it looks a lot like a variable. It functions very similarly, so if the function does not receive a `number` from the user, it will assign `1` as the value for `number`. Now we can run the `add_two_to_my_number()` function and the output will be `3`."
   ]
  },
  {
   "cell_type": "code",
   "execution_count": null,
   "metadata": {},
   "outputs": [
    {
     "name": "stdout",
     "output_type": "stream",
     "text": [
      "3\n"
     ]
    }
   ],
   "source": [
    "add_two_to_my_number()"
   ]
  },
  {
   "cell_type": "markdown",
   "metadata": {},
   "source": [
    "- PERFECT, now lets call the function and pass it the number `4` and the output should be `6`"
   ]
  },
  {
   "cell_type": "code",
   "execution_count": null,
   "metadata": {},
   "outputs": [
    {
     "name": "stdout",
     "output_type": "stream",
     "text": [
      "6\n"
     ]
    }
   ],
   "source": [
    "add_two_to_my_number(4)"
   ]
  },
  {
   "cell_type": "markdown",
   "metadata": {},
   "source": [
    "### Use Cases"
   ]
  },
  {
   "cell_type": "markdown",
   "metadata": {},
   "source": [
    "- Ok so when do you want to declare a function, you want to declare a function whenever you need a specific task done more than once. This ideology will change as you progress in your software career, but for now lets just go by this rule of thumb. This rule of thumb comes from a very popular coding practice known as the ***DRY method***. DRY stands for Don't Repeat Yourself. Below is an example of a code segment that does not use the DRY method."
   ]
  },
  {
   "cell_type": "code",
   "execution_count": null,
   "metadata": {},
   "outputs": [
    {
     "name": "stdout",
     "output_type": "stream",
     "text": [
      "Hello, Alice!\n",
      "Hello, Bob!\n"
     ]
    }
   ],
   "source": [
    "def greet_user1(name):\n",
    "    greeting = \"Hello, \" + name + \"!\"\n",
    "    print(greeting)\n",
    "\n",
    "def greet_user2(name):\n",
    "    greeting = \"Hello, \" + name + \"!\"\n",
    "    print(greeting)\n",
    "\n",
    "# Calling both functions\n",
    "greet_user1(\"Alice\")\n",
    "greet_user2(\"Bob\")\n"
   ]
  },
  {
   "cell_type": "markdown",
   "metadata": {},
   "source": [
    "- ***NOTE:*** they made two distinct functions and called each one. Below is the same example using the DRY method:"
   ]
  },
  {
   "cell_type": "code",
   "execution_count": null,
   "metadata": {},
   "outputs": [
    {
     "name": "stdout",
     "output_type": "stream",
     "text": [
      "Hello, Alice!\n",
      "Hello, Bob!\n"
     ]
    }
   ],
   "source": [
    "def greet_user(name):\n",
    "    greeting = \"Hello, \" + name + \"!\"\n",
    "    print(greeting)\n",
    "\n",
    "# Calling the same function\n",
    "greet_user(\"Alice\")\n",
    "greet_user(\"Bob\")\n"
   ]
  },
  {
   "cell_type": "markdown",
   "metadata": {},
   "source": [
    "- This is much less code and it is much easier to read and keep up with. Yes this example is pretty simple but as the scale of your programs grow and become more complex your work will get exponentially more difficult if you do not adhere to this ***crucial*** coding practice. "
   ]
  },
  {
   "cell_type": "markdown",
   "metadata": {},
   "source": [
    "### Type Annotation"
   ]
  },
  {
   "cell_type": "markdown",
   "metadata": {},
   "source": [
    "- Understanding this concept can save you HOURS of headache in the long run. Type Annotation is a coding practice that does **not** enforce coding rules set by the original programmer, \n",
    "*but* it tells other programmers how to use their functions. Below is an example of Type Annotation in action:"
   ]
  },
  {
   "cell_type": "code",
   "execution_count": null,
   "metadata": {},
   "outputs": [],
   "source": [
    "def add_two_to_my_number(number:int =1) -> None:\n",
    "    result = number + 2\n",
    "    print(result)"
   ]
  },
  {
   "cell_type": "markdown",
   "metadata": {},
   "source": [
    "- ***NOTE:*** how the syntax is structured, after `number` you put a colon `:` and then you specify that this program is expecting the `number` variable to be of `type` `int`. Directly after you *annotated* that *type* you may add your default value of `=1`. And then you have the `-> None` right before the final colon `:`. The arrow and type (`-> None`) is communicating to the other programmers that this function does not `return` any value. "
   ]
  },
  {
   "cell_type": "markdown",
   "metadata": {},
   "source": [
    "- Below is an example of what this function would look like if I wanted it to return a string to the user so they can print it to the screen on their end."
   ]
  },
  {
   "cell_type": "code",
   "execution_count": 36,
   "metadata": {},
   "outputs": [
    {
     "name": "stdout",
     "output_type": "stream",
     "text": [
      "Your number plus 2 is: 6\n",
      "<class 'str'>\n"
     ]
    }
   ],
   "source": [
    "def add_two_to_my_number(number:int =1) -> str:\n",
    "    return f\"Your number plus 2 is: {number + 2}\"\n",
    "\n",
    "print(add_two_to_my_number(4))\n",
    "print(type(add_two_to_my_number(4)))"
   ]
  },
  {
   "cell_type": "markdown",
   "metadata": {},
   "source": [
    "- ***NOTE:*** the example below is a great example of how type annotation does not enforce the coding *rules* set by the original programmer."
   ]
  },
  {
   "cell_type": "code",
   "execution_count": 37,
   "metadata": {},
   "outputs": [
    {
     "name": "stdout",
     "output_type": "stream",
     "text": [
      "Your number plus 2 is: 6\n",
      "<class 'int'>\n"
     ]
    }
   ],
   "source": [
    "def add_two_to_my_number(number:int =1) -> str:\n",
    "    return number + 2\n",
    "\n",
    "print(f\"Your number plus 2 is: {add_two_to_my_number(4)}\")\n",
    "print(type(add_two_to_my_number(4)))"
   ]
  },
  {
   "cell_type": "markdown",
   "metadata": {},
   "source": [
    "- Notice that the type annotation says that the function should return a `str` however, what we got back from the function was an `int` instead. "
   ]
  },
  {
   "cell_type": "markdown",
   "metadata": {},
   "source": [
    "- So then what is the point? Assuming your using a nifty text editor like *VS Code*, if you hover your mouse of the function below. It should pop up with a text box that is highlighting the overall function definition."
   ]
  },
  {
   "cell_type": "code",
   "execution_count": null,
   "metadata": {},
   "outputs": [],
   "source": [
    "add_two_to_my_number()"
   ]
  },
  {
   "cell_type": "markdown",
   "metadata": {},
   "source": [
    "- This little trick of hovering your mouse over a function your not familiar with, will help you get a brief understanding of what the function parameters are, their expect value types, and what kind of output you should expect.\n"
   ]
  },
  {
   "cell_type": "markdown",
   "metadata": {},
   "source": [
    "- ***NOTE:*** generally speaking, when you see the expected output is of type `None`, it may mean that this function is doing something and then terminate. An example of this is `print()`, this function has an expect return type of `None`. This is because `print()` will take your input and display it to the console, then it terminates and the next line of code is ran. The example below showcases this for you."
   ]
  },
  {
   "cell_type": "code",
   "execution_count": 38,
   "metadata": {},
   "outputs": [
    {
     "name": "stdout",
     "output_type": "stream",
     "text": [
      "0<------- notice that this result says 0\n",
      "139<------- notice how now result changed but the above statement printed 0.\n"
     ]
    }
   ],
   "source": [
    "value_1 = 100\n",
    "value_2 = 39\n",
    "result = 0\n",
    "\n",
    "print(f\"{result}<------- notice that this result says 0\")\n",
    "\n",
    "# Here i will be changing the value of result and printing it\n",
    "result = value_1 + value_2\n",
    "print(f\"{result}<------- notice how now result changed but the above statement printed 0.\")\n"
   ]
  },
  {
   "cell_type": "markdown",
   "metadata": {},
   "source": [
    "- Functions like these `print()` functions simply do their job and come back, the original code will wait for the function to finish before moving on to the next line of code. "
   ]
  },
  {
   "cell_type": "markdown",
   "metadata": {},
   "source": [
    "---\n",
    "---"
   ]
  },
  {
   "cell_type": "markdown",
   "metadata": {},
   "source": [
    "## <div style=\"text-align: center\">Brief Intro to Classes<div>"
   ]
  },
  {
   "cell_type": "markdown",
   "metadata": {},
   "source": [
    "## <div style=\"text-align: center\">This will be a brief overview into the basics of classes. You will be introduced to WHAT a class is, USE CASES, ATTRIBUTES, SCOPING, METHODS, and PROPERTIES(PROPS).<div>"
   ]
  },
  {
   "cell_type": "markdown",
   "metadata": {},
   "source": [
    "### WHAT is a `class`"
   ]
  },
  {
   "cell_type": "markdown",
   "metadata": {},
   "source": [
    "- A `class` can be thought of as a factory that produces `objects`. When purchasing a Tesla, you need to make a request to the company to ask them to make the `car` the way you want it. Now when making the car there are some simple things that you do not have to specify because it is common sense in our minds. However, the computer doesn't know that a `car` object has 4 `wheels`, a `base_color`, and a `steering_wheel`. You as the programmer have to explicitly tell it that the `car` object contains these items. These items are better known as **ATTRIBUTES**. "
   ]
  },
  {
   "cell_type": "markdown",
   "metadata": {},
   "source": [
    "Below is an example of the class we just went over:"
   ]
  },
  {
   "cell_type": "code",
   "execution_count": null,
   "metadata": {},
   "outputs": [],
   "source": [
    "class Car:\n",
    "\n",
    "    number_of_wheels = 4\n",
    "    base_color = \"red\"\n",
    "    steering_wheel_or_controller = \"Steering Wheel\" "
   ]
  },
  {
   "cell_type": "markdown",
   "metadata": {},
   "source": [
    "- Now the syntax is a little different from a function, **notice** we don't use the `def` keyword. This is because we are not defining a function we are creating a `class`. For a `class` the defining aspect actually happens within it in what is known as the *dunder init* method: `__init__`. Another key thing to *notice* is that the 'C' in `car` is capitalized, this is a naming convention widely adopted in professional programming to let other programmers know that `Car` is a `class` not a `function`. \n",
    "\n",
    "- ***NOTE:*** `init` stands for initialize."
   ]
  },
  {
   "cell_type": "markdown",
   "metadata": {},
   "source": [
    "- The purpose of the dunder init method is to make the class object with the minimum attributes you want to have defined for each *instance* of that object. For example, you want every single `car` object in your program to be created with the `number_of_wheels`, `base_color`, and  `steering_wheel_or_controller` attributes, but not every you don't want to have every `car` to have a `base_color` or `red`. So to address this issue you have the dunder init method, which takes in values and assigns them before finally initializing the object. "
   ]
  },
  {
   "cell_type": "markdown",
   "metadata": {},
   "source": [
    "Here's what it looks like in code and how you'd create your first 3 cars:"
   ]
  },
  {
   "cell_type": "code",
   "execution_count": null,
   "metadata": {},
   "outputs": [],
   "source": [
    "class Car:\n",
    "\n",
    "    def __init__(self, number_of_wheels: int, base_color: str, steering_wheel_or_controller: str) -> object:\n",
    "        self.number_of_wheels = number_of_wheels\n",
    "        self.base_color = base_color\n",
    "        self.steering_wheel_or_controller = steering_wheel_or_controller\n",
    "\n",
    "car_for_juan = Car(4, \"red\", \"controller\")\n",
    "car_for_kashari = Car(4, \"black\", \"steering wheel\")\n",
    "car_for_tj = Car(3, \"zebra stripes\", \"controller\")\n",
    "\n"
   ]
  },
  {
   "cell_type": "markdown",
   "metadata": {},
   "source": [
    "- So now that we have our 3 cars, I we need to take a quick step back and take note of the syntax for creating a `Car` object. Each copy took in 3 `arguments` to create but it looks like we have 4 `parameters`. We see `self`, `number_of_wheels`, `base_color`, and `steering_wheel_or_controller`, but we never passed anything to `self`. You are CORRECT! That is because `self` simply has one function and that is to point to the object that is invoking the method that was called. For example, `car_for_juan` calls the `Car` class and passes it the arguments `4, \"red\", \"controller\"`, from there it enters the `__init__` function and gives it the arguments. **UNDER THE HOOD** python has given the `__inti__` method the `id` number for `car_for_juan`. This `id` number is the number for the `car_for_juan` variable in memory. You can see what this looks like below after the `object at` part. "
   ]
  },
  {
   "cell_type": "code",
   "execution_count": 3,
   "metadata": {},
   "outputs": [
    {
     "name": "stdout",
     "output_type": "stream",
     "text": [
      "<__main__.Car object at 0x00000248557C2270>\n"
     ]
    }
   ],
   "source": [
    "print(car_for_juan)"
   ]
  },
  {
   "cell_type": "markdown",
   "metadata": {},
   "source": [
    "- Every time you want to call a function that is defined within the a specific class it will refer the the instance of the object that is making the call. So when `car_for_juan` made the call to create the `Car` object, an piece of memory was given to store that variable in memory and it was assigned an `id` number, otherwise known as the ***reference***. "
   ]
  },
  {
   "cell_type": "markdown",
   "metadata": {},
   "source": [
    "### USE CASES"
   ]
  },
  {
   "cell_type": "markdown",
   "metadata": {},
   "source": [
    "Ok now why would you want to make a `class`? Well this can be best demonstrated by things like video games. For the next example, use your imagination and love of video games to follow along with these examples. We will make a `Hero` class and we will give him a `name`, `primary_weapon`, `off_hand_weapon`, and `hidden_power`. We will also add a `greet()` function that will greet other fellow adventurers. "
   ]
  },
  {
   "cell_type": "code",
   "execution_count": 4,
   "metadata": {},
   "outputs": [
    {
     "data": {
      "text/plain": [
       "'Hello fellow adventurer my name is Juan. My hidden power is Wind blast.'"
      ]
     },
     "execution_count": 4,
     "metadata": {},
     "output_type": "execute_result"
    }
   ],
   "source": [
    "class Hero:\n",
    "\n",
    "    def __init__(self, name: str, primary_weapon: str, off_hand_weapon: str, hidden_power: str) -> object:\n",
    "        self.name = name\n",
    "        self.primary_weapon = primary_weapon\n",
    "        self.off_hand_weapon = off_hand_weapon\n",
    "        self.hidden_power = hidden_power\n",
    "\n",
    "    def greet(self):\n",
    "        return f\"Hello fellow adventurer my name is { self.name.capitalize() }. My hidden power is { self.hidden_power.capitalize() }.\"\n",
    "    \n",
    "juan_the_great = Hero(\"juan\", \"long sword\", \"scimitar\", \"wind blast\")\n",
    "\n",
    "juan_the_great.greet()"
   ]
  },
  {
   "cell_type": "markdown",
   "metadata": {},
   "source": [
    "- With the `greet()` function now in place, we were able to call it and greet our fellow adventurers. But lets take one second to reflect on how this function was called. Because the function was defined with in a class, we need to access the class to get to it. We do this by using the object we created and using what is called ***dot notation***. We have used dot notation before when we do things like `.capitalize()` on the `self.name` variable. What happened in this line of code `juan_the_great.greet()` was `juan_the_great`'s `id` number was given to the `self` parameter in the `greet()` function and the function executed by printing to the screen.  "
   ]
  },
  {
   "cell_type": "markdown",
   "metadata": {},
   "source": [
    "- We can define as many function within this class as we want. For example we can have a function that will swap our weapons for us when we equip a new one. It would look something like this:"
   ]
  },
  {
   "cell_type": "code",
   "execution_count": 5,
   "metadata": {},
   "outputs": [
    {
     "name": "stdout",
     "output_type": "stream",
     "text": [
      "lava blade\n"
     ]
    }
   ],
   "source": [
    "class Hero:\n",
    "\n",
    "    def __init__(self, name: str, primary_weapon: str, off_hand_weapon: str, hidden_power: str) -> object:\n",
    "        self.name = name\n",
    "        self.primary_weapon = primary_weapon\n",
    "        self.off_hand_weapon = off_hand_weapon\n",
    "        self.hidden_power = hidden_power\n",
    "\n",
    "    def greet(self) -> str:\n",
    "        return f\"Hello fellow adventurer my name is { self.name.capitalize() }. My hidden power is { self.hidden_power.capitalize() }.\"\n",
    "    \n",
    "    def replace_primary_weapon(self, new_weapon: str) -> None:\n",
    "        self.primary_weapon = new_weapon\n",
    "    \n",
    "juan_the_great = Hero(\"juan\", \"long sword\", \"scimitar\", \"wind blast\")\n",
    "\n",
    "juan_the_great.greet()\n",
    "\n",
    "juan_the_great.replace_primary_weapon(\"lava blade\")\n",
    "\n",
    "print(juan_the_great.primary_weapon)"
   ]
  },
  {
   "cell_type": "markdown",
   "metadata": {},
   "source": [
    "- The `replace_primary_weapon` function took in the new primary weapon name `lava blade` and it reassigned the `self.primary_weapon`. We then called the the attribute directly from the object using dot notation. \n",
    "\n",
    "***NOTICE*** that the values for each of the `__init__` attributes don't just go away they are stored withing the object in memory. Which leads us into our next segment pertaining to *attributes*."
   ]
  },
  {
   "cell_type": "markdown",
   "metadata": {},
   "source": [
    "### ATTRIBUTES  "
   ]
  },
  {
   "cell_type": "markdown",
   "metadata": {},
   "source": [
    "Simply put, the attributes of a class are the variables that belong to the class. Take a look at the example below:"
   ]
  },
  {
   "cell_type": "code",
   "execution_count": 9,
   "metadata": {},
   "outputs": [
    {
     "name": "stdout",
     "output_type": "stream",
     "text": [
      "This example is for a global attribute: slap boxing\n",
      "This example is for a class attribute: wind blast\n"
     ]
    }
   ],
   "source": [
    "hidden_power = \"slap boxing\" # Global attribute\n",
    "\n",
    "class Hero:\n",
    "\n",
    "    def __init__(self, name: str, primary_weapon: str, off_hand_weapon: str, hidden_power: str) -> object:\n",
    "        self.name = name\n",
    "        self.primary_weapon = primary_weapon\n",
    "        self.off_hand_weapon = off_hand_weapon\n",
    "        self.hidden_power = hidden_power # Class attribute\n",
    "\n",
    "    def greet(self) -> str:\n",
    "        return f\"Hello fellow adventurer my name is { self.name.capitalize() }. My hidden power is { self.hidden_power.capitalize() }.\"\n",
    "    \n",
    "    def replace_primary_weapon(self, new_weapon: str) -> None:\n",
    "        self.primary_weapon = new_weapon\n",
    "\n",
    "juan_the_great = Hero(\"juan\", \"long sword\", \"scimitar\", \"wind blast\")\n",
    "print(f\"This example is for a global attribute: { hidden_power }\")\n",
    "print(f\"This example is for a class attribute: { juan_the_great.hidden_power }\")"
   ]
  },
  {
   "cell_type": "markdown",
   "metadata": {},
   "source": [
    "***NOTICE:*** although we called the `hidden_power` attribute twice, `juan_the_great.hidden_power` was referring to the `hidden_power` attribute inside of the `Hero` class. Which is why the output for each of then print statements are different. This leads us into the next topic known as *SCOPING*."
   ]
  },
  {
   "cell_type": "markdown",
   "metadata": {},
   "source": [
    "### SCOPING"
   ]
  },
  {
   "cell_type": "markdown",
   "metadata": {},
   "source": [
    "Scoping is crucial to understanding code better, for example, if you see this code snippet `labrador.color`, or `car.base_color`, or `computer.cpu` and recognize that these are class variables that are **local** to the class that it belongs to."
   ]
  },
  {
   "cell_type": "markdown",
   "metadata": {},
   "source": [
    "#### Very often you will hear the terms `local`, `global`, and `class` variables. \n",
    "\n",
    "- `local` variables - simply variables created within a function and cannot be accessed from outside of the function. **NOTE** this variable ceases to exist once the function finishes executing.\n",
    "- `global` variables - created at the very top level of a program file, this means it can be access from anywhere in the program.\n",
    "- `class` variables - are created in a class and require you to access it through dot notation like `juan_the_great.hidden_power`."
   ]
  },
  {
   "cell_type": "markdown",
   "metadata": {},
   "source": [
    "Here is an example of a local variable:"
   ]
  },
  {
   "cell_type": "code",
   "execution_count": 10,
   "metadata": {},
   "outputs": [
    {
     "name": "stdout",
     "output_type": "stream",
     "text": [
      "Hi welcome to my program!\n"
     ]
    }
   ],
   "source": [
    "def greet_user() -> None:\n",
    "    greeting = \"Hi welcome to my program!\"\n",
    "    print(greeting)\n",
    "\n",
    "greet_user()"
   ]
  },
  {
   "cell_type": "markdown",
   "metadata": {},
   "source": [
    "Now if i try to call `greeting` from outside of the function you'll see that I get an error:"
   ]
  },
  {
   "cell_type": "code",
   "execution_count": 11,
   "metadata": {},
   "outputs": [
    {
     "ename": "NameError",
     "evalue": "name 'greeting' is not defined",
     "output_type": "error",
     "traceback": [
      "\u001b[31m---------------------------------------------------------------------------\u001b[39m",
      "\u001b[31mNameError\u001b[39m                                 Traceback (most recent call last)",
      "\u001b[36mCell\u001b[39m\u001b[36m \u001b[39m\u001b[32mIn[11]\u001b[39m\u001b[32m, line 1\u001b[39m\n\u001b[32m----> \u001b[39m\u001b[32m1\u001b[39m \u001b[38;5;28mprint\u001b[39m(\u001b[43mgreeting\u001b[49m)\n",
      "\u001b[31mNameError\u001b[39m: name 'greeting' is not defined"
     ]
    }
   ],
   "source": [
    "print(greeting)"
   ]
  },
  {
   "cell_type": "markdown",
   "metadata": {},
   "source": [
    "Now onto the example of global variables:"
   ]
  },
  {
   "cell_type": "code",
   "execution_count": 12,
   "metadata": {},
   "outputs": [
    {
     "name": "stdout",
     "output_type": "stream",
     "text": [
      "Hi welcome to my program!\n",
      "This in the original greeting and I will never change\n"
     ]
    }
   ],
   "source": [
    "greeting = \"This in the original greeting and I will never change\"\n",
    "\n",
    "def greet_user() -> None:\n",
    "    greeting = \"Hi welcome to my program!\"\n",
    "    print(greeting)\n",
    "\n",
    "greet_user()\n",
    "print(greeting)"
   ]
  },
  {
   "cell_type": "markdown",
   "metadata": {},
   "source": [
    "***NOTICE*** that the variable names may be the same but one is local to the function and disappears after its done executing while the other remains at the global level."
   ]
  },
  {
   "cell_type": "markdown",
   "metadata": {},
   "source": [
    "Finally we have class variables, these attributes belong to the object and cannot be accesses with out first going through the object like the example from before `juan_the_great.hidden_power`. This will return the `hidden_power` variable within the `juan_the_great` object. "
   ]
  },
  {
   "cell_type": "markdown",
   "metadata": {},
   "source": [
    "### METHODS"
   ]
  },
  {
   "cell_type": "markdown",
   "metadata": {},
   "source": [
    "Methods are just functions that belong to a class and can only be access by the object that it belongs to. We have seen this with things like the `.capitalize()` function from string variables. you can't call the `.capitalize()` function on an `int` variable because the method was not defined in the `int` class. The `.capitalize()` method was defined within the `str` class. Another way to look at methods is in terms of their scope. a function can be made globally, while a method can only be made within a class. Take a look at the example below:"
   ]
  },
  {
   "cell_type": "code",
   "execution_count": 20,
   "metadata": {},
   "outputs": [
    {
     "name": "stdout",
     "output_type": "stream",
     "text": [
      "Hi I can be called where ever and still have the same capabilities.\n",
      "Hi I can be called where ever and still have the same capabilities.\n",
      "Hi I can be called where ever and still have the same capabilities.\n",
      "\n",
      "Hi my name is Jerry\n",
      "Hi I can be called where ever and still have the same capabilities.\n"
     ]
    }
   ],
   "source": [
    "def global_function_for_greeting():\n",
    "    print(\"Hi I can be called where ever and still have the same capabilities.\")\n",
    "\n",
    "class Stick_Man:\n",
    "\n",
    "    def __init__(self, name: str) -> object:\n",
    "        self.name = name\n",
    "\n",
    "    def this_greeting_is_in_stick_man(self):\n",
    "        print(f\"Hi my name is { self.name }\")\n",
    "\n",
    "    global_function_for_greeting()\n",
    "    global_function_for_greeting()\n",
    "    global_function_for_greeting()\n",
    "\n",
    "guy_1 = Stick_Man(\"Jerry\")\n",
    "\n",
    "print() # this is left empty to create a space, notice the order everything is printed\n",
    "\n",
    "guy_1.this_greeting_is_in_stick_man()\n",
    "global_function_for_greeting()"
   ]
  },
  {
   "cell_type": "markdown",
   "metadata": {},
   "source": [
    "### PROPERTIES(PROPS)"
   ]
  },
  {
   "cell_type": "markdown",
   "metadata": {},
   "source": [
    "Properties, otherwise known as props, function like attributes with extra steps. The go right above, what is known as an **attribute definition**. We call it an attribute definition because we are simply defining the attribute further that the simple `=` for assignment. \n",
    "<br>\n",
    "- props are also known as **wrappers** or **decorators**.\n",
    "- the syntax is as follows `@property` directly over the attribute you want to define.\n",
    "- props allow for attributes to be defined, but may need a little bit of extra work. Here's an example:"
   ]
  },
  {
   "cell_type": "code",
   "execution_count": 21,
   "metadata": {},
   "outputs": [
    {
     "name": "stdout",
     "output_type": "stream",
     "text": [
      "77\n",
      "170.6\n"
     ]
    }
   ],
   "source": [
    "class Temperature:\n",
    "\n",
    "    def __init__(self, celsius):\n",
    "        self._celsius = celsius\n",
    "\n",
    "    @property\n",
    "    def celsius(self):\n",
    "        return self._celsius\n",
    "    \n",
    "    @property\n",
    "    def fahrenheit(self):\n",
    "        return (self._celsius * 9/5) + 32\n",
    "    \n",
    "temp = Temperature(77)\n",
    "print(temp.celsius)\n",
    "print(temp.fahrenheit)"
   ]
  },
  {
   "cell_type": "markdown",
   "metadata": {},
   "source": [
    "***NOTICE*** how `celsius` came out the same despite it being wrapped in a `@property` tag. This is because you set the attribute to be as descriptive as you want it to be. The `fahrenheit` attribute however, shows a nice example of how to use props. "
   ]
  }
 ],
 "metadata": {
  "kernelspec": {
   "display_name": "venv",
   "language": "python",
   "name": "python3"
  },
  "language_info": {
   "codemirror_mode": {
    "name": "ipython",
    "version": 3
   },
   "file_extension": ".py",
   "mimetype": "text/x-python",
   "name": "python",
   "nbconvert_exporter": "python",
   "pygments_lexer": "ipython3",
   "version": "3.12.0"
  }
 },
 "nbformat": 4,
 "nbformat_minor": 2
}
