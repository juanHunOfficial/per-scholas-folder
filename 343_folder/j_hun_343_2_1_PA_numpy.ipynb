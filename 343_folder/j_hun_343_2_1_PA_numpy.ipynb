{
 "cells": [
  {
   "cell_type": "markdown",
   "id": "738135f4",
   "metadata": {},
   "source": [
    "# Juan Hun PA 343.2.1"
   ]
  },
  {
   "cell_type": "code",
   "execution_count": 1,
   "id": "b00aa188",
   "metadata": {},
   "outputs": [
    {
     "name": "stdout",
     "output_type": "stream",
     "text": [
      "Requirement already satisfied: numpy in c:\\users\\juan.hun\\onedrive - peopleshores pbc\\desktop\\python_practice\\venv\\lib\\site-packages (2.2.5)\n"
     ]
    },
    {
     "name": "stderr",
     "output_type": "stream",
     "text": [
      "\n",
      "[notice] A new release of pip is available: 25.0.1 -> 25.1.1\n",
      "[notice] To update, run: python.exe -m pip install --upgrade pip\n"
     ]
    }
   ],
   "source": [
    "!pip install numpy"
   ]
  },
  {
   "cell_type": "code",
   "execution_count": 2,
   "id": "f63601fe",
   "metadata": {},
   "outputs": [],
   "source": [
    "import numpy as np"
   ]
  },
  {
   "cell_type": "markdown",
   "id": "92c70833",
   "metadata": {},
   "source": [
    "### Tasks 1 and 2"
   ]
  },
  {
   "cell_type": "code",
   "execution_count": 13,
   "id": "89a293f8",
   "metadata": {},
   "outputs": [
    {
     "name": "stdout",
     "output_type": "stream",
     "text": [
      "[1 2 3 4 5]\n",
      "int32\n"
     ]
    }
   ],
   "source": [
    "a = np.array([1, 2, 3, 4, 5], dtype='int32')\n",
    "print(a)\n",
    "print(a.dtype)\n"
   ]
  },
  {
   "cell_type": "code",
   "execution_count": 15,
   "id": "f23c2a4e",
   "metadata": {},
   "outputs": [
    {
     "name": "stdout",
     "output_type": "stream",
     "text": [
      "[[1. 2. 3.]\n",
      " [4. 5. 6.]\n",
      " [7. 8. 9.]]\n",
      "float64\n"
     ]
    }
   ],
   "source": [
    "b = np.array([[1, 2, 3], [4, 5, 6], [7, 8, 9]], dtype='float64')\n",
    "print(b)\n",
    "print(b.dtype)\n",
    "\n",
    "\n"
   ]
  },
  {
   "cell_type": "markdown",
   "id": "fa3a0417",
   "metadata": {},
   "source": [
    "### Task 3"
   ]
  },
  {
   "cell_type": "code",
   "execution_count": 18,
   "id": "1c646c37",
   "metadata": {},
   "outputs": [],
   "source": [
    "arr1 = np.array([1, 2, 3, 4, 5])\n",
    "arr2 = np.array([4, 5, 6, 7, 8])"
   ]
  },
  {
   "cell_type": "code",
   "execution_count": 20,
   "id": "a34263ab",
   "metadata": {},
   "outputs": [
    {
     "name": "stdout",
     "output_type": "stream",
     "text": [
      "ADD: [ 5  7  9 11 13]\n",
      "SUB: [-3 -3 -3 -3 -3]\n",
      "DIV: [0.25       0.4        0.5        0.57142857 0.625     ]\n",
      "MUL: [ 4 10 18 28 40]\n"
     ]
    }
   ],
   "source": [
    "add = arr1 + arr2\n",
    "sub = arr1 - arr2\n",
    "div = arr1 / arr2\n",
    "mul = arr1 * arr2\n",
    "\n",
    "print(f\"ADD: {add}\")\n",
    "print(f\"SUB: {sub}\")\n",
    "print(f\"DIV: {div}\")\n",
    "print(f\"MUL: {mul}\")"
   ]
  },
  {
   "cell_type": "code",
   "execution_count": 21,
   "id": "9ef163a7",
   "metadata": {},
   "outputs": [
    {
     "name": "stdout",
     "output_type": "stream",
     "text": [
      "DOT: 100\n"
     ]
    }
   ],
   "source": [
    "dot_product = np.dot(arr1, arr2)\n",
    "\n",
    "print(f\"DOT: {dot_product}\" )"
   ]
  },
  {
   "cell_type": "code",
   "execution_count": 22,
   "id": "f0caf266",
   "metadata": {},
   "outputs": [
    {
     "name": "stdout",
     "output_type": "stream",
     "text": [
      "MEAN: 3.0\n",
      "MEDIAN: 3.0\n",
      "STD_DEV: 1.4142135623730951\n"
     ]
    }
   ],
   "source": [
    "mean = np.mean(arr1)\n",
    "median = np.median(arr1)\n",
    "std_dev = np.std(arr1)\n",
    "\n",
    "print(f\"MEAN: {mean}\")\n",
    "print(f\"MEDIAN: {median}\")\n",
    "print(f\"STD_DEV: {std_dev}\")"
   ]
  }
 ],
 "metadata": {
  "kernelspec": {
   "display_name": "venv",
   "language": "python",
   "name": "python3"
  },
  "language_info": {
   "codemirror_mode": {
    "name": "ipython",
    "version": 3
   },
   "file_extension": ".py",
   "mimetype": "text/x-python",
   "name": "python",
   "nbconvert_exporter": "python",
   "pygments_lexer": "ipython3",
   "version": "3.12.0"
  }
 },
 "nbformat": 4,
 "nbformat_minor": 5
}
