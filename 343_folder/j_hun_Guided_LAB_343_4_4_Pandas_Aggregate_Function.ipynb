{
  "cells": [
    {
      "cell_type": "markdown",
      "metadata": {
        "id": "9w5XdrLPYsm4"
      },
      "source": [
        "# **Guided Lab 343.4.4 - Pandas Aggregate Function**\n",
        "\n",
        "## **Lab Overview**\n",
        "\n",
        "This lab explores the `aggregate()` function (also known as `agg()`) in Pandas, which is a powerful tool for performing summary computations on data. The lab covers the following topics:\n",
        "\n",
        "1. **Introduction to Aggregate Function**: Explains the purpose and basic syntax of the `aggregate()` function in Pandas.\n",
        "2. **Applying Single Aggregate Function**: Demonstrates how to apply a single aggregate function (e.g., `sum`, `mean`, `max`, `count`) to a Pandas Series or DataFrame column.\n",
        "3. **Applying Multiple Aggregate Functions**: Shows how to apply multiple aggregate functions to one or more columns using the `aggregate()` function.\n",
        "4. **Grouping and Aggregation**: Introduces the concept of grouping data using the `groupby()` function and then applying aggregate functions to the groups.\n",
        "\n",
        "## **Introduction**\n",
        "Aggregate function in Pandas performs summary computations on data, often on grouped data. But it can also be used on Series objects.\n",
        "\n",
        "This can be really useful for tasks such as calculating mean, sum, count, and other statistics for different groups within our data.\n",
        "\n",
        "\n",
        "## **Lab Objectives:**\n",
        "\n",
        "By the end of this lab, you should be able to:\n",
        "\n",
        "* Describe the purpose and syntax of the `aggregate()` function in Pandas.\n",
        "* Apply single and multiple aggregate functions to data.\n",
        "* Group data using the `groupby()` function.\n",
        "* Perform aggregation on grouped data to calculate summary statistics."
      ]
    },
    {
      "cell_type": "markdown",
      "metadata": {
        "id": "Zzy_9NVBYx_n"
      },
      "source": [
        "**Syntax**\n",
        "\n",
        "Here's the basic syntax of the aggregate function,\n",
        "\n",
        "`df.aggregate(func, axis=0, *args, **kwargs)`\n",
        "Here,\n",
        "\n",
        "- func - an aggregate function like sum, mean, etc.\n",
        "- axis - specifies whether to apply the aggregation operation along rows or columns.\n",
        "- *args and **kwargs - additional arguments that can be passed to the aggregation functions.\n",
        "\n",
        "---\n",
        "# **Begin**"
      ]
    },
    {
      "cell_type": "markdown",
      "metadata": {
        "id": "qJNE04otZNWf"
      },
      "source": [
        " In order to explain several examples of how to perform aggregate() function or agg() function, lets create a very simple DataFrame."
      ]
    },
    {
      "cell_type": "code",
      "execution_count": 1,
      "metadata": {
        "colab": {
          "base_uri": "https://localhost:8080/",
          "height": 238
        },
        "id": "daexWj2zYpL8",
        "outputId": "40d2755d-5440-46c4-cf16-c250d8ad5992"
      },
      "outputs": [
        {
          "data": {
            "text/html": [
              "<div>\n",
              "<style scoped>\n",
              "    .dataframe tbody tr th:only-of-type {\n",
              "        vertical-align: middle;\n",
              "    }\n",
              "\n",
              "    .dataframe tbody tr th {\n",
              "        vertical-align: top;\n",
              "    }\n",
              "\n",
              "    .dataframe thead th {\n",
              "        text-align: right;\n",
              "    }\n",
              "</style>\n",
              "<table border=\"1\" class=\"dataframe\">\n",
              "  <thead>\n",
              "    <tr style=\"text-align: right;\">\n",
              "      <th></th>\n",
              "      <th>Category</th>\n",
              "      <th>Value</th>\n",
              "      <th>Fee</th>\n",
              "      <th>Duration</th>\n",
              "      <th>Discount</th>\n",
              "    </tr>\n",
              "  </thead>\n",
              "  <tbody>\n",
              "    <tr>\n",
              "      <th>0</th>\n",
              "      <td>A</td>\n",
              "      <td>10</td>\n",
              "      <td>20000</td>\n",
              "      <td>30day</td>\n",
              "      <td>1000</td>\n",
              "    </tr>\n",
              "    <tr>\n",
              "      <th>1</th>\n",
              "      <td>A</td>\n",
              "      <td>15</td>\n",
              "      <td>25000</td>\n",
              "      <td>40days</td>\n",
              "      <td>2300</td>\n",
              "    </tr>\n",
              "    <tr>\n",
              "      <th>2</th>\n",
              "      <td>B</td>\n",
              "      <td>20</td>\n",
              "      <td>26000</td>\n",
              "      <td>35days</td>\n",
              "      <td>1200</td>\n",
              "    </tr>\n",
              "    <tr>\n",
              "      <th>3</th>\n",
              "      <td>B</td>\n",
              "      <td>25</td>\n",
              "      <td>22000</td>\n",
              "      <td>40days</td>\n",
              "      <td>2500</td>\n",
              "    </tr>\n",
              "    <tr>\n",
              "      <th>4</th>\n",
              "      <td>A</td>\n",
              "      <td>30</td>\n",
              "      <td>24000</td>\n",
              "      <td>60days</td>\n",
              "      <td>2000</td>\n",
              "    </tr>\n",
              "    <tr>\n",
              "      <th>5</th>\n",
              "      <td>B</td>\n",
              "      <td>35</td>\n",
              "      <td>35000</td>\n",
              "      <td>60days</td>\n",
              "      <td>2000</td>\n",
              "    </tr>\n",
              "  </tbody>\n",
              "</table>\n",
              "</div>"
            ],
            "text/plain": [
              "  Category  Value    Fee Duration  Discount\n",
              "0        A     10  20000    30day      1000\n",
              "1        A     15  25000   40days      2300\n",
              "2        B     20  26000   35days      1200\n",
              "3        B     25  22000   40days      2500\n",
              "4        A     30  24000   60days      2000\n",
              "5        B     35  35000   60days      2000"
            ]
          },
          "execution_count": 1,
          "metadata": {},
          "output_type": "execute_result"
        }
      ],
      "source": [
        "import pandas as pd\n",
        "\n",
        "data = {\n",
        "    'Category': ['A', 'A', 'B', 'B', 'A', 'B'],\n",
        "    'Value': [10, 15, 20, 25, 30, 35],\n",
        "    'Fee' :[20000,25000,26000,22000,24000,35000],\n",
        "    'Duration':['30day','40days','35days','40days','60days','60days'],\n",
        "    'Discount':[1000,2300,1200,2500,2000,2000]\n",
        "}\n",
        "df = pd.DataFrame(data)\n",
        "df"
      ]
    },
    {
      "cell_type": "markdown",
      "metadata": {
        "id": "6oFTy3rfY6YH"
      },
      "source": [
        "## **Example: Apply Single Aggregate Function**\n",
        "\n",
        "Here's how we can apply a single aggregate() function in Pandas."
      ]
    },
    {
      "cell_type": "code",
      "execution_count": 2,
      "metadata": {
        "colab": {
          "base_uri": "https://localhost:8080/"
        },
        "id": "ygNMPFwIZ443",
        "outputId": "6dea55c0-3f97-4222-e715-4ec888332e31"
      },
      "outputs": [
        {
          "name": "stdout",
          "output_type": "stream",
          "text": [
            "Total Sum: 135\n",
            "Total Sum: Value    135\n",
            "dtype: int64\n"
          ]
        }
      ],
      "source": [
        "# calculate total sum of the Value column\n",
        "total_sum = df['Value'].aggregate('sum')\n",
        "print(\"Total Sum:\", total_sum)\n",
        "\n",
        "# Alternate\n",
        "\n",
        "total_sum2 = df[['Value']].sum()\n",
        "print(\"Total Sum:\", total_sum2)\n",
        "\n"
      ]
    },
    {
      "cell_type": "markdown",
      "metadata": {
        "id": "Un5O-WNMYO9J"
      },
      "source": [
        "**Let's find cumulative sum:**\n",
        "- The cumulative sum is the cumulative sum of the differences between the values and the average in the given data.\n",
        "- It is not the sum of the data given.\n",
        "\n",
        "- The amounts that are added to the cumulative sum, those amounts will be positive, and the sum will increase steadily or continuously.\n",
        "\n",
        "- Cumulative sums, or running totals, are used to display the total sum of values as it grows with time (or any other series or progression). This lets you view the total contribution so far of a given measure against time."
      ]
    },
    {
      "cell_type": "code",
      "execution_count": 3,
      "metadata": {
        "colab": {
          "base_uri": "https://localhost:8080/",
          "height": 238
        },
        "id": "uHBX3hgPW1-y",
        "outputId": "99bad6e5-4933-45b6-d2d5-9921df8f9a89"
      },
      "outputs": [
        {
          "data": {
            "text/html": [
              "<div>\n",
              "<style scoped>\n",
              "    .dataframe tbody tr th:only-of-type {\n",
              "        vertical-align: middle;\n",
              "    }\n",
              "\n",
              "    .dataframe tbody tr th {\n",
              "        vertical-align: top;\n",
              "    }\n",
              "\n",
              "    .dataframe thead th {\n",
              "        text-align: right;\n",
              "    }\n",
              "</style>\n",
              "<table border=\"1\" class=\"dataframe\">\n",
              "  <thead>\n",
              "    <tr style=\"text-align: right;\">\n",
              "      <th></th>\n",
              "      <th>Value</th>\n",
              "    </tr>\n",
              "  </thead>\n",
              "  <tbody>\n",
              "    <tr>\n",
              "      <th>0</th>\n",
              "      <td>10</td>\n",
              "    </tr>\n",
              "    <tr>\n",
              "      <th>1</th>\n",
              "      <td>25</td>\n",
              "    </tr>\n",
              "    <tr>\n",
              "      <th>2</th>\n",
              "      <td>45</td>\n",
              "    </tr>\n",
              "    <tr>\n",
              "      <th>3</th>\n",
              "      <td>70</td>\n",
              "    </tr>\n",
              "    <tr>\n",
              "      <th>4</th>\n",
              "      <td>100</td>\n",
              "    </tr>\n",
              "    <tr>\n",
              "      <th>5</th>\n",
              "      <td>135</td>\n",
              "    </tr>\n",
              "  </tbody>\n",
              "</table>\n",
              "</div>"
            ],
            "text/plain": [
              "   Value\n",
              "0     10\n",
              "1     25\n",
              "2     45\n",
              "3     70\n",
              "4    100\n",
              "5    135"
            ]
          },
          "execution_count": 3,
          "metadata": {},
          "output_type": "execute_result"
        }
      ],
      "source": [
        "df[['Value']].cumsum()"
      ]
    },
    {
      "cell_type": "code",
      "execution_count": 4,
      "metadata": {
        "colab": {
          "base_uri": "https://localhost:8080/"
        },
        "id": "2ktKLxZBdcC4",
        "outputId": "615bfec0-e39b-499b-e0b3-f4a2344d0673"
      },
      "outputs": [
        {
          "name": "stdout",
          "output_type": "stream",
          "text": [
            "Average Value: 22.5\n",
            "Average Value: Value    22.5\n",
            "dtype: float64\n"
          ]
        }
      ],
      "source": [
        "# calculate the mean of the Value column\n",
        "average_value = df['Value'].aggregate('mean')\n",
        "print(\"Average Value:\", average_value)\n",
        "\n",
        "# Alternate\n",
        "\n",
        "average_value2 = df[['Value']].mean()\n",
        "print(\"Average Value:\", average_value2)\n",
        "\n"
      ]
    },
    {
      "cell_type": "code",
      "execution_count": 5,
      "metadata": {
        "colab": {
          "base_uri": "https://localhost:8080/"
        },
        "id": "bKLWwd4pd1-O",
        "outputId": "79996606-8996-407b-8e87-e62b1e07f2c5"
      },
      "outputs": [
        {
          "name": "stdout",
          "output_type": "stream",
          "text": [
            "Maximum Value: 35\n",
            "Maximum Value: Value    35\n",
            "dtype: int64\n"
          ]
        }
      ],
      "source": [
        "# calculate the maximum value in the Value column\n",
        "max_value = df['Value'].aggregate('max')\n",
        "print(\"Maximum Value:\", max_value)\n",
        "\n",
        "# Alternate\n",
        "\n",
        "max_value2 = df[['Value']].max()\n",
        "print(\"Maximum Value:\", max_value2)"
      ]
    },
    {
      "cell_type": "code",
      "execution_count": 6,
      "metadata": {
        "colab": {
          "base_uri": "https://localhost:8080/"
        },
        "id": "Xob4NH9AdmqX",
        "outputId": "dfb1933c-dbc4-4b3d-e20b-eaeda66c636b"
      },
      "outputs": [
        {
          "name": "stdout",
          "output_type": "stream",
          "text": [
            "Total count: 6\n",
            "Total count: Value    6\n",
            "dtype: int64\n"
          ]
        }
      ],
      "source": [
        "# calculate the total number of the Value\n",
        "std_value = df['Value'].aggregate('count')\n",
        "print(\"Total count:\", std_value)\n",
        "\n",
        "# Alternate\n",
        "\n",
        "\n",
        "std_value2 = df[['Value']].count()\n",
        "print(\"Total count:\", std_value2)"
      ]
    },
    {
      "cell_type": "markdown",
      "metadata": {
        "id": "ptFTj0y8bIgJ"
      },
      "source": [
        "## **Example: Apply Multiple Aggregate Functions in Pandas**\n",
        "We can also apply multiple aggregation() functions to one or more columns using the aggregate() function in Pandas. For example,"
      ]
    },
    {
      "cell_type": "code",
      "execution_count": 7,
      "metadata": {
        "colab": {
          "base_uri": "https://localhost:8080/"
        },
        "id": "IYlaTA0mbi-n",
        "outputId": "7e56b11d-8e88-4ceb-8353-8cb3ede82ea2"
      },
      "outputs": [
        {
          "name": "stdout",
          "output_type": "stream",
          "text": [
            "Fee         152000\n",
            "Discount     11000\n",
            "dtype: int64\n",
            "Fee         152000\n",
            "Discount     11000\n",
            "dtype: int64\n"
          ]
        }
      ],
      "source": [
        "# applying multiple aggregation functions to a single column\n",
        "result = df[['Fee','Discount']].aggregate('sum')\n",
        "print(result)\n",
        "\n",
        "#Alternate\n",
        "\n",
        "result2 = df[['Fee','Discount']].sum()\n",
        "print(result2)"
      ]
    },
    {
      "cell_type": "markdown",
      "metadata": {
        "id": "-006e2nJcuSq"
      },
      "source": [
        "**To determine the total of each Group, we can use grouping by utilizing the groupby() function. Next, we will explore the concept of grouping..**"
      ]
    },
    {
      "cell_type": "code",
      "execution_count": null,
      "metadata": {
        "colab": {
          "base_uri": "https://localhost:8080/"
        },
        "id": "_mw-O7ndcB1f",
        "outputId": "bd4d99e5-cab2-45bc-b4a5-47271140f376"
      },
      "outputs": [
        {
          "name": "stdout",
          "output_type": "stream",
          "text": [
            "            Fee  Discount\n",
            "Category                 \n",
            "A         69000      5300\n",
            "B         83000      5700\n"
          ]
        }
      ],
      "source": [
        "# Use DataFrame.group() Function\n",
        "result_Group = df.groupby('Category')[['Fee','Discount']].aggregate('sum') # i fixed this line it was missing, the square brackets around the fee and discount----\n",
        "print(result_Group)"
      ]
    },
    {
      "cell_type": "markdown",
      "metadata": {
        "id": "7rtsRn4GXAP6"
      },
      "source": [
        "\n",
        "## **Submission Instructions**\n",
        "- Submit your completed lab using the Start Assignment button on the assignment page in Canvas.\n",
        "- Your submission can be include:\n",
        "  - if you are using notebook then, all tasks should be written and submitted in a single notebook file, for example: (**your_name_labname.ipynb**).\n",
        "  - if you are using python script file, all tasks should be written and submitted in a single python script file for example: **(your_name_labname.py)**.\n",
        "- Add appropriate comments and any additional instructions if required.\n"
      ]
    }
  ],
  "metadata": {
    "colab": {
      "provenance": []
    },
    "kernelspec": {
      "display_name": "venv",
      "language": "python",
      "name": "python3"
    },
    "language_info": {
      "codemirror_mode": {
        "name": "ipython",
        "version": 3
      },
      "file_extension": ".py",
      "mimetype": "text/x-python",
      "name": "python",
      "nbconvert_exporter": "python",
      "pygments_lexer": "ipython3",
      "version": "3.12.0"
    }
  },
  "nbformat": 4,
  "nbformat_minor": 0
}
