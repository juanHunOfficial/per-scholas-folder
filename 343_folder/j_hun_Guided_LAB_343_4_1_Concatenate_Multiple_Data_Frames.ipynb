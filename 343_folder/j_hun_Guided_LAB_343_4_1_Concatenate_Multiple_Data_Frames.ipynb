{
  "cells": [
    {
      "cell_type": "markdown",
      "metadata": {
        "id": "SapG-a0igHKF"
      },
      "source": [
        "# **Guided Lab 343.4.1 - Concatenate Multiple Data Frames**"
      ]
    },
    {
      "cell_type": "markdown",
      "metadata": {
        "id": "j3vXYsCMhJX-"
      },
      "source": [
        "## **Lab Objective:**\n",
        "\n",
        "In this lab, we will learn how to concatenate two or more pandas DataFrame by rows and columns with examples. We will get data from three csv files and combine data into one DataFrame by using concat() function.\n",
        "\n",
        "## **Learning Objectives;**\n",
        "By the end of this lab, learners will be able to\n",
        "- Utilizing the `concat()` function for DataFrame concatenation.\n",
        "- Explain how to concatenate along different axes (rows or columns).\n",
        "- Applying the `ignore_index` parameter to reset the index in the resulting DataFrame.\n",
        "- Using the `keys` parameter to create a hierarchical index for tracking the original DataFrames.\n",
        "- Handling overlapping indexes during concatenation with `ignore_index`.\n",
        "- Accessing specific columns using square bracket notation [ ] and conditions.\n"
      ]
    },
    {
      "cell_type": "markdown",
      "metadata": {
        "id": "vU6VnVIQwnWn"
      },
      "source": [
        "# **Introduction:**\n",
        "The concat() method in Pandas is a powerful tool that lets you combine DataFrames or Series along a particular axis (either rows or columns). It’s especially useful for merging and analyzing datasets with similar structures.\n",
        "\n",
        "Here’s a quick overview of the concat() method and its parameters:\n",
        "\n",
        "    pandas.concat(objs, axis=0, join=’outer’, ignore-index=False, keys=None, levels=None, names=None, verify_integrity=False, sort=False, copy=True)\n",
        "  \n",
        "**Here is a breakdown of the key parameters and what they do:**\n",
        "\n",
        "- ‘objs’: Used to sequence or map DataFrames or Series for concatenation.\n",
        "\n",
        "- ‘axis’: This defines the axis on which data is concatenated along. By default, it’s set to 0, meaning the function continues concatenating vertically.\n",
        "\n",
        "- ‘join’: Specifies how to handle indexes on the other axis. Options include ‘outer’, which unions all indexes, or ‘inner’, which intersects them. It defaults to outer.\n",
        "\n",
        "- ‘ignore_index’: Resets the index in the resulting DataFrame or Series. It’s set to False by default.\n",
        "\n",
        "- ‘keys’: This is an optional sequence used to create a hierarchical index for the concatenated objects.\n",
        "\n",
        "- ‘levels’: This allows specifying unique values to use when constructing a MultiIndex.\n",
        "\n",
        "- ‘names’: Provides the ability to assign names for the levels in the resulting hierarchical index.\n",
        "\n",
        "- ‘verify_integrity’: If set to True, this checks whether the new concatenated axis contains duplicates. It defaults to False.\n",
        "\n",
        "- ‘sort’: This sorts the non-concatenation axis if it isn’t aligned with join=‘outer’ and is set to True. By default, it’s set to False.\n",
        "\n",
        "- ‘copy’: When set to False, this avoids copying data from input objects, if possible. It’s set to True by default.\n",
        "\n"
      ]
    },
    {
      "cell_type": "markdown",
      "metadata": {
        "id": "ccIMKg7qw7WE"
      },
      "source": [
        "# **Pandas concat() examples**"
      ]
    },
    {
      "cell_type": "code",
      "execution_count": 1,
      "metadata": {
        "colab": {
          "base_uri": "https://localhost:8080/",
          "height": 426
        },
        "id": "VUZvSm_dvvln",
        "outputId": "5952cb2b-bbd4-4a5e-b967-61786e38841b"
      },
      "outputs": [
        {
          "data": {
            "text/html": [
              "<div>\n",
              "<style scoped>\n",
              "    .dataframe tbody tr th:only-of-type {\n",
              "        vertical-align: middle;\n",
              "    }\n",
              "\n",
              "    .dataframe tbody tr th {\n",
              "        vertical-align: top;\n",
              "    }\n",
              "\n",
              "    .dataframe thead th {\n",
              "        text-align: right;\n",
              "    }\n",
              "</style>\n",
              "<table border=\"1\" class=\"dataframe\">\n",
              "  <thead>\n",
              "    <tr style=\"text-align: right;\">\n",
              "      <th></th>\n",
              "      <th>A</th>\n",
              "      <th>B</th>\n",
              "      <th>C</th>\n",
              "      <th>D</th>\n",
              "    </tr>\n",
              "  </thead>\n",
              "  <tbody>\n",
              "    <tr>\n",
              "      <th>0</th>\n",
              "      <td>A0</td>\n",
              "      <td>B0</td>\n",
              "      <td>C0</td>\n",
              "      <td>D0</td>\n",
              "    </tr>\n",
              "    <tr>\n",
              "      <th>1</th>\n",
              "      <td>A1</td>\n",
              "      <td>B1</td>\n",
              "      <td>C1</td>\n",
              "      <td>D1</td>\n",
              "    </tr>\n",
              "    <tr>\n",
              "      <th>2</th>\n",
              "      <td>A2</td>\n",
              "      <td>B2</td>\n",
              "      <td>C2</td>\n",
              "      <td>D2</td>\n",
              "    </tr>\n",
              "    <tr>\n",
              "      <th>3</th>\n",
              "      <td>A3</td>\n",
              "      <td>B3</td>\n",
              "      <td>C3</td>\n",
              "      <td>D3</td>\n",
              "    </tr>\n",
              "    <tr>\n",
              "      <th>0</th>\n",
              "      <td>A4</td>\n",
              "      <td>B4</td>\n",
              "      <td>C4</td>\n",
              "      <td>D4</td>\n",
              "    </tr>\n",
              "    <tr>\n",
              "      <th>1</th>\n",
              "      <td>A5</td>\n",
              "      <td>B5</td>\n",
              "      <td>C5</td>\n",
              "      <td>D5</td>\n",
              "    </tr>\n",
              "    <tr>\n",
              "      <th>2</th>\n",
              "      <td>A6</td>\n",
              "      <td>B6</td>\n",
              "      <td>C6</td>\n",
              "      <td>D6</td>\n",
              "    </tr>\n",
              "    <tr>\n",
              "      <th>3</th>\n",
              "      <td>A7</td>\n",
              "      <td>B7</td>\n",
              "      <td>C7</td>\n",
              "      <td>D7</td>\n",
              "    </tr>\n",
              "    <tr>\n",
              "      <th>0</th>\n",
              "      <td>A8</td>\n",
              "      <td>B8</td>\n",
              "      <td>C8</td>\n",
              "      <td>D8</td>\n",
              "    </tr>\n",
              "    <tr>\n",
              "      <th>1</th>\n",
              "      <td>A9</td>\n",
              "      <td>B9</td>\n",
              "      <td>C9</td>\n",
              "      <td>D9</td>\n",
              "    </tr>\n",
              "    <tr>\n",
              "      <th>2</th>\n",
              "      <td>A10</td>\n",
              "      <td>B10</td>\n",
              "      <td>C10</td>\n",
              "      <td>D10</td>\n",
              "    </tr>\n",
              "    <tr>\n",
              "      <th>3</th>\n",
              "      <td>A11</td>\n",
              "      <td>B11</td>\n",
              "      <td>C11</td>\n",
              "      <td>D11</td>\n",
              "    </tr>\n",
              "  </tbody>\n",
              "</table>\n",
              "</div>"
            ],
            "text/plain": [
              "     A    B    C    D\n",
              "0   A0   B0   C0   D0\n",
              "1   A1   B1   C1   D1\n",
              "2   A2   B2   C2   D2\n",
              "3   A3   B3   C3   D3\n",
              "0   A4   B4   C4   D4\n",
              "1   A5   B5   C5   D5\n",
              "2   A6   B6   C6   D6\n",
              "3   A7   B7   C7   D7\n",
              "0   A8   B8   C8   D8\n",
              "1   A9   B9   C9   D9\n",
              "2  A10  B10  C10  D10\n",
              "3  A11  B11  C11  D11"
            ]
          },
          "execution_count": 1,
          "metadata": {},
          "output_type": "execute_result"
        }
      ],
      "source": [
        "import pandas as pd \n",
        "\n",
        "df1 = pd.DataFrame(\n",
        "    {\n",
        "        \"A\": [\"A0\", \"A1\", \"A2\", \"A3\"],\n",
        "        \"B\": [\"B0\", \"B1\", \"B2\", \"B3\"],\n",
        "        \"C\": [\"C0\", \"C1\", \"C2\", \"C3\"],\n",
        "        \"D\": [\"D0\", \"D1\", \"D2\", \"D3\"],\n",
        "    },\n",
        "\n",
        ")\n",
        "\n",
        "\n",
        "df2 = pd.DataFrame(\n",
        "    {\n",
        "        \"A\": [\"A4\", \"A5\", \"A6\", \"A7\"],\n",
        "        \"B\": [\"B4\", \"B5\", \"B6\", \"B7\"],\n",
        "        \"C\": [\"C4\", \"C5\", \"C6\", \"C7\"],\n",
        "        \"D\": [\"D4\", \"D5\", \"D6\", \"D7\"],\n",
        "    },\n",
        "\n",
        ")\n",
        "\n",
        "\n",
        "df3 = pd.DataFrame(\n",
        "    {\n",
        "        \"A\": [\"A8\", \"A9\", \"A10\", \"A11\"],\n",
        "        \"B\": [\"B8\", \"B9\", \"B10\", \"B11\"],\n",
        "        \"C\": [\"C8\", \"C9\", \"C10\", \"C11\"],\n",
        "        \"D\": [\"D8\", \"D9\", \"D10\", \"D11\"],\n",
        "    },\n",
        "\n",
        ")\n",
        "\n",
        "\n",
        "frames = [df1, df2, df3]\n",
        "\n",
        "result = pd.concat(frames)\n",
        "\n",
        "result"
      ]
    },
    {
      "cell_type": "markdown",
      "metadata": {
        "id": "avrrkc6Uwb7X"
      },
      "source": [
        "If you notice in the above example, it just added the row index as-is from two DataFrame, sometimes you may want to reset the index. You can do so by using the **ignore_index=True** param."
      ]
    },
    {
      "cell_type": "code",
      "execution_count": 2,
      "metadata": {
        "id": "5t6P6s4FwLWw"
      },
      "outputs": [
        {
          "data": {
            "text/html": [
              "<div>\n",
              "<style scoped>\n",
              "    .dataframe tbody tr th:only-of-type {\n",
              "        vertical-align: middle;\n",
              "    }\n",
              "\n",
              "    .dataframe tbody tr th {\n",
              "        vertical-align: top;\n",
              "    }\n",
              "\n",
              "    .dataframe thead th {\n",
              "        text-align: right;\n",
              "    }\n",
              "</style>\n",
              "<table border=\"1\" class=\"dataframe\">\n",
              "  <thead>\n",
              "    <tr style=\"text-align: right;\">\n",
              "      <th></th>\n",
              "      <th>A</th>\n",
              "      <th>B</th>\n",
              "      <th>C</th>\n",
              "      <th>D</th>\n",
              "    </tr>\n",
              "  </thead>\n",
              "  <tbody>\n",
              "    <tr>\n",
              "      <th>0</th>\n",
              "      <td>A0</td>\n",
              "      <td>B0</td>\n",
              "      <td>C0</td>\n",
              "      <td>D0</td>\n",
              "    </tr>\n",
              "    <tr>\n",
              "      <th>1</th>\n",
              "      <td>A1</td>\n",
              "      <td>B1</td>\n",
              "      <td>C1</td>\n",
              "      <td>D1</td>\n",
              "    </tr>\n",
              "    <tr>\n",
              "      <th>2</th>\n",
              "      <td>A2</td>\n",
              "      <td>B2</td>\n",
              "      <td>C2</td>\n",
              "      <td>D2</td>\n",
              "    </tr>\n",
              "    <tr>\n",
              "      <th>3</th>\n",
              "      <td>A3</td>\n",
              "      <td>B3</td>\n",
              "      <td>C3</td>\n",
              "      <td>D3</td>\n",
              "    </tr>\n",
              "    <tr>\n",
              "      <th>4</th>\n",
              "      <td>A4</td>\n",
              "      <td>B4</td>\n",
              "      <td>C4</td>\n",
              "      <td>D4</td>\n",
              "    </tr>\n",
              "    <tr>\n",
              "      <th>5</th>\n",
              "      <td>A5</td>\n",
              "      <td>B5</td>\n",
              "      <td>C5</td>\n",
              "      <td>D5</td>\n",
              "    </tr>\n",
              "    <tr>\n",
              "      <th>6</th>\n",
              "      <td>A6</td>\n",
              "      <td>B6</td>\n",
              "      <td>C6</td>\n",
              "      <td>D6</td>\n",
              "    </tr>\n",
              "    <tr>\n",
              "      <th>7</th>\n",
              "      <td>A7</td>\n",
              "      <td>B7</td>\n",
              "      <td>C7</td>\n",
              "      <td>D7</td>\n",
              "    </tr>\n",
              "    <tr>\n",
              "      <th>8</th>\n",
              "      <td>A8</td>\n",
              "      <td>B8</td>\n",
              "      <td>C8</td>\n",
              "      <td>D8</td>\n",
              "    </tr>\n",
              "    <tr>\n",
              "      <th>9</th>\n",
              "      <td>A9</td>\n",
              "      <td>B9</td>\n",
              "      <td>C9</td>\n",
              "      <td>D9</td>\n",
              "    </tr>\n",
              "    <tr>\n",
              "      <th>10</th>\n",
              "      <td>A10</td>\n",
              "      <td>B10</td>\n",
              "      <td>C10</td>\n",
              "      <td>D10</td>\n",
              "    </tr>\n",
              "    <tr>\n",
              "      <th>11</th>\n",
              "      <td>A11</td>\n",
              "      <td>B11</td>\n",
              "      <td>C11</td>\n",
              "      <td>D11</td>\n",
              "    </tr>\n",
              "  </tbody>\n",
              "</table>\n",
              "</div>"
            ],
            "text/plain": [
              "      A    B    C    D\n",
              "0    A0   B0   C0   D0\n",
              "1    A1   B1   C1   D1\n",
              "2    A2   B2   C2   D2\n",
              "3    A3   B3   C3   D3\n",
              "4    A4   B4   C4   D4\n",
              "5    A5   B5   C5   D5\n",
              "6    A6   B6   C6   D6\n",
              "7    A7   B7   C7   D7\n",
              "8    A8   B8   C8   D8\n",
              "9    A9   B9   C9   D9\n",
              "10  A10  B10  C10  D10\n",
              "11  A11  B11  C11  D11"
            ]
          },
          "execution_count": 2,
          "metadata": {},
          "output_type": "execute_result"
        }
      ],
      "source": [
        "result = pd.concat(frames,  ignore_index=True)\n",
        "result"
      ]
    },
    {
      "cell_type": "markdown",
      "metadata": {
        "id": "GUKEQ2h1aVce"
      },
      "source": [
        "### **Assigning keys to indexes**\n",
        "The '**keys**' parameter creates a hierarchical index for the concatenated objects, which is useful for tracking the original DataFrames after concatenation.\n",
        "\n"
      ]
    },
    {
      "cell_type": "code",
      "execution_count": 3,
      "metadata": {
        "id": "3YXXoeZEYkYl"
      },
      "outputs": [
        {
          "name": "stdout",
          "output_type": "stream",
          "text": [
            "       A    B    C    D\n",
            "x 0   A0   B0   C0   D0\n",
            "  1   A1   B1   C1   D1\n",
            "  2   A2   B2   C2   D2\n",
            "  3   A3   B3   C3   D3\n",
            "y 0   A4   B4   C4   D4\n",
            "  1   A5   B5   C5   D5\n",
            "  2   A6   B6   C6   D6\n",
            "  3   A7   B7   C7   D7\n",
            "z 0   A8   B8   C8   D8\n",
            "  1   A9   B9   C9   D9\n",
            "  2  A10  B10  C10  D10\n",
            "  3  A11  B11  C11  D11\n"
          ]
        }
      ],
      "source": [
        "result = pd.concat(frames, keys=[\"x\", \"y\", \"z\"])\n",
        "print(result)"
      ]
    },
    {
      "cell_type": "markdown",
      "metadata": {
        "id": "532hPlR0YtK0"
      },
      "source": [
        "As you can see (if you’ve read the rest of the documentation), the resulting object’s index has a hierarchical index. This means that we can now select out each chunk by key:\n"
      ]
    },
    {
      "cell_type": "code",
      "execution_count": 4,
      "metadata": {
        "id": "VM4mC8v7YvjO"
      },
      "outputs": [
        {
          "name": "stdout",
          "output_type": "stream",
          "text": [
            "    A   B   C   D\n",
            "0  A4  B4  C4  D4\n",
            "1  A5  B5  C5  D5\n",
            "2  A6  B6  C6  D6\n",
            "3  A7  B7  C7  D7\n"
          ]
        }
      ],
      "source": [
        "result_y = result.loc[(\"y\")]\n",
        "print(result_y)"
      ]
    },
    {
      "cell_type": "markdown",
      "metadata": {
        "id": "M4p8ZnU-afLd"
      },
      "source": [
        "The above line access the sub-DataFrame associated with the key \"y\" in the concatenated DataFrame."
      ]
    },
    {
      "cell_type": "markdown",
      "metadata": {
        "id": "rMVlR9a0axfg"
      },
      "source": [
        "## **Ignoring indexes on the concatenation axis**"
      ]
    },
    {
      "cell_type": "markdown",
      "metadata": {
        "id": "NkGGZNZra2zd"
      },
      "source": [
        "For DataFrame objects which don’t have a meaningful index, you may wish to append them and ignore the fact that they may have overlapping indexes. To do this, use the ignore_index argument:\n",
        "\n",
        "Let's create one more dataFrame."
      ]
    },
    {
      "cell_type": "code",
      "execution_count": 5,
      "metadata": {
        "id": "bdiVZ_ZCa0qu"
      },
      "outputs": [
        {
          "data": {
            "text/html": [
              "<div>\n",
              "<style scoped>\n",
              "    .dataframe tbody tr th:only-of-type {\n",
              "        vertical-align: middle;\n",
              "    }\n",
              "\n",
              "    .dataframe tbody tr th {\n",
              "        vertical-align: top;\n",
              "    }\n",
              "\n",
              "    .dataframe thead th {\n",
              "        text-align: right;\n",
              "    }\n",
              "</style>\n",
              "<table border=\"1\" class=\"dataframe\">\n",
              "  <thead>\n",
              "    <tr style=\"text-align: right;\">\n",
              "      <th></th>\n",
              "      <th>B</th>\n",
              "      <th>D</th>\n",
              "      <th>F</th>\n",
              "    </tr>\n",
              "  </thead>\n",
              "  <tbody>\n",
              "    <tr>\n",
              "      <th>12</th>\n",
              "      <td>B2</td>\n",
              "      <td>D2</td>\n",
              "      <td>F2</td>\n",
              "    </tr>\n",
              "    <tr>\n",
              "      <th>13</th>\n",
              "      <td>B3</td>\n",
              "      <td>D3</td>\n",
              "      <td>F3</td>\n",
              "    </tr>\n",
              "    <tr>\n",
              "      <th>14</th>\n",
              "      <td>B6</td>\n",
              "      <td>D6</td>\n",
              "      <td>F6</td>\n",
              "    </tr>\n",
              "    <tr>\n",
              "      <th>15</th>\n",
              "      <td>B7</td>\n",
              "      <td>D7</td>\n",
              "      <td>F7</td>\n",
              "    </tr>\n",
              "  </tbody>\n",
              "</table>\n",
              "</div>"
            ],
            "text/plain": [
              "     B   D   F\n",
              "12  B2  D2  F2\n",
              "13  B3  D3  F3\n",
              "14  B6  D6  F6\n",
              "15  B7  D7  F7"
            ]
          },
          "execution_count": 5,
          "metadata": {},
          "output_type": "execute_result"
        }
      ],
      "source": [
        "df4 = pd.DataFrame(\n",
        "    {\n",
        "        \"B\": [\"B2\", \"B3\", \"B6\", \"B7\"],\n",
        "        \"D\": [\"D2\", \"D3\", \"D6\", \"D7\"],\n",
        "        \"F\": [\"F2\", \"F3\", \"F6\", \"F7\"],\n",
        "    },\n",
        "    index=[12, 13, 14, 15],\n",
        ")\n",
        "\n",
        "df4"
      ]
    },
    {
      "cell_type": "code",
      "execution_count": 6,
      "metadata": {
        "id": "YDkajnVvbD-4"
      },
      "outputs": [
        {
          "name": "stdout",
          "output_type": "stream",
          "text": [
            "     A   B    C   D    F\n",
            "0   A0  B0   C0  D0  NaN\n",
            "1   A1  B1   C1  D1  NaN\n",
            "2   A2  B2   C2  D2  NaN\n",
            "3   A3  B3   C3  D3  NaN\n",
            "4  NaN  B2  NaN  D2   F2\n",
            "5  NaN  B3  NaN  D3   F3\n",
            "6  NaN  B6  NaN  D6   F6\n",
            "7  NaN  B7  NaN  D7   F7\n"
          ]
        }
      ],
      "source": [
        "result = pd.concat([df1, df4], ignore_index=True, sort=False)\n",
        "print(result)"
      ]
    },
    {
      "cell_type": "markdown",
      "metadata": {
        "id": "siONFMyybmeO"
      },
      "source": [
        "![merging_concat_ignore_index.png](data:image/png;base64,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)"
      ]
    },
    {
      "cell_type": "code",
      "execution_count": 7,
      "metadata": {
        "id": "YProTBzyt260"
      },
      "outputs": [
        {
          "name": "stdout",
          "output_type": "stream",
          "text": [
            "      A    B    C    D    B    D    F\n",
            "0    A0   B0   C0   D0  NaN  NaN  NaN\n",
            "1    A1   B1   C1   D1  NaN  NaN  NaN\n",
            "2    A2   B2   C2   D2  NaN  NaN  NaN\n",
            "3    A3   B3   C3   D3  NaN  NaN  NaN\n",
            "12  NaN  NaN  NaN  NaN   B2   D2   F2\n",
            "13  NaN  NaN  NaN  NaN   B3   D3   F3\n",
            "14  NaN  NaN  NaN  NaN   B6   D6   F6\n",
            "15  NaN  NaN  NaN  NaN   B7   D7   F7\n"
          ]
        }
      ],
      "source": [
        "result = pd.concat([df1, df4], axis=1, sort=False)\n",
        "print(result)"
      ]
    },
    {
      "cell_type": "markdown",
      "metadata": {
        "id": "rNlKdl-PWXpG"
      },
      "source": [
        "## **Example 2 - Pandas Read Multiple CSV Files into DataFrame**\n",
        "\n",
        "Sometimes you may need to read or import multiple CSV files from a folder or from a list of files and convert them into a Pandas DataFrame. You can do this by reading each CSV file into a DataFrame and appending or concatenating the DataFrames to create a single DataFrame with data from all files.\n",
        "\n",
        "When you want to read multiple CSV files that exist in different folders, first create a list of strings with absolute paths and use it as shown below to load all CSV files and create one big Pandas DataFrame.\n",
        "\n",
        "Download following files:\n",
        "\n",
        "[RealEstate1.csv](https://drive.google.com/file/d/1lh82D1ayU7UcdhVsZwqabpQM9N-OIWiX/view?usp=sharing)\n",
        "\n",
        "[RealEstate2.csv](https://drive.google.com/file/d/1ZVluDBSJAdTupPQt3arzZx044YbpuD8l/view?usp=sharing)\n",
        "\n",
        "[RealEstate3.csv](https://drive.google.com/file/d/1DItTbU4m2k9lz-Qv-vFf8zMSkpRawJXl/view?usp=sharing)"
      ]
    },
    {
      "cell_type": "code",
      "execution_count": null,
      "metadata": {
        "id": "uadfwfuKdXds"
      },
      "outputs": [],
      "source": []
    },
    {
      "cell_type": "code",
      "execution_count": null,
      "metadata": {
        "id": "iK45BTSXWeu7"
      },
      "outputs": [
        {
          "ename": "FileNotFoundError",
          "evalue": "[Errno 2] No such file or directory: 'RealEstate1.csv'",
          "output_type": "error",
          "traceback": [
            "\u001b[31m---------------------------------------------------------------------------\u001b[39m",
            "\u001b[31mFileNotFoundError\u001b[39m                         Traceback (most recent call last)",
            "\u001b[36mCell\u001b[39m\u001b[36m \u001b[39m\u001b[32mIn[8]\u001b[39m\u001b[32m, line 3\u001b[39m\n\u001b[32m      1\u001b[39m \u001b[38;5;28;01mimport\u001b[39;00m\u001b[38;5;250m \u001b[39m\u001b[34;01mpandas\u001b[39;00m\u001b[38;5;250m \u001b[39m\u001b[38;5;28;01mas\u001b[39;00m\u001b[38;5;250m \u001b[39m\u001b[34;01mpd\u001b[39;00m\n\u001b[32m      2\u001b[39m \u001b[38;5;66;03m# do not forget to change the path of the CSV files as per your system.\u001b[39;00m\n\u001b[32m----> \u001b[39m\u001b[32m3\u001b[39m realState_df1=\u001b[43mpd\u001b[49m\u001b[43m.\u001b[49m\u001b[43mread_csv\u001b[49m\u001b[43m(\u001b[49m\u001b[33;43m'\u001b[39;49m\u001b[33;43mRealEstate1.csv\u001b[39;49m\u001b[33;43m'\u001b[39;49m\u001b[43m)\u001b[49m\n\u001b[32m      4\u001b[39m realState_df2=pd.read_csv(\u001b[33m'\u001b[39m\u001b[33mRealEstate2.csv\u001b[39m\u001b[33m'\u001b[39m)\n\u001b[32m      5\u001b[39m realState_df3=pd.read_csv(\u001b[33m'\u001b[39m\u001b[33mRealEstate3.csv\u001b[39m\u001b[33m'\u001b[39m)\n",
            "\u001b[36mFile \u001b[39m\u001b[32mc:\\Users\\juan.hun\\OneDrive - PeopleShores PBC\\Desktop\\python_practice\\venv\\Lib\\site-packages\\pandas\\io\\parsers\\readers.py:1026\u001b[39m, in \u001b[36mread_csv\u001b[39m\u001b[34m(filepath_or_buffer, sep, delimiter, header, names, index_col, usecols, dtype, engine, converters, true_values, false_values, skipinitialspace, skiprows, skipfooter, nrows, na_values, keep_default_na, na_filter, verbose, skip_blank_lines, parse_dates, infer_datetime_format, keep_date_col, date_parser, date_format, dayfirst, cache_dates, iterator, chunksize, compression, thousands, decimal, lineterminator, quotechar, quoting, doublequote, escapechar, comment, encoding, encoding_errors, dialect, on_bad_lines, delim_whitespace, low_memory, memory_map, float_precision, storage_options, dtype_backend)\u001b[39m\n\u001b[32m   1013\u001b[39m kwds_defaults = _refine_defaults_read(\n\u001b[32m   1014\u001b[39m     dialect,\n\u001b[32m   1015\u001b[39m     delimiter,\n\u001b[32m   (...)\u001b[39m\u001b[32m   1022\u001b[39m     dtype_backend=dtype_backend,\n\u001b[32m   1023\u001b[39m )\n\u001b[32m   1024\u001b[39m kwds.update(kwds_defaults)\n\u001b[32m-> \u001b[39m\u001b[32m1026\u001b[39m \u001b[38;5;28;01mreturn\u001b[39;00m \u001b[43m_read\u001b[49m\u001b[43m(\u001b[49m\u001b[43mfilepath_or_buffer\u001b[49m\u001b[43m,\u001b[49m\u001b[43m \u001b[49m\u001b[43mkwds\u001b[49m\u001b[43m)\u001b[49m\n",
            "\u001b[36mFile \u001b[39m\u001b[32mc:\\Users\\juan.hun\\OneDrive - PeopleShores PBC\\Desktop\\python_practice\\venv\\Lib\\site-packages\\pandas\\io\\parsers\\readers.py:620\u001b[39m, in \u001b[36m_read\u001b[39m\u001b[34m(filepath_or_buffer, kwds)\u001b[39m\n\u001b[32m    617\u001b[39m _validate_names(kwds.get(\u001b[33m\"\u001b[39m\u001b[33mnames\u001b[39m\u001b[33m\"\u001b[39m, \u001b[38;5;28;01mNone\u001b[39;00m))\n\u001b[32m    619\u001b[39m \u001b[38;5;66;03m# Create the parser.\u001b[39;00m\n\u001b[32m--> \u001b[39m\u001b[32m620\u001b[39m parser = \u001b[43mTextFileReader\u001b[49m\u001b[43m(\u001b[49m\u001b[43mfilepath_or_buffer\u001b[49m\u001b[43m,\u001b[49m\u001b[43m \u001b[49m\u001b[43m*\u001b[49m\u001b[43m*\u001b[49m\u001b[43mkwds\u001b[49m\u001b[43m)\u001b[49m\n\u001b[32m    622\u001b[39m \u001b[38;5;28;01mif\u001b[39;00m chunksize \u001b[38;5;129;01mor\u001b[39;00m iterator:\n\u001b[32m    623\u001b[39m     \u001b[38;5;28;01mreturn\u001b[39;00m parser\n",
            "\u001b[36mFile \u001b[39m\u001b[32mc:\\Users\\juan.hun\\OneDrive - PeopleShores PBC\\Desktop\\python_practice\\venv\\Lib\\site-packages\\pandas\\io\\parsers\\readers.py:1620\u001b[39m, in \u001b[36mTextFileReader.__init__\u001b[39m\u001b[34m(self, f, engine, **kwds)\u001b[39m\n\u001b[32m   1617\u001b[39m     \u001b[38;5;28mself\u001b[39m.options[\u001b[33m\"\u001b[39m\u001b[33mhas_index_names\u001b[39m\u001b[33m\"\u001b[39m] = kwds[\u001b[33m\"\u001b[39m\u001b[33mhas_index_names\u001b[39m\u001b[33m\"\u001b[39m]\n\u001b[32m   1619\u001b[39m \u001b[38;5;28mself\u001b[39m.handles: IOHandles | \u001b[38;5;28;01mNone\u001b[39;00m = \u001b[38;5;28;01mNone\u001b[39;00m\n\u001b[32m-> \u001b[39m\u001b[32m1620\u001b[39m \u001b[38;5;28mself\u001b[39m._engine = \u001b[38;5;28;43mself\u001b[39;49m\u001b[43m.\u001b[49m\u001b[43m_make_engine\u001b[49m\u001b[43m(\u001b[49m\u001b[43mf\u001b[49m\u001b[43m,\u001b[49m\u001b[43m \u001b[49m\u001b[38;5;28;43mself\u001b[39;49m\u001b[43m.\u001b[49m\u001b[43mengine\u001b[49m\u001b[43m)\u001b[49m\n",
            "\u001b[36mFile \u001b[39m\u001b[32mc:\\Users\\juan.hun\\OneDrive - PeopleShores PBC\\Desktop\\python_practice\\venv\\Lib\\site-packages\\pandas\\io\\parsers\\readers.py:1880\u001b[39m, in \u001b[36mTextFileReader._make_engine\u001b[39m\u001b[34m(self, f, engine)\u001b[39m\n\u001b[32m   1878\u001b[39m     \u001b[38;5;28;01mif\u001b[39;00m \u001b[33m\"\u001b[39m\u001b[33mb\u001b[39m\u001b[33m\"\u001b[39m \u001b[38;5;129;01mnot\u001b[39;00m \u001b[38;5;129;01min\u001b[39;00m mode:\n\u001b[32m   1879\u001b[39m         mode += \u001b[33m\"\u001b[39m\u001b[33mb\u001b[39m\u001b[33m\"\u001b[39m\n\u001b[32m-> \u001b[39m\u001b[32m1880\u001b[39m \u001b[38;5;28mself\u001b[39m.handles = \u001b[43mget_handle\u001b[49m\u001b[43m(\u001b[49m\n\u001b[32m   1881\u001b[39m \u001b[43m    \u001b[49m\u001b[43mf\u001b[49m\u001b[43m,\u001b[49m\n\u001b[32m   1882\u001b[39m \u001b[43m    \u001b[49m\u001b[43mmode\u001b[49m\u001b[43m,\u001b[49m\n\u001b[32m   1883\u001b[39m \u001b[43m    \u001b[49m\u001b[43mencoding\u001b[49m\u001b[43m=\u001b[49m\u001b[38;5;28;43mself\u001b[39;49m\u001b[43m.\u001b[49m\u001b[43moptions\u001b[49m\u001b[43m.\u001b[49m\u001b[43mget\u001b[49m\u001b[43m(\u001b[49m\u001b[33;43m\"\u001b[39;49m\u001b[33;43mencoding\u001b[39;49m\u001b[33;43m\"\u001b[39;49m\u001b[43m,\u001b[49m\u001b[43m \u001b[49m\u001b[38;5;28;43;01mNone\u001b[39;49;00m\u001b[43m)\u001b[49m\u001b[43m,\u001b[49m\n\u001b[32m   1884\u001b[39m \u001b[43m    \u001b[49m\u001b[43mcompression\u001b[49m\u001b[43m=\u001b[49m\u001b[38;5;28;43mself\u001b[39;49m\u001b[43m.\u001b[49m\u001b[43moptions\u001b[49m\u001b[43m.\u001b[49m\u001b[43mget\u001b[49m\u001b[43m(\u001b[49m\u001b[33;43m\"\u001b[39;49m\u001b[33;43mcompression\u001b[39;49m\u001b[33;43m\"\u001b[39;49m\u001b[43m,\u001b[49m\u001b[43m \u001b[49m\u001b[38;5;28;43;01mNone\u001b[39;49;00m\u001b[43m)\u001b[49m\u001b[43m,\u001b[49m\n\u001b[32m   1885\u001b[39m \u001b[43m    \u001b[49m\u001b[43mmemory_map\u001b[49m\u001b[43m=\u001b[49m\u001b[38;5;28;43mself\u001b[39;49m\u001b[43m.\u001b[49m\u001b[43moptions\u001b[49m\u001b[43m.\u001b[49m\u001b[43mget\u001b[49m\u001b[43m(\u001b[49m\u001b[33;43m\"\u001b[39;49m\u001b[33;43mmemory_map\u001b[39;49m\u001b[33;43m\"\u001b[39;49m\u001b[43m,\u001b[49m\u001b[43m \u001b[49m\u001b[38;5;28;43;01mFalse\u001b[39;49;00m\u001b[43m)\u001b[49m\u001b[43m,\u001b[49m\n\u001b[32m   1886\u001b[39m \u001b[43m    \u001b[49m\u001b[43mis_text\u001b[49m\u001b[43m=\u001b[49m\u001b[43mis_text\u001b[49m\u001b[43m,\u001b[49m\n\u001b[32m   1887\u001b[39m \u001b[43m    \u001b[49m\u001b[43merrors\u001b[49m\u001b[43m=\u001b[49m\u001b[38;5;28;43mself\u001b[39;49m\u001b[43m.\u001b[49m\u001b[43moptions\u001b[49m\u001b[43m.\u001b[49m\u001b[43mget\u001b[49m\u001b[43m(\u001b[49m\u001b[33;43m\"\u001b[39;49m\u001b[33;43mencoding_errors\u001b[39;49m\u001b[33;43m\"\u001b[39;49m\u001b[43m,\u001b[49m\u001b[43m \u001b[49m\u001b[33;43m\"\u001b[39;49m\u001b[33;43mstrict\u001b[39;49m\u001b[33;43m\"\u001b[39;49m\u001b[43m)\u001b[49m\u001b[43m,\u001b[49m\n\u001b[32m   1888\u001b[39m \u001b[43m    \u001b[49m\u001b[43mstorage_options\u001b[49m\u001b[43m=\u001b[49m\u001b[38;5;28;43mself\u001b[39;49m\u001b[43m.\u001b[49m\u001b[43moptions\u001b[49m\u001b[43m.\u001b[49m\u001b[43mget\u001b[49m\u001b[43m(\u001b[49m\u001b[33;43m\"\u001b[39;49m\u001b[33;43mstorage_options\u001b[39;49m\u001b[33;43m\"\u001b[39;49m\u001b[43m,\u001b[49m\u001b[43m \u001b[49m\u001b[38;5;28;43;01mNone\u001b[39;49;00m\u001b[43m)\u001b[49m\u001b[43m,\u001b[49m\n\u001b[32m   1889\u001b[39m \u001b[43m\u001b[49m\u001b[43m)\u001b[49m\n\u001b[32m   1890\u001b[39m \u001b[38;5;28;01massert\u001b[39;00m \u001b[38;5;28mself\u001b[39m.handles \u001b[38;5;129;01mis\u001b[39;00m \u001b[38;5;129;01mnot\u001b[39;00m \u001b[38;5;28;01mNone\u001b[39;00m\n\u001b[32m   1891\u001b[39m f = \u001b[38;5;28mself\u001b[39m.handles.handle\n",
            "\u001b[36mFile \u001b[39m\u001b[32mc:\\Users\\juan.hun\\OneDrive - PeopleShores PBC\\Desktop\\python_practice\\venv\\Lib\\site-packages\\pandas\\io\\common.py:873\u001b[39m, in \u001b[36mget_handle\u001b[39m\u001b[34m(path_or_buf, mode, encoding, compression, memory_map, is_text, errors, storage_options)\u001b[39m\n\u001b[32m    868\u001b[39m \u001b[38;5;28;01melif\u001b[39;00m \u001b[38;5;28misinstance\u001b[39m(handle, \u001b[38;5;28mstr\u001b[39m):\n\u001b[32m    869\u001b[39m     \u001b[38;5;66;03m# Check whether the filename is to be opened in binary mode.\u001b[39;00m\n\u001b[32m    870\u001b[39m     \u001b[38;5;66;03m# Binary mode does not support 'encoding' and 'newline'.\u001b[39;00m\n\u001b[32m    871\u001b[39m     \u001b[38;5;28;01mif\u001b[39;00m ioargs.encoding \u001b[38;5;129;01mand\u001b[39;00m \u001b[33m\"\u001b[39m\u001b[33mb\u001b[39m\u001b[33m\"\u001b[39m \u001b[38;5;129;01mnot\u001b[39;00m \u001b[38;5;129;01min\u001b[39;00m ioargs.mode:\n\u001b[32m    872\u001b[39m         \u001b[38;5;66;03m# Encoding\u001b[39;00m\n\u001b[32m--> \u001b[39m\u001b[32m873\u001b[39m         handle = \u001b[38;5;28;43mopen\u001b[39;49m\u001b[43m(\u001b[49m\n\u001b[32m    874\u001b[39m \u001b[43m            \u001b[49m\u001b[43mhandle\u001b[49m\u001b[43m,\u001b[49m\n\u001b[32m    875\u001b[39m \u001b[43m            \u001b[49m\u001b[43mioargs\u001b[49m\u001b[43m.\u001b[49m\u001b[43mmode\u001b[49m\u001b[43m,\u001b[49m\n\u001b[32m    876\u001b[39m \u001b[43m            \u001b[49m\u001b[43mencoding\u001b[49m\u001b[43m=\u001b[49m\u001b[43mioargs\u001b[49m\u001b[43m.\u001b[49m\u001b[43mencoding\u001b[49m\u001b[43m,\u001b[49m\n\u001b[32m    877\u001b[39m \u001b[43m            \u001b[49m\u001b[43merrors\u001b[49m\u001b[43m=\u001b[49m\u001b[43merrors\u001b[49m\u001b[43m,\u001b[49m\n\u001b[32m    878\u001b[39m \u001b[43m            \u001b[49m\u001b[43mnewline\u001b[49m\u001b[43m=\u001b[49m\u001b[33;43m\"\u001b[39;49m\u001b[33;43m\"\u001b[39;49m\u001b[43m,\u001b[49m\n\u001b[32m    879\u001b[39m \u001b[43m        \u001b[49m\u001b[43m)\u001b[49m\n\u001b[32m    880\u001b[39m     \u001b[38;5;28;01melse\u001b[39;00m:\n\u001b[32m    881\u001b[39m         \u001b[38;5;66;03m# Binary mode\u001b[39;00m\n\u001b[32m    882\u001b[39m         handle = \u001b[38;5;28mopen\u001b[39m(handle, ioargs.mode)\n",
            "\u001b[31mFileNotFoundError\u001b[39m: [Errno 2] No such file or directory: 'RealEstate1.csv'"
          ]
        }
      ],
      "source": [
        "import pandas as pd\n",
        "# do not forget to change the path of the CSV files as per your system.\n",
        "realState_df1=pd.read_csv('RealEstate1.csv')\n",
        "realState_df2=pd.read_csv('RealEstate2.csv') # could not do this step because we had to download external files. -----------------------------------\n",
        "realState_df3=pd.read_csv('RealEstate3.csv')\n",
        "\n",
        "realStateDataFrame = pd.concat([realState_df1,realState_df2,realState_df3], axis=0, ignore_index=False)\n",
        "realStateDataFrame"
      ]
    },
    {
      "cell_type": "markdown",
      "metadata": {
        "id": "7BrCJy7iWr7F"
      },
      "source": [
        "**Lets access spepcific column by using Square bracker [].**"
      ]
    },
    {
      "cell_type": "code",
      "execution_count": 9,
      "metadata": {
        "id": "-HpQpf_4eBB2"
      },
      "outputs": [
        {
          "ename": "NameError",
          "evalue": "name 'realStateDataFrame' is not defined",
          "output_type": "error",
          "traceback": [
            "\u001b[31m---------------------------------------------------------------------------\u001b[39m",
            "\u001b[31mNameError\u001b[39m                                 Traceback (most recent call last)",
            "\u001b[36mCell\u001b[39m\u001b[36m \u001b[39m\u001b[32mIn[9]\u001b[39m\u001b[32m, line 3\u001b[39m\n\u001b[32m      1\u001b[39m \u001b[38;5;66;03m# select single column by column index number\u001b[39;00m\n\u001b[32m      2\u001b[39m \u001b[38;5;66;03m#s = df[df.columns[0]]\u001b[39;00m\n\u001b[32m----> \u001b[39m\u001b[32m3\u001b[39m \u001b[43mrealStateDataFrame\u001b[49m[realStateDataFrame.columns[\u001b[32m1\u001b[39m]]\n",
            "\u001b[31mNameError\u001b[39m: name 'realStateDataFrame' is not defined"
          ]
        }
      ],
      "source": [
        "# select single column by column index number\n",
        "#s = df[df.columns[0]]\n",
        "realStateDataFrame[realStateDataFrame.columns[1]]"
      ]
    },
    {
      "cell_type": "code",
      "execution_count": null,
      "metadata": {
        "id": "_j7I45SRfQWG"
      },
      "outputs": [],
      "source": [
        "# select column to Series\n",
        "#s = df['colName']\n",
        "s = realStateDataFrame['MLS']\n",
        "s\n",
        "\n"
      ]
    },
    {
      "cell_type": "code",
      "execution_count": null,
      "metadata": {
        "id": "wqfxTsBIfbKW"
      },
      "outputs": [],
      "source": [
        "#df[df[\"columName\"] > condidtion]\n",
        "s = realStateDataFrame[realStateDataFrame['Bedrooms'] >3 ]\n",
        "s"
      ]
    },
    {
      "cell_type": "markdown",
      "metadata": {
        "id": "4AW8UcC7YMQC"
      },
      "source": [
        "## **Submission Instructions**\n",
        "- Submit your completed lab using the Start Assignment button on the assignment page in Canvas.\n",
        "- Your submission can be include:\n",
        "  - if you are using notebook then, all tasks should be written and submitted in a single notebook file, for example: (**your_name_labname.ipynb**).\n",
        "  - if you are using python script file, all tasks should be written and submitted in a single python script file for example: **(your_name_labname.py)**.\n",
        "- Add appropriate comments and any additional instructions if required.\n"
      ]
    }
  ],
  "metadata": {
    "colab": {
      "provenance": []
    },
    "kernelspec": {
      "display_name": "venv",
      "language": "python",
      "name": "python3"
    },
    "language_info": {
      "codemirror_mode": {
        "name": "ipython",
        "version": 3
      },
      "file_extension": ".py",
      "mimetype": "text/x-python",
      "name": "python",
      "nbconvert_exporter": "python",
      "pygments_lexer": "ipython3",
      "version": "3.12.0"
    }
  },
  "nbformat": 4,
  "nbformat_minor": 0
}
