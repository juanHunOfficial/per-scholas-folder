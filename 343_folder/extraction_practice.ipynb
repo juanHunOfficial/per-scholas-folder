{
 "cells": [
  {
   "cell_type": "markdown",
   "id": "9bc7d532",
   "metadata": {},
   "source": [
    "# This is strictly for practice on the car models db local to my machine"
   ]
  },
  {
   "cell_type": "markdown",
   "id": "3ccfe73e",
   "metadata": {},
   "source": [
    "### Import packages needed"
   ]
  },
  {
   "cell_type": "code",
   "execution_count": 5,
   "id": "2b5f93e9",
   "metadata": {},
   "outputs": [],
   "source": [
    "import mysql.connector as mydbconnection\n",
    "from mysql.connector import Error\n",
    "import pandas as pd"
   ]
  },
  {
   "cell_type": "markdown",
   "id": "ac23db89",
   "metadata": {},
   "source": [
    "### Establish connection"
   ]
  },
  {
   "cell_type": "code",
   "execution_count": 4,
   "id": "42ad6e58",
   "metadata": {},
   "outputs": [
    {
     "name": "stdout",
     "output_type": "stream",
     "text": [
      "Connected to MySQL database\n"
     ]
    }
   ],
   "source": [
    "conn = None\n",
    "try:\n",
    "    conn = mydbconnection.connect(\n",
    "        host='localhost',\n",
    "        database='classicmodels',\n",
    "        user='root',\n",
    "        password='password')\n",
    "    if conn.is_connected():\n",
    "        print('Connected to MySQL database')\n",
    "        cursor = conn.cursor()\n",
    "except Error as e:\n",
    "    print(e)\n"
   ]
  },
  {
   "cell_type": "markdown",
   "id": "5d9ab3d2",
   "metadata": {},
   "source": [
    "### 1. List the `product lines` and the number of `products` in each `product line`. Sort the output by the number of `products` in descending order."
   ]
  },
  {
   "cell_type": "code",
   "execution_count": null,
   "id": "f690375b",
   "metadata": {},
   "outputs": [
    {
     "name": "stdout",
     "output_type": "stream",
     "text": [
      "       Product Line   Stock\n",
      "0      Classic Cars  219183\n",
      "1      Vintage Cars  124880\n",
      "2       Motorcycles   69401\n",
      "3            Planes   62287\n",
      "4  Trucks and Buses   35851\n",
      "5             Ships   26833\n",
      "6            Trains   16696\n"
     ]
    }
   ],
   "source": [
    "q_number_of_product_per = \"\"\"\n",
    "                            select productLine, sum(quantityInStock)\n",
    "                            from products\n",
    "                            group by productLine\n",
    "                            order by sum(quantityInStock) desc\n",
    "                        \"\"\"\n",
    "cursor.execute(q_number_of_product_per)\n",
    "\n",
    "rows = cursor.fetchall()\n",
    "columns = [\"Product Line\", \"Stock\"]\n",
    "df = pd.DataFrame(rows, columns=columns)\n",
    "print(df)\n",
    "df.to_csv('data/products_report.csv', index=False)"
   ]
  },
  {
   "cell_type": "markdown",
   "id": "71479959",
   "metadata": {},
   "source": [
    "### 2. List the `order date` and the `number of orders` placed in October of each year. Sort the output by `order date` in ascending order."
   ]
  },
  {
   "cell_type": "code",
   "execution_count": 29,
   "id": "57d1ea61",
   "metadata": {},
   "outputs": [
    {
     "name": "stdout",
     "output_type": "stream",
     "text": [
      "   Order Date  Orders Placed\n",
      "0        2003             18\n",
      "1        2004             13\n"
     ]
    }
   ],
   "source": [
    "q_oct_orders = \"\"\"\n",
    "                    select year(der_ord.orderDate) as year, count(der_ord.orderNumber) as \"Order Count\"\n",
    "                    from ( select orderDate, orderNumber\n",
    "                            from orders\n",
    "                            where month(orderDate) = 10) as der_ord\n",
    "                    group by year(der_ord.orderDate)\n",
    "                    order by year;\n",
    "               \"\"\"\n",
    "cursor.execute(q_oct_orders)\n",
    "df = pd.DataFrame(cursor.fetchall(), columns=(\"Order Date\", \"Orders Placed\"))\n",
    "print(df)\n",
    "df.to_csv('data/orders_report.csv', index=False)"
   ]
  },
  {
   "cell_type": "markdown",
   "id": "7652b5cc",
   "metadata": {},
   "source": [
    "### 3. List the sales rep's first name, last name, and the number of customers they are responsible for. Sort the output by the number of customers in descending order."
   ]
  },
  {
   "cell_type": "code",
   "execution_count": 30,
   "id": "1085866b",
   "metadata": {},
   "outputs": [
    {
     "name": "stdout",
     "output_type": "stream",
     "text": [
      "   First Name  Last Name  Number of Customers\n",
      "0      Pamela   Castillo                   10\n",
      "1       Barry      Jones                    9\n",
      "2      George     Vanauf                    8\n",
      "3       Larry       Bott                    8\n",
      "4    Foon Yue      Tseng                    7\n",
      "5      Gerard  Hernandez                    7\n",
      "6      Leslie   Jennings                    6\n",
      "7      Leslie   Thompson                    6\n",
      "8       Julie   Firrelli                    6\n",
      "9       Steve  Patterson                    6\n",
      "10       Loui     Bondur                    6\n",
      "11     Martin     Gerard                    6\n",
      "12       Andy     Fixter                    5\n",
      "13      Peter      Marsh                    5\n",
      "14       Mami      Nishi                    5\n",
      "15        Tom       King                    0\n",
      "16    Yoshimi       Kato                    0\n"
     ]
    }
   ],
   "source": [
    "query = \"\"\"\n",
    "            select e.firstName, e.lastName, count(c.salesRepEmployeeNumber) as number_of_customers\n",
    "            from employees e\n",
    "            left join customers c on e.employeeNumber = c.salesRepEmployeeNumber\n",
    "            group by c.salesRepEmployeeNumber, e.firstName, e.lastName, e.jobTitle\n",
    "            having e.jobTitle = \"Sales Rep\"\n",
    "            order by number_of_customers desc;\n",
    "        \"\"\"\n",
    "cursor.execute(query)\n",
    "df = pd.DataFrame(cursor.fetchall(), columns=(\"First Name\", \"Last Name\", \"Number of Customers\"))\n",
    "print(df)\n",
    "df.to_csv('data/sales_rep_report.csv', index=False)"
   ]
  },
  {
   "cell_type": "markdown",
   "id": "b52ce219",
   "metadata": {},
   "source": [
    "### 4. List the customer name and their average payment amount. Sort the output by average payment amount in descending order."
   ]
  },
  {
   "cell_type": "code",
   "execution_count": 31,
   "id": "1c3ccea2",
   "metadata": {},
   "outputs": [
    {
     "name": "stdout",
     "output_type": "stream",
     "text": [
      "     First Name Average Payment\n",
      "0       Valarie        80375.24\n",
      "1         Julie        66170.39\n",
      "2         Susan        64909.80\n",
      "3           Sue        59551.38\n",
      "4        Diego         55056.84\n",
      "..          ...             ...\n",
      "117       Sven             None\n",
      "118      Carmen            None\n",
      "119      Hanna             None\n",
      "120  Alexander             None\n",
      "121      Raanan            None\n",
      "\n",
      "[122 rows x 2 columns]\n"
     ]
    }
   ],
   "source": [
    "query = \"\"\"\n",
    "    select c.contactFirstName, round(avg(p.amount),2) average_payment_amount\n",
    "    from customers c \n",
    "    left join payments p on c.customerNumber = p.customerNumber\n",
    "    group by c.customerNumber, c.contactFirstName\n",
    "    order by average_payment_amount desc;\n",
    "\"\"\"\n",
    "cursor.execute(query)\n",
    "df = pd.DataFrame(cursor.fetchall(), columns=(\"First Name\",\"Average Payment\"))\n",
    "print(df)\n",
    "df.to_csv('data/customer_payments.csv', index=False)"
   ]
  }
 ],
 "metadata": {
  "kernelspec": {
   "display_name": "venv",
   "language": "python",
   "name": "python3"
  },
  "language_info": {
   "codemirror_mode": {
    "name": "ipython",
    "version": 3
   },
   "file_extension": ".py",
   "mimetype": "text/x-python",
   "name": "python",
   "nbconvert_exporter": "python",
   "pygments_lexer": "ipython3",
   "version": "3.12.0"
  }
 },
 "nbformat": 4,
 "nbformat_minor": 5
}
