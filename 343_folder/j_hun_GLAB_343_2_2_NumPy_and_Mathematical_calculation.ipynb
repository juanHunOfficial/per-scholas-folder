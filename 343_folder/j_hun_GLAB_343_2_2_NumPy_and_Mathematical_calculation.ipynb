{
  "cells": [
    {
      "cell_type": "markdown",
      "metadata": {
        "id": "KsIGNXt-Yh3L"
      },
      "source": [
        "# **Guided Lab - 343.2.2 - NumPy and Mathematical Calculation**"
      ]
    },
    {
      "cell_type": "markdown",
      "metadata": {
        "id": "UUA0UvO_Ynch"
      },
      "source": [
        "## **Objectives**\n",
        "By the end of this lab, Learners will be able to:\n",
        "- Describe the basics of NumPy.\n",
        "- Manipulate data using NumPy arrays.\n",
        "- Perform element-wise mathematical operations on arrays.\n",
        "- Use NumPy functions for statistical and mathematical calculations.\n",
        "- Slice and index NumPy arrays for data extraction.\n",
        "- Apply common data science tasks using NumPy.\n",
        "\n",
        "## **Introduction**\n",
        "NumPy (Numerical Python) is a fundamental library for numerical computing in Python. It provides support for multidimensional arrays, mathematical functions, and a wide range of operations on arrays. In this guided lab, you will dive into the world of NumPy and learn how to efficiently manipulate arrays, perform mathematical operations, and solve common data science tasks using this powerful library.\n",
        "\n",
        "\n",
        "## **Prerequisite/Equipment**\n",
        "\n",
        "- Python environment: Python related IDE(e.g., Anaconda, Jupyter Notebook).\n",
        "- NumPy library installed (can be installed via pip or conda).\n",
        "\n",
        "## **Submission**\n",
        "- Submit your completed lab using the Start Assignment button on the assignment page in Canvas.\n",
        "- Your submission can be include:\n",
        "  - if you are using notebook then, all tasks should be written and submitted in a single notebook file, for example: (**your_name_labname.ipynb**).\n",
        "  - if you are using python script file, all tasks should be written and submitted in a single python script file for example: **(your_name_labname.py)**.\n",
        "- Add appropriate comments and any additional instructions if required.\n"
      ]
    },
    {
      "cell_type": "markdown",
      "metadata": {
        "id": "7fLTb4HIbt3P"
      },
      "source": [
        "## **Instructions**\n",
        "\n",
        "**Example 1: Import NumPy**\n",
        "\n",
        "Open a Python environment (e.g., Jupyter Notebook).\n",
        "Import the NumPy library using **`import numpy as np.`**"
      ]
    },
    {
      "cell_type": "markdown",
      "metadata": {
        "id": "L4FuPukwb44a"
      },
      "source": [
        "**Example 2: Creating NumPy Arrays**\n",
        "\n",
        "\n",
        "*   Create a 1D NumPy array from a Python list.\n",
        "*   Create a 2D NumPy array from a nested Python list.\n",
        "* Explore the attributes of NumPy arrays such as shape, size, and data type.\n",
        "\n",
        "\n",
        "\n",
        "\n"
      ]
    },
    {
      "cell_type": "code",
      "execution_count": 1,
      "metadata": {
        "id": "l0CbLqsCYXmq"
      },
      "outputs": [
        {
          "name": "stdout",
          "output_type": "stream",
          "text": [
            "1D NumPy Array:\n",
            "Array: [1 2 3 4 5]\n",
            "Shape: (5,)\n",
            "Size: 5\n",
            "Data Type: int64\n",
            "\n",
            "2D NumPy Array:\n",
            "Array:\n",
            "[[1 2 3]\n",
            " [4 5 6]\n",
            " [7 8 9]]\n",
            "Shape: (3, 3)\n",
            "Size: 9\n",
            "Data Type: int64\n"
          ]
        }
      ],
      "source": [
        "import numpy as np\n",
        "\n",
        "# Create a 1D NumPy array from a Python list\n",
        "python_list_1d = [1, 2, 3, 4, 5]\n",
        "numpy_array_1d = np.array(python_list_1d)\n",
        "\n",
        "# Create a 2D NumPy array from a nested Python list\n",
        "python_list_2d = [[1, 2, 3], [4, 5, 6], [7, 8, 9]]\n",
        "numpy_array_2d = np.array(python_list_2d)\n",
        "\n",
        "# Explore the attributes of NumPy arrays\n",
        "shape_1d = numpy_array_1d.shape\n",
        "shape_2d = numpy_array_2d.shape\n",
        "\n",
        "size_1d = numpy_array_1d.size\n",
        "size_2d = numpy_array_2d.size\n",
        "\n",
        "data_type_1d = numpy_array_1d.dtype\n",
        "data_type_2d = numpy_array_2d.dtype\n",
        "\n",
        "print(\"1D NumPy Array:\")\n",
        "print(\"Array:\", numpy_array_1d)\n",
        "print(\"Shape:\", shape_1d)\n",
        "print(\"Size:\", size_1d)\n",
        "print(\"Data Type:\", data_type_1d)\n",
        "\n",
        "print(\"\\n2D NumPy Array:\")\n",
        "print(\"Array:\")\n",
        "print(numpy_array_2d)\n",
        "print(\"Shape:\", shape_2d)\n",
        "print(\"Size:\", size_2d)\n",
        "print(\"Data Type:\", data_type_2d)\n"
      ]
    },
    {
      "cell_type": "markdown",
      "metadata": {
        "id": "0KbuxQJIcQAG"
      },
      "source": [
        "**Example 3: Statistical and Mathematical Functions**\n",
        "- Perform element-wise addition, subtraction, multiplication, and division on arrays.\n",
        "- Apply basic mathematical functions (e.g., np.sin(), np.exp()) to arrays.\n"
      ]
    },
    {
      "cell_type": "code",
      "execution_count": null,
      "metadata": {
        "id": "ZBFTF9eacS9F"
      },
      "outputs": [
        {
          "name": "stdout",
          "output_type": "stream",
          "text": [
            "\n",
            "Element-wise Operations on 1D Array:\n",
            "Original Array: [1 2 3 4 5]\n",
            "Addition Result: [11 12 13 14 15]\n",
            "Subtraction Result: [-1  0  1  2  3]\n",
            "Multiplication Result: [ 3  6  9 12 15]\n",
            "Division Result: [0.5 1.  1.5 2.  2.5]\n",
            "\n",
            "Mathematical Functions Applied to 1D Array:\n",
            "Original Array: [1 2 3 4 5]\n",
            "sin Result: [ 0.84147098  0.90929743  0.14112001 -0.7568025  -0.95892427]\n",
            "exp Result: [  2.71828183   7.3890561   20.08553692  54.59815003 148.4131591 ]\n"
          ]
        }
      ],
      "source": [
        "\n",
        "# Perform element-wise operations on arrays\n",
        "addition_result = numpy_array_1d + 10\n",
        "subtraction_result = numpy_array_1d - 2 # I fixed this line that had an error ------------------------------------------------\n",
        "multiplication_result = numpy_array_1d * 3\n",
        "division_result = numpy_array_1d / 2\n",
        "\n",
        "print(\"\\nElement-wise Operations on 1D Array:\")\n",
        "print(\"Original Array:\", numpy_array_1d)\n",
        "print(\"Addition Result:\", addition_result)\n",
        "print(\"Subtraction Result:\", subtraction_result)\n",
        "print(\"Multiplication Result:\", multiplication_result)\n",
        "print(\"Division Result:\", division_result)\n",
        "\n",
        "# Apply basic mathematical functions to arrays\n",
        "sin_result = np.sin(numpy_array_1d)\n",
        "exp_result = np.exp(numpy_array_1d)\n",
        "\n",
        "print(\"\\nMathematical Functions Applied to 1D Array:\")\n",
        "print(\"Original Array:\", numpy_array_1d)\n",
        "print(\"sin Result:\", sin_result)\n",
        "print(\"exp Result:\", exp_result)"
      ]
    },
    {
      "cell_type": "markdown",
      "metadata": {
        "id": "PZI3Chg8cWH5"
      },
      "source": [
        "**Example 4: Statistical and Mathematical Functions**\n",
        "- Calculate the mean, median, and standard deviation of an array.\n",
        "- Find the minimum and maximum values in an array."
      ]
    },
    {
      "cell_type": "code",
      "execution_count": 4,
      "metadata": {
        "id": "DPXdld5WcVui"
      },
      "outputs": [
        {
          "name": "stdout",
          "output_type": "stream",
          "text": [
            "\n",
            "Mathematical Functions Applied to 1D Array:\n",
            "Original Array: [1 2 3 4 5]\n",
            "sin Result: [ 0.84147098  0.90929743  0.14112001 -0.7568025  -0.95892427]\n",
            "exp Result: [  2.71828183   7.3890561   20.08553692  54.59815003 148.4131591 ]\n",
            "\n",
            "Statistics on 1D Array:\n",
            "Mean: 3.0\n",
            "Median: 3.0\n",
            "Standard Deviation: 1.4142135623730951\n",
            "Minimum Value: 1\n",
            "Maximum Value: 5\n"
          ]
        }
      ],
      "source": [
        "# Apply basic mathematical functions to arrays\n",
        "sin_result = np.sin(numpy_array_1d)\n",
        "exp_result = np.exp(numpy_array_1d)\n",
        "\n",
        "print(\"\\nMathematical Functions Applied to 1D Array:\")\n",
        "print(\"Original Array:\", numpy_array_1d)\n",
        "print(\"sin Result:\", sin_result)\n",
        "print(\"exp Result:\", exp_result)\n",
        "\n",
        "# Calculate statistics on the 1D array\n",
        "mean_value = np.mean(numpy_array_1d)\n",
        "median_value = np.median(numpy_array_1d)\n",
        "std_deviation = np.std(numpy_array_1d)\n",
        "min_value = np.min(numpy_array_1d)\n",
        "max_value = np.max(numpy_array_1d)\n",
        "\n",
        "print(\"\\nStatistics on 1D Array:\")\n",
        "print(\"Mean:\", mean_value)\n",
        "print(\"Median:\", median_value)\n",
        "print(\"Standard Deviation:\", std_deviation)\n",
        "print(\"Minimum Value:\", min_value)\n",
        "print(\"Maximum Value:\", max_value)"
      ]
    },
    {
      "cell_type": "markdown",
      "metadata": {
        "id": "kxHPLucqclVo"
      },
      "source": [
        "**Example 5: Slicing and Indexing**\n",
        "- Slice arrays to extract specific elements or sub-arrays.\n",
        "- Use boolean indexing to filter elements based on conditions.\n",
        "- Combine slicing and indexing techniques to manipulate arrays effectively.\n"
      ]
    },
    {
      "cell_type": "code",
      "execution_count": 5,
      "metadata": {
        "id": "iJ3fRPQwcpCF"
      },
      "outputs": [
        {
          "name": "stdout",
          "output_type": "stream",
          "text": [
            "\n",
            "Sliced Array:\n",
            "[2 3 4]\n",
            "\n",
            "Boolean Indexing:\n",
            "Original Array: [1 2 3 4 5]\n",
            "Index Condition: [False False False  True  True]\n",
            "Filtered Elements: [4 5]\n",
            "\n",
            "Combined Slicing and Indexing:\n",
            "Original Array: [1 2 3 4 5]\n",
            "Filtered Elements: [4]\n"
          ]
        }
      ],
      "source": [
        "# Slicing and Indexing\n",
        "sliced_array = numpy_array_1d[1:4]  # Slice elements from index 1 to 3\n",
        "index_condition = numpy_array_1d > 3  # Create a boolean index condition\n",
        "\n",
        "print(\"\\nSliced Array:\")\n",
        "print(sliced_array)\n",
        "\n",
        "print(\"\\nBoolean Indexing:\")\n",
        "print(\"Original Array:\", numpy_array_1d)\n",
        "print(\"Index Condition:\", index_condition)\n",
        "print(\"Filtered Elements:\", numpy_array_1d[index_condition])\n",
        "\n",
        "# Combining Slicing and Indexing\n",
        "combined_result = numpy_array_1d[1:4][numpy_array_1d[1:4] > 3]\n",
        "\n",
        "print(\"\\nCombined Slicing and Indexing:\")\n",
        "print(\"Original Array:\", numpy_array_1d)\n",
        "print(\"Filtered Elements:\", combined_result)\n"
      ]
    },
    {
      "cell_type": "markdown",
      "metadata": {
        "id": "_jPlk019cr9J"
      },
      "source": [
        "**Example 6:  Real-world example of using NumPy**\n",
        "\n",
        "Let's consider a real-world example of using NumPy for data manipulation in the context of analyzing temperature data from a weather station.\n",
        "\n",
        "You have a dataset with daily temperature records for a year, and you want to perform various operations and calculations on this data.\n",
        "\n",
        "In the following example, we will use NumPy to:\n",
        "- Calculate the mean, median, and standard deviation of the daily temperature data.\n",
        "\n",
        "- Convert the temperatures from Celsius to Fahrenheit.\n",
        "- Identify hot days with temperatures above 30°C.\n",
        "- Count the number of hot days.\n",
        "- Calculate cooling degree days, a measure of cooling requirements based on a specified base temperature.\n",
        "\n",
        "These operations demonstrate how NumPy can simplify data manipulation and analysis, making it a powerful tool for working with real-world data in various scientific and engineering fields, including meteorology and climate science.\n"
      ]
    },
    {
      "cell_type": "code",
      "execution_count": 7,
      "metadata": {
        "id": "qMSr1Uv9ctlT"
      },
      "outputs": [
        {
          "name": "stdout",
          "output_type": "stream",
          "text": [
            "Mean Temperature: 27.138709677419353\n",
            "Median Temperature: 26.7\n",
            "Standard Deviation: 3.221668313492935\n",
            "Number of Hot Days: 7\n",
            "Cooling Degree Days: 221.3\n"
          ]
        }
      ],
      "source": [
        "import numpy as np\n",
        "\n",
        "\n",
        "# Suppose you have a year's worth of daily temperature data in Celsius\n",
        "temperature_data = np.array([22.3, 23.1, 24.5, 25.8, 23.6, 26.7, 27.9, 29.2, 30.5, 24.7, 23.4, 22.1, 25.3, 26.4, 28.7, 29.8, 31.2, 32.4, 30.7, 29.5, 27.8, 26.6, 23.9, 22.5, 24.1, 25.7, 27.3, 29.6, 31.0, 33.1, 31.9])\n",
        "\n",
        "\n",
        "# Calculate the mean, median, and standard deviation\n",
        "mean_temperature = np.mean(temperature_data)\n",
        "median_temperature = np.median(temperature_data)\n",
        "std_deviation_temperature = np.std(temperature_data)\n",
        "\n",
        "\n",
        "print(\"Mean Temperature:\", mean_temperature)\n",
        "print(\"Median Temperature:\", median_temperature)\n",
        "print(\"Standard Deviation:\", std_deviation_temperature)\n",
        "\n",
        "\n",
        "# Convert temperatures to Fahrenheit\n",
        "temperature_data_fahrenheit = (temperature_data * 9/5) + 32\n",
        "\n",
        "\n",
        "# Find days with temperatures above a certain threshold (e.g., 30°C)\n",
        "hot_days = temperature_data[temperature_data > 30]\n",
        "\n",
        "\n",
        "# Count the number of hot days\n",
        "num_hot_days = len(hot_days)\n",
        "\n",
        "\n",
        "print(\"Number of Hot Days:\", num_hot_days)\n",
        "\n",
        "\n",
        "# Calculate the total cooling degree days for the year\n",
        "# Cooling degree days represent the cumulative amount of cooling required to maintain a comfortable indoor temperature.\n",
        "# In this example, we'll consider a base temperature of 20°C.\n",
        "base_temperature = 20\n",
        "cooling_degree_days = np.sum(np.maximum(temperature_data - base_temperature, 0))\n",
        "\n",
        "\n",
        "print(\"Cooling Degree Days:\", cooling_degree_days)"
      ]
    }
  ],
  "metadata": {
    "colab": {
      "provenance": []
    },
    "kernelspec": {
      "display_name": "venv",
      "language": "python",
      "name": "python3"
    },
    "language_info": {
      "codemirror_mode": {
        "name": "ipython",
        "version": 3
      },
      "file_extension": ".py",
      "mimetype": "text/x-python",
      "name": "python",
      "nbconvert_exporter": "python",
      "pygments_lexer": "ipython3",
      "version": "3.12.0"
    }
  },
  "nbformat": 4,
  "nbformat_minor": 0
}
