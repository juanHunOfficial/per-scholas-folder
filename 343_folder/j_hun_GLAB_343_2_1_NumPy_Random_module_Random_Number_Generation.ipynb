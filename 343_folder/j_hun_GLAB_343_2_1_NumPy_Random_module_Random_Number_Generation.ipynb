{
  "cells": [
    {
      "cell_type": "markdown",
      "metadata": {
        "id": "Rw5I9thFUZpb"
      },
      "source": [
        "# **Guided Lab - 343.2.1 - NumPy Random module - Random Number Generation**"
      ]
    },
    {
      "cell_type": "markdown",
      "metadata": {
        "id": "TewQFMyUyIt8"
      },
      "source": [
        "## **Lab Overview:**\n",
        "\n",
        "In this lab, we will explore the functionality of several important random number generation functions provided by the NumPy library in Python. These functions include `np.random.choice()` for generating random samples from `arrays`, `np.random.shuffle() for shuffling the contents of arrays, and `np.random.randn()` for generating random numbers from a standard normal distribution. Through hands-on exercises, participants will gain a understanding of how to use these functions effectively in various scenarios.\n",
        "\n",
        "## **Lab Objective:**\n",
        "\n",
        "By the end of this lab, participants will:\n",
        "\n",
        "- Describe the purpose and the usage of key random number generation functions provided by NumPy, including np.random.choice(), np.random.shuffle(), and np.random.randn().\n",
        "- Demonstrate how to generate random samples from arrays, shuffle array contents, and generate random numbers from a standard normal distribution.\n"
      ]
    },
    {
      "cell_type": "markdown",
      "metadata": {
        "id": "fwUdnJ2hiSOX"
      },
      "source": [
        "## **Introduction**\n",
        "The syntax of `np.random.randn()` typically involves passing the desired dimensions of the array as arguments. For example:\n",
        "\n",
        "```np.random.randn() - generates a single random number```\n",
        "\n",
        "```np.random.randn(n) - generates an array of n random numbers.```\n",
        "\n",
        "``` np.random.randn(m, n) - generates a 2D array with m rows and n columns of random numbers.```\n",
        "\n",
        "Note: These random numbers are will be drawn from a standard normal distribution, where the mean is 0 and the standard deviation is 1.\n",
        "\n",
        "\n",
        "\n",
        "\n"
      ]
    },
    {
      "cell_type": "markdown",
      "metadata": {
        "id": "Mv04aa8HjcRq"
      },
      "source": [
        "## **Example 1: Generates a single random number.**\n",
        "\n",
        "in this example we will generate a single random number by using the random() function. The random() function returns a random number within the range of 0 to 1.0."
      ]
    },
    {
      "cell_type": "code",
      "execution_count": 1,
      "metadata": {
        "colab": {
          "base_uri": "https://localhost:8080/"
        },
        "id": "cp5kJc3ZiOY6",
        "outputId": "9f0099fa-4601-493c-933a-e144da43882c"
      },
      "outputs": [
        {
          "name": "stdout",
          "output_type": "stream",
          "text": [
            "Random number sampled from a standard normal distribution: [0.63652195 0.24229912 0.71679005 0.49636433 0.14328448 0.46093028\n",
            " 0.52455952 0.82107094 0.86244897 0.11527009]\n"
          ]
        }
      ],
      "source": [
        "from numpy import random\n",
        "\n",
        "data = random.rand(10) # 10 random numbers between 0 and 1\n",
        "print(\"Random number sampled from a standard normal distribution:\",data)"
      ]
    },
    {
      "cell_type": "markdown",
      "metadata": {
        "id": "_KaEiK-dvG2b"
      },
      "source": [
        "## **Example 2: Generates an array of n random numbers.**\n",
        "In this example, we generate an array of n random numbers by using the `np.random.randn(n)` function. The function returns an array of n random numbers with mean 0 and standard deviation 1.\n"
      ]
    },
    {
      "cell_type": "code",
      "execution_count": 2,
      "metadata": {
        "colab": {
          "base_uri": "https://localhost:8080/"
        },
        "id": "FRjXR1dJvXk8",
        "outputId": "b0c10a52-a243-46d2-d35c-e78af2acae05"
      },
      "outputs": [
        {
          "name": "stdout",
          "output_type": "stream",
          "text": [
            "Array of 5 random numbers sampled from a standard normal distribution:\n",
            "[-1.58135682  0.21216654 -0.04980134 -1.42280706 -1.35348854]\n"
          ]
        }
      ],
      "source": [
        "from numpy import random\n",
        "\n",
        "n = 5\n",
        "random_numbers = random.randn(n)\n",
        "print(\"Array of\", n, \"random numbers sampled from a standard normal distribution:\")\n",
        "print(random_numbers)\n"
      ]
    },
    {
      "cell_type": "markdown",
      "metadata": {
        "id": "-Q1BaIuhwdfl"
      },
      "source": [
        "## **Example 3: Generates a 2D array with m rows and n columns of random numbers.**\n",
        "\n",
        "In this example, we will generate a 2D array with 3 rows and 4 columns of random numbers. The result will be a 3x4 2D array with random numbers ranging from 0 to 99.    "
      ]
    },
    {
      "cell_type": "code",
      "execution_count": 3,
      "metadata": {
        "colab": {
          "base_uri": "https://localhost:8080/"
        },
        "id": "6EYj92yPwsUf",
        "outputId": "304beef0-3b08-4a9a-e47c-ea7f5688ac32"
      },
      "outputs": [
        {
          "name": "stdout",
          "output_type": "stream",
          "text": [
            "2D array of random numbers sampled from a standard normal distribution ( 3 rows x 2 columns):\n",
            "[[-0.96994908 -0.24023558]\n",
            " [-0.32601472  1.16168625]\n",
            " [-0.77941125  0.05893704]]\n"
          ]
        }
      ],
      "source": [
        "from numpy import random\n",
        "\n",
        "m = 3\n",
        "n = 2\n",
        "random_numbers_2d = random.randn(m, n)\n",
        "print(\"2D array of random numbers sampled from a standard normal distribution (\", m, \"rows x\", n, \"columns):\")\n",
        "print(random_numbers_2d)\n"
      ]
    },
    {
      "cell_type": "markdown",
      "metadata": {
        "id": "Kk3xLSIaxLjL"
      },
      "source": [
        "## **Example 4: Generates a random sample from a given 1-D array.**\n",
        "In this example, we will generate a random sample from a given 1-D array. We will use the numpy.random.choice() function to do this."
      ]
    },
    {
      "cell_type": "code",
      "execution_count": 4,
      "metadata": {
        "colab": {
          "base_uri": "https://localhost:8080/"
        },
        "id": "qNCwp62_w_ts",
        "outputId": "c302f329-7c68-4abf-9bd7-d6ef82d4a001"
      },
      "outputs": [
        {
          "name": "stdout",
          "output_type": "stream",
          "text": [
            "Randomly sampled element: a\n"
          ]
        }
      ],
      "source": [
        "from numpy import random\n",
        "\n",
        "# Define an array of elements\n",
        "elements = ['a', 'b', 'c', 'd', 'e']\n",
        "\n",
        "# Generate a random sample from the array\n",
        "random_sample = random.choice(elements)\n",
        "print(\"Randomly sampled element:\", random_sample)\n"
      ]
    },
    {
      "cell_type": "markdown",
      "metadata": {
        "id": "bibIYG-zxtSF"
      },
      "source": [
        "## **Example 5: Shuffles the contents of an array in place.**\n",
        "In this example, we will shuffle the contents of an array. We will use the np.random.shuffle() function."
      ]
    },
    {
      "cell_type": "code",
      "execution_count": 5,
      "metadata": {
        "colab": {
          "base_uri": "https://localhost:8080/"
        },
        "id": "aU_a1TEax83D",
        "outputId": "031dfb88-7521-405a-e87e-bafcafe35031"
      },
      "outputs": [
        {
          "name": "stdout",
          "output_type": "stream",
          "text": [
            "Shuffled array: ['d', 'c', 'e', 'a', 'b']\n"
          ]
        }
      ],
      "source": [
        "from numpy import random\n",
        "\n",
        "# Define an array of elements\n",
        "elements = ['a', 'b', 'c', 'd', 'e']\n",
        "\n",
        "# Shuffle the array in place\n",
        "random.shuffle(elements)\n",
        "print(\"Shuffled array:\", elements)\n"
      ]
    },
    {
      "cell_type": "markdown",
      "metadata": {
        "id": "MTSW009ez0o0"
      },
      "source": [
        "## **Example 6: Real world example -Restaurant** Menu Randomizer\n",
        "\n",
        "Suppose you're designing a digital menu for a restaurant, and you want to create a feature that suggests a random dish to the user when they're undecided about what to order. You can use the random module to implement this feature."
      ]
    },
    {
      "cell_type": "code",
      "execution_count": null,
      "metadata": {
        "colab": {
          "base_uri": "https://localhost:8080/"
        },
        "id": "eN0iFFTIza1l",
        "outputId": "fb12af63-f05e-4549-a57e-25b3e2530ff9"
      },
      "outputs": [
        {
          "name": "stdout",
          "output_type": "stream",
          "text": [
            "Welcome to the Restaurant Menu Randomizer!\n",
            "If you're undecided about what to order, let us help you decide.\n",
            "Randomly suggested dish: Cheeseburger\n",
            "Randomly suggested dish: Chicken Alfredo\n",
            "Randomly suggested dish: Vegetable Stir-Fry\n"
          ]
        }
      ],
      "source": [
        "import random\n",
        "\n",
        "# Define a list of dishes on the menu\n",
        "menu = [\n",
        "    \"Spaghetti Carbonara\",\n",
        "    \"Chicken Alfredo\",\n",
        "    \"Margherita Pizza\",\n",
        "    \"Cheeseburger\",\n",
        "    \"Caesar Salad\",\n",
        "    \"Fish and Chips\",\n",
        "    \"Pad Thai\",\n",
        "    \"Sushi Platter\",\n",
        "    \"Vegetable Stir-Fry\",\n",
        "    \"Grilled Salmon\"\n",
        "]\n",
        "\n",
        "# Function to suggest a random dish\n",
        "def suggest_dish():\n",
        "    random_dish = random.choice(menu)\n",
        "    return random_dish\n",
        "\n",
        "# Main program\n",
        "print(\"Welcome to the Restaurant Menu Randomizer!\")\n",
        "print(\"If you're undecided about what to order, let us help you decide.\")\n",
        "\n",
        "\n",
        "user_input = int(input(\"Enter the number of dishes you want: \")) # ---------------- i changed this while loop to a for loop\n",
        "\n",
        "for i in range(user_input):\n",
        "    suggested_dish = suggest_dish()\n",
        "    print(\"Randomly suggested dish:\", suggested_dish)\n",
        "\n",
        "\n"
      ]
    }
  ],
  "metadata": {
    "colab": {
      "provenance": []
    },
    "kernelspec": {
      "display_name": "venv",
      "language": "python",
      "name": "python3"
    },
    "language_info": {
      "codemirror_mode": {
        "name": "ipython",
        "version": 3
      },
      "file_extension": ".py",
      "mimetype": "text/x-python",
      "name": "python",
      "nbconvert_exporter": "python",
      "pygments_lexer": "ipython3",
      "version": "3.12.0"
    }
  },
  "nbformat": 4,
  "nbformat_minor": 0
}
